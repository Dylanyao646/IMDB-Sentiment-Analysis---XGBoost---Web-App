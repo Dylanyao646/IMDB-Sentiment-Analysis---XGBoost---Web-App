{
 "cells": [
  {
   "cell_type": "markdown",
   "metadata": {},
   "source": [
    "# Sentiment Analysis Web App\n",
    "\n",
    "_Deep Learning Nanodegree Program | Deployment_\n",
    "\n",
    "---\n",
    "\n",
    "In this notebook we will use Amazon's SageMaker service to construct a random tree model to predict the sentiment of a movie review. In addition, we will deploy this model to an endpoint and construct a very simple web app which will interact with our model's deployed endpoint.\n",
    "\n",
    "## General Outline\n",
    "\n",
    "Typically, when using a notebook instance with SageMaker, you will proceed through the following steps. Of course, not every step will need to be done with each project. Also, there is quite a lot of room for variation in many of the steps, as you will see throughout these lessons.\n",
    "\n",
    "1. Download or otherwise retrieve the data.\n",
    "2. Process / Prepare the data.\n",
    "3. Upload the processed data to S3.\n",
    "4. Train a chosen model.\n",
    "5. Test the trained model (typically using a batch transform job).\n",
    "6. Deploy the trained model.\n",
    "7. Use the deployed model.\n",
    "\n",
    "In this notebook we will progress through each of the steps above. We will also see that the final step, using the deployed model, can be quite challenging."
   ]
  },
  {
   "cell_type": "code",
   "execution_count": 1,
   "metadata": {},
   "outputs": [
    {
     "name": "stdout",
     "output_type": "stream",
     "text": [
      "Collecting sagemaker==1.72.0\n",
      "  Downloading sagemaker-1.72.0.tar.gz (297 kB)\n",
      "\u001b[K     |████████████████████████████████| 297 kB 6.2 MB/s eta 0:00:01\n",
      "\u001b[?25hRequirement already satisfied: boto3>=1.14.12 in /home/ec2-user/anaconda3/envs/amazonei_pytorch_latest_p36/lib/python3.6/site-packages (from sagemaker==1.72.0) (1.17.35)\n",
      "Requirement already satisfied: numpy>=1.9.0 in /home/ec2-user/anaconda3/envs/amazonei_pytorch_latest_p36/lib/python3.6/site-packages (from sagemaker==1.72.0) (1.19.2)\n",
      "Requirement already satisfied: protobuf>=3.1 in /home/ec2-user/anaconda3/envs/amazonei_pytorch_latest_p36/lib/python3.6/site-packages (from sagemaker==1.72.0) (3.15.5)\n",
      "Requirement already satisfied: scipy>=0.19.0 in /home/ec2-user/anaconda3/envs/amazonei_pytorch_latest_p36/lib/python3.6/site-packages (from sagemaker==1.72.0) (1.5.2)\n",
      "Requirement already satisfied: protobuf3-to-dict>=0.1.5 in /home/ec2-user/anaconda3/envs/amazonei_pytorch_latest_p36/lib/python3.6/site-packages (from sagemaker==1.72.0) (0.1.5)\n",
      "Collecting smdebug-rulesconfig==0.1.4\n",
      "  Downloading smdebug_rulesconfig-0.1.4-py2.py3-none-any.whl (10 kB)\n",
      "Requirement already satisfied: importlib-metadata>=1.4.0 in /home/ec2-user/anaconda3/envs/amazonei_pytorch_latest_p36/lib/python3.6/site-packages (from sagemaker==1.72.0) (2.0.0)\n",
      "Requirement already satisfied: packaging>=20.0 in /home/ec2-user/anaconda3/envs/amazonei_pytorch_latest_p36/lib/python3.6/site-packages (from sagemaker==1.72.0) (20.9)\n",
      "Requirement already satisfied: jmespath<1.0.0,>=0.7.1 in /home/ec2-user/anaconda3/envs/amazonei_pytorch_latest_p36/lib/python3.6/site-packages (from boto3>=1.14.12->sagemaker==1.72.0) (0.10.0)\n",
      "Requirement already satisfied: botocore<1.21.0,>=1.20.35 in /home/ec2-user/anaconda3/envs/amazonei_pytorch_latest_p36/lib/python3.6/site-packages (from boto3>=1.14.12->sagemaker==1.72.0) (1.20.35)\n",
      "Requirement already satisfied: s3transfer<0.4.0,>=0.3.0 in /home/ec2-user/anaconda3/envs/amazonei_pytorch_latest_p36/lib/python3.6/site-packages (from boto3>=1.14.12->sagemaker==1.72.0) (0.3.4)\n",
      "Requirement already satisfied: python-dateutil<3.0.0,>=2.1 in /home/ec2-user/anaconda3/envs/amazonei_pytorch_latest_p36/lib/python3.6/site-packages (from botocore<1.21.0,>=1.20.35->boto3>=1.14.12->sagemaker==1.72.0) (2.8.1)\n",
      "Requirement already satisfied: urllib3<1.27,>=1.25.4 in /home/ec2-user/anaconda3/envs/amazonei_pytorch_latest_p36/lib/python3.6/site-packages (from botocore<1.21.0,>=1.20.35->boto3>=1.14.12->sagemaker==1.72.0) (1.26.3)\n",
      "Requirement already satisfied: zipp>=0.5 in /home/ec2-user/anaconda3/envs/amazonei_pytorch_latest_p36/lib/python3.6/site-packages (from importlib-metadata>=1.4.0->sagemaker==1.72.0) (3.4.0)\n",
      "Requirement already satisfied: pyparsing>=2.0.2 in /home/ec2-user/anaconda3/envs/amazonei_pytorch_latest_p36/lib/python3.6/site-packages (from packaging>=20.0->sagemaker==1.72.0) (2.4.7)\n",
      "Requirement already satisfied: six>=1.9 in /home/ec2-user/anaconda3/envs/amazonei_pytorch_latest_p36/lib/python3.6/site-packages (from protobuf>=3.1->sagemaker==1.72.0) (1.15.0)\n",
      "Building wheels for collected packages: sagemaker\n",
      "  Building wheel for sagemaker (setup.py) ... \u001b[?25ldone\n",
      "\u001b[?25h  Created wheel for sagemaker: filename=sagemaker-1.72.0-py2.py3-none-any.whl size=386358 sha256=a7f7a2353fa3054c04c012eb8e389f9ef39d4845adea018fb2fd6736bbe3c3a5\n",
      "  Stored in directory: /home/ec2-user/.cache/pip/wheels/c3/58/70/85faf4437568bfaa4c419937569ba1fe54d44c5db42406bbd7\n",
      "Successfully built sagemaker\n",
      "Installing collected packages: smdebug-rulesconfig, sagemaker\n",
      "  Attempting uninstall: smdebug-rulesconfig\n",
      "    Found existing installation: smdebug-rulesconfig 1.0.1\n",
      "    Uninstalling smdebug-rulesconfig-1.0.1:\n",
      "      Successfully uninstalled smdebug-rulesconfig-1.0.1\n",
      "  Attempting uninstall: sagemaker\n",
      "    Found existing installation: sagemaker 2.31.1\n",
      "    Uninstalling sagemaker-2.31.1:\n",
      "      Successfully uninstalled sagemaker-2.31.1\n",
      "Successfully installed sagemaker-1.72.0 smdebug-rulesconfig-0.1.4\n"
     ]
    }
   ],
   "source": [
    "# Make sure that we use SageMaker 1.x\n",
    "!pip install sagemaker==1.72.0"
   ]
  },
  {
   "cell_type": "markdown",
   "metadata": {},
   "source": [
    "## Step 1: Downloading the data\n",
    "\n",
    "The dataset we are going to use is very popular among researchers in Natural Language Processing, usually referred to as the [IMDb dataset](http://ai.stanford.edu/~amaas/data/sentiment/). It consists of movie reviews from the website [imdb.com](http://www.imdb.com/), each labeled as either '**pos**itive', if the reviewer enjoyed the film, or '**neg**ative' otherwise.\n",
    "\n",
    "> Maas, Andrew L., et al. [Learning Word Vectors for Sentiment Analysis](http://ai.stanford.edu/~amaas/data/sentiment/). In _Proceedings of the 49th Annual Meeting of the Association for Computational Linguistics: Human Language Technologies_. Association for Computational Linguistics, 2011.\n",
    "\n",
    "We begin by using some Jupyter Notebook magic to download and extract the dataset."
   ]
  },
  {
   "cell_type": "code",
   "execution_count": 2,
   "metadata": {},
   "outputs": [
    {
     "name": "stdout",
     "output_type": "stream",
     "text": [
      "mkdir: cannot create directory ‘../data’: File exists\n",
      "--2021-04-17 02:36:22--  http://ai.stanford.edu/~amaas/data/sentiment/aclImdb_v1.tar.gz\n",
      "Resolving ai.stanford.edu (ai.stanford.edu)... 171.64.68.10\n",
      "Connecting to ai.stanford.edu (ai.stanford.edu)|171.64.68.10|:80... connected.\n",
      "HTTP request sent, awaiting response... 200 OK\n",
      "Length: 84125825 (80M) [application/x-gzip]\n",
      "Saving to: ‘../data/aclImdb_v1.tar.gz’\n",
      "\n",
      "../data/aclImdb_v1. 100%[===================>]  80.23M  25.4MB/s    in 3.5s    \n",
      "\n",
      "2021-04-17 02:36:26 (23.2 MB/s) - ‘../data/aclImdb_v1.tar.gz’ saved [84125825/84125825]\n",
      "\n"
     ]
    }
   ],
   "source": [
    "%mkdir ../data\n",
    "!wget -O ../data/aclImdb_v1.tar.gz http://ai.stanford.edu/~amaas/data/sentiment/aclImdb_v1.tar.gz\n",
    "!tar -zxf ../data/aclImdb_v1.tar.gz -C ../data"
   ]
  },
  {
   "cell_type": "markdown",
   "metadata": {},
   "source": [
    "## Step 2: Preparing and Processing the data\n",
    "\n",
    "The data we have downloaded is split into various files, each of which contains a single review. It will be much easier going forward if we combine these individual files into two large files, one for training and one for testing."
   ]
  },
  {
   "cell_type": "code",
   "execution_count": 3,
   "metadata": {},
   "outputs": [],
   "source": [
    "import os\n",
    "import glob\n",
    "\n",
    "def read_imdb_data(data_dir='../data/aclImdb'):\n",
    "    data = {}\n",
    "    labels = {}\n",
    "    \n",
    "    for data_type in ['train', 'test']:\n",
    "        data[data_type] = {}\n",
    "        labels[data_type] = {}\n",
    "        \n",
    "        for sentiment in ['pos', 'neg']:\n",
    "            data[data_type][sentiment] = []\n",
    "            labels[data_type][sentiment] = []\n",
    "            \n",
    "            path = os.path.join(data_dir, data_type, sentiment, '*.txt')\n",
    "            files = glob.glob(path)\n",
    "            \n",
    "            for f in files:\n",
    "                with open(f) as review:\n",
    "                    data[data_type][sentiment].append(review.read())\n",
    "                    # Here we represent a positive review by '1' and a negative review by '0'\n",
    "                    labels[data_type][sentiment].append(1 if sentiment == 'pos' else 0)\n",
    "                    \n",
    "            assert len(data[data_type][sentiment]) == len(labels[data_type][sentiment]), \\\n",
    "                    \"{}/{} data size does not match labels size\".format(data_type, sentiment)\n",
    "                \n",
    "    return data, labels"
   ]
  },
  {
   "cell_type": "code",
   "execution_count": 4,
   "metadata": {},
   "outputs": [
    {
     "name": "stdout",
     "output_type": "stream",
     "text": [
      "IMDB reviews: train = 12500 pos / 12500 neg, test = 12500 pos / 12500 neg\n"
     ]
    }
   ],
   "source": [
    "data, labels = read_imdb_data()\n",
    "print(\"IMDB reviews: train = {} pos / {} neg, test = {} pos / {} neg\".format(\n",
    "            len(data['train']['pos']), len(data['train']['neg']),\n",
    "            len(data['test']['pos']), len(data['test']['neg'])))"
   ]
  },
  {
   "cell_type": "code",
   "execution_count": 5,
   "metadata": {},
   "outputs": [],
   "source": [
    "from sklearn.utils import shuffle\n",
    "\n",
    "def prepare_imdb_data(data, labels):\n",
    "    \"\"\"Prepare training and test sets from IMDb movie reviews.\"\"\"\n",
    "    \n",
    "    #Combine positive and negative reviews and labels\n",
    "    data_train = data['train']['pos'] + data['train']['neg']\n",
    "    data_test = data['test']['pos'] + data['test']['neg']\n",
    "    labels_train = labels['train']['pos'] + labels['train']['neg']\n",
    "    labels_test = labels['test']['pos'] + labels['test']['neg']\n",
    "    \n",
    "    #Shuffle reviews and corresponding labels within training and test sets\n",
    "    data_train, labels_train = shuffle(data_train, labels_train)\n",
    "    data_test, labels_test = shuffle(data_test, labels_test)\n",
    "    \n",
    "    # Return a unified training data, test data, training labels, test labets\n",
    "    return data_train, data_test, labels_train, labels_test"
   ]
  },
  {
   "cell_type": "code",
   "execution_count": 6,
   "metadata": {},
   "outputs": [
    {
     "name": "stdout",
     "output_type": "stream",
     "text": [
      "IMDb reviews (combined): train = 25000, test = 25000\n"
     ]
    }
   ],
   "source": [
    "train_X, test_X, train_y, test_y = prepare_imdb_data(data, labels)\n",
    "print(\"IMDb reviews (combined): train = {}, test = {}\".format(len(train_X), len(test_X)))"
   ]
  },
  {
   "cell_type": "code",
   "execution_count": 7,
   "metadata": {},
   "outputs": [
    {
     "data": {
      "text/plain": [
       "'This movie was very, very strange and very, very funny. All of the actors are quite real and very odd. The overall \"look\" of the film was different, too, sort of dreamy and bleached-out, which only added to the spacey, fumbling, weird vibe of the whole thing.<br /><br />It\\'s not for everyone, I mean, it\\'s not what you would call \"mainstream\" but that is what I liked about it. It\\'s unlike anything I have ever seen before . . . unpredictable, with a weird rhythm and punch lines in the strangest places. The kids are so heartbreakingly goofy (and pimply) that you can\\'t help but feel for them. In other words, these are far from \"hollywoodized\" versions of teenagers.<br /><br />All of, which for me, makes it a good thing.'"
      ]
     },
     "execution_count": 7,
     "metadata": {},
     "output_type": "execute_result"
    }
   ],
   "source": [
    "train_X[100]"
   ]
  },
  {
   "cell_type": "markdown",
   "metadata": {},
   "source": [
    "## Processing the data\n",
    "\n",
    "Now that we have our training and testing datasets merged and ready to use, we need to start processing the raw data into something that will be useable by our machine learning algorithm. To begin with, we remove any html formatting and any non-alpha numeric characters that may appear in the reviews. We will do this in a very simplistic way using Python's regular expression module. We will discuss the reason for this rather simplistic pre-processing later on."
   ]
  },
  {
   "cell_type": "code",
   "execution_count": 8,
   "metadata": {},
   "outputs": [],
   "source": [
    "import re\n",
    "\n",
    "#### remove any punctuation and any HTML that will appear in our reviews\n",
    "#### this way can makes using Lambda much easier\n",
    "REPLACE_NO_SPACE = re.compile(\"(\\.)|(\\;)|(\\:)|(\\!)|(\\')|(\\?)|(\\,)|(\\\")|(\\()|(\\))|(\\[)|(\\])\")\n",
    "REPLACE_WITH_SPACE = re.compile(\"(<br\\s*/><br\\s*/>)|(\\-)|(\\/)\")\n",
    "\n",
    "def review_to_words(review):\n",
    "    words = REPLACE_NO_SPACE.sub(\"\", review.lower())\n",
    "    words = REPLACE_WITH_SPACE.sub(\" \", words)\n",
    "    return words"
   ]
  },
  {
   "cell_type": "code",
   "execution_count": 9,
   "metadata": {},
   "outputs": [
    {
     "data": {
      "text/plain": [
       "'this movie was very very strange and very very funny all of the actors are quite real and very odd the overall look of the film was different too sort of dreamy and bleached out which only added to the spacey fumbling weird vibe of the whole thing its not for everyone i mean its not what you would call mainstream but that is what i liked about it its unlike anything i have ever seen before    unpredictable with a weird rhythm and punch lines in the strangest places the kids are so heartbreakingly goofy and pimply that you cant help but feel for them in other words these are far from hollywoodized versions of teenagers all of which for me makes it a good thing'"
      ]
     },
     "execution_count": 9,
     "metadata": {},
     "output_type": "execute_result"
    }
   ],
   "source": [
    "review_to_words(train_X[100])"
   ]
  },
  {
   "cell_type": "code",
   "execution_count": 10,
   "metadata": {},
   "outputs": [],
   "source": [
    "#### then we will use \"review_to_words\" function to each of the reviews in our data set\n",
    "\n",
    "\n",
    "import pickle\n",
    "\n",
    "cache_dir = os.path.join(\"../cache\", \"sentiment_web_app\")  # where to store cache files\n",
    "os.makedirs(cache_dir, exist_ok=True)  # ensure cache directory exists\n",
    "\n",
    "def preprocess_data(data_train, data_test, labels_train, labels_test,\n",
    "                    cache_dir=cache_dir, cache_file=\"preprocessed_data.pkl\"):\n",
    "    \"\"\"Convert each review to words; read from cache if available.\"\"\"\n",
    "\n",
    "    # If cache_file is not None, try to read from it first\n",
    "    cache_data = None\n",
    "    if cache_file is not None:\n",
    "        try:\n",
    "            with open(os.path.join(cache_dir, cache_file), \"rb\") as f:\n",
    "                cache_data = pickle.load(f)\n",
    "            print(\"Read preprocessed data from cache file:\", cache_file)\n",
    "        except:\n",
    "            pass  # unable to read from cache, but that's okay\n",
    "    \n",
    "    # If cache is missing, then do the heavy lifting\n",
    "    if cache_data is None:\n",
    "        # Preprocess training and test data to obtain words for each review\n",
    "        #words_train = list(map(review_to_words, data_train))\n",
    "        #words_test = list(map(review_to_words, data_test))\n",
    "        words_train = [review_to_words(review) for review in data_train]\n",
    "        words_test = [review_to_words(review) for review in data_test]\n",
    "        \n",
    "        # Write to cache file for future runs\n",
    "        if cache_file is not None:\n",
    "            cache_data = dict(words_train=words_train, words_test=words_test,\n",
    "                              labels_train=labels_train, labels_test=labels_test)\n",
    "            with open(os.path.join(cache_dir, cache_file), \"wb\") as f:\n",
    "                pickle.dump(cache_data, f)\n",
    "            print(\"Wrote preprocessed data to cache file:\", cache_file)\n",
    "    else:\n",
    "        # Unpack data loaded from cache file\n",
    "        words_train, words_test, labels_train, labels_test = (cache_data['words_train'],\n",
    "                cache_data['words_test'], cache_data['labels_train'], cache_data['labels_test'])\n",
    "    \n",
    "    return words_train, words_test, labels_train, labels_test"
   ]
  },
  {
   "cell_type": "code",
   "execution_count": 11,
   "metadata": {},
   "outputs": [
    {
     "name": "stdout",
     "output_type": "stream",
     "text": [
      "Read preprocessed data from cache file: preprocessed_data.pkl\n"
     ]
    }
   ],
   "source": [
    "# Preprocess data\n",
    "train_X, test_X, train_y, test_y = preprocess_data(train_X, test_X, train_y, test_y)"
   ]
  },
  {
   "cell_type": "markdown",
   "metadata": {},
   "source": [
    "### Extract Bag-of-Words features\n",
    "\n",
    "For the model we will be implementing, rather than using the reviews directly, we are going to transform each review into a Bag-of-Words feature representation. Keep in mind that 'in the wild' we will only have access to the training set so our transformer can only use the training set to construct a representation."
   ]
  },
  {
   "cell_type": "code",
   "execution_count": 12,
   "metadata": {},
   "outputs": [],
   "source": [
    "#### now we want to take our clean reviews, and we're going to encode them using Bag-of-Words, what that means is that\n",
    "#### we are going to look at all the reviews in our trainning set, and we'll collect the most frequently appearing words,\n",
    "#### and then we'll encode each of the reviews as a vector, where each entry in a vector tells the number that particular word\n",
    "#### appears in our review\n",
    "\n",
    "\n",
    "import numpy as np\n",
    "from sklearn.feature_extraction.text import CountVectorizer\n",
    "\n",
    "# sklearn.externals.joblib is deprecated in 0.21 and will be removed in 0.23. \n",
    "# from sklearn.externals import joblib\n",
    "\n",
    "# Import joblib package directly\n",
    "import joblib\n",
    "# joblib is an enhanced version of pickle that is more efficient for storing NumPy arrays\n",
    "\n",
    "#### we'are only going to track top 5000 most occurring words in our trainning data set ####\n",
    "def extract_BoW_features(words_train, words_test, vocabulary_size=5000, \n",
    "                         cache_dir=cache_dir, cache_file=\"bow_features.pkl\"):\n",
    "    \"\"\"Extract Bag-of-Words for a given set of documents, already preprocessed into words.\"\"\"\n",
    "    \n",
    "    # If cache_file is not None, try to read from it first\n",
    "    cache_data = None\n",
    "    if cache_file is not None:\n",
    "        try:\n",
    "            with open(os.path.join(cache_dir, cache_file), \"rb\") as f:\n",
    "                cache_data = joblib.load(f)\n",
    "            print(\"Read features from cache file:\", cache_file)\n",
    "        except:\n",
    "            pass  # unable to read from cache, but that's okay\n",
    "    \n",
    "    # If cache is missing, then do the heavy lifting\n",
    "    if cache_data is None:\n",
    "        # Fit a vectorizer to training documents and use it to transform them\n",
    "        # NOTE: Training documents have already been preprocessed and tokenized into words;\n",
    "        #       pass in dummy functions to skip those steps, e.g. preprocessor=lambda x: x\n",
    "        vectorizer = CountVectorizer(max_features=vocabulary_size)\n",
    "        features_train = vectorizer.fit_transform(words_train).toarray()\n",
    "\n",
    "        # Apply the same vectorizer to transform the test documents (ignore unknown words)\n",
    "        features_test = vectorizer.transform(words_test).toarray()\n",
    "        \n",
    "        # NOTE: Remember to convert the features using .toarray() for a compact representation\n",
    "        \n",
    "        # Write to cache file for future runs (store vocabulary as well)\n",
    "        if cache_file is not None:\n",
    "            vocabulary = vectorizer.vocabulary_\n",
    "            cache_data = dict(features_train=features_train, features_test=features_test,\n",
    "                             vocabulary=vocabulary)\n",
    "            with open(os.path.join(cache_dir, cache_file), \"wb\") as f:\n",
    "                joblib.dump(cache_data, f)\n",
    "            print(\"Wrote features to cache file:\", cache_file)\n",
    "    else:\n",
    "        # Unpack data loaded from cache file\n",
    "        features_train, features_test, vocabulary = (cache_data['features_train'],\n",
    "                cache_data['features_test'], cache_data['vocabulary'])\n",
    "    \n",
    "    # Return both the extracted features as well as the vocabulary\n",
    "    return features_train, features_test, vocabulary"
   ]
  },
  {
   "cell_type": "code",
   "execution_count": 13,
   "metadata": {},
   "outputs": [
    {
     "name": "stdout",
     "output_type": "stream",
     "text": [
      "Read features from cache file: bow_features.pkl\n"
     ]
    }
   ],
   "source": [
    "# Extract Bag of Words features for both training and test datasets\n",
    "train_X, test_X, vocabulary = extract_BoW_features(train_X, test_X)"
   ]
  },
  {
   "cell_type": "code",
   "execution_count": 14,
   "metadata": {},
   "outputs": [
    {
     "data": {
      "text/plain": [
       "5000"
      ]
     },
     "execution_count": 14,
     "metadata": {},
     "output_type": "execute_result"
    }
   ],
   "source": [
    "len(train_X[100])"
   ]
  },
  {
   "cell_type": "markdown",
   "metadata": {},
   "source": [
    "## Step 3: Upload data to S3\n",
    "\n",
    "Now that we have created the feature representation of our training (and testing) data, it is time to start setting up and using the XGBoost classifier provided by SageMaker.\n",
    "\n",
    "### Writing the datasets\n",
    "\n",
    "The XGBoost classifier that we will be using requires the dataset to be written to a file and stored using Amazon S3. To do this, we will start by splitting the training dataset into two parts, the data we will train the model with and a validation set. Then, we will write those datasets to a file locally and then upload the files to S3. In addition, we will write the test set to a file and upload that file to S3. This is so that we can use SageMakers Batch Transform functionality to test our model once we've fit it."
   ]
  },
  {
   "cell_type": "code",
   "execution_count": 15,
   "metadata": {},
   "outputs": [],
   "source": [
    "import pandas as pd\n",
    "\n",
    "# Earlier we shuffled the training dataset so to make things simple we can just assign\n",
    "# the first 10 000 reviews to the validation set and use the remaining reviews for training.\n",
    "val_X = pd.DataFrame(train_X[:10000])\n",
    "train_X = pd.DataFrame(train_X[10000:])\n",
    "\n",
    "val_y = pd.DataFrame(train_y[:10000])\n",
    "train_y = pd.DataFrame(train_y[10000:])"
   ]
  },
  {
   "cell_type": "markdown",
   "metadata": {},
   "source": [
    "The documentation for the XGBoost algorithm in SageMaker requires that the training and validation datasets should contain no headers or index and that the label should occur first for each sample.\n",
    "\n",
    "For more information about this and other algorithms, the SageMaker developer documentation can be found on __[Amazon's website.](https://docs.aws.amazon.com/sagemaker/latest/dg/)__"
   ]
  },
  {
   "cell_type": "code",
   "execution_count": 16,
   "metadata": {},
   "outputs": [],
   "source": [
    "# First we make sure that the local directory in which we'd like to store the training and validation csv files exists.\n",
    "data_dir = '../data/sentiment_web_app'\n",
    "if not os.path.exists(data_dir):\n",
    "    os.makedirs(data_dir)"
   ]
  },
  {
   "cell_type": "code",
   "execution_count": 17,
   "metadata": {},
   "outputs": [],
   "source": [
    "#### next we will save the test and validation data sets to disk using Pandas\n",
    "pd.DataFrame(test_X).to_csv(os.path.join(data_dir, 'test.csv'), header=False, index=False)\n",
    "\n",
    "pd.concat([val_y, val_X], axis=1).to_csv(os.path.join(data_dir, 'validation.csv'), header=False, index=False)\n",
    "pd.concat([train_y, train_X], axis=1).to_csv(os.path.join(data_dir, 'train.csv'), header=False, index=False)"
   ]
  },
  {
   "cell_type": "code",
   "execution_count": 18,
   "metadata": {},
   "outputs": [],
   "source": [
    "# To save a bit of memory we can set text_X, train_X, val_X, train_y and val_y to None.\n",
    "#### we will set variables that held onto our Pandas's dataframes to none\n",
    "test_X = train_X = val_X = train_y = val_y = None"
   ]
  },
  {
   "cell_type": "markdown",
   "metadata": {},
   "source": [
    "### Uploading Training / Validation files to S3\n",
    "\n",
    "Amazon's S3 service allows us to store files that can be accessed by both the built-in training models such as the XGBoost model we will be using as well as custom models such as the one we will see a little later.\n",
    "\n",
    "For this and most other tasks we will be doing using SageMaker, there are two methods we could use. The first is to use the low level functionality of SageMaker which requires knowing each of the objects involved in the SageMaker environment. The second is to use the high level functionality in which certain choices have been made on the user's behalf. The low level approach benefits from allowing the user a great deal of flexibility while the high level approach makes development much quicker. For our purposes we will opt to use the high level approach although using the low-level approach is certainly an option.\n",
    "\n",
    "Recall the method `upload_data()` which is a member of the object representing our current SageMaker session. What this method does is upload the data to the default bucket (which is created if it does not exist) into the path described by the key_prefix variable. To see this for yourself, once you have uploaded the data files, go to the S3 console and look to see where the files have been uploaded.\n",
    "\n",
    "For additional resources, see the __[SageMaker API documentation](http://sagemaker.readthedocs.io/en/latest/)__ and in addition the __[SageMaker Developer Guide.](https://docs.aws.amazon.com/sagemaker/latest/dg/)__"
   ]
  },
  {
   "cell_type": "code",
   "execution_count": 19,
   "metadata": {},
   "outputs": [],
   "source": [
    "##### we are going to use the SageMaker \"upload\" method to upload our test, validation and tranning data sets to S3\n",
    "\n",
    "import sagemaker\n",
    "\n",
    "session = sagemaker.Session() # Store the current SageMaker session\n",
    "\n",
    "# S3 prefix (which folder will we use)\n",
    "prefix = 'sentiment-web-app'\n",
    "\n",
    "test_location = session.upload_data(os.path.join(data_dir, 'test.csv'), key_prefix=prefix)\n",
    "val_location = session.upload_data(os.path.join(data_dir, 'validation.csv'), key_prefix=prefix)\n",
    "train_location = session.upload_data(os.path.join(data_dir, 'train.csv'), key_prefix=prefix)"
   ]
  },
  {
   "cell_type": "markdown",
   "metadata": {},
   "source": [
    "## Step 4: Creating the XGBoost model\n",
    "\n",
    "Now that the data has been uploaded it is time to create the XGBoost model. To begin with, we need to do some setup. At this point it is worth discussing what a model is in SageMaker. It is easiest to think of a model of comprising three different objects in the SageMaker ecosystem, which interact with one another.\n",
    "\n",
    "- Model Artifacts\n",
    "- Training Code (Container)\n",
    "- Inference Code (Container)\n",
    "\n",
    "The Model Artifacts are what you might think of as the actual model itself. For example, if you were building a neural network, the model artifacts would be the weights of the various layers. In our case, for an XGBoost model, the artifacts are the actual trees that are created during training.\n",
    "\n",
    "The other two objects, the training code and the inference code are then used to manipulate the training artifacts. More precisely, the training code uses the training data that is provided and creates the model artifacts, while the inference code uses the model artifacts to make predictions on new data.\n",
    "\n",
    "The way that SageMaker runs the training and inference code is by making use of Docker containers. For now, think of a container as being a way of packaging code up so that dependencies aren't an issue."
   ]
  },
  {
   "cell_type": "code",
   "execution_count": 20,
   "metadata": {},
   "outputs": [],
   "source": [
    "from sagemaker import get_execution_role\n",
    "\n",
    "# Our current execution role is required when creating the model as the training\n",
    "# and inference code will need to access the model artifacts.\n",
    "role = get_execution_role()"
   ]
  },
  {
   "cell_type": "code",
   "execution_count": 21,
   "metadata": {},
   "outputs": [
    {
     "name": "stderr",
     "output_type": "stream",
     "text": [
      "'get_image_uri' method will be deprecated in favor of 'ImageURIProvider' class in SageMaker Python SDK v2.\n",
      "There is a more up to date SageMaker XGBoost image. To use the newer image, please set 'repo_version'='1.0-1'. For example:\n",
      "\tget_image_uri(region, 'xgboost', '1.0-1').\n"
     ]
    }
   ],
   "source": [
    "# We need to retrieve the location of the container which is provided by Amazon for using XGBoost.\n",
    "# As a matter of convenience, the training and inference code both use the same container.\n",
    "from sagemaker.amazon.amazon_estimator import get_image_uri\n",
    "\n",
    "container = get_image_uri(session.boto_region_name, 'xgboost')"
   ]
  },
  {
   "cell_type": "code",
   "execution_count": 22,
   "metadata": {},
   "outputs": [
    {
     "name": "stderr",
     "output_type": "stream",
     "text": [
      "Parameter image_name will be renamed to image_uri in SageMaker Python SDK v2.\n"
     ]
    }
   ],
   "source": [
    "# First we create a SageMaker estimator object for our model.\n",
    "xgb = sagemaker.estimator.Estimator(container, # The location of the container we wish to use\n",
    "                                    role,                                    # What is our current IAM Role\n",
    "                                    train_instance_count=1,                  # How many compute instances\n",
    "                                    train_instance_type='ml.m4.xlarge',      # What kind of compute instances\n",
    "                                    output_path='s3://{}/{}/output'.format(session.default_bucket(), prefix),\n",
    "                                    sagemaker_session=session)\n",
    "\n",
    "# And then set the algorithm specific parameters.\n",
    "xgb.set_hyperparameters(max_depth=5,\n",
    "                        eta=0.2,\n",
    "                        gamma=4,\n",
    "                        min_child_weight=6,\n",
    "                        subsample=0.8,\n",
    "                        silent=0,\n",
    "                        objective='binary:logistic',\n",
    "                        early_stopping_rounds=10,\n",
    "                        num_round=500)"
   ]
  },
  {
   "cell_type": "markdown",
   "metadata": {},
   "source": [
    "### Fit the XGBoost model\n",
    "\n",
    "Now that our model has been set up we simply need to attach the training and validation datasets and then ask SageMaker to set up the computation."
   ]
  },
  {
   "cell_type": "code",
   "execution_count": 23,
   "metadata": {},
   "outputs": [
    {
     "name": "stderr",
     "output_type": "stream",
     "text": [
      "'s3_input' class will be renamed to 'TrainingInput' in SageMaker Python SDK v2.\n",
      "'s3_input' class will be renamed to 'TrainingInput' in SageMaker Python SDK v2.\n"
     ]
    }
   ],
   "source": [
    "s3_input_train = sagemaker.s3_input(s3_data=train_location, content_type='csv')\n",
    "s3_input_validation = sagemaker.s3_input(s3_data=val_location, content_type='csv')"
   ]
  },
  {
   "cell_type": "code",
   "execution_count": 24,
   "metadata": {},
   "outputs": [
    {
     "name": "stdout",
     "output_type": "stream",
     "text": [
      "2021-04-17 02:37:44 Starting - Starting the training job...\n",
      "2021-04-17 02:37:45 Starting - Launching requested ML instances......\n",
      "2021-04-17 02:38:48 Starting - Preparing the instances for training......\n",
      "2021-04-17 02:40:08 Downloading - Downloading input data\n",
      "2021-04-17 02:40:08 Training - Downloading the training image...\n",
      "2021-04-17 02:40:29 Training - Training image download completed. Training in progress.\u001b[34mArguments: train\u001b[0m\n",
      "\u001b[34m[2021-04-17:02:40:30:INFO] Running standalone xgboost training.\u001b[0m\n",
      "\u001b[34m[2021-04-17:02:40:30:INFO] File size need to be processed in the node: 238.5mb. Available memory size in the node: 8403.2mb\u001b[0m\n",
      "\u001b[34m[2021-04-17:02:40:30:INFO] Determined delimiter of CSV input is ','\u001b[0m\n",
      "\u001b[34m[02:40:30] S3DistributionType set as FullyReplicated\u001b[0m\n",
      "\u001b[34m[02:40:32] 15000x5000 matrix with 75000000 entries loaded from /opt/ml/input/data/train?format=csv&label_column=0&delimiter=,\u001b[0m\n",
      "\u001b[34m[2021-04-17:02:40:32:INFO] Determined delimiter of CSV input is ','\u001b[0m\n",
      "\u001b[34m[02:40:32] S3DistributionType set as FullyReplicated\u001b[0m\n",
      "\u001b[34m[02:40:33] 10000x5000 matrix with 50000000 entries loaded from /opt/ml/input/data/validation?format=csv&label_column=0&delimiter=,\u001b[0m\n",
      "\u001b[34m[02:40:36] src/tree/updater_prune.cc:74: tree pruning end, 1 roots, 36 extra nodes, 8 pruned nodes, max_depth=5\u001b[0m\n",
      "\u001b[34m[0]#011train-error:0.3088#011validation-error:0.307\u001b[0m\n",
      "\u001b[34mMultiple eval metrics have been passed: 'validation-error' will be used for early stopping.\n",
      "\u001b[0m\n",
      "\u001b[34mWill train until validation-error hasn't improved in 10 rounds.\u001b[0m\n",
      "\u001b[34m[02:40:38] src/tree/updater_prune.cc:74: tree pruning end, 1 roots, 36 extra nodes, 8 pruned nodes, max_depth=5\u001b[0m\n",
      "\u001b[34m[1]#011train-error:0.3052#011validation-error:0.3029\u001b[0m\n",
      "\u001b[34m[02:40:40] src/tree/updater_prune.cc:74: tree pruning end, 1 roots, 42 extra nodes, 2 pruned nodes, max_depth=5\u001b[0m\n",
      "\u001b[34m[2]#011train-error:0.285067#011validation-error:0.2844\u001b[0m\n",
      "\u001b[34m[02:40:41] src/tree/updater_prune.cc:74: tree pruning end, 1 roots, 28 extra nodes, 4 pruned nodes, max_depth=5\u001b[0m\n",
      "\u001b[34m[3]#011train-error:0.277067#011validation-error:0.2769\u001b[0m\n",
      "\u001b[34m[02:40:42] src/tree/updater_prune.cc:74: tree pruning end, 1 roots, 48 extra nodes, 6 pruned nodes, max_depth=5\u001b[0m\n",
      "\u001b[34m[4]#011train-error:0.2666#011validation-error:0.2698\u001b[0m\n",
      "\u001b[34m[02:40:44] src/tree/updater_prune.cc:74: tree pruning end, 1 roots, 36 extra nodes, 2 pruned nodes, max_depth=5\u001b[0m\n",
      "\u001b[34m[5]#011train-error:0.261#011validation-error:0.2637\u001b[0m\n",
      "\u001b[34m[02:40:45] src/tree/updater_prune.cc:74: tree pruning end, 1 roots, 32 extra nodes, 6 pruned nodes, max_depth=5\u001b[0m\n",
      "\u001b[34m[6]#011train-error:0.2514#011validation-error:0.2536\u001b[0m\n",
      "\u001b[34m[02:40:47] src/tree/updater_prune.cc:74: tree pruning end, 1 roots, 38 extra nodes, 6 pruned nodes, max_depth=5\u001b[0m\n",
      "\u001b[34m[7]#011train-error:0.2388#011validation-error:0.2475\u001b[0m\n",
      "\u001b[34m[02:40:48] src/tree/updater_prune.cc:74: tree pruning end, 1 roots, 42 extra nodes, 6 pruned nodes, max_depth=5\u001b[0m\n",
      "\u001b[34m[8]#011train-error:0.233867#011validation-error:0.2415\u001b[0m\n",
      "\u001b[34m[02:40:49] src/tree/updater_prune.cc:74: tree pruning end, 1 roots, 26 extra nodes, 8 pruned nodes, max_depth=5\u001b[0m\n",
      "\u001b[34m[9]#011train-error:0.2312#011validation-error:0.2385\u001b[0m\n",
      "\u001b[34m[02:40:51] src/tree/updater_prune.cc:74: tree pruning end, 1 roots, 38 extra nodes, 0 pruned nodes, max_depth=5\u001b[0m\n",
      "\u001b[34m[10]#011train-error:0.2284#011validation-error:0.2345\u001b[0m\n",
      "\u001b[34m[02:40:52] src/tree/updater_prune.cc:74: tree pruning end, 1 roots, 24 extra nodes, 16 pruned nodes, max_depth=5\u001b[0m\n",
      "\u001b[34m[11]#011train-error:0.222933#011validation-error:0.2297\u001b[0m\n",
      "\u001b[34m[02:40:53] src/tree/updater_prune.cc:74: tree pruning end, 1 roots, 26 extra nodes, 10 pruned nodes, max_depth=5\u001b[0m\n",
      "\u001b[34m[12]#011train-error:0.2206#011validation-error:0.2266\u001b[0m\n",
      "\u001b[34m[02:40:55] src/tree/updater_prune.cc:74: tree pruning end, 1 roots, 26 extra nodes, 4 pruned nodes, max_depth=5\u001b[0m\n",
      "\u001b[34m[13]#011train-error:0.217#011validation-error:0.2209\u001b[0m\n",
      "\u001b[34m[02:40:56] src/tree/updater_prune.cc:74: tree pruning end, 1 roots, 20 extra nodes, 14 pruned nodes, max_depth=5\u001b[0m\n",
      "\u001b[34m[14]#011train-error:0.211067#011validation-error:0.2158\u001b[0m\n",
      "\u001b[34m[02:40:57] src/tree/updater_prune.cc:74: tree pruning end, 1 roots, 40 extra nodes, 0 pruned nodes, max_depth=5\u001b[0m\n",
      "\u001b[34m[15]#011train-error:0.206533#011validation-error:0.2129\u001b[0m\n",
      "\u001b[34m[02:40:59] src/tree/updater_prune.cc:74: tree pruning end, 1 roots, 30 extra nodes, 10 pruned nodes, max_depth=5\u001b[0m\n",
      "\u001b[34m[16]#011train-error:0.2028#011validation-error:0.2109\u001b[0m\n",
      "\u001b[34m[02:41:00] src/tree/updater_prune.cc:74: tree pruning end, 1 roots, 22 extra nodes, 10 pruned nodes, max_depth=5\u001b[0m\n",
      "\u001b[34m[17]#011train-error:0.200733#011validation-error:0.2087\u001b[0m\n",
      "\u001b[34m[02:41:02] src/tree/updater_prune.cc:74: tree pruning end, 1 roots, 22 extra nodes, 6 pruned nodes, max_depth=5\u001b[0m\n",
      "\u001b[34m[18]#011train-error:0.196#011validation-error:0.206\u001b[0m\n",
      "\u001b[34m[02:41:03] src/tree/updater_prune.cc:74: tree pruning end, 1 roots, 40 extra nodes, 2 pruned nodes, max_depth=5\u001b[0m\n",
      "\u001b[34m[19]#011train-error:0.194#011validation-error:0.2047\u001b[0m\n",
      "\u001b[34m[02:41:05] src/tree/updater_prune.cc:74: tree pruning end, 1 roots, 32 extra nodes, 6 pruned nodes, max_depth=5\u001b[0m\n",
      "\u001b[34m[20]#011train-error:0.191333#011validation-error:0.202\u001b[0m\n",
      "\u001b[34m[02:41:07] src/tree/updater_prune.cc:74: tree pruning end, 1 roots, 26 extra nodes, 12 pruned nodes, max_depth=5\u001b[0m\n",
      "\u001b[34m[21]#011train-error:0.1888#011validation-error:0.2021\u001b[0m\n",
      "\u001b[34m[02:41:08] src/tree/updater_prune.cc:74: tree pruning end, 1 roots, 26 extra nodes, 10 pruned nodes, max_depth=5\u001b[0m\n",
      "\u001b[34m[22]#011train-error:0.186133#011validation-error:0.1984\u001b[0m\n",
      "\u001b[34m[02:41:09] src/tree/updater_prune.cc:74: tree pruning end, 1 roots, 32 extra nodes, 8 pruned nodes, max_depth=5\u001b[0m\n",
      "\u001b[34m[23]#011train-error:0.183867#011validation-error:0.1962\u001b[0m\n",
      "\u001b[34m[02:41:11] src/tree/updater_prune.cc:74: tree pruning end, 1 roots, 34 extra nodes, 4 pruned nodes, max_depth=5\u001b[0m\n",
      "\u001b[34m[24]#011train-error:0.181667#011validation-error:0.196\u001b[0m\n",
      "\u001b[34m[02:41:12] src/tree/updater_prune.cc:74: tree pruning end, 1 roots, 28 extra nodes, 6 pruned nodes, max_depth=5\u001b[0m\n",
      "\u001b[34m[25]#011train-error:0.1786#011validation-error:0.1957\u001b[0m\n",
      "\u001b[34m[02:41:13] src/tree/updater_prune.cc:74: tree pruning end, 1 roots, 22 extra nodes, 10 pruned nodes, max_depth=5\u001b[0m\n",
      "\u001b[34m[26]#011train-error:0.177733#011validation-error:0.1922\u001b[0m\n",
      "\u001b[34m[02:41:15] src/tree/updater_prune.cc:74: tree pruning end, 1 roots, 14 extra nodes, 12 pruned nodes, max_depth=5\u001b[0m\n",
      "\u001b[34m[27]#011train-error:0.1758#011validation-error:0.1904\u001b[0m\n",
      "\u001b[34m[02:41:16] src/tree/updater_prune.cc:74: tree pruning end, 1 roots, 26 extra nodes, 6 pruned nodes, max_depth=5\u001b[0m\n",
      "\u001b[34m[28]#011train-error:0.172933#011validation-error:0.1886\u001b[0m\n",
      "\u001b[34m[02:41:17] src/tree/updater_prune.cc:74: tree pruning end, 1 roots, 22 extra nodes, 4 pruned nodes, max_depth=5\u001b[0m\n",
      "\u001b[34m[29]#011train-error:0.169267#011validation-error:0.1888\u001b[0m\n",
      "\u001b[34m[02:41:19] src/tree/updater_prune.cc:74: tree pruning end, 1 roots, 38 extra nodes, 6 pruned nodes, max_depth=5\u001b[0m\n",
      "\u001b[34m[30]#011train-error:0.165733#011validation-error:0.1869\u001b[0m\n",
      "\u001b[34m[02:41:20] src/tree/updater_prune.cc:74: tree pruning end, 1 roots, 24 extra nodes, 6 pruned nodes, max_depth=5\u001b[0m\n",
      "\u001b[34m[31]#011train-error:0.163667#011validation-error:0.1867\u001b[0m\n",
      "\u001b[34m[02:41:22] src/tree/updater_prune.cc:74: tree pruning end, 1 roots, 34 extra nodes, 8 pruned nodes, max_depth=5\u001b[0m\n",
      "\u001b[34m[32]#011train-error:0.162933#011validation-error:0.1863\u001b[0m\n",
      "\u001b[34m[02:41:23] src/tree/updater_prune.cc:74: tree pruning end, 1 roots, 14 extra nodes, 18 pruned nodes, max_depth=5\u001b[0m\n",
      "\u001b[34m[33]#011train-error:0.163#011validation-error:0.1849\u001b[0m\n",
      "\u001b[34m[02:41:24] src/tree/updater_prune.cc:74: tree pruning end, 1 roots, 34 extra nodes, 8 pruned nodes, max_depth=5\u001b[0m\n",
      "\u001b[34m[34]#011train-error:0.1616#011validation-error:0.1846\u001b[0m\n",
      "\u001b[34m[02:41:26] src/tree/updater_prune.cc:74: tree pruning end, 1 roots, 40 extra nodes, 8 pruned nodes, max_depth=5\u001b[0m\n",
      "\u001b[34m[35]#011train-error:0.158867#011validation-error:0.1834\u001b[0m\n",
      "\u001b[34m[02:41:27] src/tree/updater_prune.cc:74: tree pruning end, 1 roots, 30 extra nodes, 4 pruned nodes, max_depth=5\u001b[0m\n",
      "\u001b[34m[36]#011train-error:0.158333#011validation-error:0.1831\u001b[0m\n",
      "\u001b[34m[02:41:28] src/tree/updater_prune.cc:74: tree pruning end, 1 roots, 18 extra nodes, 8 pruned nodes, max_depth=5\u001b[0m\n",
      "\u001b[34m[37]#011train-error:0.157333#011validation-error:0.1815\u001b[0m\n",
      "\u001b[34m[02:41:30] src/tree/updater_prune.cc:74: tree pruning end, 1 roots, 22 extra nodes, 6 pruned nodes, max_depth=5\u001b[0m\n",
      "\u001b[34m[38]#011train-error:0.156467#011validation-error:0.1817\u001b[0m\n",
      "\u001b[34m[02:41:31] src/tree/updater_prune.cc:74: tree pruning end, 1 roots, 16 extra nodes, 10 pruned nodes, max_depth=5\u001b[0m\n",
      "\u001b[34m[39]#011train-error:0.154133#011validation-error:0.1814\u001b[0m\n",
      "\u001b[34m[02:41:32] src/tree/updater_prune.cc:74: tree pruning end, 1 roots, 28 extra nodes, 10 pruned nodes, max_depth=5\u001b[0m\n",
      "\u001b[34m[40]#011train-error:0.1516#011validation-error:0.1809\u001b[0m\n",
      "\u001b[34m[02:41:34] src/tree/updater_prune.cc:74: tree pruning end, 1 roots, 18 extra nodes, 16 pruned nodes, max_depth=5\u001b[0m\n",
      "\u001b[34m[41]#011train-error:0.151267#011validation-error:0.1826\u001b[0m\n",
      "\u001b[34m[02:41:35] src/tree/updater_prune.cc:74: tree pruning end, 1 roots, 28 extra nodes, 8 pruned nodes, max_depth=5\u001b[0m\n",
      "\u001b[34m[42]#011train-error:0.150933#011validation-error:0.1798\u001b[0m\n",
      "\u001b[34m[02:41:36] src/tree/updater_prune.cc:74: tree pruning end, 1 roots, 18 extra nodes, 14 pruned nodes, max_depth=5\u001b[0m\n",
      "\u001b[34m[43]#011train-error:0.1504#011validation-error:0.1784\u001b[0m\n",
      "\u001b[34m[02:41:38] src/tree/updater_prune.cc:74: tree pruning end, 1 roots, 18 extra nodes, 8 pruned nodes, max_depth=5\u001b[0m\n",
      "\u001b[34m[44]#011train-error:0.149733#011validation-error:0.1782\u001b[0m\n",
      "\u001b[34m[02:41:39] src/tree/updater_prune.cc:74: tree pruning end, 1 roots, 20 extra nodes, 14 pruned nodes, max_depth=5\u001b[0m\n",
      "\u001b[34m[45]#011train-error:0.1498#011validation-error:0.1778\u001b[0m\n",
      "\u001b[34m[02:41:40] src/tree/updater_prune.cc:74: tree pruning end, 1 roots, 24 extra nodes, 8 pruned nodes, max_depth=5\u001b[0m\n",
      "\u001b[34m[46]#011train-error:0.148267#011validation-error:0.1775\u001b[0m\n",
      "\u001b[34m[02:41:42] src/tree/updater_prune.cc:74: tree pruning end, 1 roots, 32 extra nodes, 4 pruned nodes, max_depth=5\u001b[0m\n",
      "\u001b[34m[47]#011train-error:0.146667#011validation-error:0.1775\u001b[0m\n",
      "\u001b[34m[02:41:43] src/tree/updater_prune.cc:74: tree pruning end, 1 roots, 18 extra nodes, 6 pruned nodes, max_depth=5\u001b[0m\n",
      "\u001b[34m[48]#011train-error:0.1456#011validation-error:0.1757\u001b[0m\n",
      "\u001b[34m[02:41:44] src/tree/updater_prune.cc:74: tree pruning end, 1 roots, 24 extra nodes, 8 pruned nodes, max_depth=5\u001b[0m\n",
      "\u001b[34m[49]#011train-error:0.144733#011validation-error:0.1737\u001b[0m\n",
      "\u001b[34m[02:41:46] src/tree/updater_prune.cc:74: tree pruning end, 1 roots, 18 extra nodes, 8 pruned nodes, max_depth=5\u001b[0m\n",
      "\u001b[34m[50]#011train-error:0.143733#011validation-error:0.1724\u001b[0m\n",
      "\u001b[34m[02:41:47] src/tree/updater_prune.cc:74: tree pruning end, 1 roots, 24 extra nodes, 6 pruned nodes, max_depth=5\u001b[0m\n",
      "\u001b[34m[51]#011train-error:0.143467#011validation-error:0.1721\u001b[0m\n",
      "\u001b[34m[02:41:48] src/tree/updater_prune.cc:74: tree pruning end, 1 roots, 16 extra nodes, 16 pruned nodes, max_depth=5\u001b[0m\n",
      "\u001b[34m[52]#011train-error:0.141867#011validation-error:0.1708\u001b[0m\n",
      "\u001b[34m[02:41:50] src/tree/updater_prune.cc:74: tree pruning end, 1 roots, 28 extra nodes, 8 pruned nodes, max_depth=5\u001b[0m\n",
      "\u001b[34m[53]#011train-error:0.1416#011validation-error:0.1696\u001b[0m\n",
      "\u001b[34m[02:41:51] src/tree/updater_prune.cc:74: tree pruning end, 1 roots, 22 extra nodes, 4 pruned nodes, max_depth=5\u001b[0m\n",
      "\u001b[34m[54]#011train-error:0.140467#011validation-error:0.169\u001b[0m\n",
      "\u001b[34m[02:41:53] src/tree/updater_prune.cc:74: tree pruning end, 1 roots, 18 extra nodes, 12 pruned nodes, max_depth=5\u001b[0m\n",
      "\u001b[34m[55]#011train-error:0.138733#011validation-error:0.1691\u001b[0m\n",
      "\u001b[34m[02:41:54] src/tree/updater_prune.cc:74: tree pruning end, 1 roots, 28 extra nodes, 6 pruned nodes, max_depth=5\u001b[0m\n",
      "\u001b[34m[56]#011train-error:0.137267#011validation-error:0.1677\u001b[0m\n",
      "\u001b[34m[02:41:55] src/tree/updater_prune.cc:74: tree pruning end, 1 roots, 26 extra nodes, 6 pruned nodes, max_depth=5\u001b[0m\n",
      "\u001b[34m[57]#011train-error:0.136333#011validation-error:0.1676\u001b[0m\n",
      "\u001b[34m[02:41:57] src/tree/updater_prune.cc:74: tree pruning end, 1 roots, 18 extra nodes, 18 pruned nodes, max_depth=5\u001b[0m\n",
      "\u001b[34m[58]#011train-error:0.135733#011validation-error:0.1666\u001b[0m\n",
      "\u001b[34m[02:41:58] src/tree/updater_prune.cc:74: tree pruning end, 1 roots, 16 extra nodes, 8 pruned nodes, max_depth=5\u001b[0m\n",
      "\u001b[34m[59]#011train-error:0.134133#011validation-error:0.1659\u001b[0m\n",
      "\u001b[34m[02:41:59] src/tree/updater_prune.cc:74: tree pruning end, 1 roots, 18 extra nodes, 10 pruned nodes, max_depth=5\u001b[0m\n",
      "\u001b[34m[60]#011train-error:0.134067#011validation-error:0.1661\u001b[0m\n",
      "\u001b[34m[02:42:01] src/tree/updater_prune.cc:74: tree pruning end, 1 roots, 30 extra nodes, 6 pruned nodes, max_depth=5\u001b[0m\n",
      "\u001b[34m[61]#011train-error:0.1326#011validation-error:0.165\u001b[0m\n",
      "\u001b[34m[02:42:02] src/tree/updater_prune.cc:74: tree pruning end, 1 roots, 12 extra nodes, 8 pruned nodes, max_depth=5\u001b[0m\n",
      "\u001b[34m[62]#011train-error:0.131933#011validation-error:0.1647\u001b[0m\n",
      "\u001b[34m[02:42:04] src/tree/updater_prune.cc:74: tree pruning end, 1 roots, 16 extra nodes, 10 pruned nodes, max_depth=5\u001b[0m\n",
      "\u001b[34m[63]#011train-error:0.131#011validation-error:0.1652\u001b[0m\n",
      "\u001b[34m[02:42:05] src/tree/updater_prune.cc:74: tree pruning end, 1 roots, 28 extra nodes, 8 pruned nodes, max_depth=5\u001b[0m\n",
      "\u001b[34m[64]#011train-error:0.131067#011validation-error:0.1657\u001b[0m\n",
      "\u001b[34m[02:42:07] src/tree/updater_prune.cc:74: tree pruning end, 1 roots, 14 extra nodes, 8 pruned nodes, max_depth=5\u001b[0m\n",
      "\u001b[34m[65]#011train-error:0.129333#011validation-error:0.1639\u001b[0m\n",
      "\u001b[34m[02:42:08] src/tree/updater_prune.cc:74: tree pruning end, 1 roots, 24 extra nodes, 6 pruned nodes, max_depth=5\u001b[0m\n",
      "\u001b[34m[66]#011train-error:0.128933#011validation-error:0.163\u001b[0m\n",
      "\u001b[34m[02:42:10] src/tree/updater_prune.cc:74: tree pruning end, 1 roots, 22 extra nodes, 12 pruned nodes, max_depth=5\u001b[0m\n",
      "\u001b[34m[67]#011train-error:0.128267#011validation-error:0.1642\u001b[0m\n",
      "\u001b[34m[02:42:11] src/tree/updater_prune.cc:74: tree pruning end, 1 roots, 26 extra nodes, 12 pruned nodes, max_depth=5\u001b[0m\n",
      "\u001b[34m[68]#011train-error:0.1268#011validation-error:0.164\u001b[0m\n",
      "\u001b[34m[02:42:12] src/tree/updater_prune.cc:74: tree pruning end, 1 roots, 14 extra nodes, 6 pruned nodes, max_depth=5\u001b[0m\n",
      "\u001b[34m[69]#011train-error:0.126067#011validation-error:0.1624\u001b[0m\n",
      "\u001b[34m[02:42:14] src/tree/updater_prune.cc:74: tree pruning end, 1 roots, 14 extra nodes, 14 pruned nodes, max_depth=5\u001b[0m\n",
      "\u001b[34m[70]#011train-error:0.125733#011validation-error:0.1622\u001b[0m\n",
      "\u001b[34m[02:42:15] src/tree/updater_prune.cc:74: tree pruning end, 1 roots, 14 extra nodes, 0 pruned nodes, max_depth=5\u001b[0m\n",
      "\u001b[34m[71]#011train-error:0.124867#011validation-error:0.161\u001b[0m\n",
      "\u001b[34m[02:42:16] src/tree/updater_prune.cc:74: tree pruning end, 1 roots, 20 extra nodes, 4 pruned nodes, max_depth=5\u001b[0m\n",
      "\u001b[34m[72]#011train-error:0.123933#011validation-error:0.1608\u001b[0m\n",
      "\u001b[34m[02:42:18] src/tree/updater_prune.cc:74: tree pruning end, 1 roots, 18 extra nodes, 2 pruned nodes, max_depth=5\u001b[0m\n",
      "\u001b[34m[73]#011train-error:0.123#011validation-error:0.1592\u001b[0m\n",
      "\u001b[34m[02:42:19] src/tree/updater_prune.cc:74: tree pruning end, 1 roots, 14 extra nodes, 8 pruned nodes, max_depth=5\u001b[0m\n",
      "\u001b[34m[74]#011train-error:0.1226#011validation-error:0.1589\u001b[0m\n",
      "\u001b[34m[02:42:20] src/tree/updater_prune.cc:74: tree pruning end, 1 roots, 26 extra nodes, 10 pruned nodes, max_depth=5\u001b[0m\n",
      "\u001b[34m[75]#011train-error:0.122#011validation-error:0.1585\u001b[0m\n",
      "\u001b[34m[02:42:22] src/tree/updater_prune.cc:74: tree pruning end, 1 roots, 14 extra nodes, 8 pruned nodes, max_depth=5\u001b[0m\n",
      "\u001b[34m[76]#011train-error:0.122667#011validation-error:0.1581\u001b[0m\n",
      "\u001b[34m[02:42:23] src/tree/updater_prune.cc:74: tree pruning end, 1 roots, 34 extra nodes, 4 pruned nodes, max_depth=5\u001b[0m\n",
      "\u001b[34m[77]#011train-error:0.1214#011validation-error:0.1572\u001b[0m\n",
      "\u001b[34m[02:42:25] src/tree/updater_prune.cc:74: tree pruning end, 1 roots, 12 extra nodes, 6 pruned nodes, max_depth=5\u001b[0m\n",
      "\u001b[34m[78]#011train-error:0.121733#011validation-error:0.1582\u001b[0m\n",
      "\u001b[34m[02:42:26] src/tree/updater_prune.cc:74: tree pruning end, 1 roots, 12 extra nodes, 4 pruned nodes, max_depth=5\u001b[0m\n",
      "\u001b[34m[79]#011train-error:0.1216#011validation-error:0.1579\u001b[0m\n",
      "\u001b[34m[02:42:27] src/tree/updater_prune.cc:74: tree pruning end, 1 roots, 18 extra nodes, 10 pruned nodes, max_depth=5\u001b[0m\n",
      "\u001b[34m[80]#011train-error:0.1208#011validation-error:0.1584\u001b[0m\n",
      "\u001b[34m[02:42:29] src/tree/updater_prune.cc:74: tree pruning end, 1 roots, 30 extra nodes, 16 pruned nodes, max_depth=5\u001b[0m\n",
      "\u001b[34m[81]#011train-error:0.120733#011validation-error:0.1581\u001b[0m\n",
      "\u001b[34m[02:42:30] src/tree/updater_prune.cc:74: tree pruning end, 1 roots, 12 extra nodes, 6 pruned nodes, max_depth=5\u001b[0m\n",
      "\u001b[34m[82]#011train-error:0.1194#011validation-error:0.157\u001b[0m\n",
      "\u001b[34m[02:42:31] src/tree/updater_prune.cc:74: tree pruning end, 1 roots, 18 extra nodes, 6 pruned nodes, max_depth=5\u001b[0m\n",
      "\u001b[34m[83]#011train-error:0.118133#011validation-error:0.1573\u001b[0m\n",
      "\u001b[34m[02:42:33] src/tree/updater_prune.cc:74: tree pruning end, 1 roots, 24 extra nodes, 14 pruned nodes, max_depth=5\u001b[0m\n",
      "\u001b[34m[84]#011train-error:0.118067#011validation-error:0.1562\u001b[0m\n",
      "\u001b[34m[02:42:34] src/tree/updater_prune.cc:74: tree pruning end, 1 roots, 20 extra nodes, 12 pruned nodes, max_depth=5\u001b[0m\n",
      "\u001b[34m[85]#011train-error:0.118#011validation-error:0.1566\u001b[0m\n",
      "\u001b[34m[02:42:35] src/tree/updater_prune.cc:74: tree pruning end, 1 roots, 18 extra nodes, 8 pruned nodes, max_depth=5\u001b[0m\n",
      "\u001b[34m[86]#011train-error:0.117133#011validation-error:0.1563\u001b[0m\n",
      "\u001b[34m[02:42:37] src/tree/updater_prune.cc:74: tree pruning end, 1 roots, 24 extra nodes, 10 pruned nodes, max_depth=5\u001b[0m\n",
      "\u001b[34m[87]#011train-error:0.116067#011validation-error:0.1564\u001b[0m\n",
      "\u001b[34m[02:42:38] src/tree/updater_prune.cc:74: tree pruning end, 1 roots, 24 extra nodes, 18 pruned nodes, max_depth=5\u001b[0m\n",
      "\u001b[34m[88]#011train-error:0.1158#011validation-error:0.1565\u001b[0m\n",
      "\u001b[34m[02:42:39] src/tree/updater_prune.cc:74: tree pruning end, 1 roots, 20 extra nodes, 16 pruned nodes, max_depth=5\u001b[0m\n",
      "\u001b[34m[89]#011train-error:0.1156#011validation-error:0.1567\u001b[0m\n",
      "\u001b[34m[02:42:41] src/tree/updater_prune.cc:74: tree pruning end, 1 roots, 26 extra nodes, 8 pruned nodes, max_depth=5\u001b[0m\n",
      "\u001b[34m[90]#011train-error:0.1146#011validation-error:0.1555\u001b[0m\n",
      "\u001b[34m[02:42:42] src/tree/updater_prune.cc:74: tree pruning end, 1 roots, 24 extra nodes, 12 pruned nodes, max_depth=5\u001b[0m\n",
      "\u001b[34m[91]#011train-error:0.113467#011validation-error:0.1549\u001b[0m\n",
      "\u001b[34m[02:42:43] src/tree/updater_prune.cc:74: tree pruning end, 1 roots, 12 extra nodes, 4 pruned nodes, max_depth=5\u001b[0m\n",
      "\u001b[34m[92]#011train-error:0.113133#011validation-error:0.1538\u001b[0m\n",
      "\u001b[34m[02:42:45] src/tree/updater_prune.cc:74: tree pruning end, 1 roots, 18 extra nodes, 10 pruned nodes, max_depth=5\u001b[0m\n",
      "\u001b[34m[93]#011train-error:0.112067#011validation-error:0.1539\u001b[0m\n",
      "\u001b[34m[02:42:46] src/tree/updater_prune.cc:74: tree pruning end, 1 roots, 18 extra nodes, 10 pruned nodes, max_depth=5\u001b[0m\n",
      "\u001b[34m[94]#011train-error:0.112133#011validation-error:0.1536\u001b[0m\n",
      "\u001b[34m[02:42:47] src/tree/updater_prune.cc:74: tree pruning end, 1 roots, 12 extra nodes, 4 pruned nodes, max_depth=5\u001b[0m\n",
      "\u001b[34m[95]#011train-error:0.111#011validation-error:0.1533\u001b[0m\n",
      "\u001b[34m[02:42:49] src/tree/updater_prune.cc:74: tree pruning end, 1 roots, 18 extra nodes, 0 pruned nodes, max_depth=5\u001b[0m\n",
      "\u001b[34m[96]#011train-error:0.110133#011validation-error:0.1534\u001b[0m\n",
      "\u001b[34m[02:42:50] src/tree/updater_prune.cc:74: tree pruning end, 1 roots, 16 extra nodes, 6 pruned nodes, max_depth=5\u001b[0m\n",
      "\u001b[34m[97]#011train-error:0.109867#011validation-error:0.1535\u001b[0m\n",
      "\u001b[34m[02:42:51] src/tree/updater_prune.cc:74: tree pruning end, 1 roots, 16 extra nodes, 6 pruned nodes, max_depth=5\u001b[0m\n",
      "\u001b[34m[98]#011train-error:0.109#011validation-error:0.1535\u001b[0m\n",
      "\u001b[34m[02:42:53] src/tree/updater_prune.cc:74: tree pruning end, 1 roots, 14 extra nodes, 6 pruned nodes, max_depth=5\u001b[0m\n",
      "\u001b[34m[99]#011train-error:0.109533#011validation-error:0.1524\u001b[0m\n",
      "\u001b[34m[02:42:54] src/tree/updater_prune.cc:74: tree pruning end, 1 roots, 22 extra nodes, 4 pruned nodes, max_depth=5\u001b[0m\n",
      "\u001b[34m[100]#011train-error:0.1082#011validation-error:0.1524\u001b[0m\n",
      "\u001b[34m[02:42:56] src/tree/updater_prune.cc:74: tree pruning end, 1 roots, 22 extra nodes, 16 pruned nodes, max_depth=5\u001b[0m\n",
      "\u001b[34m[101]#011train-error:0.1076#011validation-error:0.1513\u001b[0m\n",
      "\u001b[34m[02:42:57] src/tree/updater_prune.cc:74: tree pruning end, 1 roots, 12 extra nodes, 10 pruned nodes, max_depth=5\u001b[0m\n",
      "\u001b[34m[102]#011train-error:0.107333#011validation-error:0.1506\u001b[0m\n",
      "\u001b[34m[02:42:58] src/tree/updater_prune.cc:74: tree pruning end, 1 roots, 22 extra nodes, 6 pruned nodes, max_depth=5\u001b[0m\n",
      "\u001b[34m[103]#011train-error:0.107267#011validation-error:0.1507\u001b[0m\n",
      "\u001b[34m[02:43:00] src/tree/updater_prune.cc:74: tree pruning end, 1 roots, 34 extra nodes, 12 pruned nodes, max_depth=5\u001b[0m\n",
      "\u001b[34m[104]#011train-error:0.1056#011validation-error:0.1495\u001b[0m\n",
      "\u001b[34m[02:43:01] src/tree/updater_prune.cc:74: tree pruning end, 1 roots, 20 extra nodes, 10 pruned nodes, max_depth=5\u001b[0m\n",
      "\u001b[34m[105]#011train-error:0.105333#011validation-error:0.1499\u001b[0m\n",
      "\u001b[34m[02:43:03] src/tree/updater_prune.cc:74: tree pruning end, 1 roots, 18 extra nodes, 10 pruned nodes, max_depth=5\u001b[0m\n",
      "\u001b[34m[106]#011train-error:0.1052#011validation-error:0.1497\u001b[0m\n",
      "\u001b[34m[02:43:05] src/tree/updater_prune.cc:74: tree pruning end, 1 roots, 24 extra nodes, 8 pruned nodes, max_depth=5\u001b[0m\n",
      "\u001b[34m[107]#011train-error:0.103933#011validation-error:0.1491\u001b[0m\n",
      "\u001b[34m[02:43:06] src/tree/updater_prune.cc:74: tree pruning end, 1 roots, 10 extra nodes, 14 pruned nodes, max_depth=5\u001b[0m\n",
      "\u001b[34m[108]#011train-error:0.103867#011validation-error:0.1492\u001b[0m\n",
      "\u001b[34m[02:43:08] src/tree/updater_prune.cc:74: tree pruning end, 1 roots, 18 extra nodes, 4 pruned nodes, max_depth=5\u001b[0m\n",
      "\u001b[34m[109]#011train-error:0.104133#011validation-error:0.1493\u001b[0m\n",
      "\u001b[34m[02:43:09] src/tree/updater_prune.cc:74: tree pruning end, 1 roots, 18 extra nodes, 8 pruned nodes, max_depth=5\u001b[0m\n",
      "\u001b[34m[110]#011train-error:0.103667#011validation-error:0.1493\u001b[0m\n",
      "\u001b[34m[02:43:10] src/tree/updater_prune.cc:74: tree pruning end, 1 roots, 26 extra nodes, 14 pruned nodes, max_depth=5\u001b[0m\n",
      "\u001b[34m[111]#011train-error:0.102533#011validation-error:0.1494\u001b[0m\n",
      "\u001b[34m[02:43:12] src/tree/updater_prune.cc:74: tree pruning end, 1 roots, 14 extra nodes, 14 pruned nodes, max_depth=5\u001b[0m\n",
      "\u001b[34m[112]#011train-error:0.101667#011validation-error:0.1486\u001b[0m\n",
      "\u001b[34m[02:43:13] src/tree/updater_prune.cc:74: tree pruning end, 1 roots, 10 extra nodes, 6 pruned nodes, max_depth=5\u001b[0m\n",
      "\u001b[34m[113]#011train-error:0.101867#011validation-error:0.1483\u001b[0m\n",
      "\u001b[34m[02:43:14] src/tree/updater_prune.cc:74: tree pruning end, 1 roots, 22 extra nodes, 14 pruned nodes, max_depth=5\u001b[0m\n",
      "\u001b[34m[114]#011train-error:0.101533#011validation-error:0.148\u001b[0m\n",
      "\u001b[34m[02:43:16] src/tree/updater_prune.cc:74: tree pruning end, 1 roots, 12 extra nodes, 2 pruned nodes, max_depth=5\u001b[0m\n",
      "\u001b[34m[115]#011train-error:0.100867#011validation-error:0.1479\u001b[0m\n",
      "\u001b[34m[02:43:17] src/tree/updater_prune.cc:74: tree pruning end, 1 roots, 16 extra nodes, 10 pruned nodes, max_depth=5\u001b[0m\n",
      "\u001b[34m[116]#011train-error:0.1008#011validation-error:0.1478\u001b[0m\n",
      "\u001b[34m[02:43:18] src/tree/updater_prune.cc:74: tree pruning end, 1 roots, 10 extra nodes, 14 pruned nodes, max_depth=5\u001b[0m\n",
      "\u001b[34m[117]#011train-error:0.100667#011validation-error:0.1475\u001b[0m\n",
      "\u001b[34m[02:43:20] src/tree/updater_prune.cc:74: tree pruning end, 1 roots, 12 extra nodes, 2 pruned nodes, max_depth=5\u001b[0m\n",
      "\u001b[34m[118]#011train-error:0.100333#011validation-error:0.1471\u001b[0m\n",
      "\u001b[34m[02:43:21] src/tree/updater_prune.cc:74: tree pruning end, 1 roots, 12 extra nodes, 4 pruned nodes, max_depth=5\u001b[0m\n",
      "\u001b[34m[119]#011train-error:0.099867#011validation-error:0.1469\u001b[0m\n",
      "\u001b[34m[02:43:22] src/tree/updater_prune.cc:74: tree pruning end, 1 roots, 12 extra nodes, 10 pruned nodes, max_depth=5\u001b[0m\n",
      "\u001b[34m[120]#011train-error:0.1#011validation-error:0.1467\u001b[0m\n",
      "\u001b[34m[02:43:24] src/tree/updater_prune.cc:74: tree pruning end, 1 roots, 22 extra nodes, 10 pruned nodes, max_depth=5\u001b[0m\n",
      "\u001b[34m[121]#011train-error:0.099533#011validation-error:0.1465\u001b[0m\n",
      "\u001b[34m[02:43:25] src/tree/updater_prune.cc:74: tree pruning end, 1 roots, 22 extra nodes, 4 pruned nodes, max_depth=5\u001b[0m\n",
      "\u001b[34m[122]#011train-error:0.0992#011validation-error:0.1454\u001b[0m\n",
      "\u001b[34m[02:43:27] src/tree/updater_prune.cc:74: tree pruning end, 1 roots, 24 extra nodes, 12 pruned nodes, max_depth=5\u001b[0m\n",
      "\u001b[34m[123]#011train-error:0.098333#011validation-error:0.1444\u001b[0m\n",
      "\u001b[34m[02:43:28] src/tree/updater_prune.cc:74: tree pruning end, 1 roots, 22 extra nodes, 6 pruned nodes, max_depth=5\u001b[0m\n",
      "\u001b[34m[124]#011train-error:0.097133#011validation-error:0.1449\u001b[0m\n",
      "\u001b[34m[02:43:29] src/tree/updater_prune.cc:74: tree pruning end, 1 roots, 12 extra nodes, 6 pruned nodes, max_depth=5\u001b[0m\n",
      "\u001b[34m[125]#011train-error:0.097267#011validation-error:0.1445\u001b[0m\n",
      "\u001b[34m[02:43:31] src/tree/updater_prune.cc:74: tree pruning end, 1 roots, 16 extra nodes, 12 pruned nodes, max_depth=5\u001b[0m\n",
      "\u001b[34m[126]#011train-error:0.0964#011validation-error:0.1435\u001b[0m\n",
      "\u001b[34m[02:43:32] src/tree/updater_prune.cc:74: tree pruning end, 1 roots, 10 extra nodes, 4 pruned nodes, max_depth=5\u001b[0m\n",
      "\u001b[34m[127]#011train-error:0.096333#011validation-error:0.1431\u001b[0m\n",
      "\u001b[34m[02:43:33] src/tree/updater_prune.cc:74: tree pruning end, 1 roots, 18 extra nodes, 10 pruned nodes, max_depth=5\u001b[0m\n",
      "\u001b[34m[128]#011train-error:0.096#011validation-error:0.144\u001b[0m\n",
      "\u001b[34m[02:43:35] src/tree/updater_prune.cc:74: tree pruning end, 1 roots, 12 extra nodes, 0 pruned nodes, max_depth=5\u001b[0m\n",
      "\u001b[34m[129]#011train-error:0.095067#011validation-error:0.1441\u001b[0m\n",
      "\u001b[34m[02:43:36] src/tree/updater_prune.cc:74: tree pruning end, 1 roots, 30 extra nodes, 10 pruned nodes, max_depth=5\u001b[0m\n",
      "\u001b[34m[130]#011train-error:0.093867#011validation-error:0.1431\u001b[0m\n",
      "\u001b[34m[02:43:37] src/tree/updater_prune.cc:74: tree pruning end, 1 roots, 18 extra nodes, 0 pruned nodes, max_depth=5\u001b[0m\n",
      "\u001b[34m[131]#011train-error:0.094#011validation-error:0.1433\u001b[0m\n",
      "\u001b[34m[02:43:39] src/tree/updater_prune.cc:74: tree pruning end, 1 roots, 16 extra nodes, 10 pruned nodes, max_depth=5\u001b[0m\n",
      "\u001b[34m[132]#011train-error:0.093533#011validation-error:0.143\u001b[0m\n",
      "\u001b[34m[02:43:40] src/tree/updater_prune.cc:74: tree pruning end, 1 roots, 16 extra nodes, 10 pruned nodes, max_depth=5\u001b[0m\n",
      "\u001b[34m[133]#011train-error:0.093#011validation-error:0.1438\u001b[0m\n",
      "\u001b[34m[02:43:41] src/tree/updater_prune.cc:74: tree pruning end, 1 roots, 12 extra nodes, 0 pruned nodes, max_depth=5\u001b[0m\n",
      "\u001b[34m[134]#011train-error:0.093067#011validation-error:0.1434\u001b[0m\n",
      "\u001b[34m[02:43:43] src/tree/updater_prune.cc:74: tree pruning end, 1 roots, 12 extra nodes, 2 pruned nodes, max_depth=5\u001b[0m\n",
      "\u001b[34m[135]#011train-error:0.0926#011validation-error:0.143\u001b[0m\n",
      "\u001b[34m[02:43:44] src/tree/updater_prune.cc:74: tree pruning end, 1 roots, 22 extra nodes, 2 pruned nodes, max_depth=5\u001b[0m\n",
      "\u001b[34m[136]#011train-error:0.091533#011validation-error:0.143\u001b[0m\n",
      "\u001b[34m[02:43:45] src/tree/updater_prune.cc:74: tree pruning end, 1 roots, 10 extra nodes, 8 pruned nodes, max_depth=5\u001b[0m\n",
      "\u001b[34m[137]#011train-error:0.091333#011validation-error:0.1426\u001b[0m\n",
      "\u001b[34m[02:43:47] src/tree/updater_prune.cc:74: tree pruning end, 1 roots, 18 extra nodes, 8 pruned nodes, max_depth=5\u001b[0m\n",
      "\u001b[34m[138]#011train-error:0.0916#011validation-error:0.1431\u001b[0m\n",
      "\u001b[34m[02:43:48] src/tree/updater_prune.cc:74: tree pruning end, 1 roots, 16 extra nodes, 12 pruned nodes, max_depth=5\u001b[0m\n",
      "\u001b[34m[139]#011train-error:0.0912#011validation-error:0.1426\u001b[0m\n",
      "\u001b[34m[02:43:49] src/tree/updater_prune.cc:74: tree pruning end, 1 roots, 10 extra nodes, 8 pruned nodes, max_depth=5\u001b[0m\n",
      "\u001b[34m[140]#011train-error:0.090733#011validation-error:0.1428\u001b[0m\n",
      "\u001b[34m[02:43:51] src/tree/updater_prune.cc:74: tree pruning end, 1 roots, 12 extra nodes, 2 pruned nodes, max_depth=5\u001b[0m\n",
      "\u001b[34m[141]#011train-error:0.0908#011validation-error:0.1425\u001b[0m\n",
      "\u001b[34m[02:43:52] src/tree/updater_prune.cc:74: tree pruning end, 1 roots, 18 extra nodes, 12 pruned nodes, max_depth=5\u001b[0m\n",
      "\u001b[34m[142]#011train-error:0.090533#011validation-error:0.1418\u001b[0m\n",
      "\u001b[34m[02:43:53] src/tree/updater_prune.cc:74: tree pruning end, 1 roots, 12 extra nodes, 2 pruned nodes, max_depth=5\u001b[0m\n",
      "\u001b[34m[143]#011train-error:0.0904#011validation-error:0.141\u001b[0m\n",
      "\u001b[34m[02:43:55] src/tree/updater_prune.cc:74: tree pruning end, 1 roots, 18 extra nodes, 8 pruned nodes, max_depth=5\u001b[0m\n",
      "\u001b[34m[144]#011train-error:0.089867#011validation-error:0.1409\u001b[0m\n",
      "\u001b[34m[02:43:56] src/tree/updater_prune.cc:74: tree pruning end, 1 roots, 24 extra nodes, 4 pruned nodes, max_depth=5\u001b[0m\n",
      "\u001b[34m[145]#011train-error:0.089467#011validation-error:0.1403\u001b[0m\n",
      "\u001b[34m[02:43:58] src/tree/updater_prune.cc:74: tree pruning end, 1 roots, 34 extra nodes, 6 pruned nodes, max_depth=5\u001b[0m\n",
      "\u001b[34m[146]#011train-error:0.0886#011validation-error:0.1401\u001b[0m\n",
      "\u001b[34m[02:43:59] src/tree/updater_prune.cc:74: tree pruning end, 1 roots, 16 extra nodes, 8 pruned nodes, max_depth=5\u001b[0m\n",
      "\u001b[34m[147]#011train-error:0.088#011validation-error:0.14\u001b[0m\n",
      "\u001b[34m[02:44:00] src/tree/updater_prune.cc:74: tree pruning end, 1 roots, 10 extra nodes, 10 pruned nodes, max_depth=5\u001b[0m\n",
      "\u001b[34m[148]#011train-error:0.0878#011validation-error:0.1399\u001b[0m\n",
      "\u001b[34m[02:44:02] src/tree/updater_prune.cc:74: tree pruning end, 1 roots, 12 extra nodes, 6 pruned nodes, max_depth=5\u001b[0m\n",
      "\u001b[34m[149]#011train-error:0.087467#011validation-error:0.1397\u001b[0m\n",
      "\u001b[34m[02:44:03] src/tree/updater_prune.cc:74: tree pruning end, 1 roots, 14 extra nodes, 2 pruned nodes, max_depth=5\u001b[0m\n",
      "\u001b[34m[150]#011train-error:0.087733#011validation-error:0.1391\u001b[0m\n",
      "\u001b[34m[02:44:05] src/tree/updater_prune.cc:74: tree pruning end, 1 roots, 14 extra nodes, 8 pruned nodes, max_depth=5\u001b[0m\n",
      "\u001b[34m[151]#011train-error:0.087133#011validation-error:0.1395\u001b[0m\n",
      "\u001b[34m[02:44:06] src/tree/updater_prune.cc:74: tree pruning end, 1 roots, 24 extra nodes, 2 pruned nodes, max_depth=5\u001b[0m\n",
      "\u001b[34m[152]#011train-error:0.087467#011validation-error:0.1401\u001b[0m\n",
      "\u001b[34m[02:44:08] src/tree/updater_prune.cc:74: tree pruning end, 1 roots, 14 extra nodes, 10 pruned nodes, max_depth=5\u001b[0m\n",
      "\u001b[34m[153]#011train-error:0.087333#011validation-error:0.1396\u001b[0m\n",
      "\u001b[34m[02:44:09] src/tree/updater_prune.cc:74: tree pruning end, 1 roots, 12 extra nodes, 10 pruned nodes, max_depth=5\u001b[0m\n",
      "\u001b[34m[154]#011train-error:0.086867#011validation-error:0.14\u001b[0m\n",
      "\u001b[34m[02:44:11] src/tree/updater_prune.cc:74: tree pruning end, 1 roots, 10 extra nodes, 2 pruned nodes, max_depth=5\u001b[0m\n",
      "\u001b[34m[155]#011train-error:0.0866#011validation-error:0.1396\u001b[0m\n",
      "\u001b[34m[02:44:12] src/tree/updater_prune.cc:74: tree pruning end, 1 roots, 30 extra nodes, 10 pruned nodes, max_depth=5\u001b[0m\n",
      "\u001b[34m[156]#011train-error:0.086667#011validation-error:0.1398\u001b[0m\n",
      "\u001b[34m[02:44:13] src/tree/updater_prune.cc:74: tree pruning end, 1 roots, 16 extra nodes, 20 pruned nodes, max_depth=5\u001b[0m\n",
      "\u001b[34m[157]#011train-error:0.086667#011validation-error:0.1397\u001b[0m\n",
      "\u001b[34m[02:44:15] src/tree/updater_prune.cc:74: tree pruning end, 1 roots, 20 extra nodes, 8 pruned nodes, max_depth=5\u001b[0m\n",
      "\u001b[34m[158]#011train-error:0.085933#011validation-error:0.1394\u001b[0m\n",
      "\u001b[34m[02:44:16] src/tree/updater_prune.cc:74: tree pruning end, 1 roots, 12 extra nodes, 18 pruned nodes, max_depth=5\u001b[0m\n",
      "\u001b[34m[159]#011train-error:0.085933#011validation-error:0.1387\u001b[0m\n",
      "\u001b[34m[02:44:17] src/tree/updater_prune.cc:74: tree pruning end, 1 roots, 12 extra nodes, 14 pruned nodes, max_depth=5\u001b[0m\n",
      "\u001b[34m[160]#011train-error:0.0854#011validation-error:0.139\u001b[0m\n",
      "\u001b[34m[02:44:19] src/tree/updater_prune.cc:74: tree pruning end, 1 roots, 14 extra nodes, 10 pruned nodes, max_depth=5\u001b[0m\n",
      "\u001b[34m[161]#011train-error:0.085333#011validation-error:0.1378\u001b[0m\n",
      "\u001b[34m[02:44:20] src/tree/updater_prune.cc:74: tree pruning end, 1 roots, 10 extra nodes, 0 pruned nodes, max_depth=5\u001b[0m\n",
      "\u001b[34m[162]#011train-error:0.0854#011validation-error:0.1376\u001b[0m\n",
      "\u001b[34m[02:44:21] src/tree/updater_prune.cc:74: tree pruning end, 1 roots, 14 extra nodes, 10 pruned nodes, max_depth=5\u001b[0m\n",
      "\u001b[34m[163]#011train-error:0.084733#011validation-error:0.1367\u001b[0m\n",
      "\u001b[34m[02:44:23] src/tree/updater_prune.cc:74: tree pruning end, 1 roots, 22 extra nodes, 10 pruned nodes, max_depth=5\u001b[0m\n",
      "\u001b[34m[164]#011train-error:0.084133#011validation-error:0.1371\u001b[0m\n",
      "\u001b[34m[02:44:24] src/tree/updater_prune.cc:74: tree pruning end, 1 roots, 14 extra nodes, 6 pruned nodes, max_depth=5\u001b[0m\n",
      "\u001b[34m[165]#011train-error:0.083733#011validation-error:0.1369\u001b[0m\n",
      "\u001b[34m[02:44:25] src/tree/updater_prune.cc:74: tree pruning end, 1 roots, 10 extra nodes, 8 pruned nodes, max_depth=5\u001b[0m\n",
      "\u001b[34m[166]#011train-error:0.0836#011validation-error:0.1367\u001b[0m\n",
      "\u001b[34m[02:44:27] src/tree/updater_prune.cc:74: tree pruning end, 1 roots, 10 extra nodes, 4 pruned nodes, max_depth=5\u001b[0m\n",
      "\u001b[34m[167]#011train-error:0.0838#011validation-error:0.1366\u001b[0m\n",
      "\u001b[34m[02:44:28] src/tree/updater_prune.cc:74: tree pruning end, 1 roots, 10 extra nodes, 8 pruned nodes, max_depth=5\u001b[0m\n",
      "\u001b[34m[168]#011train-error:0.0836#011validation-error:0.1366\u001b[0m\n",
      "\u001b[34m[02:44:29] src/tree/updater_prune.cc:74: tree pruning end, 1 roots, 10 extra nodes, 4 pruned nodes, max_depth=5\u001b[0m\n",
      "\u001b[34m[169]#011train-error:0.0834#011validation-error:0.1365\u001b[0m\n",
      "\u001b[34m[02:44:31] src/tree/updater_prune.cc:74: tree pruning end, 1 roots, 12 extra nodes, 8 pruned nodes, max_depth=5\u001b[0m\n",
      "\u001b[34m[170]#011train-error:0.083#011validation-error:0.1365\u001b[0m\n",
      "\u001b[34m[02:44:32] src/tree/updater_prune.cc:74: tree pruning end, 1 roots, 12 extra nodes, 2 pruned nodes, max_depth=5\u001b[0m\n",
      "\u001b[34m[171]#011train-error:0.083#011validation-error:0.1365\u001b[0m\n",
      "\u001b[34m[02:44:34] src/tree/updater_prune.cc:74: tree pruning end, 1 roots, 12 extra nodes, 6 pruned nodes, max_depth=5\u001b[0m\n",
      "\u001b[34m[172]#011train-error:0.083#011validation-error:0.1367\u001b[0m\n",
      "\u001b[34m[02:44:35] src/tree/updater_prune.cc:74: tree pruning end, 1 roots, 12 extra nodes, 6 pruned nodes, max_depth=5\u001b[0m\n",
      "\u001b[34m[173]#011train-error:0.0826#011validation-error:0.1364\u001b[0m\n",
      "\u001b[34m[02:44:36] src/tree/updater_prune.cc:74: tree pruning end, 1 roots, 10 extra nodes, 10 pruned nodes, max_depth=5\u001b[0m\n",
      "\u001b[34m[174]#011train-error:0.082867#011validation-error:0.1364\u001b[0m\n",
      "\u001b[34m[02:44:38] src/tree/updater_prune.cc:74: tree pruning end, 1 roots, 14 extra nodes, 8 pruned nodes, max_depth=5\u001b[0m\n",
      "\u001b[34m[175]#011train-error:0.083#011validation-error:0.1355\u001b[0m\n",
      "\u001b[34m[02:44:39] src/tree/updater_prune.cc:74: tree pruning end, 1 roots, 16 extra nodes, 6 pruned nodes, max_depth=5\u001b[0m\n",
      "\u001b[34m[176]#011train-error:0.0824#011validation-error:0.1367\u001b[0m\n",
      "\u001b[34m[02:44:40] src/tree/updater_prune.cc:74: tree pruning end, 1 roots, 14 extra nodes, 10 pruned nodes, max_depth=5\u001b[0m\n",
      "\u001b[34m[177]#011train-error:0.0824#011validation-error:0.136\u001b[0m\n",
      "\u001b[34m[02:44:42] src/tree/updater_prune.cc:74: tree pruning end, 1 roots, 20 extra nodes, 8 pruned nodes, max_depth=5\u001b[0m\n",
      "\u001b[34m[178]#011train-error:0.081467#011validation-error:0.1354\u001b[0m\n",
      "\u001b[34m[02:44:43] src/tree/updater_prune.cc:74: tree pruning end, 1 roots, 20 extra nodes, 10 pruned nodes, max_depth=5\u001b[0m\n",
      "\u001b[34m[179]#011train-error:0.0814#011validation-error:0.1355\u001b[0m\n",
      "\u001b[34m[02:44:44] src/tree/updater_prune.cc:74: tree pruning end, 1 roots, 10 extra nodes, 4 pruned nodes, max_depth=5\u001b[0m\n",
      "\u001b[34m[180]#011train-error:0.0812#011validation-error:0.1352\u001b[0m\n",
      "\u001b[34m[02:44:46] src/tree/updater_prune.cc:74: tree pruning end, 1 roots, 16 extra nodes, 8 pruned nodes, max_depth=5\u001b[0m\n",
      "\u001b[34m[181]#011train-error:0.080533#011validation-error:0.1353\u001b[0m\n",
      "\u001b[34m[02:44:47] src/tree/updater_prune.cc:74: tree pruning end, 1 roots, 24 extra nodes, 14 pruned nodes, max_depth=5\u001b[0m\n",
      "\u001b[34m[182]#011train-error:0.0806#011validation-error:0.1359\u001b[0m\n",
      "\u001b[34m[02:44:48] src/tree/updater_prune.cc:74: tree pruning end, 1 roots, 12 extra nodes, 6 pruned nodes, max_depth=5\u001b[0m\n",
      "\u001b[34m[183]#011train-error:0.080067#011validation-error:0.1359\u001b[0m\n",
      "\u001b[34m[02:44:49] src/tree/updater_prune.cc:74: tree pruning end, 1 roots, 10 extra nodes, 2 pruned nodes, max_depth=5\u001b[0m\n",
      "\u001b[34m[184]#011train-error:0.079933#011validation-error:0.1358\u001b[0m\n",
      "\u001b[34m[02:44:51] src/tree/updater_prune.cc:74: tree pruning end, 1 roots, 20 extra nodes, 12 pruned nodes, max_depth=5\u001b[0m\n",
      "\u001b[34m[185]#011train-error:0.0802#011validation-error:0.1349\u001b[0m\n",
      "\u001b[34m[02:44:52] src/tree/updater_prune.cc:74: tree pruning end, 1 roots, 10 extra nodes, 10 pruned nodes, max_depth=5\u001b[0m\n",
      "\u001b[34m[186]#011train-error:0.079867#011validation-error:0.1345\u001b[0m\n",
      "\u001b[34m[02:44:53] src/tree/updater_prune.cc:74: tree pruning end, 1 roots, 16 extra nodes, 8 pruned nodes, max_depth=5\u001b[0m\n",
      "\u001b[34m[187]#011train-error:0.079667#011validation-error:0.135\u001b[0m\n",
      "\u001b[34m[02:44:55] src/tree/updater_prune.cc:74: tree pruning end, 1 roots, 28 extra nodes, 2 pruned nodes, max_depth=5\u001b[0m\n",
      "\u001b[34m[188]#011train-error:0.078533#011validation-error:0.135\u001b[0m\n",
      "\u001b[34m[02:44:56] src/tree/updater_prune.cc:74: tree pruning end, 1 roots, 16 extra nodes, 12 pruned nodes, max_depth=5\u001b[0m\n",
      "\u001b[34m[189]#011train-error:0.078533#011validation-error:0.1344\u001b[0m\n",
      "\u001b[34m[02:44:58] src/tree/updater_prune.cc:74: tree pruning end, 1 roots, 10 extra nodes, 4 pruned nodes, max_depth=5\u001b[0m\n",
      "\u001b[34m[190]#011train-error:0.078067#011validation-error:0.1341\u001b[0m\n",
      "\u001b[34m[02:44:59] src/tree/updater_prune.cc:74: tree pruning end, 1 roots, 16 extra nodes, 10 pruned nodes, max_depth=5\u001b[0m\n",
      "\u001b[34m[191]#011train-error:0.078133#011validation-error:0.1346\u001b[0m\n",
      "\u001b[34m[02:45:00] src/tree/updater_prune.cc:74: tree pruning end, 1 roots, 22 extra nodes, 8 pruned nodes, max_depth=5\u001b[0m\n",
      "\u001b[34m[192]#011train-error:0.077467#011validation-error:0.1335\u001b[0m\n",
      "\u001b[34m[02:45:02] src/tree/updater_prune.cc:74: tree pruning end, 1 roots, 14 extra nodes, 2 pruned nodes, max_depth=5\u001b[0m\n",
      "\u001b[34m[193]#011train-error:0.077533#011validation-error:0.1338\u001b[0m\n",
      "\u001b[34m[02:45:03] src/tree/updater_prune.cc:74: tree pruning end, 1 roots, 12 extra nodes, 12 pruned nodes, max_depth=5\u001b[0m\n",
      "\u001b[34m[194]#011train-error:0.077533#011validation-error:0.1334\u001b[0m\n",
      "\u001b[34m[02:45:05] src/tree/updater_prune.cc:74: tree pruning end, 1 roots, 16 extra nodes, 8 pruned nodes, max_depth=5\u001b[0m\n",
      "\u001b[34m[195]#011train-error:0.0774#011validation-error:0.1336\u001b[0m\n",
      "\u001b[34m[02:45:07] src/tree/updater_prune.cc:74: tree pruning end, 1 roots, 12 extra nodes, 8 pruned nodes, max_depth=5\u001b[0m\n",
      "\u001b[34m[196]#011train-error:0.077067#011validation-error:0.1334\u001b[0m\n",
      "\u001b[34m[02:45:08] src/tree/updater_prune.cc:74: tree pruning end, 1 roots, 18 extra nodes, 20 pruned nodes, max_depth=5\u001b[0m\n",
      "\u001b[34m[197]#011train-error:0.077#011validation-error:0.1327\u001b[0m\n",
      "\u001b[34m[02:45:09] src/tree/updater_prune.cc:74: tree pruning end, 1 roots, 16 extra nodes, 4 pruned nodes, max_depth=5\u001b[0m\n",
      "\u001b[34m[198]#011train-error:0.0766#011validation-error:0.1328\u001b[0m\n",
      "\u001b[34m[02:45:11] src/tree/updater_prune.cc:74: tree pruning end, 1 roots, 20 extra nodes, 10 pruned nodes, max_depth=5\u001b[0m\n",
      "\u001b[34m[199]#011train-error:0.0756#011validation-error:0.1331\u001b[0m\n",
      "\u001b[34m[02:45:12] src/tree/updater_prune.cc:74: tree pruning end, 1 roots, 28 extra nodes, 10 pruned nodes, max_depth=5\u001b[0m\n",
      "\u001b[34m[200]#011train-error:0.074933#011validation-error:0.1333\u001b[0m\n",
      "\u001b[34m[02:45:13] src/tree/updater_prune.cc:74: tree pruning end, 1 roots, 18 extra nodes, 6 pruned nodes, max_depth=5\u001b[0m\n",
      "\u001b[34m[201]#011train-error:0.074333#011validation-error:0.1331\u001b[0m\n",
      "\u001b[34m[02:45:15] src/tree/updater_prune.cc:74: tree pruning end, 1 roots, 24 extra nodes, 2 pruned nodes, max_depth=5\u001b[0m\n",
      "\u001b[34m[202]#011train-error:0.074#011validation-error:0.1323\u001b[0m\n",
      "\u001b[34m[02:45:16] src/tree/updater_prune.cc:74: tree pruning end, 1 roots, 24 extra nodes, 20 pruned nodes, max_depth=5\u001b[0m\n",
      "\u001b[34m[203]#011train-error:0.073533#011validation-error:0.1325\u001b[0m\n",
      "\u001b[34m[02:45:17] src/tree/updater_prune.cc:74: tree pruning end, 1 roots, 14 extra nodes, 8 pruned nodes, max_depth=5\u001b[0m\n",
      "\u001b[34m[204]#011train-error:0.073467#011validation-error:0.1327\u001b[0m\n",
      "\u001b[34m[02:45:19] src/tree/updater_prune.cc:74: tree pruning end, 1 roots, 14 extra nodes, 4 pruned nodes, max_depth=5\u001b[0m\n",
      "\u001b[34m[205]#011train-error:0.073467#011validation-error:0.1327\u001b[0m\n",
      "\u001b[34m[02:45:20] src/tree/updater_prune.cc:74: tree pruning end, 1 roots, 10 extra nodes, 4 pruned nodes, max_depth=5\u001b[0m\n",
      "\u001b[34m[206]#011train-error:0.073533#011validation-error:0.1323\u001b[0m\n",
      "\u001b[34m[02:45:21] src/tree/updater_prune.cc:74: tree pruning end, 1 roots, 10 extra nodes, 2 pruned nodes, max_depth=5\u001b[0m\n",
      "\u001b[34m[207]#011train-error:0.073267#011validation-error:0.1321\u001b[0m\n",
      "\u001b[34m[02:45:23] src/tree/updater_prune.cc:74: tree pruning end, 1 roots, 14 extra nodes, 12 pruned nodes, max_depth=5\u001b[0m\n",
      "\u001b[34m[208]#011train-error:0.072733#011validation-error:0.1321\u001b[0m\n",
      "\u001b[34m[02:45:24] src/tree/updater_prune.cc:74: tree pruning end, 1 roots, 14 extra nodes, 10 pruned nodes, max_depth=5\u001b[0m\n",
      "\u001b[34m[209]#011train-error:0.0724#011validation-error:0.1319\u001b[0m\n",
      "\u001b[34m[02:45:25] src/tree/updater_prune.cc:74: tree pruning end, 1 roots, 12 extra nodes, 2 pruned nodes, max_depth=5\u001b[0m\n",
      "\u001b[34m[210]#011train-error:0.072133#011validation-error:0.1322\u001b[0m\n",
      "\u001b[34m[02:45:27] src/tree/updater_prune.cc:74: tree pruning end, 1 roots, 10 extra nodes, 6 pruned nodes, max_depth=5\u001b[0m\n",
      "\u001b[34m[211]#011train-error:0.072#011validation-error:0.1317\u001b[0m\n",
      "\u001b[34m[02:45:28] src/tree/updater_prune.cc:74: tree pruning end, 1 roots, 16 extra nodes, 8 pruned nodes, max_depth=5\u001b[0m\n",
      "\u001b[34m[212]#011train-error:0.071933#011validation-error:0.1324\u001b[0m\n",
      "\u001b[34m[02:45:29] src/tree/updater_prune.cc:74: tree pruning end, 1 roots, 14 extra nodes, 10 pruned nodes, max_depth=5\u001b[0m\n",
      "\u001b[34m[213]#011train-error:0.070933#011validation-error:0.1317\u001b[0m\n",
      "\u001b[34m[02:45:31] src/tree/updater_prune.cc:74: tree pruning end, 1 roots, 10 extra nodes, 2 pruned nodes, max_depth=5\u001b[0m\n",
      "\u001b[34m[214]#011train-error:0.070933#011validation-error:0.132\u001b[0m\n",
      "\u001b[34m[02:45:32] src/tree/updater_prune.cc:74: tree pruning end, 1 roots, 22 extra nodes, 2 pruned nodes, max_depth=5\u001b[0m\n",
      "\u001b[34m[215]#011train-error:0.0704#011validation-error:0.1322\u001b[0m\n",
      "\u001b[34m[02:45:33] src/tree/updater_prune.cc:74: tree pruning end, 1 roots, 12 extra nodes, 8 pruned nodes, max_depth=5\u001b[0m\n",
      "\u001b[34m[216]#011train-error:0.0706#011validation-error:0.1317\u001b[0m\n",
      "\u001b[34m[02:45:35] src/tree/updater_prune.cc:74: tree pruning end, 1 roots, 10 extra nodes, 6 pruned nodes, max_depth=5\u001b[0m\n",
      "\u001b[34m[217]#011train-error:0.070533#011validation-error:0.1314\u001b[0m\n",
      "\u001b[34m[02:45:36] src/tree/updater_prune.cc:74: tree pruning end, 1 roots, 14 extra nodes, 10 pruned nodes, max_depth=5\u001b[0m\n",
      "\u001b[34m[218]#011train-error:0.070333#011validation-error:0.1315\u001b[0m\n",
      "\u001b[34m[02:45:37] src/tree/updater_prune.cc:74: tree pruning end, 1 roots, 14 extra nodes, 16 pruned nodes, max_depth=5\u001b[0m\n",
      "\u001b[34m[219]#011train-error:0.0696#011validation-error:0.1326\u001b[0m\n",
      "\u001b[34m[02:45:39] src/tree/updater_prune.cc:74: tree pruning end, 1 roots, 26 extra nodes, 6 pruned nodes, max_depth=5\u001b[0m\n",
      "\u001b[34m[220]#011train-error:0.069333#011validation-error:0.1315\u001b[0m\n",
      "\u001b[34m[02:45:40] src/tree/updater_prune.cc:74: tree pruning end, 1 roots, 12 extra nodes, 2 pruned nodes, max_depth=5\u001b[0m\n",
      "\u001b[34m[221]#011train-error:0.069133#011validation-error:0.131\u001b[0m\n",
      "\u001b[34m[02:45:42] src/tree/updater_prune.cc:74: tree pruning end, 1 roots, 10 extra nodes, 0 pruned nodes, max_depth=5\u001b[0m\n",
      "\u001b[34m[222]#011train-error:0.0694#011validation-error:0.1303\u001b[0m\n",
      "\u001b[34m[02:45:43] src/tree/updater_prune.cc:74: tree pruning end, 1 roots, 16 extra nodes, 6 pruned nodes, max_depth=5\u001b[0m\n",
      "\u001b[34m[223]#011train-error:0.069133#011validation-error:0.131\u001b[0m\n",
      "\u001b[34m[02:45:44] src/tree/updater_prune.cc:74: tree pruning end, 1 roots, 10 extra nodes, 10 pruned nodes, max_depth=5\u001b[0m\n",
      "\u001b[34m[224]#011train-error:0.0688#011validation-error:0.1308\u001b[0m\n",
      "\u001b[34m[02:45:46] src/tree/updater_prune.cc:74: tree pruning end, 1 roots, 22 extra nodes, 10 pruned nodes, max_depth=5\u001b[0m\n",
      "\u001b[34m[225]#011train-error:0.0688#011validation-error:0.1307\u001b[0m\n",
      "\u001b[34m[02:45:47] src/tree/updater_prune.cc:74: tree pruning end, 1 roots, 10 extra nodes, 16 pruned nodes, max_depth=5\u001b[0m\n",
      "\u001b[34m[226]#011train-error:0.068933#011validation-error:0.1304\u001b[0m\n",
      "\u001b[34m[02:45:48] src/tree/updater_prune.cc:74: tree pruning end, 1 roots, 12 extra nodes, 6 pruned nodes, max_depth=5\u001b[0m\n",
      "\u001b[34m[227]#011train-error:0.068867#011validation-error:0.13\u001b[0m\n",
      "\u001b[34m[02:45:50] src/tree/updater_prune.cc:74: tree pruning end, 1 roots, 12 extra nodes, 6 pruned nodes, max_depth=5\u001b[0m\n",
      "\u001b[34m[228]#011train-error:0.0688#011validation-error:0.13\u001b[0m\n",
      "\u001b[34m[02:45:51] src/tree/updater_prune.cc:74: tree pruning end, 1 roots, 14 extra nodes, 16 pruned nodes, max_depth=5\u001b[0m\n",
      "\u001b[34m[229]#011train-error:0.068733#011validation-error:0.13\u001b[0m\n",
      "\u001b[34m[02:45:52] src/tree/updater_prune.cc:74: tree pruning end, 1 roots, 10 extra nodes, 16 pruned nodes, max_depth=5\u001b[0m\n",
      "\u001b[34m[230]#011train-error:0.068667#011validation-error:0.1299\u001b[0m\n",
      "\u001b[34m[02:45:54] src/tree/updater_prune.cc:74: tree pruning end, 1 roots, 12 extra nodes, 4 pruned nodes, max_depth=5\u001b[0m\n",
      "\u001b[34m[231]#011train-error:0.068533#011validation-error:0.1302\u001b[0m\n",
      "\u001b[34m[02:45:55] src/tree/updater_prune.cc:74: tree pruning end, 1 roots, 18 extra nodes, 6 pruned nodes, max_depth=5\u001b[0m\n",
      "\u001b[34m[232]#011train-error:0.068333#011validation-error:0.1308\u001b[0m\n",
      "\u001b[34m[02:45:57] src/tree/updater_prune.cc:74: tree pruning end, 1 roots, 16 extra nodes, 8 pruned nodes, max_depth=5\u001b[0m\n",
      "\u001b[34m[233]#011train-error:0.068067#011validation-error:0.1298\u001b[0m\n",
      "\u001b[34m[02:45:58] src/tree/updater_prune.cc:74: tree pruning end, 1 roots, 16 extra nodes, 10 pruned nodes, max_depth=5\u001b[0m\n",
      "\u001b[34m[234]#011train-error:0.067533#011validation-error:0.1294\u001b[0m\n",
      "\u001b[34m[02:45:59] src/tree/updater_prune.cc:74: tree pruning end, 1 roots, 18 extra nodes, 2 pruned nodes, max_depth=5\u001b[0m\n",
      "\u001b[34m[235]#011train-error:0.0674#011validation-error:0.1293\u001b[0m\n",
      "\u001b[34m[02:46:00] src/tree/updater_prune.cc:74: tree pruning end, 1 roots, 16 extra nodes, 12 pruned nodes, max_depth=5\u001b[0m\n",
      "\u001b[34m[236]#011train-error:0.067067#011validation-error:0.1291\u001b[0m\n",
      "\u001b[34m[02:46:02] src/tree/updater_prune.cc:74: tree pruning end, 1 roots, 10 extra nodes, 10 pruned nodes, max_depth=5\u001b[0m\n",
      "\u001b[34m[237]#011train-error:0.0672#011validation-error:0.1296\u001b[0m\n",
      "\u001b[34m[02:46:04] src/tree/updater_prune.cc:74: tree pruning end, 1 roots, 22 extra nodes, 8 pruned nodes, max_depth=5\u001b[0m\n",
      "\u001b[34m[238]#011train-error:0.066533#011validation-error:0.1302\u001b[0m\n",
      "\u001b[34m[02:46:05] src/tree/updater_prune.cc:74: tree pruning end, 1 roots, 12 extra nodes, 6 pruned nodes, max_depth=5\u001b[0m\n",
      "\u001b[34m[239]#011train-error:0.066067#011validation-error:0.1296\u001b[0m\n",
      "\u001b[34m[02:46:07] src/tree/updater_prune.cc:74: tree pruning end, 1 roots, 18 extra nodes, 6 pruned nodes, max_depth=5\u001b[0m\n",
      "\n",
      "2021-04-17 02:46:16 Uploading - Uploading generated training model\u001b[34m[240]#011train-error:0.065867#011validation-error:0.1299\u001b[0m\n",
      "\u001b[34m[02:46:08] src/tree/updater_prune.cc:74: tree pruning end, 1 roots, 10 extra nodes, 4 pruned nodes, max_depth=5\u001b[0m\n",
      "\u001b[34m[241]#011train-error:0.065733#011validation-error:0.1298\u001b[0m\n",
      "\u001b[34m[02:46:09] src/tree/updater_prune.cc:74: tree pruning end, 1 roots, 14 extra nodes, 2 pruned nodes, max_depth=5\u001b[0m\n",
      "\u001b[34m[242]#011train-error:0.0652#011validation-error:0.1297\u001b[0m\n",
      "\u001b[34m[02:46:11] src/tree/updater_prune.cc:74: tree pruning end, 1 roots, 10 extra nodes, 2 pruned nodes, max_depth=5\u001b[0m\n",
      "\u001b[34m[243]#011train-error:0.0652#011validation-error:0.1297\u001b[0m\n",
      "\u001b[34m[02:46:12] src/tree/updater_prune.cc:74: tree pruning end, 1 roots, 12 extra nodes, 2 pruned nodes, max_depth=5\u001b[0m\n",
      "\u001b[34m[244]#011train-error:0.065533#011validation-error:0.1295\u001b[0m\n",
      "\u001b[34m[02:46:14] src/tree/updater_prune.cc:74: tree pruning end, 1 roots, 10 extra nodes, 2 pruned nodes, max_depth=5\u001b[0m\n",
      "\u001b[34m[245]#011train-error:0.065533#011validation-error:0.1292\u001b[0m\n",
      "\u001b[34m[02:46:15] src/tree/updater_prune.cc:74: tree pruning end, 1 roots, 10 extra nodes, 2 pruned nodes, max_depth=5\u001b[0m\n",
      "\u001b[34m[246]#011train-error:0.065467#011validation-error:0.1295\u001b[0m\n",
      "\u001b[34mStopping. Best iteration:\u001b[0m\n",
      "\u001b[34m[236]#011train-error:0.067067#011validation-error:0.1291\n",
      "\u001b[0m\n",
      "\n",
      "2021-04-17 02:46:23 Completed - Training job completed\n",
      "Training seconds: 390\n",
      "Billable seconds: 390\n"
     ]
    }
   ],
   "source": [
    "xgb.fit({'train': s3_input_train, 'validation': s3_input_validation})"
   ]
  },
  {
   "cell_type": "markdown",
   "metadata": {},
   "source": [
    "## Step 5: Testing the model\n",
    "\n",
    "Now that we've fit our XGBoost model, it's time to see how well it performs. To do this we will use SageMakers Batch Transform functionality. Batch Transform is a convenient way to perform inference on a large dataset in a way that is not realtime. That is, we don't necessarily need to use our model's results immediately and instead we can perform inference on a large number of samples. An example of this in industry might be performing an end of month report. This method of inference can also be useful to us as it means that we can perform inference on our entire test set. \n",
    "\n",
    "To perform a Batch Transformation we need to first create a transformer objects from our trained estimator object."
   ]
  },
  {
   "cell_type": "code",
   "execution_count": 25,
   "metadata": {},
   "outputs": [
    {
     "name": "stderr",
     "output_type": "stream",
     "text": [
      "Parameter image will be renamed to image_uri in SageMaker Python SDK v2.\n"
     ]
    }
   ],
   "source": [
    "##### create a transformer objects \n",
    "xgb_transformer = xgb.transformer(instance_count = 1, instance_type = 'ml.m4.xlarge')"
   ]
  },
  {
   "cell_type": "markdown",
   "metadata": {},
   "source": [
    "Next we actually perform the transform job. When doing so we need to make sure to specify the type of data we are sending so that it is serialized correctly in the background. In our case we are providing our model with csv data so we specify `text/csv`. Also, if the test data that we have provided is too large to process all at once then we need to specify how the data file should be split up. Since each line is a single entry in our data set we tell SageMaker that it can split the input on each line."
   ]
  },
  {
   "cell_type": "code",
   "execution_count": 26,
   "metadata": {},
   "outputs": [],
   "source": [
    "##### creating a transform job on our test header to make sure that our model is working as we expect it to\n",
    "xgb_transformer.transform(test_location, content_type='text/csv', split_type='Line')"
   ]
  },
  {
   "cell_type": "markdown",
   "metadata": {},
   "source": [
    "Currently the transform job is running but it is doing so in the background. Since we wish to wait until the transform job is done and we would like a bit of feedback we can run the `wait()` method."
   ]
  },
  {
   "cell_type": "code",
   "execution_count": 27,
   "metadata": {},
   "outputs": [
    {
     "name": "stdout",
     "output_type": "stream",
     "text": [
      ".....................................\u001b[34mArguments: serve\u001b[0m\n",
      "\u001b[34m[2021-04-17 02:53:01 +0000] [1] [INFO] Starting gunicorn 19.9.0\u001b[0m\n",
      "\u001b[34m[2021-04-17 02:53:01 +0000] [1] [INFO] Listening at: http://0.0.0.0:8080 (1)\u001b[0m\n",
      "\u001b[34m[2021-04-17 02:53:01 +0000] [1] [INFO] Using worker: gevent\u001b[0m\n",
      "\u001b[34m[2021-04-17 02:53:01 +0000] [20] [INFO] Booting worker with pid: 20\u001b[0m\n",
      "\u001b[34m[2021-04-17 02:53:01 +0000] [21] [INFO] Booting worker with pid: 21\u001b[0m\n",
      "\u001b[34m/opt/amazon/lib/python3.7/site-packages/gunicorn/workers/ggevent.py:65: MonkeyPatchWarning: Monkey-patching ssl after ssl has already been imported may lead to errors, including RecursionError on Python 3.6. It may also silently lead to incorrect behaviour on Python 3.7. Please monkey-patch earlier. See https://github.com/gevent/gevent/issues/1016. Modules that had direct imports (NOT patched): ['urllib3.util (/opt/amazon/lib/python3.7/site-packages/urllib3/util/__init__.py)', 'urllib3.util.ssl_ (/opt/amazon/lib/python3.7/site-packages/urllib3/util/ssl_.py)']. \n",
      "  monkey.patch_all(subprocess=True)\u001b[0m\n",
      "\u001b[34m[2021-04-17:02:53:01:INFO] Model loaded successfully for worker : 20\u001b[0m\n",
      "\u001b[34m/opt/amazon/lib/python3.7/site-packages/gunicorn/workers/ggevent.py:65: MonkeyPatchWarning: Monkey-patching ssl after ssl has already been imported may lead to errors, including RecursionError on Python 3.6. It may also silently lead to incorrect behaviour on Python 3.7. Please monkey-patch earlier. See https://github.com/gevent/gevent/issues/1016. Modules that had direct imports (NOT patched): ['urllib3.util (/opt/amazon/lib/python3.7/site-packages/urllib3/util/__init__.py)', 'urllib3.util.ssl_ (/opt/amazon/lib/python3.7/site-packages/urllib3/util/ssl_.py)']. \n",
      "  monkey.patch_all(subprocess=True)\u001b[0m\n",
      "\u001b[34m[2021-04-17:02:53:01:INFO] Model loaded successfully for worker : 21\u001b[0m\n",
      "\u001b[34m[2021-04-17 02:53:01 +0000] [22] [INFO] Booting worker with pid: 22\u001b[0m\n",
      "\u001b[34m/opt/amazon/lib/python3.7/site-packages/gunicorn/workers/ggevent.py:65: MonkeyPatchWarning: Monkey-patching ssl after ssl has already been imported may lead to errors, including RecursionError on Python 3.6. It may also silently lead to incorrect behaviour on Python 3.7. Please monkey-patch earlier. See https://github.com/gevent/gevent/issues/1016. Modules that had direct imports (NOT patched): ['urllib3.util (/opt/amazon/lib/python3.7/site-packages/urllib3/util/__init__.py)', 'urllib3.util.ssl_ (/opt/amazon/lib/python3.7/site-packages/urllib3/util/ssl_.py)']. \n",
      "  monkey.patch_all(subprocess=True)\u001b[0m\n",
      "\u001b[34m[2021-04-17:02:53:01:INFO] Model loaded successfully for worker : 22\u001b[0m\n",
      "\u001b[34m[2021-04-17 02:53:01 +0000] [23] [INFO] Booting worker with pid: 23\u001b[0m\n",
      "\u001b[34m/opt/amazon/lib/python3.7/site-packages/gunicorn/workers/ggevent.py:65: MonkeyPatchWarning: Monkey-patching ssl after ssl has already been imported may lead to errors, including RecursionError on Python 3.6. It may also silently lead to incorrect behaviour on Python 3.7. Please monkey-patch earlier. See https://github.com/gevent/gevent/issues/1016. Modules that had direct imports (NOT patched): ['urllib3.util (/opt/amazon/lib/python3.7/site-packages/urllib3/util/__init__.py)', 'urllib3.util.ssl_ (/opt/amazon/lib/python3.7/site-packages/urllib3/util/ssl_.py)']. \n",
      "  monkey.patch_all(subprocess=True)\u001b[0m\n",
      "\u001b[34m[2021-04-17:02:53:01:INFO] Model loaded successfully for worker : 23\u001b[0m\n",
      "\u001b[34m[2021-04-17:02:53:07:INFO] Sniff delimiter as ','\u001b[0m\n",
      "\u001b[34m[2021-04-17:02:53:07:INFO] Determined delimiter of CSV input is ','\u001b[0m\n",
      "\u001b[34m[2021-04-17:02:53:08:INFO] Sniff delimiter as ','\u001b[0m\n",
      "\u001b[34m[2021-04-17:02:53:08:INFO] Determined delimiter of CSV input is ','\u001b[0m\n",
      "\u001b[35m[2021-04-17:02:53:08:INFO] Sniff delimiter as ','\u001b[0m\n",
      "\u001b[35m[2021-04-17:02:53:08:INFO] Determined delimiter of CSV input is ','\u001b[0m\n",
      "\u001b[34m[2021-04-17:02:53:08:INFO] Sniff delimiter as ','\u001b[0m\n",
      "\u001b[34m[2021-04-17:02:53:08:INFO] Determined delimiter of CSV input is ','\u001b[0m\n",
      "\u001b[34m[2021-04-17:02:53:08:INFO] Sniff delimiter as ','\u001b[0m\n",
      "\u001b[34m[2021-04-17:02:53:08:INFO] Determined delimiter of CSV input is ','\u001b[0m\n",
      "\u001b[35m[2021-04-17:02:53:08:INFO] Sniff delimiter as ','\u001b[0m\n",
      "\u001b[35m[2021-04-17:02:53:08:INFO] Determined delimiter of CSV input is ','\u001b[0m\n",
      "\u001b[35m[2021-04-17:02:53:08:INFO] Sniff delimiter as ','\u001b[0m\n",
      "\u001b[35m[2021-04-17:02:53:08:INFO] Determined delimiter of CSV input is ','\u001b[0m\n",
      "\u001b[32m2021-04-17T02:53:05.341:[sagemaker logs]: MaxConcurrentTransforms=4, MaxPayloadInMB=6, BatchStrategy=MULTI_RECORD\u001b[0m\n",
      "\u001b[34m[2021-04-17:02:53:11:INFO] Sniff delimiter as ','\u001b[0m\n",
      "\u001b[34m[2021-04-17:02:53:11:INFO] Determined delimiter of CSV input is ','\u001b[0m\n",
      "\u001b[34m[2021-04-17:02:53:12:INFO] Sniff delimiter as ','\u001b[0m\n",
      "\u001b[34m[2021-04-17:02:53:12:INFO] Determined delimiter of CSV input is ','\u001b[0m\n",
      "\u001b[35m[2021-04-17:02:53:11:INFO] Sniff delimiter as ','\u001b[0m\n",
      "\u001b[35m[2021-04-17:02:53:11:INFO] Determined delimiter of CSV input is ','\u001b[0m\n",
      "\u001b[35m[2021-04-17:02:53:12:INFO] Sniff delimiter as ','\u001b[0m\n",
      "\u001b[35m[2021-04-17:02:53:12:INFO] Determined delimiter of CSV input is ','\u001b[0m\n",
      "\u001b[34m[2021-04-17:02:53:12:INFO] Sniff delimiter as ','\u001b[0m\n",
      "\u001b[34m[2021-04-17:02:53:12:INFO] Determined delimiter of CSV input is ','\u001b[0m\n",
      "\u001b[35m[2021-04-17:02:53:12:INFO] Sniff delimiter as ','\u001b[0m\n",
      "\u001b[35m[2021-04-17:02:53:12:INFO] Determined delimiter of CSV input is ','\u001b[0m\n",
      "\u001b[34m[2021-04-17:02:53:12:INFO] Sniff delimiter as ','\u001b[0m\n",
      "\u001b[34m[2021-04-17:02:53:12:INFO] Determined delimiter of CSV input is ','\u001b[0m\n",
      "\u001b[35m[2021-04-17:02:53:12:INFO] Sniff delimiter as ','\u001b[0m\n",
      "\u001b[35m[2021-04-17:02:53:12:INFO] Determined delimiter of CSV input is ','\u001b[0m\n",
      "\u001b[34m[2021-04-17:02:53:15:INFO] Sniff delimiter as ','\u001b[0m\n",
      "\u001b[34m[2021-04-17:02:53:15:INFO] Determined delimiter of CSV input is ','\u001b[0m\n",
      "\u001b[34m[2021-04-17:02:53:15:INFO] Sniff delimiter as ','\u001b[0m\n",
      "\u001b[34m[2021-04-17:02:53:15:INFO] Determined delimiter of CSV input is ','\u001b[0m\n",
      "\u001b[35m[2021-04-17:02:53:15:INFO] Sniff delimiter as ','\u001b[0m\n",
      "\u001b[35m[2021-04-17:02:53:15:INFO] Determined delimiter of CSV input is ','\u001b[0m\n",
      "\u001b[35m[2021-04-17:02:53:15:INFO] Sniff delimiter as ','\u001b[0m\n",
      "\u001b[35m[2021-04-17:02:53:15:INFO] Determined delimiter of CSV input is ','\u001b[0m\n",
      "\u001b[34m[2021-04-17:02:53:16:INFO] Sniff delimiter as ','\u001b[0m\n",
      "\u001b[34m[2021-04-17:02:53:16:INFO] Determined delimiter of CSV input is ','\u001b[0m\n",
      "\u001b[34m[2021-04-17:02:53:16:INFO] Sniff delimiter as ','\u001b[0m\n",
      "\u001b[34m[2021-04-17:02:53:16:INFO] Determined delimiter of CSV input is ','\u001b[0m\n",
      "\u001b[35m[2021-04-17:02:53:16:INFO] Sniff delimiter as ','\u001b[0m\n",
      "\u001b[35m[2021-04-17:02:53:16:INFO] Determined delimiter of CSV input is ','\u001b[0m\n",
      "\u001b[35m[2021-04-17:02:53:16:INFO] Sniff delimiter as ','\u001b[0m\n",
      "\u001b[35m[2021-04-17:02:53:16:INFO] Determined delimiter of CSV input is ','\u001b[0m\n",
      "\u001b[34m[2021-04-17:02:53:19:INFO] Sniff delimiter as ','\u001b[0m\n",
      "\u001b[34m[2021-04-17:02:53:19:INFO] Determined delimiter of CSV input is ','\u001b[0m\n",
      "\u001b[34m[2021-04-17:02:53:19:INFO] Sniff delimiter as ','\u001b[0m\n",
      "\u001b[35m[2021-04-17:02:53:19:INFO] Sniff delimiter as ','\u001b[0m\n",
      "\u001b[35m[2021-04-17:02:53:19:INFO] Determined delimiter of CSV input is ','\u001b[0m\n",
      "\u001b[35m[2021-04-17:02:53:19:INFO] Sniff delimiter as ','\u001b[0m\n",
      "\u001b[34m[2021-04-17:02:53:19:INFO] Determined delimiter of CSV input is ','\u001b[0m\n",
      "\u001b[35m[2021-04-17:02:53:19:INFO] Determined delimiter of CSV input is ','\u001b[0m\n",
      "\u001b[34m[2021-04-17:02:53:20:INFO] Determined delimiter of CSV input is ','\u001b[0m\n",
      "\u001b[34m[2021-04-17:02:53:20:INFO] Sniff delimiter as ','\u001b[0m\n",
      "\u001b[34m[2021-04-17:02:53:20:INFO] Determined delimiter of CSV input is ','\u001b[0m\n",
      "\u001b[35m[2021-04-17:02:53:20:INFO] Determined delimiter of CSV input is ','\u001b[0m\n",
      "\u001b[35m[2021-04-17:02:53:20:INFO] Sniff delimiter as ','\u001b[0m\n",
      "\u001b[35m[2021-04-17:02:53:20:INFO] Determined delimiter of CSV input is ','\u001b[0m\n",
      "\u001b[34m[2021-04-17:02:53:23:INFO] Sniff delimiter as ','\u001b[0m\n",
      "\u001b[34m[2021-04-17:02:53:23:INFO] Determined delimiter of CSV input is ','\u001b[0m\n",
      "\u001b[34m[2021-04-17:02:53:23:INFO] Sniff delimiter as ','\u001b[0m\n",
      "\u001b[34m[2021-04-17:02:53:23:INFO] Determined delimiter of CSV input is ','\u001b[0m\n",
      "\u001b[35m[2021-04-17:02:53:23:INFO] Sniff delimiter as ','\u001b[0m\n",
      "\u001b[35m[2021-04-17:02:53:23:INFO] Determined delimiter of CSV input is ','\u001b[0m\n",
      "\u001b[35m[2021-04-17:02:53:23:INFO] Sniff delimiter as ','\u001b[0m\n",
      "\u001b[35m[2021-04-17:02:53:23:INFO] Determined delimiter of CSV input is ','\u001b[0m\n",
      "\u001b[34m[2021-04-17:02:53:23:INFO] Sniff delimiter as ','\u001b[0m\n",
      "\u001b[34m[2021-04-17:02:53:23:INFO] Determined delimiter of CSV input is ','\u001b[0m\n",
      "\u001b[35m[2021-04-17:02:53:23:INFO] Sniff delimiter as ','\u001b[0m\n",
      "\u001b[35m[2021-04-17:02:53:23:INFO] Determined delimiter of CSV input is ','\u001b[0m\n",
      "\u001b[34m[2021-04-17:02:53:24:INFO] Sniff delimiter as ','\u001b[0m\n",
      "\u001b[34m[2021-04-17:02:53:24:INFO] Determined delimiter of CSV input is ','\u001b[0m\n",
      "\u001b[35m[2021-04-17:02:53:24:INFO] Sniff delimiter as ','\u001b[0m\n",
      "\u001b[35m[2021-04-17:02:53:24:INFO] Determined delimiter of CSV input is ','\u001b[0m\n",
      "\u001b[34m[2021-04-17:02:53:27:INFO] Sniff delimiter as ','\u001b[0m\n",
      "\u001b[34m[2021-04-17:02:53:27:INFO] Determined delimiter of CSV input is ','\u001b[0m\n",
      "\u001b[35m[2021-04-17:02:53:27:INFO] Sniff delimiter as ','\u001b[0m\n",
      "\u001b[35m[2021-04-17:02:53:27:INFO] Determined delimiter of CSV input is ','\u001b[0m\n",
      "\u001b[34m[2021-04-17:02:53:27:INFO] Sniff delimiter as ','\u001b[0m\n",
      "\u001b[34m[2021-04-17:02:53:27:INFO] Determined delimiter of CSV input is ','\u001b[0m\n",
      "\u001b[34m[2021-04-17:02:53:27:INFO] Sniff delimiter as ','\u001b[0m\n",
      "\u001b[34m[2021-04-17:02:53:27:INFO] Determined delimiter of CSV input is ','\u001b[0m\n",
      "\u001b[35m[2021-04-17:02:53:27:INFO] Sniff delimiter as ','\u001b[0m\n",
      "\u001b[35m[2021-04-17:02:53:27:INFO] Determined delimiter of CSV input is ','\u001b[0m\n",
      "\u001b[35m[2021-04-17:02:53:27:INFO] Sniff delimiter as ','\u001b[0m\n",
      "\u001b[35m[2021-04-17:02:53:27:INFO] Determined delimiter of CSV input is ','\u001b[0m\n",
      "\u001b[34m[2021-04-17:02:53:28:INFO] Sniff delimiter as ','\u001b[0m\n",
      "\u001b[34m[2021-04-17:02:53:28:INFO] Determined delimiter of CSV input is ','\u001b[0m\n",
      "\u001b[35m[2021-04-17:02:53:28:INFO] Sniff delimiter as ','\u001b[0m\n",
      "\u001b[35m[2021-04-17:02:53:28:INFO] Determined delimiter of CSV input is ','\u001b[0m\n",
      "\u001b[34m[2021-04-17:02:53:30:INFO] Sniff delimiter as ','\u001b[0m\n",
      "\u001b[34m[2021-04-17:02:53:30:INFO] Determined delimiter of CSV input is ','\u001b[0m\n",
      "\u001b[35m[2021-04-17:02:53:30:INFO] Sniff delimiter as ','\u001b[0m\n",
      "\u001b[35m[2021-04-17:02:53:30:INFO] Determined delimiter of CSV input is ','\u001b[0m\n",
      "\u001b[34m[2021-04-17:02:53:31:INFO] Sniff delimiter as ','\u001b[0m\n",
      "\u001b[34m[2021-04-17:02:53:31:INFO] Determined delimiter of CSV input is ','\u001b[0m\n",
      "\u001b[34m[2021-04-17:02:53:31:INFO] Sniff delimiter as ','\u001b[0m\n",
      "\u001b[35m[2021-04-17:02:53:31:INFO] Sniff delimiter as ','\u001b[0m\n",
      "\u001b[35m[2021-04-17:02:53:31:INFO] Determined delimiter of CSV input is ','\u001b[0m\n",
      "\u001b[35m[2021-04-17:02:53:31:INFO] Sniff delimiter as ','\u001b[0m\n",
      "\u001b[34m[2021-04-17:02:53:31:INFO] Determined delimiter of CSV input is ','\u001b[0m\n",
      "\u001b[35m[2021-04-17:02:53:31:INFO] Determined delimiter of CSV input is ','\u001b[0m\n",
      "\u001b[34m[2021-04-17:02:53:34:INFO] Sniff delimiter as ','\u001b[0m\n",
      "\u001b[34m[2021-04-17:02:53:34:INFO] Determined delimiter of CSV input is ','\u001b[0m\n",
      "\u001b[35m[2021-04-17:02:53:34:INFO] Sniff delimiter as ','\u001b[0m\n",
      "\u001b[35m[2021-04-17:02:53:34:INFO] Determined delimiter of CSV input is ','\u001b[0m\n",
      "\u001b[34m[2021-04-17:02:53:35:INFO] Sniff delimiter as ','\u001b[0m\n",
      "\u001b[34m[2021-04-17:02:53:35:INFO] Determined delimiter of CSV input is ','\u001b[0m\n",
      "\u001b[34m[2021-04-17:02:53:35:INFO] Sniff delimiter as ','\u001b[0m\n",
      "\u001b[34m[2021-04-17:02:53:35:INFO] Determined delimiter of CSV input is ','\u001b[0m\n",
      "\u001b[34m[2021-04-17:02:53:35:INFO] Sniff delimiter as ','\u001b[0m\n",
      "\u001b[34m[2021-04-17:02:53:35:INFO] Determined delimiter of CSV input is ','\u001b[0m\n",
      "\u001b[35m[2021-04-17:02:53:35:INFO] Sniff delimiter as ','\u001b[0m\n",
      "\u001b[35m[2021-04-17:02:53:35:INFO] Determined delimiter of CSV input is ','\u001b[0m\n",
      "\u001b[35m[2021-04-17:02:53:35:INFO] Sniff delimiter as ','\u001b[0m\n",
      "\u001b[35m[2021-04-17:02:53:35:INFO] Determined delimiter of CSV input is ','\u001b[0m\n",
      "\u001b[35m[2021-04-17:02:53:35:INFO] Sniff delimiter as ','\u001b[0m\n",
      "\u001b[35m[2021-04-17:02:53:35:INFO] Determined delimiter of CSV input is ','\u001b[0m\n",
      "\u001b[34m[2021-04-17:02:53:39:INFO] Sniff delimiter as ','\u001b[0m\n",
      "\u001b[34m[2021-04-17:02:53:39:INFO] Determined delimiter of CSV input is ','\u001b[0m\n",
      "\u001b[35m[2021-04-17:02:53:39:INFO] Sniff delimiter as ','\u001b[0m\n",
      "\u001b[35m[2021-04-17:02:53:39:INFO] Determined delimiter of CSV input is ','\u001b[0m\n",
      "\u001b[34m[2021-04-17:02:53:42:INFO] Sniff delimiter as ','\u001b[0m\n",
      "\u001b[34m[2021-04-17:02:53:42:INFO] Determined delimiter of CSV input is ','\u001b[0m\n",
      "\u001b[35m[2021-04-17:02:53:42:INFO] Sniff delimiter as ','\u001b[0m\n",
      "\u001b[35m[2021-04-17:02:53:42:INFO] Determined delimiter of CSV input is ','\u001b[0m\n",
      "\u001b[34m[2021-04-17:02:53:43:INFO] Sniff delimiter as ','\u001b[0m\n",
      "\u001b[34m[2021-04-17:02:53:43:INFO] Determined delimiter of CSV input is ','\u001b[0m\n",
      "\u001b[34m[2021-04-17:02:53:43:INFO] Sniff delimiter as ','\u001b[0m\n",
      "\u001b[34m[2021-04-17:02:53:43:INFO] Determined delimiter of CSV input is ','\u001b[0m\n",
      "\u001b[34m[2021-04-17:02:53:43:INFO] Sniff delimiter as ','\u001b[0m\n",
      "\u001b[34m[2021-04-17:02:53:43:INFO] Determined delimiter of CSV input is ','\u001b[0m\n",
      "\u001b[35m[2021-04-17:02:53:43:INFO] Sniff delimiter as ','\u001b[0m\n",
      "\u001b[35m[2021-04-17:02:53:43:INFO] Determined delimiter of CSV input is ','\u001b[0m\n",
      "\u001b[35m[2021-04-17:02:53:43:INFO] Sniff delimiter as ','\u001b[0m\n",
      "\u001b[35m[2021-04-17:02:53:43:INFO] Determined delimiter of CSV input is ','\u001b[0m\n",
      "\u001b[35m[2021-04-17:02:53:43:INFO] Sniff delimiter as ','\u001b[0m\n",
      "\u001b[35m[2021-04-17:02:53:43:INFO] Determined delimiter of CSV input is ','\u001b[0m\n",
      "\n"
     ]
    }
   ],
   "source": [
    "xgb_transformer.wait()"
   ]
  },
  {
   "cell_type": "markdown",
   "metadata": {},
   "source": [
    "Now the transform job has executed and the result, the estimated sentiment of each review, has been saved on S3. Since we would rather work on this file locally we can perform a bit of notebook magic to copy the file to the `data_dir`."
   ]
  },
  {
   "cell_type": "code",
   "execution_count": 28,
   "metadata": {},
   "outputs": [
    {
     "name": "stdout",
     "output_type": "stream",
     "text": [
      "download: s3://sagemaker-us-east-2-681803400601/xgboost-2021-04-17-02-47-00-647/test.csv.out to ../data/sentiment_web_app/test.csv.out\r\n"
     ]
    }
   ],
   "source": [
    "##### once the transform job is done, we can copy the resulting output from S3 to our local notebook instance\n",
    "!aws s3 cp --recursive $xgb_transformer.output_path $data_dir"
   ]
  },
  {
   "cell_type": "markdown",
   "metadata": {},
   "source": [
    "The last step is now to read in the output from our model, convert the output to something a little more usable, in this case we want the sentiment to be either `1` (positive) or `0` (negative), and then compare to the ground truth labels."
   ]
  },
  {
   "cell_type": "code",
   "execution_count": 29,
   "metadata": {},
   "outputs": [],
   "source": [
    "##### and then check how well the predictions did\n",
    "predictions = pd.read_csv(os.path.join(data_dir, 'test.csv.out'), header=None)\n",
    "predictions = [round(num) for num in predictions.squeeze().values]"
   ]
  },
  {
   "cell_type": "code",
   "execution_count": 30,
   "metadata": {},
   "outputs": [
    {
     "data": {
      "text/plain": [
       "0.86508"
      ]
     },
     "execution_count": 30,
     "metadata": {},
     "output_type": "execute_result"
    }
   ],
   "source": [
    "from sklearn.metrics import accuracy_score\n",
    "accuracy_score(test_y, predictions)"
   ]
  },
  {
   "cell_type": "markdown",
   "metadata": {},
   "source": [
    "## Step 6: Deploying the model\n",
    "\n",
    "Once we construct and fit our model, SageMaker stores the resulting model artifacts and we can use those to deploy an endpoint (inference code). To see this, look in the SageMaker console and you should see that a model has been created along with a link to the S3 location where the model artifacts have been stored.\n",
    "\n",
    "Deploying an endpoint is a lot like training the model with a few important differences. The first is that a deployed model doesn't change the model artifacts, so as you send it various testing instances the model won't change. Another difference is that since we aren't performing a fixed computation, as we were in the training step or while performing a batch transform, the compute instance that gets started stays running until we tell it to stop. This is important to note as if we forget and leave it running we will be charged the entire time.\n",
    "\n",
    "In other words **If you are no longer using a deployed endpoint, shut it down!**"
   ]
  },
  {
   "cell_type": "code",
   "execution_count": 31,
   "metadata": {},
   "outputs": [
    {
     "name": "stderr",
     "output_type": "stream",
     "text": [
      "Parameter image will be renamed to image_uri in SageMaker Python SDK v2.\n",
      "Using already existing model: xgboost-2021-04-17-02-37-44-000\n"
     ]
    },
    {
     "name": "stdout",
     "output_type": "stream",
     "text": [
      "-------------!"
     ]
    }
   ],
   "source": [
    "##### using high level approach, we just call the deploy method, and wait for SageMaker to setup our virtual machine wich \n",
    "##### is the endpoint (we're using to deploy our model) and get it running\n",
    "xgb_predictor = xgb.deploy(initial_instance_count = 1, instance_type = 'ml.m4.xlarge')\n",
    "############################################################################################\n",
    "##### We should get the same results that we got when we created a batch transform job #####\n",
    "############################################################################################"
   ]
  },
  {
   "cell_type": "markdown",
   "metadata": {},
   "source": [
    "### Testing the model (again)\n",
    "\n",
    "Now that we have deployed our endpoint, we can send the testing data to it and get back the inference results. We already did this earlier using the batch transform functionality of SageMaker, however, we will test our model again using the newly deployed endpoint so that we can make sure that it works properly and to get a bit of a feel for how the endpoint works.\n",
    "\n",
    "When using the created endpoint it is important to know that we are limited in the amount of information we can send in each call so we need to break the testing data up into chunks and then send each chunk. Also, we need to serialize our data before we send it to the endpoint to ensure that our data is transmitted properly. Fortunately, SageMaker can do the serialization part for us provided we tell it the format of our data."
   ]
  },
  {
   "cell_type": "code",
   "execution_count": 32,
   "metadata": {},
   "outputs": [],
   "source": [
    "##### Because we're using high-level approach, we can use SageMaker's built-in serializer methods #####\n",
    "##### we just need to make sure that we tell SageMaker what format that our model expects to receive data in ##### \n",
    "\n",
    "from sagemaker.predictor import csv_serializer\n",
    "\n",
    "# We need to tell the endpoint what format the data we are sending is in so that SageMaker can perform the serialization.\n",
    "xgb_predictor.content_type = 'text/csv'\n",
    "xgb_predictor.serializer = csv_serializer"
   ]
  },
  {
   "cell_type": "code",
   "execution_count": 33,
   "metadata": {},
   "outputs": [],
   "source": [
    "# We split the data into chunks and send each chunk seperately, accumulating the results. 需要拆分数据\n",
    "\n",
    "def predict(data, rows=512):\n",
    "    split_array = np.array_split(data, int(data.shape[0] / float(rows) + 1))\n",
    "    predictions = ''\n",
    "    for array in split_array:\n",
    "        predictions = ','.join([predictions, xgb_predictor.predict(array).decode('utf-8')])\n",
    "    \n",
    "    return np.fromstring(predictions[1:], sep=',')  ##### and then we collect all the output"
   ]
  },
  {
   "cell_type": "code",
   "execution_count": 34,
   "metadata": {},
   "outputs": [],
   "source": [
    "##### then we sent our data off to our end point to see what our model thinks\n",
    "test_X = pd.read_csv(os.path.join(data_dir, 'test.csv'), header=None).values\n",
    "\n",
    "predictions = predict(test_X)\n",
    "predictions = [round(num) for num in predictions]"
   ]
  },
  {
   "cell_type": "markdown",
   "metadata": {},
   "source": [
    "Lastly, we check to see what the accuracy of our model is."
   ]
  },
  {
   "cell_type": "code",
   "execution_count": 35,
   "metadata": {},
   "outputs": [
    {
     "data": {
      "text/plain": [
       "0.86508"
      ]
     },
     "execution_count": 35,
     "metadata": {},
     "output_type": "execute_result"
    }
   ],
   "source": [
    "from sklearn.metrics import accuracy_score\n",
    "accuracy_score(test_y, predictions)\n",
    "\n",
    "#### finally we got the same result as we create the batch transform job"
   ]
  },
  {
   "cell_type": "markdown",
   "metadata": {},
   "source": [
    "And the results here should agree with the model testing that we did earlier using the batch transform job.\n",
    "\n",
    "### Cleaning up\n",
    "\n",
    "Now that we've determined that deploying our model works as expected, we are going to shut it down. Remember that the longer the endpoint is left running, the greater the cost and since we have a bit more work to do before we are able to use our endpoint with our simple web app, we should shut everything down."
   ]
  },
  {
   "cell_type": "code",
   "execution_count": 36,
   "metadata": {},
   "outputs": [],
   "source": [
    "xgb_predictor.delete_endpoint()"
   ]
  },
  {
   "cell_type": "markdown",
   "metadata": {},
   "source": [
    "## Step 7: Putting our model to work\n",
    "\n",
    "As we've mentioned a few times now, our goal is to have our model deployed and then access it using a very simple web app. The intent is for this web app to take some user submitted data (a review), send it off to our endpoint (the model) and then display the result.\n",
    "\n",
    "However, there is a small catch. Currently the only way we can access the endpoint to send it data is using the SageMaker API. We can, if we wish, expose the actual URL that our model's endpoint is receiving data from, however, if we just send it data ourselves we will not get anything in return. This is because the endpoint created by SageMaker requires the entity accessing it have the correct permissions. So, we would need to somehow authenticate our web app with AWS.\n",
    "\n",
    "Having a website that authenticates to AWS seems a bit beyond the scope of this lesson so we will opt for an alternative approach. Namely, we will create a new endpoint which does not require authentication and which acts as a proxy for the SageMaker endpoint.\n",
    "\n",
    "As an additional constraint, we will try to avoid doing any data processing in the web app itself. Remember that when we constructed and tested our model we started with a movie review, then we simplified it by removing any html formatting and punctuation, then we constructed a bag of words embedding and the resulting vector is what we sent to our model. All of this needs to be done to our user input as well.\n",
    "\n",
    "Fortunately we can do all of this data processing in the backend, using Amazon's Lambda service.\n",
    "\n",
    "<img src=\"Web App Diagram.svg\">\n",
    "\n",
    "The diagram above gives an overview of how the various services will work together. On the far right is the model which we trained above and which will be deployed using SageMaker. On the far left is our web app that collects a user's movie review, sends it off and expects a positive or negative sentiment in return.\n",
    "\n",
    "In the middle is where some of the magic happens. We will construct a Lambda function, which you can think of as a straightforward Python function that can be executed whenever a specified event occurs. This Python function will do the data processing we need to perform on a user submitted review. In addition, we will give this function permission to send and recieve data from a SageMaker endpoint.\n",
    "\n",
    "Lastly, the method we will use to execute the Lambda function is a new endpoint that we will create using API Gateway. This endpoint will be a url that listens for data to be sent to it. Once it gets some data it will pass that data on to the Lambda function and then return whatever the Lambda function returns. Essentially it will act as an interface that lets our web app communicate with the Lambda function.\n",
    "\n",
    "### Processing a single review\n",
    "\n",
    "For now, suppose we are given a movie review by our user in the form of a string, like so:"
   ]
  },
  {
   "cell_type": "code",
   "execution_count": 37,
   "metadata": {},
   "outputs": [],
   "source": [
    "test_review = \"Nothing but a disgusting materialistic pageant of glistening abed remote control greed zombies, totally devoid of any heart or heat. A romantic comedy that has zero romantic chemestry and zero laughs!\""
   ]
  },
  {
   "cell_type": "markdown",
   "metadata": {},
   "source": [
    "How do we go from this string to the bag of words feature vector that is expected by our model?\n",
    "\n",
    "If we recall at the beginning of this notebook, the first step is to remove any unnecessary characters using the `review_to_words` method. Remember that we intentionally did this in a very simplistic way. This is because we are going to have to copy this method to our (eventual) Lambda function (we will go into more detail later) and this means it needs to be rather simplistic."
   ]
  },
  {
   "cell_type": "code",
   "execution_count": 38,
   "metadata": {},
   "outputs": [
    {
     "name": "stdout",
     "output_type": "stream",
     "text": [
      "nothing but a disgusting materialistic pageant of glistening abed remote control greed zombies totally devoid of any heart or heat a romantic comedy that has zero romantic chemestry and zero laughs\n"
     ]
    }
   ],
   "source": [
    "test_words = review_to_words(test_review)\n",
    "print(test_words)"
   ]
  },
  {
   "cell_type": "markdown",
   "metadata": {},
   "source": [
    "Next, we need to construct a bag of words embedding of the `test_words` string. To do this, remember that a bag of words embedding uses a `vocabulary` consisting of the most frequently appearing words in a set of documents. Then, for each word in the vocabulary we record the number of times that word appears in `test_words`. We constructed the `vocabulary` earlier using the training set for our problem so encoding `test_words` is relatively straightforward."
   ]
  },
  {
   "cell_type": "code",
   "execution_count": 39,
   "metadata": {},
   "outputs": [],
   "source": [
    "def bow_encoding(words, vocabulary): ### input: \"words\" which is the cleaned review, and \"vocabulary dictionary\" ### \n",
    "    bow = [0] * len(vocabulary) # Start by setting the count for each word in the vocabulary to zero.\n",
    "    for word in words.split():  # For each word in the string\n",
    "        if word in vocabulary:  # If the word is one that occurs in the vocabulary, increase its count.\n",
    "            bow[vocabulary[word]] += 1\n",
    "    return bow  ### the result is a bag of words encoded version of review"
   ]
  },
  {
   "cell_type": "code",
   "execution_count": 40,
   "metadata": {},
   "outputs": [
    {
     "name": "stdout",
     "output_type": "stream",
     "text": [
      "[0, 0, 0, 0, 0, 0, 0, 0, 0, 0, 0, 0, 0, 0, 0, 0, 0, 0, 0, 0, 0, 0, 0, 0, 0, 0, 0, 0, 0, 0, 0, 0, 0, 0, 0, 0, 0, 0, 0, 0, 0, 0, 0, 0, 0, 0, 0, 0, 0, 0, 0, 0, 0, 0, 0, 0, 0, 0, 0, 0, 0, 0, 0, 0, 0, 0, 0, 0, 0, 0, 0, 0, 0, 0, 0, 0, 0, 0, 0, 0, 0, 0, 0, 0, 0, 0, 0, 0, 0, 0, 0, 0, 0, 0, 0, 0, 0, 0, 0, 0, 0, 0, 0, 0, 0, 0, 0, 0, 0, 0, 0, 0, 0, 0, 0, 0, 0, 0, 0, 0, 0, 0, 0, 0, 0, 0, 0, 0, 0, 0, 0, 0, 0, 0, 0, 0, 0, 0, 0, 0, 0, 0, 0, 0, 0, 0, 0, 0, 0, 0, 0, 0, 0, 0, 0, 0, 0, 0, 0, 0, 0, 0, 0, 0, 0, 0, 0, 0, 0, 0, 0, 0, 0, 0, 0, 0, 0, 0, 0, 0, 0, 0, 0, 0, 0, 0, 0, 0, 0, 0, 0, 0, 0, 0, 0, 0, 0, 0, 0, 0, 0, 0, 0, 0, 0, 0, 0, 0, 0, 0, 0, 0, 0, 0, 0, 0, 0, 0, 0, 0, 0, 0, 0, 0, 0, 0, 1, 0, 0, 0, 0, 0, 0, 0, 0, 0, 0, 0, 0, 0, 0, 0, 0, 0, 0, 0, 0, 0, 0, 0, 0, 0, 0, 0, 0, 0, 1, 0, 0, 0, 0, 0, 0, 0, 0, 0, 0, 0, 0, 0, 0, 0, 0, 0, 0, 0, 0, 0, 0, 0, 0, 0, 0, 0, 0, 0, 0, 0, 0, 0, 0, 0, 0, 0, 0, 0, 0, 0, 0, 0, 0, 0, 0, 0, 0, 0, 0, 0, 0, 0, 0, 0, 0, 0, 0, 0, 0, 0, 0, 0, 0, 0, 0, 0, 0, 0, 0, 0, 0, 0, 0, 0, 0, 0, 0, 0, 0, 0, 0, 0, 0, 0, 0, 0, 0, 0, 0, 0, 0, 0, 0, 0, 0, 0, 0, 0, 0, 0, 0, 0, 0, 0, 0, 0, 0, 0, 0, 0, 0, 0, 0, 0, 0, 0, 0, 0, 0, 0, 0, 0, 0, 0, 0, 0, 0, 0, 0, 0, 0, 0, 0, 0, 0, 0, 0, 0, 0, 0, 0, 0, 0, 0, 0, 0, 0, 0, 0, 0, 0, 0, 0, 0, 0, 0, 0, 0, 0, 0, 0, 0, 0, 0, 0, 0, 0, 0, 0, 0, 0, 0, 0, 0, 0, 0, 0, 0, 0, 0, 0, 0, 0, 0, 0, 0, 0, 0, 0, 0, 0, 0, 0, 0, 0, 0, 0, 0, 0, 0, 0, 0, 0, 0, 0, 0, 0, 0, 0, 0, 0, 0, 0, 0, 0, 0, 0, 0, 0, 0, 0, 0, 0, 0, 0, 0, 0, 0, 0, 0, 0, 0, 0, 0, 0, 0, 0, 0, 0, 0, 0, 0, 0, 0, 0, 0, 0, 0, 0, 0, 0, 0, 0, 0, 0, 0, 0, 0, 0, 0, 0, 0, 0, 0, 0, 0, 0, 0, 0, 0, 0, 0, 0, 0, 0, 0, 0, 0, 0, 0, 0, 0, 0, 0, 0, 0, 0, 0, 0, 0, 0, 0, 0, 0, 0, 0, 0, 0, 0, 0, 0, 0, 0, 0, 0, 0, 0, 0, 0, 0, 0, 0, 0, 0, 0, 0, 0, 0, 0, 0, 0, 0, 0, 0, 0, 0, 0, 0, 0, 0, 0, 0, 0, 0, 0, 0, 0, 0, 0, 0, 0, 0, 0, 0, 0, 0, 0, 0, 0, 0, 0, 0, 0, 0, 0, 0, 0, 0, 0, 0, 0, 0, 0, 0, 0, 0, 0, 0, 0, 0, 0, 0, 0, 0, 0, 0, 0, 0, 1, 0, 0, 0, 0, 0, 0, 0, 0, 0, 0, 0, 0, 0, 0, 0, 0, 0, 0, 0, 0, 0, 0, 0, 0, 0, 0, 0, 0, 0, 0, 0, 0, 0, 0, 0, 0, 0, 0, 0, 0, 0, 0, 0, 0, 0, 0, 0, 0, 0, 0, 0, 0, 0, 0, 0, 0, 0, 0, 0, 0, 0, 0, 0, 0, 0, 0, 0, 0, 0, 0, 0, 0, 0, 0, 0, 0, 0, 0, 0, 0, 0, 0, 0, 0, 0, 0, 0, 0, 0, 0, 0, 0, 0, 0, 0, 0, 0, 0, 0, 0, 0, 0, 0, 0, 0, 0, 0, 0, 0, 0, 0, 0, 0, 0, 0, 0, 0, 0, 0, 0, 0, 0, 0, 0, 0, 0, 0, 0, 0, 0, 0, 0, 0, 0, 0, 0, 0, 0, 0, 0, 0, 0, 0, 0, 0, 0, 0, 0, 0, 0, 0, 0, 0, 0, 0, 0, 0, 0, 0, 0, 0, 0, 0, 0, 0, 0, 0, 0, 0, 0, 0, 0, 0, 0, 0, 0, 0, 0, 0, 0, 0, 0, 0, 0, 0, 0, 0, 0, 0, 0, 0, 0, 0, 0, 0, 0, 0, 0, 0, 0, 0, 0, 0, 0, 0, 0, 0, 0, 0, 0, 0, 0, 0, 0, 0, 0, 0, 0, 0, 0, 0, 0, 0, 0, 0, 0, 0, 0, 0, 0, 0, 0, 0, 0, 0, 0, 0, 0, 0, 0, 0, 0, 0, 0, 0, 0, 0, 0, 0, 0, 0, 0, 0, 1, 0, 0, 0, 0, 0, 0, 0, 0, 0, 0, 0, 0, 0, 0, 0, 0, 0, 0, 0, 0, 0, 0, 0, 0, 0, 0, 0, 0, 0, 0, 0, 0, 0, 0, 0, 0, 0, 0, 0, 0, 0, 0, 0, 0, 0, 0, 0, 0, 0, 0, 0, 0, 0, 0, 0, 0, 0, 0, 0, 0, 0, 0, 0, 0, 0, 0, 0, 0, 0, 0, 0, 0, 0, 0, 0, 0, 0, 0, 0, 0, 0, 0, 0, 0, 0, 0, 1, 0, 0, 0, 0, 0, 0, 0, 0, 0, 0, 0, 0, 0, 0, 0, 0, 0, 0, 0, 0, 0, 0, 0, 0, 0, 0, 0, 0, 0, 0, 0, 0, 0, 0, 0, 0, 0, 0, 0, 0, 0, 0, 0, 0, 0, 0, 0, 0, 0, 0, 0, 0, 0, 0, 0, 0, 0, 0, 0, 0, 0, 0, 0, 0, 0, 0, 0, 0, 0, 0, 0, 0, 0, 0, 0, 0, 0, 0, 0, 0, 0, 0, 0, 0, 0, 0, 0, 0, 0, 0, 0, 0, 0, 0, 0, 0, 0, 0, 0, 0, 0, 0, 0, 0, 0, 0, 0, 0, 0, 0, 0, 0, 0, 0, 0, 0, 0, 0, 0, 0, 0, 0, 0, 0, 0, 0, 0, 0, 0, 0, 0, 0, 0, 0, 0, 0, 0, 0, 0, 0, 0, 0, 0, 0, 0, 0, 0, 0, 0, 0, 0, 0, 0, 0, 0, 0, 0, 0, 0, 0, 0, 0, 0, 0, 0, 0, 0, 0, 0, 0, 0, 0, 0, 0, 0, 0, 0, 0, 0, 0, 0, 0, 0, 0, 0, 0, 0, 0, 0, 0, 0, 0, 0, 0, 0, 0, 0, 0, 0, 0, 0, 0, 0, 0, 0, 0, 0, 0, 0, 0, 0, 0, 0, 0, 0, 0, 0, 0, 0, 0, 0, 0, 0, 0, 0, 0, 0, 0, 0, 0, 0, 0, 0, 0, 0, 0, 0, 0, 0, 0, 0, 0, 0, 0, 0, 0, 0, 0, 0, 0, 0, 0, 1, 0, 0, 0, 0, 0, 0, 0, 0, 0, 0, 0, 0, 0, 0, 0, 0, 0, 0, 0, 0, 0, 0, 0, 0, 0, 0, 0, 0, 0, 0, 0, 0, 0, 0, 0, 0, 0, 0, 0, 0, 0, 0, 0, 0, 0, 0, 0, 0, 0, 0, 0, 0, 0, 0, 0, 1, 0, 0, 0, 0, 0, 0, 0, 0, 0, 0, 0, 0, 0, 0, 0, 0, 0, 0, 0, 0, 0, 0, 0, 0, 0, 0, 0, 0, 0, 0, 0, 0, 0, 0, 0, 0, 0, 0, 0, 0, 0, 0, 0, 0, 0, 0, 0, 0, 0, 0, 0, 0, 0, 0, 0, 0, 0, 0, 0, 0, 0, 0, 0, 0, 0, 0, 0, 0, 0, 0, 0, 0, 0, 0, 0, 0, 0, 0, 0, 0, 0, 0, 0, 0, 0, 0, 0, 0, 0, 0, 0, 0, 0, 0, 0, 0, 0, 0, 0, 0, 0, 0, 0, 0, 0, 0, 0, 0, 0, 0, 0, 0, 0, 0, 0, 0, 0, 0, 0, 0, 0, 0, 0, 0, 0, 0, 0, 0, 0, 0, 0, 0, 0, 0, 0, 0, 0, 0, 0, 0, 0, 0, 0, 0, 0, 0, 0, 0, 0, 0, 0, 0, 0, 0, 0, 0, 0, 0, 0, 0, 0, 0, 0, 0, 0, 0, 0, 0, 0, 0, 0, 0, 0, 0, 0, 0, 0, 0, 0, 0, 0, 0, 0, 0, 0, 0, 0, 0, 0, 0, 0, 0, 0, 0, 0, 0, 0, 0, 0, 0, 0, 0, 0, 0, 0, 0, 0, 0, 0, 0, 0, 0, 0, 0, 0, 0, 0, 0, 0, 0, 0, 0, 0, 0, 0, 0, 0, 0, 0, 0, 0, 0, 0, 0, 0, 0, 0, 0, 0, 0, 0, 0, 0, 0, 0, 0, 0, 0, 0, 0, 0, 0, 0, 0, 0, 0, 0, 0, 0, 0, 0, 0, 0, 0, 0, 0, 0, 0, 0, 0, 0, 0, 0, 0, 0, 0, 0, 0, 0, 0, 0, 0, 0, 0, 0, 0, 0, 0, 0, 0, 0, 0, 0, 0, 0, 0, 0, 0, 0, 0, 0, 0, 0, 0, 0, 0, 0, 0, 0, 0, 0, 0, 0, 0, 0, 0, 0, 0, 0, 0, 0, 0, 0, 0, 0, 0, 0, 0, 0, 0, 0, 0, 0, 0, 0, 0, 0, 0, 0, 0, 0, 0, 0, 0, 0, 0, 0, 0, 0, 0, 0, 0, 0, 0, 0, 0, 0, 0, 0, 0, 0, 0, 0, 0, 0, 0, 0, 0, 0, 0, 0, 0, 0, 0, 0, 0, 0, 0, 0, 0, 0, 0, 0, 0, 0, 0, 0, 0, 0, 0, 0, 0, 0, 0, 0, 0, 0, 0, 0, 0, 0, 0, 0, 0, 0, 0, 0, 0, 0, 0, 0, 0, 0, 0, 0, 0, 0, 0, 0, 0, 0, 0, 0, 0, 0, 0, 0, 0, 0, 0, 0, 0, 0, 0, 0, 0, 0, 0, 0, 0, 0, 0, 0, 0, 0, 0, 0, 0, 0, 0, 0, 0, 0, 0, 0, 0, 0, 0, 0, 0, 0, 0, 0, 0, 0, 0, 0, 0, 0, 0, 0, 0, 0, 0, 0, 0, 0, 0, 0, 0, 0, 0, 0, 0, 0, 0, 0, 0, 0, 0, 0, 0, 0, 0, 0, 0, 0, 0, 0, 0, 0, 0, 0, 0, 0, 0, 0, 0, 0, 0, 0, 0, 0, 0, 0, 0, 0, 0, 0, 0, 0, 0, 0, 0, 0, 0, 0, 0, 0, 0, 0, 0, 0, 0, 0, 0, 0, 0, 0, 0, 0, 0, 0, 0, 0, 0, 0, 0, 0, 0, 0, 0, 0, 0, 0, 0, 0, 0, 0, 0, 0, 0, 0, 0, 0, 0, 0, 0, 0, 0, 0, 0, 0, 0, 0, 0, 0, 0, 0, 0, 0, 0, 0, 0, 0, 0, 0, 0, 0, 0, 0, 0, 0, 0, 0, 0, 0, 0, 0, 0, 0, 0, 0, 0, 0, 0, 0, 0, 0, 0, 0, 0, 0, 0, 0, 0, 0, 0, 0, 0, 0, 0, 0, 0, 0, 0, 0, 0, 0, 0, 0, 0, 0, 0, 0, 0, 0, 0, 0, 0, 0, 0, 0, 0, 0, 0, 0, 0, 0, 0, 0, 0, 0, 0, 0, 0, 0, 0, 0, 0, 0, 0, 0, 0, 0, 0, 0, 0, 0, 0, 0, 0, 0, 0, 0, 0, 0, 0, 0, 0, 0, 1, 0, 0, 0, 0, 0, 0, 0, 0, 0, 0, 0, 0, 0, 0, 0, 0, 0, 0, 0, 0, 0, 0, 0, 0, 0, 0, 0, 0, 0, 0, 0, 0, 0, 0, 0, 0, 0, 0, 0, 0, 0, 0, 0, 0, 0, 0, 0, 0, 0, 0, 0, 0, 0, 0, 0, 0, 0, 0, 0, 0, 0, 0, 0, 0, 0, 0, 0, 0, 0, 0, 0, 0, 0, 0, 1, 0, 0, 0, 0, 0, 0, 0, 0, 0, 0, 0, 0, 0, 0, 0, 0, 0, 0, 0, 0, 1, 0, 0, 1, 0, 0, 0, 0, 0, 0, 0, 0, 0, 0, 0, 0, 0, 0, 0, 0, 0, 0, 0, 0, 0, 0, 0, 0, 0, 0, 0, 0, 0, 0, 0, 0, 0, 0, 0, 0, 0, 0, 0, 0, 0, 0, 0, 0, 0, 0, 0, 0, 0, 0, 0, 0, 0, 0, 0, 0, 0, 0, 0, 0, 0, 0, 0, 0, 0, 0, 0, 0, 0, 0, 0, 0, 0, 0, 0, 0, 0, 0, 0, 0, 0, 0, 0, 0, 0, 0, 0, 0, 0, 0, 0, 0, 0, 0, 0, 0, 0, 0, 0, 0, 0, 0, 0, 0, 0, 0, 0, 0, 0, 0, 0, 0, 0, 0, 0, 0, 0, 0, 0, 0, 0, 0, 0, 0, 0, 0, 0, 0, 0, 0, 0, 0, 0, 0, 0, 0, 0, 0, 0, 0, 0, 0, 0, 0, 0, 0, 0, 0, 0, 0, 0, 0, 0, 0, 0, 0, 0, 0, 0, 0, 0, 0, 0, 0, 0, 0, 0, 0, 0, 0, 0, 0, 0, 0, 0, 0, 0, 0, 0, 0, 0, 0, 0, 0, 0, 0, 0, 0, 0, 0, 0, 0, 0, 0, 0, 0, 0, 0, 0, 0, 0, 0, 0, 0, 0, 0, 0, 0, 0, 0, 0, 0, 0, 0, 0, 0, 0, 0, 0, 0, 0, 0, 0, 0, 0, 0, 0, 0, 0, 0, 0, 0, 0, 0, 0, 0, 0, 0, 0, 0, 0, 0, 0, 0, 0, 0, 0, 0, 0, 0, 0, 0, 0, 0, 0, 0, 0, 0, 0, 0, 0, 0, 0, 0, 0, 0, 0, 0, 0, 0, 0, 0, 0, 0, 0, 0, 0, 0, 0, 0, 0, 0, 0, 0, 0, 0, 0, 0, 0, 0, 0, 0, 0, 0, 0, 0, 0, 0, 0, 0, 0, 0, 0, 0, 0, 0, 0, 0, 0, 0, 0, 0, 0, 0, 0, 0, 0, 0, 0, 0, 0, 0, 0, 0, 0, 0, 0, 0, 0, 0, 0, 0, 0, 0, 0, 0, 0, 0, 0, 0, 0, 0, 0, 0, 0, 0, 0, 0, 0, 0, 0, 0, 0, 0, 0, 0, 0, 0, 0, 0, 0, 0, 0, 0, 0, 0, 0, 0, 0, 0, 0, 0, 0, 0, 0, 0, 0, 0, 0, 0, 0, 0, 0, 0, 0, 0, 0, 0, 0, 0, 0, 0, 0, 0, 0, 0, 0, 0, 0, 0, 0, 0, 0, 0, 0, 0, 0, 0, 0, 0, 0, 0, 0, 0, 0, 0, 0, 0, 0, 0, 0, 0, 0, 0, 0, 0, 0, 0, 0, 0, 0, 0, 0, 0, 0, 0, 0, 0, 0, 0, 0, 0, 0, 0, 0, 0, 0, 0, 0, 0, 0, 0, 0, 0, 0, 0, 0, 0, 0, 0, 0, 0, 0, 0, 0, 0, 1, 0, 0, 0, 0, 0, 0, 0, 0, 0, 0, 0, 0, 0, 0, 0, 0, 0, 0, 0, 0, 0, 0, 0, 0, 0, 0, 0, 0, 0, 0, 0, 0, 0, 0, 0, 0, 0, 0, 0, 0, 0, 0, 0, 0, 0, 0, 0, 0, 0, 0, 0, 0, 0, 0, 0, 0, 0, 0, 0, 0, 0, 0, 0, 0, 0, 0, 0, 0, 0, 0, 0, 0, 0, 0, 0, 0, 0, 0, 0, 0, 0, 0, 0, 0, 0, 0, 0, 0, 0, 0, 0, 0, 0, 0, 0, 0, 0, 0, 0, 0, 0, 0, 0, 0, 0, 0, 0, 0, 0, 0, 0, 0, 0, 0, 0, 0, 0, 0, 0, 0, 0, 0, 0, 0, 0, 0, 0, 0, 0, 0, 0, 0, 0, 0, 0, 0, 0, 0, 0, 0, 0, 0, 0, 0, 0, 0, 0, 0, 0, 0, 0, 0, 0, 0, 0, 0, 0, 0, 0, 0, 0, 0, 0, 0, 0, 0, 0, 0, 0, 0, 0, 0, 0, 0, 0, 0, 0, 0, 0, 0, 0, 0, 0, 0, 0, 0, 0, 0, 0, 0, 0, 0, 0, 0, 0, 0, 0, 0, 0, 0, 0, 0, 0, 0, 0, 0, 0, 0, 0, 0, 0, 0, 0, 0, 0, 0, 0, 0, 0, 0, 0, 0, 0, 0, 0, 0, 0, 0, 0, 0, 0, 0, 0, 0, 0, 0, 0, 0, 0, 0, 0, 0, 0, 0, 0, 0, 0, 0, 0, 0, 0, 0, 0, 0, 0, 0, 0, 0, 0, 0, 0, 0, 0, 0, 0, 0, 0, 0, 0, 0, 0, 0, 0, 0, 0, 0, 0, 0, 0, 0, 0, 0, 0, 0, 0, 0, 0, 0, 0, 0, 0, 0, 0, 0, 0, 0, 0, 0, 0, 0, 0, 0, 0, 0, 0, 0, 0, 0, 0, 0, 0, 0, 0, 0, 0, 0, 0, 0, 0, 0, 0, 0, 0, 0, 0, 0, 0, 0, 0, 0, 0, 0, 0, 0, 0, 0, 0, 0, 0, 0, 0, 0, 0, 0, 0, 0, 0, 0, 0, 0, 0, 0, 0, 0, 0, 0, 0, 0, 0, 0, 0, 0, 0, 0, 0, 0, 0, 0, 0, 0, 0, 0, 0, 0, 0, 0, 0, 0, 0, 0, 0, 0, 0, 0, 0, 0, 0, 0, 0, 0, 0, 0, 0, 0, 0, 0, 0, 0, 0, 0, 0, 0, 0, 0, 0, 0, 0, 0, 0, 0, 0, 0, 0, 0, 0, 0, 0, 0, 0, 0, 0, 0, 0, 0, 0, 0, 0, 0, 0, 0, 0, 0, 0, 0, 0, 0, 0, 0, 0, 0, 0, 0, 0, 0, 0, 0, 0, 0, 0, 0, 0, 0, 0, 0, 0, 0, 0, 0, 0, 0, 0, 0, 0, 0, 0, 0, 0, 0, 0, 0, 0, 0, 0, 0, 0, 0, 0, 0, 0, 0, 0, 0, 0, 0, 0, 0, 0, 0, 0, 0, 0, 0, 0, 0, 0, 0, 0, 0, 0, 0, 0, 0, 0, 0, 0, 0, 0, 0, 0, 0, 0, 0, 1, 0, 0, 0, 0, 0, 0, 0, 0, 0, 0, 0, 0, 0, 0, 0, 0, 0, 0, 0, 0, 0, 0, 0, 0, 0, 0, 0, 0, 0, 0, 0, 0, 0, 0, 0, 2, 0, 0, 0, 0, 0, 0, 0, 0, 0, 0, 0, 0, 0, 0, 0, 0, 0, 0, 0, 0, 0, 0, 0, 0, 0, 0, 0, 0, 0, 0, 0, 0, 0, 0, 0, 0, 0, 0, 0, 0, 1, 0, 0, 0, 0, 0, 0, 0, 0, 0, 0, 0, 0, 0, 0, 0, 0, 0, 0, 0, 0, 0, 0, 0, 0, 0, 0, 0, 0, 0, 0, 0, 0, 0, 0, 0, 0, 0, 0, 0, 0, 0, 0, 0, 0, 0, 0, 0, 0, 0, 0, 0, 0, 0, 0, 0, 0, 0, 0, 0, 0, 0, 0, 0, 0, 0, 0, 0, 0, 0, 0, 0, 0, 0, 0, 0, 0, 0, 0, 0, 0, 0, 0, 0, 0, 0, 0, 0, 0, 0, 0, 0, 0, 0, 0, 0, 0, 0, 0, 0, 0, 0, 0, 0, 0, 0, 0, 0, 0, 0, 0, 0, 0, 0, 0, 0, 0, 0, 0, 0, 0, 0, 0, 0, 0, 0, 0, 0, 0, 0, 0, 0, 0, 0, 0, 0, 0, 0, 0, 0, 0, 0, 0, 0, 0, 0, 0, 0, 0, 0, 0, 0, 0, 0, 0, 0, 0, 0, 0, 0, 0, 0, 0, 0, 0, 0, 0, 0, 0, 0, 0, 0, 0, 0, 0, 0, 0, 0, 0, 0, 0, 0, 0, 0, 0, 0, 0, 0, 0, 0, 0, 0, 0, 0, 0, 0, 0, 0, 0, 0, 0, 0, 0, 0, 0, 0, 0, 0, 0, 0, 0, 0, 0, 0, 0, 0, 0, 0, 0, 0, 0, 0, 0, 0, 0, 0, 0, 0, 0, 0, 0, 0, 0, 0, 0, 0, 0, 0, 0, 0, 0, 0, 0, 0, 0, 0, 0, 0, 0, 0, 0, 0, 0, 0, 0, 0, 0, 0, 0, 0, 0, 0, 0, 0, 0, 0, 0, 0, 0, 0, 0, 0, 0, 0, 0, 0, 0, 0, 0, 0, 0, 0, 0, 0, 0, 0, 0, 0, 0, 0, 0, 0, 0, 0, 0, 0, 0, 0, 0, 0, 0, 0, 0, 0, 0, 0, 0, 0, 0, 0, 0, 0, 0, 0, 0, 0, 0, 0, 0, 0, 0, 0, 0, 0, 0, 0, 0, 0, 0, 0, 0, 0, 0, 0, 0, 0, 0, 0, 0, 0, 0, 0, 0, 0, 0, 0, 0, 0, 0, 0, 0, 0, 0, 0, 0, 0, 0, 0, 0, 0, 0, 0, 0, 0, 0, 0, 0, 0, 0, 0, 0, 0, 0, 0, 0, 0, 0, 0, 0, 0, 0, 0, 0, 0, 0, 0, 0, 0, 0, 0, 0, 0, 0, 0, 0, 0, 0, 0, 0, 0, 0, 0, 0, 0, 0, 0, 0, 0, 0, 0, 0, 0, 0, 0, 0, 0, 0, 0, 0, 0, 0, 0, 0, 0, 0, 0, 0, 0, 0, 0, 0, 0, 0, 0, 0, 0, 0, 0, 0, 0, 0, 0, 0, 0, 0, 0, 0, 0, 0, 0, 0, 0, 0, 0, 0, 0, 0, 0, 0, 0, 0, 0, 0, 0, 0, 0, 0, 0, 0, 0, 0, 0, 0, 0, 0, 0, 0, 0, 0, 0, 0, 0, 0, 0, 0, 0, 0, 0, 0, 0, 0, 0, 0, 0, 0, 0, 0, 0, 1, 0, 0, 0, 0, 0, 0, 0, 0, 0, 0, 0, 0, 0, 0, 0, 0, 0, 0, 0, 0, 0, 0, 0, 0, 0, 0, 0, 0, 0, 0, 0, 0, 0, 0, 0, 0, 0, 0, 0, 0, 0, 0, 0, 0, 0, 0, 0, 0, 0, 0, 0, 0, 0, 0, 0, 0, 0, 0, 0, 0, 0, 0, 0, 0, 0, 0, 0, 0, 0, 0, 0, 0, 0, 0, 0, 0, 0, 0, 0, 0, 0, 0, 0, 0, 0, 0, 0, 0, 0, 0, 0, 0, 0, 0, 0, 0, 0, 0, 0, 0, 0, 0, 0, 0, 0, 0, 0, 0, 0, 0, 2, 0, 0, 0, 0, 0, 0, 0, 0, 0, 0, 0, 0, 0, 0, 0, 0, 0, 0, 0, 0, 0, 0, 0, 0, 0, 0, 0, 0, 0, 0, 0, 0, 0, 0, 0, 0, 0, 0, 0, 0, 0, 0, 0, 0, 0, 0, 0, 0, 0, 0, 0, 0, 0, 0, 0, 0, 0, 0, 0, 0, 0, 0, 0, 0, 0, 0, 0, 0, 0, 0, 0, 0, 0, 0, 0, 0, 0, 0, 0, 0, 0, 0, 0, 0, 0, 0, 0, 0, 0, 0, 0, 0, 0, 0, 0, 0, 0, 0, 0, 0, 0, 0, 0, 0, 0, 0, 0, 0, 0, 0, 0, 0, 0, 0, 0, 0, 0, 0, 0, 0, 0, 0, 0, 0, 0, 0, 0, 0, 0, 0, 0, 0, 0, 0, 0, 0, 0, 0, 0, 0, 0, 0, 0, 0, 0, 0, 0, 0, 0, 0, 0, 0, 0, 0, 0, 0, 0, 0, 0, 0, 0, 0, 0, 0, 0, 0, 0, 0, 0, 0, 0, 0, 0, 0, 0, 0, 0, 0, 0, 0, 0, 0, 0, 0, 0, 0, 0, 0, 0, 0, 0, 0, 0, 0, 0, 0, 0, 0, 0, 0, 0, 0, 0, 0, 0, 0, 0, 0, 0, 0, 0, 0, 0, 0, 0, 0, 0, 0, 0, 0, 0, 0, 0, 0, 0, 0, 0, 0, 0, 0, 0, 0, 0, 0, 0, 0, 0, 0, 0, 0, 0, 0, 0, 0, 0, 0, 0, 0, 0, 0, 0, 0, 0, 0, 0, 0, 0, 0, 0, 0, 0, 0, 0, 0, 0, 0, 0, 0, 0, 0, 0, 0, 0, 0, 0, 0, 0, 0, 0, 0, 0, 0, 0, 0, 0, 0, 0, 0, 0, 0, 0, 0, 0, 0, 0, 0, 0, 0, 0, 0, 0, 0, 0, 0, 0, 0, 0, 0, 0, 0, 0, 0, 0, 0, 0, 0, 0, 0, 0, 0, 0, 0, 0, 0, 0, 0, 0, 0, 0, 0, 0, 0, 0, 0, 0, 0, 0, 0, 0, 0, 0, 0, 0, 0, 0, 0, 0, 0, 0, 0, 0, 0, 0, 0, 0, 0, 0, 0, 0, 0, 0, 0, 0, 0, 0, 0, 0, 0, 0, 0, 0, 0, 0, 0, 0, 0, 0, 0, 0, 0, 0, 0, 0, 0, 0, 0, 0, 0, 0, 0, 0, 0, 0, 0, 0, 0, 0, 0, 0, 0, 0, 0, 0, 0, 0, 0, 0, 0, 0, 0, 0, 0, 0, 0, 0, 0, 0, 0, 0, 0, 0, 0, 0, 0, 0, 0, 0, 0, 0, 0, 0, 0, 0, 0, 0, 0, 0, 0, 0, 0, 0, 0, 0, 0, 0, 0, 0, 0, 0, 0, 0, 0, 0, 0, 0, 0, 0, 0, 0, 0, 0, 0, 0, 0, 0, 0, 0, 0, 0, 0, 0, 0, 0, 0, 0, 0, 0, 0, 0, 0, 0, 0, 0, 0, 0, 0, 0, 0, 0, 0, 0, 0, 0, 0, 0, 0, 0, 0, 0, 0, 0, 0, 0, 0, 0, 0, 0, 0, 0, 0, 0, 0, 0, 0, 0, 0, 0, 0, 0, 0, 0, 0, 0, 0, 0, 0, 0, 0, 0, 0, 0, 0, 0, 0, 0, 0, 0, 0, 0, 0, 0, 0, 0, 0, 0, 0, 0, 0, 0, 0, 0, 0, 0, 0, 0, 0, 0, 0, 0, 0, 0, 0, 0, 0, 0, 0, 0, 0, 0, 0, 0, 0, 0, 0, 0, 0, 0, 0, 0, 0, 0, 0, 0, 0, 0, 0, 0, 0, 0, 0, 0, 0, 0, 0, 0, 0, 0, 0, 0, 0, 0, 0, 0, 0, 0, 0, 0, 0, 0, 0, 0, 0, 0, 0, 0, 0, 0, 0, 0, 0, 0, 0, 0, 0, 0, 0, 0, 0, 0, 0, 0, 0, 0, 0, 0, 0, 0, 0, 0, 0, 0, 0, 0, 0, 0, 0, 0, 0, 0, 0, 0, 0, 0, 0, 0, 0, 0, 0, 0, 0, 0, 0, 0, 0, 0, 0, 0, 0, 0, 0, 0, 0, 0, 0, 0, 0, 0, 0, 0, 0, 0, 0, 0, 0, 0, 0, 0, 0, 0, 0, 1, 0, 0, 0, 0, 0, 0, 0, 0, 0, 0, 0, 0, 0, 0, 0, 0, 0, 0, 0, 0, 0, 0, 0, 0, 0, 0, 0, 0, 0, 0, 0, 0, 0, 0, 0, 0, 0, 0, 0, 0, 0, 0, 0, 0, 0, 0, 0, 0, 0, 0, 0, 0, 0, 0, 0, 0, 0, 0, 0, 0, 0, 0, 0, 0, 0, 0, 0, 0, 0, 0, 0, 0, 0, 0, 0, 0, 0, 0, 0, 0, 0, 0, 0, 0, 0, 0, 0, 0, 0, 0, 0, 0, 0, 0, 0, 0, 0, 0, 0, 0, 0, 0, 0, 0, 0, 0, 0, 1, 0, 0, 0, 0, 0, 0, 0, 0, 0, 0, 0, 0, 0, 0, 0, 0, 0, 0, 0, 0, 0, 0, 0, 0, 0, 0, 0, 0, 0, 0, 0, 0, 0, 0, 0, 0, 0, 0, 0, 0, 0, 0, 0, 0, 0, 0, 0, 0, 0, 0, 0, 0, 0, 0, 0, 0, 0, 0, 0, 0, 0, 0, 0, 0, 0, 0, 0, 0, 0, 0, 0, 0, 0, 0, 0, 0, 0, 0, 0, 0, 0, 0, 0, 0, 0, 0, 0, 0, 0, 0, 0, 0, 0, 0, 0, 0, 0, 0, 0, 0, 0, 0, 0, 0, 0, 0, 0, 0, 0, 0, 0, 0, 0, 0, 0, 0, 0, 0, 0, 0, 0, 0, 0, 0, 0, 0, 0, 0, 0, 0, 0, 0, 0, 0, 0, 0, 0, 0, 0, 0, 0, 0, 0, 0, 0, 0, 0, 0, 0, 0, 0, 0, 0, 0, 0, 0, 0, 0, 0, 0, 0, 0, 0, 0, 0, 0, 0, 0, 0, 0, 0, 0, 0, 0, 0, 0, 0, 0, 0, 0, 0, 0, 0, 0, 0, 0, 0, 0, 0, 0, 0, 0, 0, 0, 0, 0, 0, 0, 0, 0, 0, 0, 0, 0, 0, 0, 0, 0, 0, 0, 0, 0, 0, 0, 0, 0, 0, 0, 0, 0, 0, 0, 0, 0, 0, 0, 0, 0, 0, 0, 0, 0, 0, 0, 0, 0, 0, 0, 0, 0, 0, 0, 0, 0, 0, 0, 0, 0, 0, 0, 0, 0, 0, 0, 0, 0, 0, 0, 0, 0, 0, 0, 0, 0, 0, 0, 0, 0, 0, 0, 0, 0, 0, 0, 0, 0, 0, 0, 0, 0, 0, 0, 0, 0, 0, 0, 0, 0, 0, 0, 0, 0, 0, 0, 0, 0, 0, 0, 0, 0, 0, 0, 0, 0, 0, 0, 0, 0, 0, 0, 0, 0, 0, 0, 0, 0, 0, 0, 0, 0, 0, 0, 0, 0, 0, 0, 0, 0, 0, 0, 0, 0, 0, 0, 0, 0, 0, 0, 0, 0, 0, 0, 0, 0, 0, 0, 0, 0, 0, 0, 0, 0, 0, 0, 0, 0, 0, 0, 0, 0, 0, 0, 0, 0, 0, 0, 0, 0, 0, 0, 0, 0, 0, 0, 0, 0, 0, 0, 0, 0, 0, 0, 0, 0, 0, 0, 0, 0, 0, 0, 0, 0, 0, 0, 0, 0, 0, 0, 0, 0, 0, 0, 0, 0, 0, 0, 0, 0, 0, 0, 0, 0, 0, 0, 0, 0, 0, 0, 0, 0, 0, 0, 0, 0, 0, 0, 0, 0, 0, 0, 0, 0, 0, 0, 0, 0, 0, 0, 0, 0, 0, 0, 0, 0, 0, 0, 0, 0, 0, 0, 0, 0, 0, 0, 0, 0, 0, 0, 0, 0, 0, 0, 0, 2, 0, 1, 0]\n"
     ]
    }
   ],
   "source": [
    "test_bow = bow_encoding(test_words, vocabulary)\n",
    "print(test_bow)"
   ]
  },
  {
   "cell_type": "code",
   "execution_count": 41,
   "metadata": {},
   "outputs": [
    {
     "data": {
      "text/plain": [
       "5000"
      ]
     },
     "execution_count": 41,
     "metadata": {},
     "output_type": "execute_result"
    }
   ],
   "source": [
    "len(test_bow)"
   ]
  },
  {
   "cell_type": "markdown",
   "metadata": {},
   "source": [
    "So now we know how to construct a bag of words encoding of a user provided review, how to we send it to our endpoint? First, we need to start the endpoint back up."
   ]
  },
  {
   "cell_type": "code",
   "execution_count": 43,
   "metadata": {},
   "outputs": [
    {
     "name": "stderr",
     "output_type": "stream",
     "text": [
      "Parameter image will be renamed to image_uri in SageMaker Python SDK v2.\n",
      "Using already existing model: xgboost-2021-04-17-02-37-44-000\n"
     ]
    },
    {
     "name": "stdout",
     "output_type": "stream",
     "text": [
      "-------------!"
     ]
    }
   ],
   "source": [
    "### we need to restart the endpoint \n",
    "xgb_predictor = xgb.deploy(initial_instance_count = 1, instance_type = 'ml.m4.xlarge')\n",
    "\n",
    "\n",
    "##### in the past, we have used xgb_predictor object in order to call our endpoint,\n",
    "##### on the Lambda function we are going to create, we don't have access to the xgb_predictor object,\n",
    "##### so we need to use SageMaker interface itself"
   ]
  },
  {
   "cell_type": "markdown",
   "metadata": {},
   "source": [
    "At this point we could just do the same thing that we did earlier when we tested our deployed model and send `test_bow` to our endpoint using the `xgb_predictor` object. However, when we eventually construct our Lambda function we won't have access to this object, so how do we call a SageMaker endpoint?\n",
    "\n",
    "It turns out that Python functions that are used in Lambda have access to another Amazon library called `boto3`. This library provides an API for working with Amazon services, including SageMaker. To start with, we need to get a handle to the SageMaker runtime."
   ]
  },
  {
   "cell_type": "code",
   "execution_count": 44,
   "metadata": {},
   "outputs": [],
   "source": [
    "##### in order to use SageMaker interface itself, we can get an object which points to the 'SageMaker runtime'\n",
    "\n",
    "import boto3\n",
    "\n",
    "runtime = boto3.Session().client('sagemaker-runtime')"
   ]
  },
  {
   "cell_type": "markdown",
   "metadata": {},
   "source": [
    "And now that we have access to the SageMaker runtime, we can ask it to make use of (invoke) an endpoint that has already been created. However, we need to provide SageMaker with the name of the deployed endpoint. To find this out we can print it out using the `xgb_predictor` object."
   ]
  },
  {
   "cell_type": "code",
   "execution_count": 45,
   "metadata": {},
   "outputs": [
    {
     "data": {
      "text/plain": [
       "'xgboost-2021-04-17-02-37-44-000'"
      ]
     },
     "execution_count": 45,
     "metadata": {},
     "output_type": "execute_result"
    }
   ],
   "source": [
    "xgb_predictor.endpoint  #### use the endpoint that we have created "
   ]
  },
  {
   "cell_type": "markdown",
   "metadata": {},
   "source": [
    "Using the SageMaker runtime and the name of our endpoint, we can invoke the endpoint and send it the `test_bow` data."
   ]
  },
  {
   "cell_type": "code",
   "execution_count": 46,
   "metadata": {},
   "outputs": [
    {
     "ename": "ParamValidationError",
     "evalue": "Parameter validation failed:\nInvalid type for parameter Body, value: [0, 0, 0, 0, 0, 0, 0, 0, 0, 0, 0, 0, 0, 0, 0, 0, 0, 0, 0, 0, 0, 0, 0, 0, 0, 0, 0, 0, 0, 0, 0, 0, 0, 0, 0, 0, 0, 0, 0, 0, 0, 0, 0, 0, 0, 0, 0, 0, 0, 0, 0, 0, 0, 0, 0, 0, 0, 0, 0, 0, 0, 0, 0, 0, 0, 0, 0, 0, 0, 0, 0, 0, 0, 0, 0, 0, 0, 0, 0, 0, 0, 0, 0, 0, 0, 0, 0, 0, 0, 0, 0, 0, 0, 0, 0, 0, 0, 0, 0, 0, 0, 0, 0, 0, 0, 0, 0, 0, 0, 0, 0, 0, 0, 0, 0, 0, 0, 0, 0, 0, 0, 0, 0, 0, 0, 0, 0, 0, 0, 0, 0, 0, 0, 0, 0, 0, 0, 0, 0, 0, 0, 0, 0, 0, 0, 0, 0, 0, 0, 0, 0, 0, 0, 0, 0, 0, 0, 0, 0, 0, 0, 0, 0, 0, 0, 0, 0, 0, 0, 0, 0, 0, 0, 0, 0, 0, 0, 0, 0, 0, 0, 0, 0, 0, 0, 0, 0, 0, 0, 0, 0, 0, 0, 0, 0, 0, 0, 0, 0, 0, 0, 0, 0, 0, 0, 0, 0, 0, 0, 0, 0, 0, 0, 0, 0, 0, 0, 0, 0, 0, 0, 0, 0, 0, 0, 0, 1, 0, 0, 0, 0, 0, 0, 0, 0, 0, 0, 0, 0, 0, 0, 0, 0, 0, 0, 0, 0, 0, 0, 0, 0, 0, 0, 0, 0, 0, 1, 0, 0, 0, 0, 0, 0, 0, 0, 0, 0, 0, 0, 0, 0, 0, 0, 0, 0, 0, 0, 0, 0, 0, 0, 0, 0, 0, 0, 0, 0, 0, 0, 0, 0, 0, 0, 0, 0, 0, 0, 0, 0, 0, 0, 0, 0, 0, 0, 0, 0, 0, 0, 0, 0, 0, 0, 0, 0, 0, 0, 0, 0, 0, 0, 0, 0, 0, 0, 0, 0, 0, 0, 0, 0, 0, 0, 0, 0, 0, 0, 0, 0, 0, 0, 0, 0, 0, 0, 0, 0, 0, 0, 0, 0, 0, 0, 0, 0, 0, 0, 0, 0, 0, 0, 0, 0, 0, 0, 0, 0, 0, 0, 0, 0, 0, 0, 0, 0, 0, 0, 0, 0, 0, 0, 0, 0, 0, 0, 0, 0, 0, 0, 0, 0, 0, 0, 0, 0, 0, 0, 0, 0, 0, 0, 0, 0, 0, 0, 0, 0, 0, 0, 0, 0, 0, 0, 0, 0, 0, 0, 0, 0, 0, 0, 0, 0, 0, 0, 0, 0, 0, 0, 0, 0, 0, 0, 0, 0, 0, 0, 0, 0, 0, 0, 0, 0, 0, 0, 0, 0, 0, 0, 0, 0, 0, 0, 0, 0, 0, 0, 0, 0, 0, 0, 0, 0, 0, 0, 0, 0, 0, 0, 0, 0, 0, 0, 0, 0, 0, 0, 0, 0, 0, 0, 0, 0, 0, 0, 0, 0, 0, 0, 0, 0, 0, 0, 0, 0, 0, 0, 0, 0, 0, 0, 0, 0, 0, 0, 0, 0, 0, 0, 0, 0, 0, 0, 0, 0, 0, 0, 0, 0, 0, 0, 0, 0, 0, 0, 0, 0, 0, 0, 0, 0, 0, 0, 0, 0, 0, 0, 0, 0, 0, 0, 0, 0, 0, 0, 0, 0, 0, 0, 0, 0, 0, 0, 0, 0, 0, 0, 0, 0, 0, 0, 0, 0, 0, 0, 0, 0, 0, 0, 0, 0, 0, 0, 0, 0, 0, 0, 0, 0, 0, 0, 0, 0, 0, 0, 0, 0, 0, 0, 0, 0, 0, 0, 0, 0, 0, 0, 0, 0, 0, 0, 0, 0, 0, 0, 0, 0, 0, 0, 0, 0, 0, 0, 0, 0, 0, 0, 0, 0, 0, 0, 0, 0, 0, 0, 0, 0, 0, 0, 0, 0, 0, 0, 0, 0, 0, 1, 0, 0, 0, 0, 0, 0, 0, 0, 0, 0, 0, 0, 0, 0, 0, 0, 0, 0, 0, 0, 0, 0, 0, 0, 0, 0, 0, 0, 0, 0, 0, 0, 0, 0, 0, 0, 0, 0, 0, 0, 0, 0, 0, 0, 0, 0, 0, 0, 0, 0, 0, 0, 0, 0, 0, 0, 0, 0, 0, 0, 0, 0, 0, 0, 0, 0, 0, 0, 0, 0, 0, 0, 0, 0, 0, 0, 0, 0, 0, 0, 0, 0, 0, 0, 0, 0, 0, 0, 0, 0, 0, 0, 0, 0, 0, 0, 0, 0, 0, 0, 0, 0, 0, 0, 0, 0, 0, 0, 0, 0, 0, 0, 0, 0, 0, 0, 0, 0, 0, 0, 0, 0, 0, 0, 0, 0, 0, 0, 0, 0, 0, 0, 0, 0, 0, 0, 0, 0, 0, 0, 0, 0, 0, 0, 0, 0, 0, 0, 0, 0, 0, 0, 0, 0, 0, 0, 0, 0, 0, 0, 0, 0, 0, 0, 0, 0, 0, 0, 0, 0, 0, 0, 0, 0, 0, 0, 0, 0, 0, 0, 0, 0, 0, 0, 0, 0, 0, 0, 0, 0, 0, 0, 0, 0, 0, 0, 0, 0, 0, 0, 0, 0, 0, 0, 0, 0, 0, 0, 0, 0, 0, 0, 0, 0, 0, 0, 0, 0, 0, 0, 0, 0, 0, 0, 0, 0, 0, 0, 0, 0, 0, 0, 0, 0, 0, 0, 0, 0, 0, 0, 0, 0, 0, 0, 0, 0, 0, 0, 0, 0, 0, 0, 0, 1, 0, 0, 0, 0, 0, 0, 0, 0, 0, 0, 0, 0, 0, 0, 0, 0, 0, 0, 0, 0, 0, 0, 0, 0, 0, 0, 0, 0, 0, 0, 0, 0, 0, 0, 0, 0, 0, 0, 0, 0, 0, 0, 0, 0, 0, 0, 0, 0, 0, 0, 0, 0, 0, 0, 0, 0, 0, 0, 0, 0, 0, 0, 0, 0, 0, 0, 0, 0, 0, 0, 0, 0, 0, 0, 0, 0, 0, 0, 0, 0, 0, 0, 0, 0, 0, 0, 1, 0, 0, 0, 0, 0, 0, 0, 0, 0, 0, 0, 0, 0, 0, 0, 0, 0, 0, 0, 0, 0, 0, 0, 0, 0, 0, 0, 0, 0, 0, 0, 0, 0, 0, 0, 0, 0, 0, 0, 0, 0, 0, 0, 0, 0, 0, 0, 0, 0, 0, 0, 0, 0, 0, 0, 0, 0, 0, 0, 0, 0, 0, 0, 0, 0, 0, 0, 0, 0, 0, 0, 0, 0, 0, 0, 0, 0, 0, 0, 0, 0, 0, 0, 0, 0, 0, 0, 0, 0, 0, 0, 0, 0, 0, 0, 0, 0, 0, 0, 0, 0, 0, 0, 0, 0, 0, 0, 0, 0, 0, 0, 0, 0, 0, 0, 0, 0, 0, 0, 0, 0, 0, 0, 0, 0, 0, 0, 0, 0, 0, 0, 0, 0, 0, 0, 0, 0, 0, 0, 0, 0, 0, 0, 0, 0, 0, 0, 0, 0, 0, 0, 0, 0, 0, 0, 0, 0, 0, 0, 0, 0, 0, 0, 0, 0, 0, 0, 0, 0, 0, 0, 0, 0, 0, 0, 0, 0, 0, 0, 0, 0, 0, 0, 0, 0, 0, 0, 0, 0, 0, 0, 0, 0, 0, 0, 0, 0, 0, 0, 0, 0, 0, 0, 0, 0, 0, 0, 0, 0, 0, 0, 0, 0, 0, 0, 0, 0, 0, 0, 0, 0, 0, 0, 0, 0, 0, 0, 0, 0, 0, 0, 0, 0, 0, 0, 0, 0, 0, 0, 0, 0, 0, 0, 0, 0, 0, 0, 0, 0, 0, 0, 0, 1, 0, 0, 0, 0, 0, 0, 0, 0, 0, 0, 0, 0, 0, 0, 0, 0, 0, 0, 0, 0, 0, 0, 0, 0, 0, 0, 0, 0, 0, 0, 0, 0, 0, 0, 0, 0, 0, 0, 0, 0, 0, 0, 0, 0, 0, 0, 0, 0, 0, 0, 0, 0, 0, 0, 0, 1, 0, 0, 0, 0, 0, 0, 0, 0, 0, 0, 0, 0, 0, 0, 0, 0, 0, 0, 0, 0, 0, 0, 0, 0, 0, 0, 0, 0, 0, 0, 0, 0, 0, 0, 0, 0, 0, 0, 0, 0, 0, 0, 0, 0, 0, 0, 0, 0, 0, 0, 0, 0, 0, 0, 0, 0, 0, 0, 0, 0, 0, 0, 0, 0, 0, 0, 0, 0, 0, 0, 0, 0, 0, 0, 0, 0, 0, 0, 0, 0, 0, 0, 0, 0, 0, 0, 0, 0, 0, 0, 0, 0, 0, 0, 0, 0, 0, 0, 0, 0, 0, 0, 0, 0, 0, 0, 0, 0, 0, 0, 0, 0, 0, 0, 0, 0, 0, 0, 0, 0, 0, 0, 0, 0, 0, 0, 0, 0, 0, 0, 0, 0, 0, 0, 0, 0, 0, 0, 0, 0, 0, 0, 0, 0, 0, 0, 0, 0, 0, 0, 0, 0, 0, 0, 0, 0, 0, 0, 0, 0, 0, 0, 0, 0, 0, 0, 0, 0, 0, 0, 0, 0, 0, 0, 0, 0, 0, 0, 0, 0, 0, 0, 0, 0, 0, 0, 0, 0, 0, 0, 0, 0, 0, 0, 0, 0, 0, 0, 0, 0, 0, 0, 0, 0, 0, 0, 0, 0, 0, 0, 0, 0, 0, 0, 0, 0, 0, 0, 0, 0, 0, 0, 0, 0, 0, 0, 0, 0, 0, 0, 0, 0, 0, 0, 0, 0, 0, 0, 0, 0, 0, 0, 0, 0, 0, 0, 0, 0, 0, 0, 0, 0, 0, 0, 0, 0, 0, 0, 0, 0, 0, 0, 0, 0, 0, 0, 0, 0, 0, 0, 0, 0, 0, 0, 0, 0, 0, 0, 0, 0, 0, 0, 0, 0, 0, 0, 0, 0, 0, 0, 0, 0, 0, 0, 0, 0, 0, 0, 0, 0, 0, 0, 0, 0, 0, 0, 0, 0, 0, 0, 0, 0, 0, 0, 0, 0, 0, 0, 0, 0, 0, 0, 0, 0, 0, 0, 0, 0, 0, 0, 0, 0, 0, 0, 0, 0, 0, 0, 0, 0, 0, 0, 0, 0, 0, 0, 0, 0, 0, 0, 0, 0, 0, 0, 0, 0, 0, 0, 0, 0, 0, 0, 0, 0, 0, 0, 0, 0, 0, 0, 0, 0, 0, 0, 0, 0, 0, 0, 0, 0, 0, 0, 0, 0, 0, 0, 0, 0, 0, 0, 0, 0, 0, 0, 0, 0, 0, 0, 0, 0, 0, 0, 0, 0, 0, 0, 0, 0, 0, 0, 0, 0, 0, 0, 0, 0, 0, 0, 0, 0, 0, 0, 0, 0, 0, 0, 0, 0, 0, 0, 0, 0, 0, 0, 0, 0, 0, 0, 0, 0, 0, 0, 0, 0, 0, 0, 0, 0, 0, 0, 0, 0, 0, 0, 0, 0, 0, 0, 0, 0, 0, 0, 0, 0, 0, 0, 0, 0, 0, 0, 0, 0, 0, 0, 0, 0, 0, 0, 0, 0, 0, 0, 0, 0, 0, 0, 0, 0, 0, 0, 0, 0, 0, 0, 0, 0, 0, 0, 0, 0, 0, 0, 0, 0, 0, 0, 0, 0, 0, 0, 0, 0, 0, 0, 0, 0, 0, 0, 0, 0, 0, 0, 0, 0, 0, 0, 0, 0, 0, 0, 0, 0, 0, 0, 0, 0, 0, 0, 0, 0, 0, 0, 0, 0, 0, 0, 0, 0, 0, 0, 0, 0, 0, 0, 0, 0, 0, 0, 0, 0, 0, 0, 0, 0, 0, 0, 0, 0, 0, 0, 0, 0, 0, 0, 0, 0, 0, 0, 0, 0, 0, 0, 0, 0, 0, 0, 0, 0, 0, 0, 0, 0, 0, 0, 0, 0, 0, 0, 0, 0, 0, 0, 0, 0, 0, 0, 0, 0, 0, 0, 0, 0, 0, 0, 0, 0, 0, 0, 0, 0, 0, 0, 0, 0, 0, 0, 0, 0, 0, 0, 0, 0, 0, 0, 0, 0, 0, 0, 0, 0, 0, 0, 0, 0, 0, 0, 0, 0, 0, 0, 0, 0, 0, 0, 0, 0, 0, 0, 0, 0, 0, 0, 0, 0, 0, 0, 0, 0, 0, 0, 0, 0, 0, 0, 0, 0, 0, 0, 0, 0, 0, 1, 0, 0, 0, 0, 0, 0, 0, 0, 0, 0, 0, 0, 0, 0, 0, 0, 0, 0, 0, 0, 0, 0, 0, 0, 0, 0, 0, 0, 0, 0, 0, 0, 0, 0, 0, 0, 0, 0, 0, 0, 0, 0, 0, 0, 0, 0, 0, 0, 0, 0, 0, 0, 0, 0, 0, 0, 0, 0, 0, 0, 0, 0, 0, 0, 0, 0, 0, 0, 0, 0, 0, 0, 0, 0, 1, 0, 0, 0, 0, 0, 0, 0, 0, 0, 0, 0, 0, 0, 0, 0, 0, 0, 0, 0, 0, 1, 0, 0, 1, 0, 0, 0, 0, 0, 0, 0, 0, 0, 0, 0, 0, 0, 0, 0, 0, 0, 0, 0, 0, 0, 0, 0, 0, 0, 0, 0, 0, 0, 0, 0, 0, 0, 0, 0, 0, 0, 0, 0, 0, 0, 0, 0, 0, 0, 0, 0, 0, 0, 0, 0, 0, 0, 0, 0, 0, 0, 0, 0, 0, 0, 0, 0, 0, 0, 0, 0, 0, 0, 0, 0, 0, 0, 0, 0, 0, 0, 0, 0, 0, 0, 0, 0, 0, 0, 0, 0, 0, 0, 0, 0, 0, 0, 0, 0, 0, 0, 0, 0, 0, 0, 0, 0, 0, 0, 0, 0, 0, 0, 0, 0, 0, 0, 0, 0, 0, 0, 0, 0, 0, 0, 0, 0, 0, 0, 0, 0, 0, 0, 0, 0, 0, 0, 0, 0, 0, 0, 0, 0, 0, 0, 0, 0, 0, 0, 0, 0, 0, 0, 0, 0, 0, 0, 0, 0, 0, 0, 0, 0, 0, 0, 0, 0, 0, 0, 0, 0, 0, 0, 0, 0, 0, 0, 0, 0, 0, 0, 0, 0, 0, 0, 0, 0, 0, 0, 0, 0, 0, 0, 0, 0, 0, 0, 0, 0, 0, 0, 0, 0, 0, 0, 0, 0, 0, 0, 0, 0, 0, 0, 0, 0, 0, 0, 0, 0, 0, 0, 0, 0, 0, 0, 0, 0, 0, 0, 0, 0, 0, 0, 0, 0, 0, 0, 0, 0, 0, 0, 0, 0, 0, 0, 0, 0, 0, 0, 0, 0, 0, 0, 0, 0, 0, 0, 0, 0, 0, 0, 0, 0, 0, 0, 0, 0, 0, 0, 0, 0, 0, 0, 0, 0, 0, 0, 0, 0, 0, 0, 0, 0, 0, 0, 0, 0, 0, 0, 0, 0, 0, 0, 0, 0, 0, 0, 0, 0, 0, 0, 0, 0, 0, 0, 0, 0, 0, 0, 0, 0, 0, 0, 0, 0, 0, 0, 0, 0, 0, 0, 0, 0, 0, 0, 0, 0, 0, 0, 0, 0, 0, 0, 0, 0, 0, 0, 0, 0, 0, 0, 0, 0, 0, 0, 0, 0, 0, 0, 0, 0, 0, 0, 0, 0, 0, 0, 0, 0, 0, 0, 0, 0, 0, 0, 0, 0, 0, 0, 0, 0, 0, 0, 0, 0, 0, 0, 0, 0, 0, 0, 0, 0, 0, 0, 0, 0, 0, 0, 0, 0, 0, 0, 0, 0, 0, 0, 0, 0, 0, 0, 0, 0, 0, 0, 0, 0, 0, 0, 0, 0, 0, 0, 0, 0, 0, 0, 0, 0, 0, 0, 0, 0, 0, 0, 0, 0, 0, 0, 0, 0, 0, 0, 0, 0, 0, 0, 0, 0, 0, 0, 0, 0, 0, 0, 0, 0, 0, 0, 0, 0, 0, 0, 0, 0, 0, 0, 0, 0, 0, 0, 0, 0, 0, 0, 0, 0, 0, 0, 0, 1, 0, 0, 0, 0, 0, 0, 0, 0, 0, 0, 0, 0, 0, 0, 0, 0, 0, 0, 0, 0, 0, 0, 0, 0, 0, 0, 0, 0, 0, 0, 0, 0, 0, 0, 0, 0, 0, 0, 0, 0, 0, 0, 0, 0, 0, 0, 0, 0, 0, 0, 0, 0, 0, 0, 0, 0, 0, 0, 0, 0, 0, 0, 0, 0, 0, 0, 0, 0, 0, 0, 0, 0, 0, 0, 0, 0, 0, 0, 0, 0, 0, 0, 0, 0, 0, 0, 0, 0, 0, 0, 0, 0, 0, 0, 0, 0, 0, 0, 0, 0, 0, 0, 0, 0, 0, 0, 0, 0, 0, 0, 0, 0, 0, 0, 0, 0, 0, 0, 0, 0, 0, 0, 0, 0, 0, 0, 0, 0, 0, 0, 0, 0, 0, 0, 0, 0, 0, 0, 0, 0, 0, 0, 0, 0, 0, 0, 0, 0, 0, 0, 0, 0, 0, 0, 0, 0, 0, 0, 0, 0, 0, 0, 0, 0, 0, 0, 0, 0, 0, 0, 0, 0, 0, 0, 0, 0, 0, 0, 0, 0, 0, 0, 0, 0, 0, 0, 0, 0, 0, 0, 0, 0, 0, 0, 0, 0, 0, 0, 0, 0, 0, 0, 0, 0, 0, 0, 0, 0, 0, 0, 0, 0, 0, 0, 0, 0, 0, 0, 0, 0, 0, 0, 0, 0, 0, 0, 0, 0, 0, 0, 0, 0, 0, 0, 0, 0, 0, 0, 0, 0, 0, 0, 0, 0, 0, 0, 0, 0, 0, 0, 0, 0, 0, 0, 0, 0, 0, 0, 0, 0, 0, 0, 0, 0, 0, 0, 0, 0, 0, 0, 0, 0, 0, 0, 0, 0, 0, 0, 0, 0, 0, 0, 0, 0, 0, 0, 0, 0, 0, 0, 0, 0, 0, 0, 0, 0, 0, 0, 0, 0, 0, 0, 0, 0, 0, 0, 0, 0, 0, 0, 0, 0, 0, 0, 0, 0, 0, 0, 0, 0, 0, 0, 0, 0, 0, 0, 0, 0, 0, 0, 0, 0, 0, 0, 0, 0, 0, 0, 0, 0, 0, 0, 0, 0, 0, 0, 0, 0, 0, 0, 0, 0, 0, 0, 0, 0, 0, 0, 0, 0, 0, 0, 0, 0, 0, 0, 0, 0, 0, 0, 0, 0, 0, 0, 0, 0, 0, 0, 0, 0, 0, 0, 0, 0, 0, 0, 0, 0, 0, 0, 0, 0, 0, 0, 0, 0, 0, 0, 0, 0, 0, 0, 0, 0, 0, 0, 0, 0, 0, 0, 0, 0, 0, 0, 0, 0, 0, 0, 0, 0, 0, 0, 0, 0, 0, 0, 0, 0, 0, 0, 0, 0, 0, 0, 0, 0, 0, 0, 0, 0, 0, 0, 0, 0, 0, 0, 0, 0, 0, 0, 0, 0, 0, 0, 0, 0, 0, 0, 0, 0, 0, 0, 0, 0, 0, 0, 0, 0, 0, 0, 0, 0, 0, 0, 0, 0, 0, 0, 0, 0, 0, 0, 0, 0, 0, 0, 0, 0, 0, 0, 0, 0, 0, 0, 0, 0, 0, 0, 0, 0, 0, 0, 0, 0, 0, 0, 0, 0, 0, 0, 0, 0, 1, 0, 0, 0, 0, 0, 0, 0, 0, 0, 0, 0, 0, 0, 0, 0, 0, 0, 0, 0, 0, 0, 0, 0, 0, 0, 0, 0, 0, 0, 0, 0, 0, 0, 0, 0, 2, 0, 0, 0, 0, 0, 0, 0, 0, 0, 0, 0, 0, 0, 0, 0, 0, 0, 0, 0, 0, 0, 0, 0, 0, 0, 0, 0, 0, 0, 0, 0, 0, 0, 0, 0, 0, 0, 0, 0, 0, 1, 0, 0, 0, 0, 0, 0, 0, 0, 0, 0, 0, 0, 0, 0, 0, 0, 0, 0, 0, 0, 0, 0, 0, 0, 0, 0, 0, 0, 0, 0, 0, 0, 0, 0, 0, 0, 0, 0, 0, 0, 0, 0, 0, 0, 0, 0, 0, 0, 0, 0, 0, 0, 0, 0, 0, 0, 0, 0, 0, 0, 0, 0, 0, 0, 0, 0, 0, 0, 0, 0, 0, 0, 0, 0, 0, 0, 0, 0, 0, 0, 0, 0, 0, 0, 0, 0, 0, 0, 0, 0, 0, 0, 0, 0, 0, 0, 0, 0, 0, 0, 0, 0, 0, 0, 0, 0, 0, 0, 0, 0, 0, 0, 0, 0, 0, 0, 0, 0, 0, 0, 0, 0, 0, 0, 0, 0, 0, 0, 0, 0, 0, 0, 0, 0, 0, 0, 0, 0, 0, 0, 0, 0, 0, 0, 0, 0, 0, 0, 0, 0, 0, 0, 0, 0, 0, 0, 0, 0, 0, 0, 0, 0, 0, 0, 0, 0, 0, 0, 0, 0, 0, 0, 0, 0, 0, 0, 0, 0, 0, 0, 0, 0, 0, 0, 0, 0, 0, 0, 0, 0, 0, 0, 0, 0, 0, 0, 0, 0, 0, 0, 0, 0, 0, 0, 0, 0, 0, 0, 0, 0, 0, 0, 0, 0, 0, 0, 0, 0, 0, 0, 0, 0, 0, 0, 0, 0, 0, 0, 0, 0, 0, 0, 0, 0, 0, 0, 0, 0, 0, 0, 0, 0, 0, 0, 0, 0, 0, 0, 0, 0, 0, 0, 0, 0, 0, 0, 0, 0, 0, 0, 0, 0, 0, 0, 0, 0, 0, 0, 0, 0, 0, 0, 0, 0, 0, 0, 0, 0, 0, 0, 0, 0, 0, 0, 0, 0, 0, 0, 0, 0, 0, 0, 0, 0, 0, 0, 0, 0, 0, 0, 0, 0, 0, 0, 0, 0, 0, 0, 0, 0, 0, 0, 0, 0, 0, 0, 0, 0, 0, 0, 0, 0, 0, 0, 0, 0, 0, 0, 0, 0, 0, 0, 0, 0, 0, 0, 0, 0, 0, 0, 0, 0, 0, 0, 0, 0, 0, 0, 0, 0, 0, 0, 0, 0, 0, 0, 0, 0, 0, 0, 0, 0, 0, 0, 0, 0, 0, 0, 0, 0, 0, 0, 0, 0, 0, 0, 0, 0, 0, 0, 0, 0, 0, 0, 0, 0, 0, 0, 0, 0, 0, 0, 0, 0, 0, 0, 0, 0, 0, 0, 0, 0, 0, 0, 0, 0, 0, 0, 0, 0, 0, 0, 0, 0, 0, 0, 0, 0, 0, 0, 0, 0, 0, 0, 0, 0, 0, 0, 0, 0, 0, 0, 0, 0, 0, 0, 0, 0, 0, 0, 0, 0, 0, 0, 0, 0, 0, 0, 0, 0, 0, 0, 0, 0, 0, 0, 0, 0, 0, 0, 0, 0, 0, 0, 0, 0, 0, 0, 0, 0, 0, 0, 0, 0, 0, 0, 0, 0, 0, 0, 0, 0, 0, 0, 0, 0, 0, 0, 0, 0, 0, 0, 0, 0, 0, 0, 0, 1, 0, 0, 0, 0, 0, 0, 0, 0, 0, 0, 0, 0, 0, 0, 0, 0, 0, 0, 0, 0, 0, 0, 0, 0, 0, 0, 0, 0, 0, 0, 0, 0, 0, 0, 0, 0, 0, 0, 0, 0, 0, 0, 0, 0, 0, 0, 0, 0, 0, 0, 0, 0, 0, 0, 0, 0, 0, 0, 0, 0, 0, 0, 0, 0, 0, 0, 0, 0, 0, 0, 0, 0, 0, 0, 0, 0, 0, 0, 0, 0, 0, 0, 0, 0, 0, 0, 0, 0, 0, 0, 0, 0, 0, 0, 0, 0, 0, 0, 0, 0, 0, 0, 0, 0, 0, 0, 0, 0, 0, 0, 2, 0, 0, 0, 0, 0, 0, 0, 0, 0, 0, 0, 0, 0, 0, 0, 0, 0, 0, 0, 0, 0, 0, 0, 0, 0, 0, 0, 0, 0, 0, 0, 0, 0, 0, 0, 0, 0, 0, 0, 0, 0, 0, 0, 0, 0, 0, 0, 0, 0, 0, 0, 0, 0, 0, 0, 0, 0, 0, 0, 0, 0, 0, 0, 0, 0, 0, 0, 0, 0, 0, 0, 0, 0, 0, 0, 0, 0, 0, 0, 0, 0, 0, 0, 0, 0, 0, 0, 0, 0, 0, 0, 0, 0, 0, 0, 0, 0, 0, 0, 0, 0, 0, 0, 0, 0, 0, 0, 0, 0, 0, 0, 0, 0, 0, 0, 0, 0, 0, 0, 0, 0, 0, 0, 0, 0, 0, 0, 0, 0, 0, 0, 0, 0, 0, 0, 0, 0, 0, 0, 0, 0, 0, 0, 0, 0, 0, 0, 0, 0, 0, 0, 0, 0, 0, 0, 0, 0, 0, 0, 0, 0, 0, 0, 0, 0, 0, 0, 0, 0, 0, 0, 0, 0, 0, 0, 0, 0, 0, 0, 0, 0, 0, 0, 0, 0, 0, 0, 0, 0, 0, 0, 0, 0, 0, 0, 0, 0, 0, 0, 0, 0, 0, 0, 0, 0, 0, 0, 0, 0, 0, 0, 0, 0, 0, 0, 0, 0, 0, 0, 0, 0, 0, 0, 0, 0, 0, 0, 0, 0, 0, 0, 0, 0, 0, 0, 0, 0, 0, 0, 0, 0, 0, 0, 0, 0, 0, 0, 0, 0, 0, 0, 0, 0, 0, 0, 0, 0, 0, 0, 0, 0, 0, 0, 0, 0, 0, 0, 0, 0, 0, 0, 0, 0, 0, 0, 0, 0, 0, 0, 0, 0, 0, 0, 0, 0, 0, 0, 0, 0, 0, 0, 0, 0, 0, 0, 0, 0, 0, 0, 0, 0, 0, 0, 0, 0, 0, 0, 0, 0, 0, 0, 0, 0, 0, 0, 0, 0, 0, 0, 0, 0, 0, 0, 0, 0, 0, 0, 0, 0, 0, 0, 0, 0, 0, 0, 0, 0, 0, 0, 0, 0, 0, 0, 0, 0, 0, 0, 0, 0, 0, 0, 0, 0, 0, 0, 0, 0, 0, 0, 0, 0, 0, 0, 0, 0, 0, 0, 0, 0, 0, 0, 0, 0, 0, 0, 0, 0, 0, 0, 0, 0, 0, 0, 0, 0, 0, 0, 0, 0, 0, 0, 0, 0, 0, 0, 0, 0, 0, 0, 0, 0, 0, 0, 0, 0, 0, 0, 0, 0, 0, 0, 0, 0, 0, 0, 0, 0, 0, 0, 0, 0, 0, 0, 0, 0, 0, 0, 0, 0, 0, 0, 0, 0, 0, 0, 0, 0, 0, 0, 0, 0, 0, 0, 0, 0, 0, 0, 0, 0, 0, 0, 0, 0, 0, 0, 0, 0, 0, 0, 0, 0, 0, 0, 0, 0, 0, 0, 0, 0, 0, 0, 0, 0, 0, 0, 0, 0, 0, 0, 0, 0, 0, 0, 0, 0, 0, 0, 0, 0, 0, 0, 0, 0, 0, 0, 0, 0, 0, 0, 0, 0, 0, 0, 0, 0, 0, 0, 0, 0, 0, 0, 0, 0, 0, 0, 0, 0, 0, 0, 0, 0, 0, 0, 0, 0, 0, 0, 0, 0, 0, 0, 0, 0, 0, 0, 0, 0, 0, 0, 0, 0, 0, 0, 0, 0, 0, 0, 0, 0, 0, 0, 0, 0, 0, 0, 0, 0, 0, 0, 0, 0, 0, 0, 0, 0, 0, 0, 0, 0, 0, 0, 0, 0, 0, 0, 0, 0, 0, 0, 0, 0, 0, 0, 0, 0, 0, 0, 0, 0, 0, 0, 0, 0, 0, 0, 0, 0, 0, 0, 0, 0, 0, 0, 0, 0, 0, 0, 0, 0, 0, 0, 0, 0, 0, 0, 0, 0, 0, 0, 0, 0, 0, 0, 0, 0, 0, 0, 0, 0, 0, 0, 0, 0, 0, 0, 0, 0, 0, 0, 0, 0, 0, 0, 0, 0, 0, 0, 0, 0, 0, 0, 0, 0, 0, 0, 0, 0, 0, 0, 0, 0, 0, 0, 0, 0, 0, 0, 0, 0, 0, 0, 0, 0, 0, 0, 0, 0, 0, 0, 0, 0, 0, 0, 0, 0, 0, 0, 0, 0, 0, 1, 0, 0, 0, 0, 0, 0, 0, 0, 0, 0, 0, 0, 0, 0, 0, 0, 0, 0, 0, 0, 0, 0, 0, 0, 0, 0, 0, 0, 0, 0, 0, 0, 0, 0, 0, 0, 0, 0, 0, 0, 0, 0, 0, 0, 0, 0, 0, 0, 0, 0, 0, 0, 0, 0, 0, 0, 0, 0, 0, 0, 0, 0, 0, 0, 0, 0, 0, 0, 0, 0, 0, 0, 0, 0, 0, 0, 0, 0, 0, 0, 0, 0, 0, 0, 0, 0, 0, 0, 0, 0, 0, 0, 0, 0, 0, 0, 0, 0, 0, 0, 0, 0, 0, 0, 0, 0, 0, 1, 0, 0, 0, 0, 0, 0, 0, 0, 0, 0, 0, 0, 0, 0, 0, 0, 0, 0, 0, 0, 0, 0, 0, 0, 0, 0, 0, 0, 0, 0, 0, 0, 0, 0, 0, 0, 0, 0, 0, 0, 0, 0, 0, 0, 0, 0, 0, 0, 0, 0, 0, 0, 0, 0, 0, 0, 0, 0, 0, 0, 0, 0, 0, 0, 0, 0, 0, 0, 0, 0, 0, 0, 0, 0, 0, 0, 0, 0, 0, 0, 0, 0, 0, 0, 0, 0, 0, 0, 0, 0, 0, 0, 0, 0, 0, 0, 0, 0, 0, 0, 0, 0, 0, 0, 0, 0, 0, 0, 0, 0, 0, 0, 0, 0, 0, 0, 0, 0, 0, 0, 0, 0, 0, 0, 0, 0, 0, 0, 0, 0, 0, 0, 0, 0, 0, 0, 0, 0, 0, 0, 0, 0, 0, 0, 0, 0, 0, 0, 0, 0, 0, 0, 0, 0, 0, 0, 0, 0, 0, 0, 0, 0, 0, 0, 0, 0, 0, 0, 0, 0, 0, 0, 0, 0, 0, 0, 0, 0, 0, 0, 0, 0, 0, 0, 0, 0, 0, 0, 0, 0, 0, 0, 0, 0, 0, 0, 0, 0, 0, 0, 0, 0, 0, 0, 0, 0, 0, 0, 0, 0, 0, 0, 0, 0, 0, 0, 0, 0, 0, 0, 0, 0, 0, 0, 0, 0, 0, 0, 0, 0, 0, 0, 0, 0, 0, 0, 0, 0, 0, 0, 0, 0, 0, 0, 0, 0, 0, 0, 0, 0, 0, 0, 0, 0, 0, 0, 0, 0, 0, 0, 0, 0, 0, 0, 0, 0, 0, 0, 0, 0, 0, 0, 0, 0, 0, 0, 0, 0, 0, 0, 0, 0, 0, 0, 0, 0, 0, 0, 0, 0, 0, 0, 0, 0, 0, 0, 0, 0, 0, 0, 0, 0, 0, 0, 0, 0, 0, 0, 0, 0, 0, 0, 0, 0, 0, 0, 0, 0, 0, 0, 0, 0, 0, 0, 0, 0, 0, 0, 0, 0, 0, 0, 0, 0, 0, 0, 0, 0, 0, 0, 0, 0, 0, 0, 0, 0, 0, 0, 0, 0, 0, 0, 0, 0, 0, 0, 0, 0, 0, 0, 0, 0, 0, 0, 0, 0, 0, 0, 0, 0, 0, 0, 0, 0, 0, 0, 0, 0, 0, 0, 0, 0, 0, 0, 0, 0, 0, 0, 0, 0, 0, 0, 0, 0, 0, 0, 0, 0, 0, 0, 0, 0, 0, 0, 0, 0, 0, 0, 0, 0, 0, 0, 0, 0, 0, 0, 0, 0, 0, 0, 0, 0, 0, 0, 0, 0, 0, 0, 0, 0, 0, 0, 0, 0, 0, 0, 0, 0, 0, 0, 0, 0, 0, 0, 0, 0, 0, 0, 0, 0, 0, 0, 0, 0, 0, 0, 0, 0, 0, 0, 0, 0, 0, 2, 0, 1, 0], type: <class 'list'>, valid types: <class 'bytes'>, <class 'bytearray'>, file-like object",
     "output_type": "error",
     "traceback": [
      "\u001b[0;31m---------------------------------------------------------------------------\u001b[0m",
      "\u001b[0;31mParamValidationError\u001b[0m                      Traceback (most recent call last)",
      "\u001b[0;32m<ipython-input-46-cfd9bf5e600c>\u001b[0m in \u001b[0;36m<module>\u001b[0;34m\u001b[0m\n\u001b[1;32m      4\u001b[0m response = runtime.invoke_endpoint(EndpointName = xgb_predictor.endpoint, # The name of the endpoint we created\n\u001b[1;32m      5\u001b[0m                                        \u001b[0mContentType\u001b[0m \u001b[0;34m=\u001b[0m \u001b[0;34m'text/csv'\u001b[0m\u001b[0;34m,\u001b[0m                     \u001b[0;31m# The data format that is expected\u001b[0m\u001b[0;34m\u001b[0m\u001b[0;34m\u001b[0m\u001b[0m\n\u001b[0;32m----> 6\u001b[0;31m                                        Body = test_bow)  #### and the data itself (a list of integers)\n\u001b[0m",
      "\u001b[0;32m~/anaconda3/envs/amazonei_pytorch_latest_p36/lib/python3.6/site-packages/botocore/client.py\u001b[0m in \u001b[0;36m_api_call\u001b[0;34m(self, *args, **kwargs)\u001b[0m\n\u001b[1;32m    355\u001b[0m                     \"%s() only accepts keyword arguments.\" % py_operation_name)\n\u001b[1;32m    356\u001b[0m             \u001b[0;31m# The \"self\" in this scope is referring to the BaseClient.\u001b[0m\u001b[0;34m\u001b[0m\u001b[0;34m\u001b[0m\u001b[0;34m\u001b[0m\u001b[0m\n\u001b[0;32m--> 357\u001b[0;31m             \u001b[0;32mreturn\u001b[0m \u001b[0mself\u001b[0m\u001b[0;34m.\u001b[0m\u001b[0m_make_api_call\u001b[0m\u001b[0;34m(\u001b[0m\u001b[0moperation_name\u001b[0m\u001b[0;34m,\u001b[0m \u001b[0mkwargs\u001b[0m\u001b[0;34m)\u001b[0m\u001b[0;34m\u001b[0m\u001b[0;34m\u001b[0m\u001b[0m\n\u001b[0m\u001b[1;32m    358\u001b[0m \u001b[0;34m\u001b[0m\u001b[0m\n\u001b[1;32m    359\u001b[0m         \u001b[0m_api_call\u001b[0m\u001b[0;34m.\u001b[0m\u001b[0m__name__\u001b[0m \u001b[0;34m=\u001b[0m \u001b[0mstr\u001b[0m\u001b[0;34m(\u001b[0m\u001b[0mpy_operation_name\u001b[0m\u001b[0;34m)\u001b[0m\u001b[0;34m\u001b[0m\u001b[0;34m\u001b[0m\u001b[0m\n",
      "\u001b[0;32m~/anaconda3/envs/amazonei_pytorch_latest_p36/lib/python3.6/site-packages/botocore/client.py\u001b[0m in \u001b[0;36m_make_api_call\u001b[0;34m(self, operation_name, api_params)\u001b[0m\n\u001b[1;32m    647\u001b[0m         }\n\u001b[1;32m    648\u001b[0m         request_dict = self._convert_to_request_dict(\n\u001b[0;32m--> 649\u001b[0;31m             api_params, operation_model, context=request_context)\n\u001b[0m\u001b[1;32m    650\u001b[0m \u001b[0;34m\u001b[0m\u001b[0m\n\u001b[1;32m    651\u001b[0m         \u001b[0mservice_id\u001b[0m \u001b[0;34m=\u001b[0m \u001b[0mself\u001b[0m\u001b[0;34m.\u001b[0m\u001b[0m_service_model\u001b[0m\u001b[0;34m.\u001b[0m\u001b[0mservice_id\u001b[0m\u001b[0;34m.\u001b[0m\u001b[0mhyphenize\u001b[0m\u001b[0;34m(\u001b[0m\u001b[0;34m)\u001b[0m\u001b[0;34m\u001b[0m\u001b[0;34m\u001b[0m\u001b[0m\n",
      "\u001b[0;32m~/anaconda3/envs/amazonei_pytorch_latest_p36/lib/python3.6/site-packages/botocore/client.py\u001b[0m in \u001b[0;36m_convert_to_request_dict\u001b[0;34m(self, api_params, operation_model, context)\u001b[0m\n\u001b[1;32m    695\u001b[0m             api_params, operation_model, context)\n\u001b[1;32m    696\u001b[0m         request_dict = self._serializer.serialize_to_request(\n\u001b[0;32m--> 697\u001b[0;31m             api_params, operation_model)\n\u001b[0m\u001b[1;32m    698\u001b[0m         \u001b[0;32mif\u001b[0m \u001b[0;32mnot\u001b[0m \u001b[0mself\u001b[0m\u001b[0;34m.\u001b[0m\u001b[0m_client_config\u001b[0m\u001b[0;34m.\u001b[0m\u001b[0minject_host_prefix\u001b[0m\u001b[0;34m:\u001b[0m\u001b[0;34m\u001b[0m\u001b[0;34m\u001b[0m\u001b[0m\n\u001b[1;32m    699\u001b[0m             \u001b[0mrequest_dict\u001b[0m\u001b[0;34m.\u001b[0m\u001b[0mpop\u001b[0m\u001b[0;34m(\u001b[0m\u001b[0;34m'host_prefix'\u001b[0m\u001b[0;34m,\u001b[0m \u001b[0;32mNone\u001b[0m\u001b[0;34m)\u001b[0m\u001b[0;34m\u001b[0m\u001b[0;34m\u001b[0m\u001b[0m\n",
      "\u001b[0;32m~/anaconda3/envs/amazonei_pytorch_latest_p36/lib/python3.6/site-packages/botocore/validate.py\u001b[0m in \u001b[0;36mserialize_to_request\u001b[0;34m(self, parameters, operation_model)\u001b[0m\n\u001b[1;32m    291\u001b[0m                                                     operation_model.input_shape)\n\u001b[1;32m    292\u001b[0m             \u001b[0;32mif\u001b[0m \u001b[0mreport\u001b[0m\u001b[0;34m.\u001b[0m\u001b[0mhas_errors\u001b[0m\u001b[0;34m(\u001b[0m\u001b[0;34m)\u001b[0m\u001b[0;34m:\u001b[0m\u001b[0;34m\u001b[0m\u001b[0;34m\u001b[0m\u001b[0m\n\u001b[0;32m--> 293\u001b[0;31m                 \u001b[0;32mraise\u001b[0m \u001b[0mParamValidationError\u001b[0m\u001b[0;34m(\u001b[0m\u001b[0mreport\u001b[0m\u001b[0;34m=\u001b[0m\u001b[0mreport\u001b[0m\u001b[0;34m.\u001b[0m\u001b[0mgenerate_report\u001b[0m\u001b[0;34m(\u001b[0m\u001b[0;34m)\u001b[0m\u001b[0;34m)\u001b[0m\u001b[0;34m\u001b[0m\u001b[0;34m\u001b[0m\u001b[0m\n\u001b[0m\u001b[1;32m    294\u001b[0m         return self._serializer.serialize_to_request(parameters,\n\u001b[1;32m    295\u001b[0m                                                      operation_model)\n",
      "\u001b[0;31mParamValidationError\u001b[0m: Parameter validation failed:\nInvalid type for parameter Body, value: [0, 0, 0, 0, 0, 0, 0, 0, 0, 0, 0, 0, 0, 0, 0, 0, 0, 0, 0, 0, 0, 0, 0, 0, 0, 0, 0, 0, 0, 0, 0, 0, 0, 0, 0, 0, 0, 0, 0, 0, 0, 0, 0, 0, 0, 0, 0, 0, 0, 0, 0, 0, 0, 0, 0, 0, 0, 0, 0, 0, 0, 0, 0, 0, 0, 0, 0, 0, 0, 0, 0, 0, 0, 0, 0, 0, 0, 0, 0, 0, 0, 0, 0, 0, 0, 0, 0, 0, 0, 0, 0, 0, 0, 0, 0, 0, 0, 0, 0, 0, 0, 0, 0, 0, 0, 0, 0, 0, 0, 0, 0, 0, 0, 0, 0, 0, 0, 0, 0, 0, 0, 0, 0, 0, 0, 0, 0, 0, 0, 0, 0, 0, 0, 0, 0, 0, 0, 0, 0, 0, 0, 0, 0, 0, 0, 0, 0, 0, 0, 0, 0, 0, 0, 0, 0, 0, 0, 0, 0, 0, 0, 0, 0, 0, 0, 0, 0, 0, 0, 0, 0, 0, 0, 0, 0, 0, 0, 0, 0, 0, 0, 0, 0, 0, 0, 0, 0, 0, 0, 0, 0, 0, 0, 0, 0, 0, 0, 0, 0, 0, 0, 0, 0, 0, 0, 0, 0, 0, 0, 0, 0, 0, 0, 0, 0, 0, 0, 0, 0, 0, 0, 0, 0, 0, 0, 0, 1, 0, 0, 0, 0, 0, 0, 0, 0, 0, 0, 0, 0, 0, 0, 0, 0, 0, 0, 0, 0, 0, 0, 0, 0, 0, 0, 0, 0, 0, 1, 0, 0, 0, 0, 0, 0, 0, 0, 0, 0, 0, 0, 0, 0, 0, 0, 0, 0, 0, 0, 0, 0, 0, 0, 0, 0, 0, 0, 0, 0, 0, 0, 0, 0, 0, 0, 0, 0, 0, 0, 0, 0, 0, 0, 0, 0, 0, 0, 0, 0, 0, 0, 0, 0, 0, 0, 0, 0, 0, 0, 0, 0, 0, 0, 0, 0, 0, 0, 0, 0, 0, 0, 0, 0, 0, 0, 0, 0, 0, 0, 0, 0, 0, 0, 0, 0, 0, 0, 0, 0, 0, 0, 0, 0, 0, 0, 0, 0, 0, 0, 0, 0, 0, 0, 0, 0, 0, 0, 0, 0, 0, 0, 0, 0, 0, 0, 0, 0, 0, 0, 0, 0, 0, 0, 0, 0, 0, 0, 0, 0, 0, 0, 0, 0, 0, 0, 0, 0, 0, 0, 0, 0, 0, 0, 0, 0, 0, 0, 0, 0, 0, 0, 0, 0, 0, 0, 0, 0, 0, 0, 0, 0, 0, 0, 0, 0, 0, 0, 0, 0, 0, 0, 0, 0, 0, 0, 0, 0, 0, 0, 0, 0, 0, 0, 0, 0, 0, 0, 0, 0, 0, 0, 0, 0, 0, 0, 0, 0, 0, 0, 0, 0, 0, 0, 0, 0, 0, 0, 0, 0, 0, 0, 0, 0, 0, 0, 0, 0, 0, 0, 0, 0, 0, 0, 0, 0, 0, 0, 0, 0, 0, 0, 0, 0, 0, 0, 0, 0, 0, 0, 0, 0, 0, 0, 0, 0, 0, 0, 0, 0, 0, 0, 0, 0, 0, 0, 0, 0, 0, 0, 0, 0, 0, 0, 0, 0, 0, 0, 0, 0, 0, 0, 0, 0, 0, 0, 0, 0, 0, 0, 0, 0, 0, 0, 0, 0, 0, 0, 0, 0, 0, 0, 0, 0, 0, 0, 0, 0, 0, 0, 0, 0, 0, 0, 0, 0, 0, 0, 0, 0, 0, 0, 0, 0, 0, 0, 0, 0, 0, 0, 0, 0, 0, 0, 0, 0, 0, 0, 0, 0, 0, 0, 0, 0, 0, 0, 0, 0, 0, 0, 0, 0, 0, 0, 0, 0, 0, 0, 0, 0, 0, 0, 0, 0, 0, 0, 0, 0, 0, 0, 0, 0, 0, 0, 0, 0, 0, 0, 0, 0, 0, 0, 0, 0, 0, 0, 0, 0, 0, 1, 0, 0, 0, 0, 0, 0, 0, 0, 0, 0, 0, 0, 0, 0, 0, 0, 0, 0, 0, 0, 0, 0, 0, 0, 0, 0, 0, 0, 0, 0, 0, 0, 0, 0, 0, 0, 0, 0, 0, 0, 0, 0, 0, 0, 0, 0, 0, 0, 0, 0, 0, 0, 0, 0, 0, 0, 0, 0, 0, 0, 0, 0, 0, 0, 0, 0, 0, 0, 0, 0, 0, 0, 0, 0, 0, 0, 0, 0, 0, 0, 0, 0, 0, 0, 0, 0, 0, 0, 0, 0, 0, 0, 0, 0, 0, 0, 0, 0, 0, 0, 0, 0, 0, 0, 0, 0, 0, 0, 0, 0, 0, 0, 0, 0, 0, 0, 0, 0, 0, 0, 0, 0, 0, 0, 0, 0, 0, 0, 0, 0, 0, 0, 0, 0, 0, 0, 0, 0, 0, 0, 0, 0, 0, 0, 0, 0, 0, 0, 0, 0, 0, 0, 0, 0, 0, 0, 0, 0, 0, 0, 0, 0, 0, 0, 0, 0, 0, 0, 0, 0, 0, 0, 0, 0, 0, 0, 0, 0, 0, 0, 0, 0, 0, 0, 0, 0, 0, 0, 0, 0, 0, 0, 0, 0, 0, 0, 0, 0, 0, 0, 0, 0, 0, 0, 0, 0, 0, 0, 0, 0, 0, 0, 0, 0, 0, 0, 0, 0, 0, 0, 0, 0, 0, 0, 0, 0, 0, 0, 0, 0, 0, 0, 0, 0, 0, 0, 0, 0, 0, 0, 0, 0, 0, 0, 0, 0, 0, 0, 0, 0, 0, 0, 0, 1, 0, 0, 0, 0, 0, 0, 0, 0, 0, 0, 0, 0, 0, 0, 0, 0, 0, 0, 0, 0, 0, 0, 0, 0, 0, 0, 0, 0, 0, 0, 0, 0, 0, 0, 0, 0, 0, 0, 0, 0, 0, 0, 0, 0, 0, 0, 0, 0, 0, 0, 0, 0, 0, 0, 0, 0, 0, 0, 0, 0, 0, 0, 0, 0, 0, 0, 0, 0, 0, 0, 0, 0, 0, 0, 0, 0, 0, 0, 0, 0, 0, 0, 0, 0, 0, 0, 1, 0, 0, 0, 0, 0, 0, 0, 0, 0, 0, 0, 0, 0, 0, 0, 0, 0, 0, 0, 0, 0, 0, 0, 0, 0, 0, 0, 0, 0, 0, 0, 0, 0, 0, 0, 0, 0, 0, 0, 0, 0, 0, 0, 0, 0, 0, 0, 0, 0, 0, 0, 0, 0, 0, 0, 0, 0, 0, 0, 0, 0, 0, 0, 0, 0, 0, 0, 0, 0, 0, 0, 0, 0, 0, 0, 0, 0, 0, 0, 0, 0, 0, 0, 0, 0, 0, 0, 0, 0, 0, 0, 0, 0, 0, 0, 0, 0, 0, 0, 0, 0, 0, 0, 0, 0, 0, 0, 0, 0, 0, 0, 0, 0, 0, 0, 0, 0, 0, 0, 0, 0, 0, 0, 0, 0, 0, 0, 0, 0, 0, 0, 0, 0, 0, 0, 0, 0, 0, 0, 0, 0, 0, 0, 0, 0, 0, 0, 0, 0, 0, 0, 0, 0, 0, 0, 0, 0, 0, 0, 0, 0, 0, 0, 0, 0, 0, 0, 0, 0, 0, 0, 0, 0, 0, 0, 0, 0, 0, 0, 0, 0, 0, 0, 0, 0, 0, 0, 0, 0, 0, 0, 0, 0, 0, 0, 0, 0, 0, 0, 0, 0, 0, 0, 0, 0, 0, 0, 0, 0, 0, 0, 0, 0, 0, 0, 0, 0, 0, 0, 0, 0, 0, 0, 0, 0, 0, 0, 0, 0, 0, 0, 0, 0, 0, 0, 0, 0, 0, 0, 0, 0, 0, 0, 0, 0, 0, 0, 0, 0, 0, 0, 0, 1, 0, 0, 0, 0, 0, 0, 0, 0, 0, 0, 0, 0, 0, 0, 0, 0, 0, 0, 0, 0, 0, 0, 0, 0, 0, 0, 0, 0, 0, 0, 0, 0, 0, 0, 0, 0, 0, 0, 0, 0, 0, 0, 0, 0, 0, 0, 0, 0, 0, 0, 0, 0, 0, 0, 0, 1, 0, 0, 0, 0, 0, 0, 0, 0, 0, 0, 0, 0, 0, 0, 0, 0, 0, 0, 0, 0, 0, 0, 0, 0, 0, 0, 0, 0, 0, 0, 0, 0, 0, 0, 0, 0, 0, 0, 0, 0, 0, 0, 0, 0, 0, 0, 0, 0, 0, 0, 0, 0, 0, 0, 0, 0, 0, 0, 0, 0, 0, 0, 0, 0, 0, 0, 0, 0, 0, 0, 0, 0, 0, 0, 0, 0, 0, 0, 0, 0, 0, 0, 0, 0, 0, 0, 0, 0, 0, 0, 0, 0, 0, 0, 0, 0, 0, 0, 0, 0, 0, 0, 0, 0, 0, 0, 0, 0, 0, 0, 0, 0, 0, 0, 0, 0, 0, 0, 0, 0, 0, 0, 0, 0, 0, 0, 0, 0, 0, 0, 0, 0, 0, 0, 0, 0, 0, 0, 0, 0, 0, 0, 0, 0, 0, 0, 0, 0, 0, 0, 0, 0, 0, 0, 0, 0, 0, 0, 0, 0, 0, 0, 0, 0, 0, 0, 0, 0, 0, 0, 0, 0, 0, 0, 0, 0, 0, 0, 0, 0, 0, 0, 0, 0, 0, 0, 0, 0, 0, 0, 0, 0, 0, 0, 0, 0, 0, 0, 0, 0, 0, 0, 0, 0, 0, 0, 0, 0, 0, 0, 0, 0, 0, 0, 0, 0, 0, 0, 0, 0, 0, 0, 0, 0, 0, 0, 0, 0, 0, 0, 0, 0, 0, 0, 0, 0, 0, 0, 0, 0, 0, 0, 0, 0, 0, 0, 0, 0, 0, 0, 0, 0, 0, 0, 0, 0, 0, 0, 0, 0, 0, 0, 0, 0, 0, 0, 0, 0, 0, 0, 0, 0, 0, 0, 0, 0, 0, 0, 0, 0, 0, 0, 0, 0, 0, 0, 0, 0, 0, 0, 0, 0, 0, 0, 0, 0, 0, 0, 0, 0, 0, 0, 0, 0, 0, 0, 0, 0, 0, 0, 0, 0, 0, 0, 0, 0, 0, 0, 0, 0, 0, 0, 0, 0, 0, 0, 0, 0, 0, 0, 0, 0, 0, 0, 0, 0, 0, 0, 0, 0, 0, 0, 0, 0, 0, 0, 0, 0, 0, 0, 0, 0, 0, 0, 0, 0, 0, 0, 0, 0, 0, 0, 0, 0, 0, 0, 0, 0, 0, 0, 0, 0, 0, 0, 0, 0, 0, 0, 0, 0, 0, 0, 0, 0, 0, 0, 0, 0, 0, 0, 0, 0, 0, 0, 0, 0, 0, 0, 0, 0, 0, 0, 0, 0, 0, 0, 0, 0, 0, 0, 0, 0, 0, 0, 0, 0, 0, 0, 0, 0, 0, 0, 0, 0, 0, 0, 0, 0, 0, 0, 0, 0, 0, 0, 0, 0, 0, 0, 0, 0, 0, 0, 0, 0, 0, 0, 0, 0, 0, 0, 0, 0, 0, 0, 0, 0, 0, 0, 0, 0, 0, 0, 0, 0, 0, 0, 0, 0, 0, 0, 0, 0, 0, 0, 0, 0, 0, 0, 0, 0, 0, 0, 0, 0, 0, 0, 0, 0, 0, 0, 0, 0, 0, 0, 0, 0, 0, 0, 0, 0, 0, 0, 0, 0, 0, 0, 0, 0, 0, 0, 0, 0, 0, 0, 0, 0, 0, 0, 0, 0, 0, 0, 0, 0, 0, 0, 0, 0, 0, 0, 0, 0, 0, 0, 0, 0, 0, 0, 0, 0, 0, 0, 0, 0, 0, 0, 0, 0, 0, 0, 0, 0, 0, 0, 0, 0, 0, 0, 0, 0, 0, 0, 0, 0, 0, 0, 0, 0, 0, 0, 0, 0, 0, 0, 0, 0, 0, 0, 0, 0, 0, 0, 0, 0, 0, 0, 0, 0, 0, 0, 0, 0, 0, 0, 0, 0, 0, 0, 0, 0, 0, 0, 0, 0, 0, 0, 0, 0, 0, 0, 0, 0, 0, 0, 0, 0, 0, 0, 0, 0, 0, 0, 0, 0, 0, 0, 0, 0, 0, 0, 0, 0, 0, 0, 0, 0, 0, 0, 0, 0, 0, 0, 0, 0, 0, 0, 0, 0, 0, 0, 0, 0, 0, 0, 0, 0, 0, 0, 0, 0, 0, 0, 0, 0, 0, 0, 0, 0, 0, 0, 0, 0, 0, 0, 0, 0, 0, 0, 0, 0, 0, 1, 0, 0, 0, 0, 0, 0, 0, 0, 0, 0, 0, 0, 0, 0, 0, 0, 0, 0, 0, 0, 0, 0, 0, 0, 0, 0, 0, 0, 0, 0, 0, 0, 0, 0, 0, 0, 0, 0, 0, 0, 0, 0, 0, 0, 0, 0, 0, 0, 0, 0, 0, 0, 0, 0, 0, 0, 0, 0, 0, 0, 0, 0, 0, 0, 0, 0, 0, 0, 0, 0, 0, 0, 0, 0, 1, 0, 0, 0, 0, 0, 0, 0, 0, 0, 0, 0, 0, 0, 0, 0, 0, 0, 0, 0, 0, 1, 0, 0, 1, 0, 0, 0, 0, 0, 0, 0, 0, 0, 0, 0, 0, 0, 0, 0, 0, 0, 0, 0, 0, 0, 0, 0, 0, 0, 0, 0, 0, 0, 0, 0, 0, 0, 0, 0, 0, 0, 0, 0, 0, 0, 0, 0, 0, 0, 0, 0, 0, 0, 0, 0, 0, 0, 0, 0, 0, 0, 0, 0, 0, 0, 0, 0, 0, 0, 0, 0, 0, 0, 0, 0, 0, 0, 0, 0, 0, 0, 0, 0, 0, 0, 0, 0, 0, 0, 0, 0, 0, 0, 0, 0, 0, 0, 0, 0, 0, 0, 0, 0, 0, 0, 0, 0, 0, 0, 0, 0, 0, 0, 0, 0, 0, 0, 0, 0, 0, 0, 0, 0, 0, 0, 0, 0, 0, 0, 0, 0, 0, 0, 0, 0, 0, 0, 0, 0, 0, 0, 0, 0, 0, 0, 0, 0, 0, 0, 0, 0, 0, 0, 0, 0, 0, 0, 0, 0, 0, 0, 0, 0, 0, 0, 0, 0, 0, 0, 0, 0, 0, 0, 0, 0, 0, 0, 0, 0, 0, 0, 0, 0, 0, 0, 0, 0, 0, 0, 0, 0, 0, 0, 0, 0, 0, 0, 0, 0, 0, 0, 0, 0, 0, 0, 0, 0, 0, 0, 0, 0, 0, 0, 0, 0, 0, 0, 0, 0, 0, 0, 0, 0, 0, 0, 0, 0, 0, 0, 0, 0, 0, 0, 0, 0, 0, 0, 0, 0, 0, 0, 0, 0, 0, 0, 0, 0, 0, 0, 0, 0, 0, 0, 0, 0, 0, 0, 0, 0, 0, 0, 0, 0, 0, 0, 0, 0, 0, 0, 0, 0, 0, 0, 0, 0, 0, 0, 0, 0, 0, 0, 0, 0, 0, 0, 0, 0, 0, 0, 0, 0, 0, 0, 0, 0, 0, 0, 0, 0, 0, 0, 0, 0, 0, 0, 0, 0, 0, 0, 0, 0, 0, 0, 0, 0, 0, 0, 0, 0, 0, 0, 0, 0, 0, 0, 0, 0, 0, 0, 0, 0, 0, 0, 0, 0, 0, 0, 0, 0, 0, 0, 0, 0, 0, 0, 0, 0, 0, 0, 0, 0, 0, 0, 0, 0, 0, 0, 0, 0, 0, 0, 0, 0, 0, 0, 0, 0, 0, 0, 0, 0, 0, 0, 0, 0, 0, 0, 0, 0, 0, 0, 0, 0, 0, 0, 0, 0, 0, 0, 0, 0, 0, 0, 0, 0, 0, 0, 0, 0, 0, 0, 0, 0, 0, 0, 0, 0, 0, 0, 0, 0, 0, 0, 0, 0, 0, 0, 0, 0, 0, 0, 0, 0, 0, 0, 0, 0, 0, 0, 0, 0, 0, 0, 0, 0, 0, 0, 0, 0, 0, 0, 0, 0, 0, 0, 0, 0, 0, 0, 0, 0, 0, 0, 0, 0, 0, 0, 0, 0, 0, 0, 0, 0, 0, 0, 0, 0, 0, 0, 0, 1, 0, 0, 0, 0, 0, 0, 0, 0, 0, 0, 0, 0, 0, 0, 0, 0, 0, 0, 0, 0, 0, 0, 0, 0, 0, 0, 0, 0, 0, 0, 0, 0, 0, 0, 0, 0, 0, 0, 0, 0, 0, 0, 0, 0, 0, 0, 0, 0, 0, 0, 0, 0, 0, 0, 0, 0, 0, 0, 0, 0, 0, 0, 0, 0, 0, 0, 0, 0, 0, 0, 0, 0, 0, 0, 0, 0, 0, 0, 0, 0, 0, 0, 0, 0, 0, 0, 0, 0, 0, 0, 0, 0, 0, 0, 0, 0, 0, 0, 0, 0, 0, 0, 0, 0, 0, 0, 0, 0, 0, 0, 0, 0, 0, 0, 0, 0, 0, 0, 0, 0, 0, 0, 0, 0, 0, 0, 0, 0, 0, 0, 0, 0, 0, 0, 0, 0, 0, 0, 0, 0, 0, 0, 0, 0, 0, 0, 0, 0, 0, 0, 0, 0, 0, 0, 0, 0, 0, 0, 0, 0, 0, 0, 0, 0, 0, 0, 0, 0, 0, 0, 0, 0, 0, 0, 0, 0, 0, 0, 0, 0, 0, 0, 0, 0, 0, 0, 0, 0, 0, 0, 0, 0, 0, 0, 0, 0, 0, 0, 0, 0, 0, 0, 0, 0, 0, 0, 0, 0, 0, 0, 0, 0, 0, 0, 0, 0, 0, 0, 0, 0, 0, 0, 0, 0, 0, 0, 0, 0, 0, 0, 0, 0, 0, 0, 0, 0, 0, 0, 0, 0, 0, 0, 0, 0, 0, 0, 0, 0, 0, 0, 0, 0, 0, 0, 0, 0, 0, 0, 0, 0, 0, 0, 0, 0, 0, 0, 0, 0, 0, 0, 0, 0, 0, 0, 0, 0, 0, 0, 0, 0, 0, 0, 0, 0, 0, 0, 0, 0, 0, 0, 0, 0, 0, 0, 0, 0, 0, 0, 0, 0, 0, 0, 0, 0, 0, 0, 0, 0, 0, 0, 0, 0, 0, 0, 0, 0, 0, 0, 0, 0, 0, 0, 0, 0, 0, 0, 0, 0, 0, 0, 0, 0, 0, 0, 0, 0, 0, 0, 0, 0, 0, 0, 0, 0, 0, 0, 0, 0, 0, 0, 0, 0, 0, 0, 0, 0, 0, 0, 0, 0, 0, 0, 0, 0, 0, 0, 0, 0, 0, 0, 0, 0, 0, 0, 0, 0, 0, 0, 0, 0, 0, 0, 0, 0, 0, 0, 0, 0, 0, 0, 0, 0, 0, 0, 0, 0, 0, 0, 0, 0, 0, 0, 0, 0, 0, 0, 0, 0, 0, 0, 0, 0, 0, 0, 0, 0, 0, 0, 0, 0, 0, 0, 0, 0, 0, 0, 0, 0, 0, 0, 0, 0, 0, 0, 0, 0, 0, 0, 0, 0, 0, 0, 0, 0, 0, 0, 0, 0, 0, 0, 0, 0, 0, 0, 0, 0, 0, 0, 0, 0, 0, 0, 0, 0, 0, 0, 0, 0, 0, 0, 0, 0, 0, 0, 0, 0, 0, 0, 0, 0, 0, 0, 0, 0, 0, 0, 0, 0, 0, 0, 0, 0, 0, 0, 0, 0, 0, 0, 0, 0, 0, 0, 0, 0, 0, 0, 0, 0, 0, 0, 0, 0, 1, 0, 0, 0, 0, 0, 0, 0, 0, 0, 0, 0, 0, 0, 0, 0, 0, 0, 0, 0, 0, 0, 0, 0, 0, 0, 0, 0, 0, 0, 0, 0, 0, 0, 0, 0, 2, 0, 0, 0, 0, 0, 0, 0, 0, 0, 0, 0, 0, 0, 0, 0, 0, 0, 0, 0, 0, 0, 0, 0, 0, 0, 0, 0, 0, 0, 0, 0, 0, 0, 0, 0, 0, 0, 0, 0, 0, 1, 0, 0, 0, 0, 0, 0, 0, 0, 0, 0, 0, 0, 0, 0, 0, 0, 0, 0, 0, 0, 0, 0, 0, 0, 0, 0, 0, 0, 0, 0, 0, 0, 0, 0, 0, 0, 0, 0, 0, 0, 0, 0, 0, 0, 0, 0, 0, 0, 0, 0, 0, 0, 0, 0, 0, 0, 0, 0, 0, 0, 0, 0, 0, 0, 0, 0, 0, 0, 0, 0, 0, 0, 0, 0, 0, 0, 0, 0, 0, 0, 0, 0, 0, 0, 0, 0, 0, 0, 0, 0, 0, 0, 0, 0, 0, 0, 0, 0, 0, 0, 0, 0, 0, 0, 0, 0, 0, 0, 0, 0, 0, 0, 0, 0, 0, 0, 0, 0, 0, 0, 0, 0, 0, 0, 0, 0, 0, 0, 0, 0, 0, 0, 0, 0, 0, 0, 0, 0, 0, 0, 0, 0, 0, 0, 0, 0, 0, 0, 0, 0, 0, 0, 0, 0, 0, 0, 0, 0, 0, 0, 0, 0, 0, 0, 0, 0, 0, 0, 0, 0, 0, 0, 0, 0, 0, 0, 0, 0, 0, 0, 0, 0, 0, 0, 0, 0, 0, 0, 0, 0, 0, 0, 0, 0, 0, 0, 0, 0, 0, 0, 0, 0, 0, 0, 0, 0, 0, 0, 0, 0, 0, 0, 0, 0, 0, 0, 0, 0, 0, 0, 0, 0, 0, 0, 0, 0, 0, 0, 0, 0, 0, 0, 0, 0, 0, 0, 0, 0, 0, 0, 0, 0, 0, 0, 0, 0, 0, 0, 0, 0, 0, 0, 0, 0, 0, 0, 0, 0, 0, 0, 0, 0, 0, 0, 0, 0, 0, 0, 0, 0, 0, 0, 0, 0, 0, 0, 0, 0, 0, 0, 0, 0, 0, 0, 0, 0, 0, 0, 0, 0, 0, 0, 0, 0, 0, 0, 0, 0, 0, 0, 0, 0, 0, 0, 0, 0, 0, 0, 0, 0, 0, 0, 0, 0, 0, 0, 0, 0, 0, 0, 0, 0, 0, 0, 0, 0, 0, 0, 0, 0, 0, 0, 0, 0, 0, 0, 0, 0, 0, 0, 0, 0, 0, 0, 0, 0, 0, 0, 0, 0, 0, 0, 0, 0, 0, 0, 0, 0, 0, 0, 0, 0, 0, 0, 0, 0, 0, 0, 0, 0, 0, 0, 0, 0, 0, 0, 0, 0, 0, 0, 0, 0, 0, 0, 0, 0, 0, 0, 0, 0, 0, 0, 0, 0, 0, 0, 0, 0, 0, 0, 0, 0, 0, 0, 0, 0, 0, 0, 0, 0, 0, 0, 0, 0, 0, 0, 0, 0, 0, 0, 0, 0, 0, 0, 0, 0, 0, 0, 0, 0, 0, 0, 0, 0, 0, 0, 0, 0, 0, 0, 0, 0, 0, 0, 0, 0, 0, 0, 0, 0, 0, 0, 0, 0, 0, 0, 0, 0, 0, 0, 0, 0, 0, 0, 0, 0, 0, 0, 0, 0, 0, 0, 0, 0, 0, 0, 0, 0, 0, 0, 0, 0, 0, 0, 0, 0, 0, 0, 0, 0, 0, 0, 0, 0, 0, 0, 0, 1, 0, 0, 0, 0, 0, 0, 0, 0, 0, 0, 0, 0, 0, 0, 0, 0, 0, 0, 0, 0, 0, 0, 0, 0, 0, 0, 0, 0, 0, 0, 0, 0, 0, 0, 0, 0, 0, 0, 0, 0, 0, 0, 0, 0, 0, 0, 0, 0, 0, 0, 0, 0, 0, 0, 0, 0, 0, 0, 0, 0, 0, 0, 0, 0, 0, 0, 0, 0, 0, 0, 0, 0, 0, 0, 0, 0, 0, 0, 0, 0, 0, 0, 0, 0, 0, 0, 0, 0, 0, 0, 0, 0, 0, 0, 0, 0, 0, 0, 0, 0, 0, 0, 0, 0, 0, 0, 0, 0, 0, 0, 2, 0, 0, 0, 0, 0, 0, 0, 0, 0, 0, 0, 0, 0, 0, 0, 0, 0, 0, 0, 0, 0, 0, 0, 0, 0, 0, 0, 0, 0, 0, 0, 0, 0, 0, 0, 0, 0, 0, 0, 0, 0, 0, 0, 0, 0, 0, 0, 0, 0, 0, 0, 0, 0, 0, 0, 0, 0, 0, 0, 0, 0, 0, 0, 0, 0, 0, 0, 0, 0, 0, 0, 0, 0, 0, 0, 0, 0, 0, 0, 0, 0, 0, 0, 0, 0, 0, 0, 0, 0, 0, 0, 0, 0, 0, 0, 0, 0, 0, 0, 0, 0, 0, 0, 0, 0, 0, 0, 0, 0, 0, 0, 0, 0, 0, 0, 0, 0, 0, 0, 0, 0, 0, 0, 0, 0, 0, 0, 0, 0, 0, 0, 0, 0, 0, 0, 0, 0, 0, 0, 0, 0, 0, 0, 0, 0, 0, 0, 0, 0, 0, 0, 0, 0, 0, 0, 0, 0, 0, 0, 0, 0, 0, 0, 0, 0, 0, 0, 0, 0, 0, 0, 0, 0, 0, 0, 0, 0, 0, 0, 0, 0, 0, 0, 0, 0, 0, 0, 0, 0, 0, 0, 0, 0, 0, 0, 0, 0, 0, 0, 0, 0, 0, 0, 0, 0, 0, 0, 0, 0, 0, 0, 0, 0, 0, 0, 0, 0, 0, 0, 0, 0, 0, 0, 0, 0, 0, 0, 0, 0, 0, 0, 0, 0, 0, 0, 0, 0, 0, 0, 0, 0, 0, 0, 0, 0, 0, 0, 0, 0, 0, 0, 0, 0, 0, 0, 0, 0, 0, 0, 0, 0, 0, 0, 0, 0, 0, 0, 0, 0, 0, 0, 0, 0, 0, 0, 0, 0, 0, 0, 0, 0, 0, 0, 0, 0, 0, 0, 0, 0, 0, 0, 0, 0, 0, 0, 0, 0, 0, 0, 0, 0, 0, 0, 0, 0, 0, 0, 0, 0, 0, 0, 0, 0, 0, 0, 0, 0, 0, 0, 0, 0, 0, 0, 0, 0, 0, 0, 0, 0, 0, 0, 0, 0, 0, 0, 0, 0, 0, 0, 0, 0, 0, 0, 0, 0, 0, 0, 0, 0, 0, 0, 0, 0, 0, 0, 0, 0, 0, 0, 0, 0, 0, 0, 0, 0, 0, 0, 0, 0, 0, 0, 0, 0, 0, 0, 0, 0, 0, 0, 0, 0, 0, 0, 0, 0, 0, 0, 0, 0, 0, 0, 0, 0, 0, 0, 0, 0, 0, 0, 0, 0, 0, 0, 0, 0, 0, 0, 0, 0, 0, 0, 0, 0, 0, 0, 0, 0, 0, 0, 0, 0, 0, 0, 0, 0, 0, 0, 0, 0, 0, 0, 0, 0, 0, 0, 0, 0, 0, 0, 0, 0, 0, 0, 0, 0, 0, 0, 0, 0, 0, 0, 0, 0, 0, 0, 0, 0, 0, 0, 0, 0, 0, 0, 0, 0, 0, 0, 0, 0, 0, 0, 0, 0, 0, 0, 0, 0, 0, 0, 0, 0, 0, 0, 0, 0, 0, 0, 0, 0, 0, 0, 0, 0, 0, 0, 0, 0, 0, 0, 0, 0, 0, 0, 0, 0, 0, 0, 0, 0, 0, 0, 0, 0, 0, 0, 0, 0, 0, 0, 0, 0, 0, 0, 0, 0, 0, 0, 0, 0, 0, 0, 0, 0, 0, 0, 0, 0, 0, 0, 0, 0, 0, 0, 0, 0, 0, 0, 0, 0, 0, 0, 0, 0, 0, 0, 0, 0, 0, 0, 0, 0, 0, 0, 0, 0, 0, 0, 0, 0, 0, 0, 0, 0, 0, 0, 0, 0, 0, 0, 0, 0, 0, 0, 0, 0, 0, 0, 0, 0, 0, 0, 0, 0, 0, 0, 0, 0, 0, 0, 0, 0, 0, 0, 0, 0, 0, 0, 0, 0, 0, 0, 0, 0, 0, 0, 0, 0, 0, 0, 0, 0, 0, 0, 0, 0, 0, 0, 0, 0, 0, 0, 0, 0, 0, 0, 0, 0, 0, 0, 0, 0, 0, 0, 0, 0, 0, 0, 0, 0, 0, 0, 0, 0, 0, 0, 0, 0, 0, 0, 0, 0, 0, 0, 0, 0, 0, 0, 0, 0, 0, 0, 0, 0, 0, 0, 0, 0, 0, 0, 0, 0, 0, 0, 0, 0, 0, 0, 0, 0, 0, 1, 0, 0, 0, 0, 0, 0, 0, 0, 0, 0, 0, 0, 0, 0, 0, 0, 0, 0, 0, 0, 0, 0, 0, 0, 0, 0, 0, 0, 0, 0, 0, 0, 0, 0, 0, 0, 0, 0, 0, 0, 0, 0, 0, 0, 0, 0, 0, 0, 0, 0, 0, 0, 0, 0, 0, 0, 0, 0, 0, 0, 0, 0, 0, 0, 0, 0, 0, 0, 0, 0, 0, 0, 0, 0, 0, 0, 0, 0, 0, 0, 0, 0, 0, 0, 0, 0, 0, 0, 0, 0, 0, 0, 0, 0, 0, 0, 0, 0, 0, 0, 0, 0, 0, 0, 0, 0, 0, 1, 0, 0, 0, 0, 0, 0, 0, 0, 0, 0, 0, 0, 0, 0, 0, 0, 0, 0, 0, 0, 0, 0, 0, 0, 0, 0, 0, 0, 0, 0, 0, 0, 0, 0, 0, 0, 0, 0, 0, 0, 0, 0, 0, 0, 0, 0, 0, 0, 0, 0, 0, 0, 0, 0, 0, 0, 0, 0, 0, 0, 0, 0, 0, 0, 0, 0, 0, 0, 0, 0, 0, 0, 0, 0, 0, 0, 0, 0, 0, 0, 0, 0, 0, 0, 0, 0, 0, 0, 0, 0, 0, 0, 0, 0, 0, 0, 0, 0, 0, 0, 0, 0, 0, 0, 0, 0, 0, 0, 0, 0, 0, 0, 0, 0, 0, 0, 0, 0, 0, 0, 0, 0, 0, 0, 0, 0, 0, 0, 0, 0, 0, 0, 0, 0, 0, 0, 0, 0, 0, 0, 0, 0, 0, 0, 0, 0, 0, 0, 0, 0, 0, 0, 0, 0, 0, 0, 0, 0, 0, 0, 0, 0, 0, 0, 0, 0, 0, 0, 0, 0, 0, 0, 0, 0, 0, 0, 0, 0, 0, 0, 0, 0, 0, 0, 0, 0, 0, 0, 0, 0, 0, 0, 0, 0, 0, 0, 0, 0, 0, 0, 0, 0, 0, 0, 0, 0, 0, 0, 0, 0, 0, 0, 0, 0, 0, 0, 0, 0, 0, 0, 0, 0, 0, 0, 0, 0, 0, 0, 0, 0, 0, 0, 0, 0, 0, 0, 0, 0, 0, 0, 0, 0, 0, 0, 0, 0, 0, 0, 0, 0, 0, 0, 0, 0, 0, 0, 0, 0, 0, 0, 0, 0, 0, 0, 0, 0, 0, 0, 0, 0, 0, 0, 0, 0, 0, 0, 0, 0, 0, 0, 0, 0, 0, 0, 0, 0, 0, 0, 0, 0, 0, 0, 0, 0, 0, 0, 0, 0, 0, 0, 0, 0, 0, 0, 0, 0, 0, 0, 0, 0, 0, 0, 0, 0, 0, 0, 0, 0, 0, 0, 0, 0, 0, 0, 0, 0, 0, 0, 0, 0, 0, 0, 0, 0, 0, 0, 0, 0, 0, 0, 0, 0, 0, 0, 0, 0, 0, 0, 0, 0, 0, 0, 0, 0, 0, 0, 0, 0, 0, 0, 0, 0, 0, 0, 0, 0, 0, 0, 0, 0, 0, 0, 0, 0, 0, 0, 0, 0, 0, 0, 0, 0, 0, 0, 0, 0, 0, 0, 0, 0, 0, 0, 0, 0, 0, 0, 0, 0, 0, 0, 0, 0, 0, 0, 0, 0, 0, 0, 0, 0, 0, 0, 0, 0, 0, 0, 0, 0, 0, 0, 0, 0, 0, 0, 0, 0, 0, 0, 0, 0, 0, 0, 0, 0, 0, 0, 0, 0, 0, 0, 0, 0, 0, 0, 0, 0, 0, 0, 0, 0, 0, 0, 0, 0, 0, 0, 0, 0, 0, 0, 0, 0, 0, 2, 0, 1, 0], type: <class 'list'>, valid types: <class 'bytes'>, <class 'bytearray'>, file-like object"
     ]
    }
   ],
   "source": [
    "##### we use the invoke_endpoint method making sure to include the name of the endpoint, the format of the data that we're\n",
    "##### sending it\n",
    "\n",
    "response = runtime.invoke_endpoint(EndpointName = xgb_predictor.endpoint, # The name of the endpoint we created\n",
    "                                       ContentType = 'text/csv',                     # The data format that is expected\n",
    "                                       Body = test_bow)  #### and the data itself (a list of integers)"
   ]
  },
  {
   "cell_type": "markdown",
   "metadata": {},
   "source": [
    "So why did we get an error?\n",
    "\n",
    "Because we tried to send the endpoint a list of integers but it expected us to send data of type `text/csv`. So, we need to convert it."
   ]
  },
  {
   "cell_type": "code",
   "execution_count": 47,
   "metadata": {},
   "outputs": [],
   "source": [
    "response = runtime.invoke_endpoint(EndpointName = xgb_predictor.endpoint, # The name of the endpoint we created\n",
    "                                       ContentType = 'text/csv',                     # The data format that is expected\n",
    "                                       Body = ','.join([str(val) for val in test_bow]).encode('utf-8'))\n",
    "                                       ##### we serialize the data by joining together each of the entries in the bag of words\n",
    "                                       ##### vector, seperating each of them by a comma"
   ]
  },
  {
   "cell_type": "code",
   "execution_count": 48,
   "metadata": {},
   "outputs": [
    {
     "name": "stdout",
     "output_type": "stream",
     "text": [
      "{'ResponseMetadata': {'RequestId': '1211861a-bfb5-46ac-9fd0-ba43842a960d', 'HTTPStatusCode': 200, 'HTTPHeaders': {'x-amzn-requestid': '1211861a-bfb5-46ac-9fd0-ba43842a960d', 'x-amzn-invoked-production-variant': 'AllTraffic', 'date': 'Sat, 17 Apr 2021 06:59:11 GMT', 'content-type': 'text/csv; charset=utf-8', 'content-length': '18'}, 'RetryAttempts': 0}, 'ContentType': 'text/csv; charset=utf-8', 'InvokedProductionVariant': 'AllTraffic', 'Body': <botocore.response.StreamingBody object at 0x7fb4b1c06240>}\n"
     ]
    }
   ],
   "source": [
    "print(response)"
   ]
  },
  {
   "cell_type": "markdown",
   "metadata": {},
   "source": [
    "As we can see, the response from our model is a somewhat complicated looking dict that contains a bunch of information. The bit that we are most interested in is `'Body'` object which is a streaming object that we need to `read` in order to make use of."
   ]
  },
  {
   "cell_type": "code",
   "execution_count": 49,
   "metadata": {},
   "outputs": [
    {
     "name": "stdout",
     "output_type": "stream",
     "text": [
      "0.4303625524044037\n"
     ]
    }
   ],
   "source": [
    "##### read in that body object, making sure to convert the results to a string \n",
    "response = response['Body'].read().decode('utf-8')\n",
    "print(response)"
   ]
  },
  {
   "cell_type": "markdown",
   "metadata": {},
   "source": [
    "Now that we know how to process the incoming user data we can start setting up the infrastructure to make our simple web app work. To do this we will make use of two different services. Amazon's Lambda and API Gateway services.\n",
    "\n",
    "Lambda is a service which allows someone to write some relatively simple code and have it executed whenever a chosen trigger occurs. For example, you may want to update a database whenever new data is uploaded to a folder stored on S3.\n",
    "\n",
    "API Gateway is a service that allows you to create HTTP endpoints (url addresses) which are connected to other AWS services. One of the benefits to this is that you get to decide what credentials, if any, are required to access these endpoints.\n",
    "\n",
    "In our case we are going to set up an HTTP endpoint through API Gateway which is open to the public. Then, whenever anyone sends data to our public endpoint we will trigger a Lambda function which will send the input (in our case a review) to our model's endpoint and then return the result."
   ]
  },
  {
   "cell_type": "markdown",
   "metadata": {},
   "source": [
    "### Setting up a Lambda function\n",
    "\n",
    "The first thing we are going to do is set up a Lambda function. This Lambda function will be executed whenever our public API has data sent to it. When it is executed it will receive the data, perform any sort of processing that is required, send the data (the review) to the SageMaker endpoint we've created and then return the result.\n",
    "\n",
    "#### Part A: Create an IAM Role for the Lambda function\n",
    "\n",
    "Since we want the Lambda function to call a SageMaker endpoint, we need to make sure that it has permission to do so. To do this, we will construct a role that we can later give the Lambda function.\n",
    "\n",
    "Using the AWS Console, navigate to the **IAM** page and click on **Roles**. Then, click on **Create role**. Make sure that the **AWS service** is the type of trusted entity selected and choose **Lambda** as the service that will use this role, then click **Next: Permissions**.\n",
    "\n",
    "In the search box type `sagemaker` and select the check box next to the **AmazonSageMakerFullAccess** policy. Then, click on **Next: Review**.\n",
    "\n",
    "Lastly, give this role a name. Make sure you use a name that you will remember later on, for example `LambdaSageMakerRole`. Then, click on **Create role**."
   ]
  },
  {
   "cell_type": "markdown",
   "metadata": {},
   "source": [
    "#### Part B: Create a Lambda function\n",
    "\n",
    "Now it is time to actually create the Lambda function. Remember from earlier that in order to process the user provided input and send it to our endpoint we need to gather two pieces of information:\n",
    "\n",
    " - The name of the endpoint, and\n",
    " - the vocabulary object.\n",
    "\n",
    "We will copy these pieces of information to our Lambda function after we create it.\n",
    "\n",
    "To start, using the AWS Console, navigate to the AWS Lambda page and click on **Create a function**. When you get to the next page, make sure that **Author from scratch** is selected. Now, name your Lambda function, using a name that you will remember later on, for example `sentiment_analysis_xgboost_func`. Make sure that the **Python 3.6** runtime is selected and then choose the role that you created in the previous part. Then, click on **Create Function**.\n",
    "\n",
    "On the next page you will see some information about the Lambda function you've just created. If you scroll down you should see an editor in which you can write the code that will be executed when your Lambda function is triggered. Collecting the code we wrote above to process a single review and adding it to the provided example `lambda_handler` we arrive at the following.\n",
    "\n",
    "```python\n",
    "# We need to use the low-level library to interact with SageMaker since the SageMaker API\n",
    "# is not available natively through Lambda.\n",
    "import boto3\n",
    "\n",
    "# And we need the regular expression library to do some of the data processing\n",
    "import re\n",
    "\n",
    "REPLACE_NO_SPACE = re.compile(\"(\\.)|(\\;)|(\\:)|(\\!)|(\\')|(\\?)|(\\,)|(\\\")|(\\()|(\\))|(\\[)|(\\])\")\n",
    "REPLACE_WITH_SPACE = re.compile(\"(<br\\s*/><br\\s*/>)|(\\-)|(\\/)\")\n",
    "\n",
    "def review_to_words(review):\n",
    "    words = REPLACE_NO_SPACE.sub(\"\", review.lower())\n",
    "    words = REPLACE_WITH_SPACE.sub(\" \", words)\n",
    "    return words\n",
    "    \n",
    "def bow_encoding(words, vocabulary):\n",
    "    bow = [0] * len(vocabulary) # Start by setting the count for each word in the vocabulary to zero.\n",
    "    for word in words.split():  # For each word in the string\n",
    "        if word in vocabulary:  # If the word is one that occurs in the vocabulary, increase its count.\n",
    "            bow[vocabulary[word]] += 1\n",
    "    return bow\n",
    "\n",
    "\n",
    "def lambda_handler(event, context):\n",
    "    \n",
    "    vocab = \"*** ACTUAL VOCABULARY GOES HERE ***\"\n",
    "    \n",
    "    words = review_to_words(event['body'])\n",
    "    bow = bow_encoding(words, vocab)\n",
    "\n",
    "    # The SageMaker runtime is what allows us to invoke the endpoint that we've created.\n",
    "    runtime = boto3.Session().client('sagemaker-runtime')\n",
    "\n",
    "    # Now we use the SageMaker runtime to invoke our endpoint, sending the review we were given\n",
    "    response = runtime.invoke_endpoint(EndpointName = '***ENDPOINT NAME HERE***',# The name of the endpoint we created\n",
    "                                       ContentType = 'text/csv',                 # The data format that is expected\n",
    "                                       Body = ','.join([str(val) for val in bow]).encode('utf-8')) # The actual review\n",
    "                                                    ### make sure to serialize the bag of words encoding of our review\n",
    "\n",
    "    # The response is an HTTP response whose body contains the result of our inference\n",
    "    ### once we get the response, we read it back, convert it to a string\n",
    "    result = response['Body'].read().decode('utf-8')\n",
    "    \n",
    "    # Round the result so that our web app only gets '1' or '0' as a response.\n",
    "    result = round(float(result)) ### 1 means the review is positive, 0 means the review is negative\n",
    "    \n",
    "    ### we return these to whoever called us\n",
    "    return {\n",
    "        'statusCode' : 200,\n",
    "        'headers' : { 'Content-Type' : 'text/plain', 'Access-Control-Allow-Origin' : '*' },\n",
    "        'body' : str(result)\n",
    "    }\n",
    "```"
   ]
  },
  {
   "cell_type": "markdown",
   "metadata": {},
   "source": [
    "Once you have copy and pasted the code above into the Lambda code editor, replace the `**ENDPOINT NAME HERE**` portion with the name of the endpoint that we deployed earlier. You can determine the name of the endpoint using the code cell below."
   ]
  },
  {
   "cell_type": "code",
   "execution_count": 50,
   "metadata": {},
   "outputs": [
    {
     "data": {
      "text/plain": [
       "'xgboost-2021-04-17-02-37-44-000'"
      ]
     },
     "execution_count": 50,
     "metadata": {},
     "output_type": "execute_result"
    }
   ],
   "source": [
    "####### we can get the name of the notebook by typing \"xgb_predictor.endpoint\"\n",
    "xgb_predictor.endpoint"
   ]
  },
  {
   "cell_type": "markdown",
   "metadata": {},
   "source": [
    "In addition, you will need to copy the vocabulary dict to the appropriate place in the code at the beginning of the `lambda_handler` method. The cell below prints out the vocabulary dict in a way that is easy to copy and paste."
   ]
  },
  {
   "cell_type": "code",
   "execution_count": 51,
   "metadata": {},
   "outputs": [
    {
     "name": "stdout",
     "output_type": "stream",
     "text": [
      "{'my': 2951, 'and': 226, 'upon': 4684, 'the': 4426, 'when': 4862, 'our': 3139, 'local': 2634, 'station': 4164, 'aired': 165, 're': 3535, 'runs': 3757, 'of': 3083, 'it': 2366, 'one': 3107, 'summer': 4291, 'in': 2257, '1970s': 17, 'we': 4823, 'absolutely': 72, 'there': 4438, 'was': 4805, 'something': 4066, 'so': 4046, 'exotic': 1574, 'mysterious': 2955, 'about': 67, 'especially': 1520, 'compared': 912, 'to': 4507, 'usual': 4699, 'american': 213, 'green': 1971, 'you': 4986, 'get': 1899, 'idea': 2213, 'had': 2003, 'similar': 3978, 'feel': 1684, 'not': 3040, 'too': 4522, 'much': 2934, 'surprise': 4312, 'since': 3990, 'also': 199, 'british': 589, 'spy': 4135, 'adventure': 130, 'genre': 1888, 'would': 4957, 'love': 2669, 'see': 3855, 'again': 146, 'now': 3054, 'hopefully': 2157, 'holds': 2131, 'up': 4683, 'ive': 2372, 'mentioned': 2811, 'this': 4457, 'show': 3953, 'others': 3136, 'no': 3020, 'has': 2043, 'ever': 1538, 'heard': 2062, 'began': 441, 'wonder': 4926, 'if': 2222, 'id': 2212, 'imagined': 2239, 'its': 2370, 'whole': 4873, 'existence': 1571, 'but': 636, 'that': 4424, 'is': 2360, 'web': 4833, 'allowed': 190, 'me': 2778, 'track': 4544, 'down': 1335, 'information': 2288, 'will': 4886, 'find': 1726, 'new': 3003, 'generation': 1883, 'fans': 1650, 'movie': 2926, 'great': 1964, 'plot': 3309, 'very': 4723, 'true': 4596, 'book': 535, 'which': 4867, 'classic': 835, 'written': 4972, 'by': 642, 'mark': 2739, 'starts': 4159, 'with': 4911, 'scene': 3809, 'where': 4864, 'hank': 2024, 'sings': 3997, 'song': 4071, 'bunch': 623, 'kids': 2467, 'called': 652, 'your': 4991, 'on': 3105, 'moon': 2900, 'reminds': 3620, 'high': 2100, 'hopes': 2159, 'fun': 1848, 'music': 2946, 'throughout': 4478, 'favorite': 1671, 'king': 2479, 'sir': 4000, 'overall': 3150, 'family': 1645, 'or': 3124, 'even': 1533, 'date': 1118, 'can': 665, 'watch': 4811, 'over': 3148, 'princess': 3397, 'played': 3297, 'gorgeous': 1942, 'liked': 2600, 'danny': 1112, 'court': 1020, 'then': 4436, 'definitely': 1162, 'like': 2599, 'for': 1784, 'didnt': 1242, 'know': 2489, 'year': 4978, 'because': 432, 'internet': 2327, 'have': 2052, 'once': 3106, 'seen': 3865, 'tv': 4610, 'before': 440, 'country': 1014, 'lot': 2661, 'people': 3221, 'do': 1302, 'usually': 4700, 'pity': 3281, 'though': 4461, 'easily': 1406, 'most': 2909, 'original': 3129, 'clever': 841, 'animation': 242, 'witnessed': 4915, 'years': 4979, 'dont': 1324, 'hand': 2015, 'out': 3141, '10': 0, 'points': 3319, 'truly': 4597, 'deserves': 1201, 'all': 187, 'at': 331, 'first': 1736, 'might': 2835, 'seem': 3861, 'typical': 4623, 'cartoon': 704, 'keep': 2449, 'mind': 2849, 'complete': 921, 'story': 4207, 'unfolds': 4651, 'itself': 2371, 'real': 3547, 'deep': 1154, 'storyline': 4208, 'spiritual': 4116, 'message': 2819, 'part': 3193, 'largely': 2518, 'based': 404, 'off': 3084, 'spirit': 4113, 'animals': 240, 'old': 3100, 'indian': 2274, 'believe': 454, 'been': 438, 'many': 2732, 'gives': 1914, 'twist': 4617, 'cant': 671, 'often': 3095, 'animated': 241, 'shows': 3960, 'design': 1202, 'different': 1248, 'times': 4497, 'resembles': 3646, 'bit': 488, 'terms': 4406, 'gritty': 1977, 'other': 3135, 'takes': 4351, 'more': 2904, 'approach': 282, 'david': 1124, 'who': 4871, 'created': 1037, 'directed': 1259, 'segment': 3867, 'as': 311, 'he': 2056, 'drew': 1360, 'comic': 893, 'are': 285, 'looking': 2648, 'various': 4715, 'subjects': 4254, 'such': 4268, 'reality': 3551, 'suicide': 4283, 'life': 2592, 'should': 3951, 'miss': 2866, 'begin': 442, 'watching': 4815, 'probably': 3407, 'going': 1931, 'end': 1468, 'minor': 2857, 'fact': 1621, 'may': 2775, 'be': 418, 'less': 2575, 'material': 2766, 'from': 1840, 'annoying': 249, 'only': 3110, 'question': 3487, 'remains': 3611, 'dvd': 1391, 'what': 4858, 'write': 4967, 'trip': 4588, 'absolute': 71, 'garbage': 1870, 'redeeming': 3577, 'qualities': 3483, 'maybe': 2776, 'held': 2074, 'some': 4061, '3d': 46, 'narrative': 2966, 'entertaining': 1499, 'nothing': 3047, 'make': 2713, 'wasting': 4810, 'an': 223, 'hour': 2176, 'half': 2007, 'worth': 4953, 'while': 4868, 'save': 3794, 'time': 4495, 'money': 2888, 'instead': 2307, 'damn': 1100, 'enough': 1491, 'lines': 2612, 'yet': 4984, 'well': 4843, 'agree': 155, 'above': 68, 'review': 3676, 'cold': 872, 'war': 4792, 'propaganda': 3435, 'interesting': 2325, 'they': 4442, 'made': 2697, 'flies': 1756, 'landing': 2512, 'died': 1244, 'minute': 2858, 'why': 4878, 'were': 4848, 'main': 2707, 'character': 758, 'full': 1846, 'peter': 3247, 'sellers': 3872, 'plays': 3301, 'dick': 1239, 'cook': 988, 'ship': 3934, 'captain': 674, 'after': 143, 'murders': 2943, 'previous': 3387, 'although': 201, 'hes': 2093, 'treasure': 4571, 'being': 448, 'buried': 624, 'begins': 444, 'losing': 2658, 'his': 2118, 'memory': 2804, 'map': 2733, 'becomes': 434, 'blank': 501, 'thus': 4486, 'forced': 1787, 'someone': 4064, 'ghosts': 1903, 'place': 3282, 'ad': 110, 'help': 2079, 'lead': 2545, 'path': 3209, 'how': 2181, 'anyone': 259, 'could': 1007, 'pointless': 3318, 'film': 1716, 'former': 1800, 'spike': 4111, 'replaced': 3634, 'director': 1264, 'given': 1913, 'talents': 4356, 'class': 833, 'guess': 1989, 'poorly': 3329, 'lit': 2621, 'scenes': 3811, 'directors': 1266, 'chair': 742, 'makes': 2716, 'brief': 579, 'appearance': 274, 'films': 1721, 'minutes': 2859, 'doomed': 1327, 'quite': 3495, 'young': 4989, 'frankenstein': 1822, 'released': 3603, 'same': 3778, 'filmed': 1717, 'looks': 2649, 'handsome': 2021, 'power': 3359, 'behind': 447, 'both': 547, 'look': 2646, 'pretty': 3384, 'desperate': 1208, 'makeup': 2717, 'hair': 2005, 'terrible': 4407, 'filming': 1718, 'these': 4441, 'understand': 4643, 'any': 256, 'possible': 3350, 'youll': 4988, 'pay': 3216, 'wont': 4932, 'ill': 2228, 'free': 1827, 'thats': 4425, 'good': 1937, 'jokes': 2415, 'amazing': 209, 'still': 4188, 'available': 361, 'vhs': 4725, 'than': 4420, '15': 7, 'ago': 154, 'us': 4690, 'received': 3564, 'program': 3424, 'fred': 1825, 'starring': 4154, 'richard': 3686, 'enjoyed': 1486, 'havent': 2053, 'andy': 230, 'ages': 152, 'felt': 1692, 'fit': 1740, 'role': 3726, 'perfectly': 3226, 'associated': 327, 'him': 2110, 'comedy': 890, 'am': 204, 'pleased': 3305, 'wasnt': 4807, 'troubled': 4593, 'whatever': 4859, 'take': 4349, 'broad': 590, 'variety': 4714, 'forms': 1801, 'she': 3923, 'clearly': 840, 'sensitive': 3879, 'extra': 1606, 'powers': 3361, 'understood': 4647, 'indians': 2275, 'surprising': 4315, 'vulnerable': 4768, 'eccentric': 1414, 'taken': 4350, 'light': 2595, 'actually': 109, 'sophisticated': 4075, 'seems': 3864, 'came': 656, 'pleasant': 3302, 'tied': 4489, 'action': 100, 'together': 4511, 'possibility': 3349, 'ah': 158, 'hate': 2046, 'let': 2579, 'count': 1010, 'ways': 4822, 'try': 4600, 'funny': 1852, 'corny': 997, 'every': 1539, 'joke': 2414, 'predictable': 3367, 'expected': 1577, 'comes': 891, 'does': 1308, 'laughter': 2535, 'want': 4788, 'dramatic': 1348, 'unbelievable': 4634, 'woman': 4921, 'degree': 1164, 'bad': 382, 'guy': 2000, 'bill': 481, 'scary': 3807, 'just': 2437, 'imagine': 2238, 'trying': 4601, 'somebody': 4062, 'gun': 1996, 'doesnt': 1309, 'work': 4940, 'lawyer': 2541, 'jamie': 2379, 'deliver': 1169, 'dialogue': 1234, 'ludicrous': 2685, 'packed': 3166, 'dull': 1384, 'camera': 659, 'must': 2950, 'lost': 2660, 'those': 4460, 'blair': 497, 'witch': 4909, 'project': 3427, 'myself': 2953, 'failed': 1626, 'rather': 3528, 'walk': 4775, 'across': 96, 'pack': 3165, 'water': 4816, 'streep': 4215, 'company': 910, 'hell': 2077, 'single': 3996, 'spent': 4108, 'everyone': 1542, 'their': 4431, 'way': 4820, 'through': 4477, 'lets': 2580, 'talk': 4358, 'massive': 2756, 'bomb': 531, 'goes': 1930, 'car': 680, 'driven': 1365, 'cliff': 847, 'somehow': 4063, 'manages': 2725, 'kill': 2468, 'right': 3696, 'thing': 4450, 'promise': 3430, 'never': 3001, 'thought': 4462, 'movies': 2927, 'better': 472, 'glad': 1916, 'sit': 4003, 'theater': 4427, 'acting': 99, 'average': 362, 'humor': 2192, 'special': 4097, 'suppose': 4305, 'cheesy': 781, 'waste': 4808, 'think': 4452, 'actors': 104, 'chemistry': 782, 'actor': 103, 'play': 3296, 'kirk': 2482, 'jay': 2386, 'entire': 1502, 'watched': 4813, 'looked': 2647, 'feeling': 1685, 'alice': 182, 'eve': 1532, 'did': 1241, 'job': 2405, 'actress': 105, 'between': 475, 'her': 2085, 'names': 2963, 'little': 2624, 'affect': 136, 'few': 1700, 'liners': 2611, 'ok': 3098, 'saying': 3800, 'friends': 1837, 'jim': 2402, 'field': 1704, 'smith': 4038, 'hard': 2033, 'couldnt': 1008, 'decide': 1148, 'wanted': 4789, 'romance': 3732, 'honestly': 2147, 'needs': 2990, 'stick': 4185, 'commercials': 903, 'writers': 4969, 'gone': 1935, 'hot': 2174, 'girl': 1909, 'boring': 543, 'originality': 3130, 'honesty': 2148, 'recommend': 3571, 'go': 1924, 'entertainment': 1500, 'dentist': 1180, 'yourself': 4993, 'them': 4432, 'ones': 3108, 'japanese': 2382, 'version': 4720, 'completely': 922, 'parts': 3199, 'english': 1483, 'teacher': 4375, 'language': 2516, 'reviews': 3679, 'example': 1553, 'name': 2960, 'scream': 3826, 'move': 2921, 'titles': 4506, 'ignore': 2224, 'canadian': 667, 'standard': 4144, 'comments': 901, 'put': 3480, 'subtitles': 4259, 'im': 2232, 'assumed': 329, 'trouble': 4592, 'understanding': 4645, 'difficult': 1249, 'gave': 1875, 'step': 4175, 'loved': 2670, 'set': 3898, 'wish': 4904, 'heroine': 2091, 'cast': 710, 'issues': 2365, 'dance': 1103, 'summary': 4290, 'tend': 4400, 'decent': 1147, 'grew': 1972, 'speaking': 4095, 'enjoying': 1487, 'say': 3799, 'fan': 1648, 'series': 3890, 'law': 2538, 'order': 3126, 'worst': 4952, 'casting': 711, 'boss': 546, 'burt': 629, 'reynolds': 3684, 'worse': 4951, 'ass': 323, 'cop': 991, 'loaded': 2632, 'errors': 1516, 'cars': 702, 'getting': 1901, 'torn': 4528, 'continues': 971, 'happened': 2027, 'general': 1880, 'gets': 1900, 'billy': 482, 'ran': 3513, 'into': 2332, 'hill': 2108, 'obviously': 3072, 'near': 2979, 'stop': 4201, 'win': 4892, 'race': 3499, 'got': 1944, 'retarded': 3663, 'monster': 2892, 'theaters': 4428, 'sort': 4077, 'rural': 3758, 'america': 212, 'thrown': 4481, 'toilet': 4512, 'forgotten': 1797, 'john': 2409, 'carradine': 695, 'shame': 3918, 'involved': 2346, 'moronic': 2907, 'pile': 3275, 'trash': 4565, 'need': 2987, 'wait': 4770, 'giving': 1915, 'credit': 1049, 'sure': 4308, 'else': 1448, 'explain': 1586, 'utter': 4701, 'sheer': 3925, 'stupidity': 4248, 'crap': 1031, 'contains': 964, 'viewed': 4737, 'group': 1980, 'cinematic': 818, 'taste': 4369, 'always': 203, 'eye': 1611, 'genius': 1887, 'fellow': 1691, 'site': 4005, 'found': 1811, 'quality': 3484, 'ended': 1470, 'chorus': 803, 'here': 2086, 'positive': 3346, 'provided': 3449, 'anthony': 253, 'himself': 2111, 'reviewers': 3678, 'tell': 4395, 'hollywood': 2137, 'anywhere': 263, 'world': 4946, 'matter': 2769, 'risk': 3704, 'semi': 3874, 'famous': 1647, 'appear': 273, 'christian': 808, 'features': 1680, 'making': 2718, 'signed': 3971, 'without': 4913, 'reading': 3544, 'script': 3834, 'knowing': 2490, 'details': 1219, 'repeat': 3630, 'individual': 2277, 'self': 3869, 'produced': 3414, 'man': 2721, 'admit': 122, 'everything': 1544, 'creates': 1038, 'masterpiece': 2759, 'please': 3304, 'art': 304, 'twin': 4615, 'brothers': 599, 'birth': 486, 'due': 1382, 'deaths': 1142, 'parents': 3188, 'twenty': 4612, 'five': 1743, 'later': 2525, 'back': 378, 'million': 2847, 'dollar': 1314, 'double': 1331, 'impact': 2244, 'two': 4620, 'hours': 2177, 'long': 2644, 'basically': 407, 'adds': 119, 'jean': 2389, 'van': 4713, 'adequate': 120, 'evil': 1548, 'brother': 598, 'embarrassing': 1454, 'sequences': 3888, 'arent': 288, 'exciting': 1563, 'relies': 3606, 'martial': 2747, 'arts': 310, 'supporting': 4304, 'wasted': 4809, 'plain': 3286, 'office': 3091, 'space': 4090, 'except': 1556, 'premise': 3370, 'hilarious': 2106, 'laughed': 2532, 'during': 1387, 'mr': 2929, 'quickly': 3491, 'become': 433, 'jason': 2383, 'room': 3735, 'use': 4692, 'rental': 3627, 'house': 2178, 'leave': 2555, 'necessary': 2984, 'offer': 3087, 'cube': 1076, 'having': 2054, 'characters': 760, 'episode': 1507, 'became': 431, 'flat': 1748, 'soap': 4047, 'opera': 3116, 'normal': 3033, 'person': 3238, 'asked': 317, 'questions': 3489, 'god': 1926, 'really': 3556, 'creative': 1041, 'opinion': 3118, 'mystery': 2956, 'three': 4469, 'kinds': 2478, 'cheap': 774, 'fall': 1637, 'asleep': 320, 'aids': 161, 'sick': 3963, 'filmmakers': 1720, 'desperately': 1209, 'reached': 3537, 'beyond': 476, 'abilities': 64, 'resources': 3651, 'bo': 521, 'derek': 1192, 'naturally': 2974, 'fortunately': 1805, 'fate': 1665, 'lack': 2502, 'skill': 4013, 'last': 2521, 'saw': 3798, 'forgive': 1795, 'laughing': 2533, 'rolling': 3730, 'seat': 3845, 'rest': 3657, 'audience': 352, 'clear': 839, 'husband': 2204, 'conceived': 929, 'partly': 3197, 'satire': 3788, 'unfortunately': 4654, 'lacked': 2503, 'pull': 3461, 'element': 1442, 'school': 3813, 'girls': 1911, 'impression': 2252, 'gay': 1876, 'mans': 2730, 'frank': 1821, 'batman': 413, 'pretend': 3381, 'robin': 3715, 'fly': 1763, 'heads': 2059, 'clue': 864, 'human': 2188, 'head': 2057, 'supposedly': 4307, 'serious': 3891, 'moments': 2887, 'supposed': 4306, 'remember': 3616, 'wonders': 4931, 'spoiled': 4122, 'infamous': 2284, 'reveal': 3670, 'breasts': 572, 'erotic': 1515, 'nudity': 3059, 'display': 1291, 'weird': 4841, 'isnt': 2362, 'chases': 771, 'around': 297, 'africa': 141, 'alone': 194, 'knows': 2493, 'father': 1666, 'harris': 2038, 'act': 97, 'course': 1019, 'theres': 4440, 'wondered': 4927, 'changed': 750, 'hasnt': 2044, 'apparently': 270, 'editing': 1421, 'werent': 4849, 'unbearable': 4633, 'contrary': 974, 'deeply': 1156, 'aliens': 184, 'giant': 1905, 'robots': 3718, 'kept': 2456, 'until': 4680, 'alien': 183, 'attacks': 339, 'missed': 2867, 'realized': 3553, 'sat': 3786, 'episodes': 1508, 'mainly': 2708, 'own': 3158, 'robot': 3717, 'fights': 1710, 'dark': 1115, 'depressing': 1188, '12': 3, 'row': 3744, 'either': 1438, 'showing': 3958, 'change': 749, 'nor': 3032, 'learning': 2552, 'growing': 1983, 'kick': 2460, 'bloody': 513, 'kind': 2476, 'angry': 238, 'screen': 3829, 'view': 4736, 'oh': 3096, 'otherwise': 3137, 'big': 478, 'read': 3543, 'creator': 1043, 'writer': 4968, 'wrote': 4974, 'suffering': 4277, 'depression': 1189, 'depressed': 1187, 'asking': 318, 'designed': 1203, 'viewer': 4738, 'confused': 941, 'annoyed': 248, 'far': 1653, 'nowhere': 3056, 'finally': 1724, 'fascinated': 1657, 'claim': 828, 'dead': 1132, 'plots': 3310, 'theyve': 4446, 'told': 4513, 'wished': 4905, 'men': 2805, 'white': 4870, 'mean': 2779, 'stupid': 4247, 'unfunny': 4655, 'claimed': 829, 'children': 792, 'suggest': 4280, 'structure': 4233, 'lacks': 2505, 'type': 4621, 'producers': 3416, 'pieces': 3273, 'included': 2262, 'seemed': 3862, 'genuinely': 1892, 'started': 4157, 'sorry': 4076, 'lie': 2590, 'families': 1644, 'core': 995, 'porn': 3336, 'embarrassment': 1455, 'give': 1912, 'babe': 375, 'donna': 1323, 'disappeared': 1271, 'waited': 4771, 'seconds': 3848, 'forgot': 1796, 'star': 4150, 'appears': 278, 'forget': 1793, 'theyre': 4445, 'tells': 4397, 'fair': 1630, 'live': 2625, 'perhaps': 3235, 'humour': 2194, 'considering': 952, '11': 2, 'anyway': 261, '20': 29, 'wonderful': 4928, 'carpenter': 694, 'tom': 4514, 'boy': 557, 'william': 4887, 'immediately': 2242, 'apparent': 269, 'bed': 436, 'night': 3013, 'each': 1395, 'talent': 4354, 'artist': 307, 'amusing': 221, 'rendition': 3625, 'jewish': 2401, 'london': 2641, 'along': 195, 'learns': 2553, 'small': 4033, 'close': 853, 'community': 908, 'mother': 2911, 'mentally': 2809, 'hear': 2061, 'travels': 4569, 'finds': 1728, 'holding': 2130, 'baby': 376, 'sister': 4001, 'period': 3236, 'hospital': 2172, 'home': 2142, 'climax': 849, 'bitter': 491, 'sweet': 4336, 'ending': 1471, 'best': 469, 'friend': 1835, 'killed': 2469, 'air': 164, 'moving': 2928, 'talking': 4360, 'official': 3094, 'loves': 2674, 'huge': 2185, 'scott': 3824, 'fake': 1635, 'awful': 372, 'screenwriter': 3833, 'successfully': 4267, 'impossible': 2249, 'care': 684, 'directing': 1260, 'helping': 2081, 'improve': 2254, 'plenty': 3307, 'thoroughly': 4459, 'enjoyable': 1485, 'productions': 3420, 'appreciate': 279, 'shines': 3932, 'smile': 4036, 'aside': 315, 'reason': 3557, 'ms': 2931, 'rocky': 3723, 'beautiful': 428, 'shes': 3930, 'dumb': 1385, 'operation': 3117, 'exact': 1550, 'arrogant': 303, 'pain': 3170, 'butt': 638, 'beat': 423, 'proves': 3447, 'lame': 2510, 'attempts': 343, 'relief': 3605, 'elements': 1443, 'knock': 2488, 'spanish': 4092, 'songs': 4072, 'musical': 2947, 'certainly': 738, 'anything': 260, 'mediocre': 2791, 'brought': 600, 'march': 2734, 'expectations': 1576, 'fox': 1814, 'child': 789, 'harsh': 2040, 'winters': 4901, 'south': 4087, 'france': 1816, 'documentary': 1307, 'fairy': 1632, 'tale': 4353, 'friendship': 1838, 'frankly': 1823, 'simple': 3983, 'striking': 4226, 'development': 1225, 'trust': 4598, 'hanging': 2023, 'dealing': 1136, 'likes': 2602, 'meets': 2795, 'elegant': 1441, 'mountains': 2918, 'provide': 3448, 'picture': 3269, 'perfect': 3224, 'shots': 3950, 'cinematographer': 819, 'capture': 676, 'scenery': 3810, 'level': 2584, 'seasons': 3844, 'past': 3207, '45': 50, 'food': 1778, 'bond': 532, 'creature': 1045, 'weak': 4824, 'unlike': 4670, 'interpretation': 2328, 'whats': 4860, 'happening': 2028, 'tension': 4404, 'drama': 1346, 'latter': 2528, 'traditional': 4550, 'granted': 1957, 'fairly': 1631, 'intense': 2316, 'bore': 540, 'playing': 3300, 'magic': 2703, 'surprisingly': 4316, 'suitable': 4285, 'hall': 2009, 'eyes': 1613, 'suddenly': 4273, 'note': 3044, 'wouldve': 4959, 'warning': 4800, 'nature': 2975, 'things': 4451, 'meant': 2784, 'stay': 4166, 'strength': 4219, 'multiple': 2936, 'pokemon': 3320, 'least': 2554, 'heroes': 2089, 'unknown': 4668, 'concerning': 933, 'environment': 1505, 'arguably': 289, 'whether': 4866, 'entertained': 1498, 'covered': 1023, 'includes': 2263, 'cgi': 740, 'anime': 243, 'theme': 4433, 'represented': 3638, 'team': 4378, 'rocket': 3721, 'rubbish': 3748, 'gags': 1862, 'flaws': 1752, 'unnecessary': 4672, 'violence': 4747, 'uninteresting': 4660, 'strange': 4211, 'hunter': 2199, 'forest': 1791, 'tries': 4585, 'somewhere': 4069, 'meanwhile': 2785, 'large': 2517, 'curious': 1083, 'enjoy': 1484, 'ashley': 313, 'ruby': 3749, 'understated': 4646, 'easy': 1410, 'kiss': 2483, 'box': 555, 'video': 4733, 'festival': 1697, 'went': 4847, 'warned': 4798, 'technical': 4381, 'aspects': 322, 'writing': 4971, 'pathetic': 3210, 'likable': 2598, 'adam': 111, 'jones': 2418, 'justin': 2440, 'lane': 2515, 'excellent': 1555, 'drive': 1363, 'mad': 2696, 'spends': 4107, 'dressed': 1358, 'dimensional': 1253, 'reminded': 3619, 'college': 875, 'lovable': 2668, 'none': 3028, 'duo': 1386, 'ridiculous': 3693, 'marks': 2742, 'cared': 685, 'decided': 1149, 'done': 1322, 'crew': 1053, 'watchable': 4812, 'makers': 2715, 'intended': 2315, 'blockbuster': 509, 'serial': 3889, 'killer': 2470, 'load': 2631, 'causing': 726, 'reaction': 3541, 'snow': 4045, 'middle': 2833, 'winter': 4900, 'turns': 4609, 'laugh': 2529, 'killings': 2473, 'wouldnt': 4958, 'advise': 134, 'buy': 640, 'cover': 1022, 'happens': 2029, 'youre': 4992, 'paid': 3169, 'category': 718, 'resist': 3648, 'exactly': 1551, 'politically': 3325, 'crazy': 1035, 'fat': 1663, 'possibly': 3351, 'sequel': 3885, 'gods': 1928, 'earth': 1403, 'case': 707, 'history': 2121, 'bottom': 551, 'insane': 2296, 'brand': 565, 'shot': 3949, 'zero': 4996, 'score': 3822, 'value': 4709, 'consists': 955, 'flashbacks': 1747, 'top': 4525, 'portion': 3338, 'thanks': 4423, 'nick': 3012, 'blow': 514, 'market': 2740, 'cool': 989, 'band': 391, 'marketing': 2741, 'idiots': 2220, 'complex': 923, 'plastic': 3294, 'faced': 1617, 'won': 4925, 'competition': 918, 'intensity': 2317, 'goofy': 1939, 'spend': 4105, 'judge': 2424, 'generally': 1881, 'winner': 4897, 'prize': 3405, 'yeah': 4977, 'iron': 2354, 'sadly': 3769, 'imdb': 2240, 'allow': 189, 'rate': 3526, 'lower': 2677, 'turned': 4606, 'bright': 581, 'audio': 354, 'timing': 4498, 'line': 2610, 'delivery': 1173, 'utterly': 4702, 'modern': 2882, 'day': 1129, 'style': 4249, 'western': 4853, 'dog': 1310, 'okay': 3099, 'keeps': 2451, 'carry': 700, 'constant': 957, 'rent': 3626, 'television': 4394, 'channel': 753, 'demand': 1174, 'creepy': 1052, 'gross': 1978, 'melodramatic': 2798, 'laughable': 2530, 'centers': 734, 'women': 4923, 'town': 4541, 'meet': 2793, 'psycho': 3457, 'offers': 3090, 'truth': 4599, 'lives': 2628, 'stephen': 4176, 'performance': 3228, 'unseen': 4678, 'carries': 699, 'finding': 1727, 'seeing': 3857, 'barbara': 397, 'nice': 3008, 'candy': 668, 'consider': 949, 'gem': 1877, 'critics': 1064, 'advice': 133, 'public': 3460, 'choose': 799, 'ignored': 2225, 'hurt': 2202, 'however': 2183, 'decision': 1151, 'cat': 713, 'hat': 2045, 'said': 3774, 'avoid': 363, 'known': 2492, 'grinch': 1975, 'stole': 4194, 'christmas': 810, 'mine': 2853, 'took': 4523, 'colorful': 878, 'almost': 193, 'treat': 4572, 'fury': 1855, 'against': 147, 'another': 250, 'budget': 610, 'title': 4504, 'wrong': 4973, 'opening': 3114, 'credits': 1050, 'charming': 768, 'production': 3419, 'values': 4710, 'notch': 3043, 'showed': 3956, 'problems': 3409, 'point': 3316, 'biggest': 480, 'mike': 2838, 'myers': 2952, 'saved': 3795, 'inspired': 2301, 'carrey': 696, 'destroyed': 1214, 'belong': 459, 'feature': 1678, 'length': 2569, 'stuff': 4243, 'snl': 4044, 'painful': 3171, 'helped': 2080, 'hip': 2114, 'experience': 1580, 'adult': 125, 'stars': 4155, 'relatively': 3600, 'mess': 2818, 'hope': 2155, 'chances': 748, 'parent': 3187, 'plague': 3285, 'bear': 420, 'currently': 1085, 'choices': 798, 'spite': 4117, 'leslie': 2574, 'howard': 2182, 'philip': 3252, 'bette': 471, 'davis': 1126, 'mildred': 2841, 'finest': 1730, 'performances': 3229, 'academy': 77, 'award': 366, 'nomination': 3026, 'brings': 587, 'feels': 1687, 'disappointing': 1274, 'substance': 4258, 'protagonist': 3441, 'martin': 2748, 'including': 2264, 'jon': 2416, 'voight': 4764, 'black': 493, 'print': 3399, 'disappointment': 1275, 'et': 1526, 'mostly': 2910, 'effects': 1431, '80s': 59, 'nude': 3058, 'battle': 414, 'warriors': 4803, 'wind': 4893, 'ride': 3692, 'horses': 2171, 'crappy': 1032, 'model': 2880, 'trees': 4577, 'cave': 727, 'em': 1452, 'ed': 1415, 'wood': 4933, 'enjoyment': 1488, 'reasons': 3560, 'personally': 3243, 'disney': 1289, 'lifetime': 2594, 'match': 2762, 'improvement': 2256, 'dress': 1357, 'sent': 3880, 'silent': 3975, 'awkward': 374, 'brilliant': 583, 'angela': 232, 'price': 3389, 'interest': 2323, 'endings': 1472, 'exception': 1557, 'neither': 2996, 'happy': 2032, 'sad': 3767, 'dialog': 1232, 'alright': 198, 'nine': 3017, 'ten': 4399, 'six': 4010, 'costumes': 1006, 'eight': 1436, 'fight': 1707, 'awesome': 371, 'michael': 2829, 'voice': 4761, 'final': 1722, 'standing': 4146, 'knowledge': 2491, 'namely': 2962, 'street': 4216, 'german': 1896, 'married': 2744, 'second': 3846, 'unique': 4662, 'germans': 1897, 'anne': 246, 'instance': 2304, 'dutch': 1389, 'support': 4303, 'nazis': 2978, 'stand': 4143, 'nazi': 2977, 'board': 522, 'york': 4985, 'direction': 1261, 'von': 4765, 'masterful': 2758, 'cinematography': 820, 'outstanding': 3147, 'speak': 4094, 'native': 2972, 'tongue': 4518, 'common': 906, 'criticism': 1063, 'spoil': 4121, 'hoping': 2160, 'distribution': 1298, 'north': 3036, 'towards': 4540, 'hitler': 2124, 'area': 286, 'urge': 4689, 'deadly': 1133, 'presence': 3373, 'wants': 4791, 'cross': 1066, 'dr': 1340, 'unless': 4669, '70s': 56, 'thriller': 4472, 'president': 3378, 'initial': 2290, 'cut': 1089, 'edited': 1420, 'nuclear': 3057, 'laughs': 2534, 'location': 2635, 'studio': 4240, 'responsible': 3656, 'key': 2458, 'throws': 4482, 'away': 369, 'putting': 3482, 'jumping': 2431, 'plane': 3288, 'miles': 2843, 'village': 4743, 'lifestyle': 2593, 'producer': 3415, 'opened': 3113, 'minded': 2850, 'closest': 857, 'relatives': 3601, 'recognize': 3569, 'thank': 4421, 'maria': 2736, 'brady': 561, 'barry': 401, 'williams': 4888, 'sexy': 3911, 'dating': 1120, 'mom': 2885, 'susan': 4326, 'porno': 3337, 'bobby': 525, 'drunk': 1375, 'driving': 1368, 'sex': 3907, 'side': 3965, 'christopher': 811, 'early': 1400, 'surreal': 4317, 'relationship': 3597, 'naked': 2959, 'birthday': 487, 'dealt': 1138, 'mature': 2773, 'fashion': 1659, 'picking': 3267, 'leaving': 2557, 'taking': 4352, 'ring': 3698, 'talks': 4361, 'obvious': 3071, 'already': 197, 'wife': 4884, 'cute': 1090, 'crush': 1072, 'disaster': 1276, 'silly': 3976, 'chris': 806, 'rid': 3690, 'cannot': 670, 'afford': 138, 'fresh': 1833, 'wwii': 4975, 'death': 1141, 'aware': 368, 'stopped': 4202, 'unexpected': 4650, 'moment': 2886, 'nations': 2971, 'abraham': 69, 'doctor': 1304, 'roger': 3724, 'carter': 703, 'june': 2433, 'kim': 2475, 'raymond': 3534, 'imaginative': 2237, 'powell': 3358, 'tour': 4538, 'de': 1131, 'force': 1786, 'universe': 4666, 'important': 2247, 'humans': 2190, 'word': 4937, 'wow': 4962, 'west': 4852, 'emotionally': 1460, 'moved': 2922, 'sometimes': 4067, 'prefer': 3368, 'balls': 390, 'tap': 4364, 'hit': 2122, 'elvis': 1451, 'mary': 2751, 'kay': 2447, 'vegas': 4717, 'fbi': 1675, 'agents': 151, 'humanity': 2189, 'intelligence': 2313, 'sloppy': 4030, 'farce': 1654, 'rights': 3697, 'actual': 108, 'used': 4693, 'central': 735, 'words': 4938, 'perform': 3227, 'effect': 1428, 'oscar': 3133, 'grave': 1962, 'potentially': 3356, 'photographed': 3258, 'gold': 1932, 'record': 3573, 'park': 3190, 'conventional': 979, 'wisdom': 4902, 'describe': 1194, 'horrible': 2163, 'under': 4639, 'comment': 898, 'drinking': 1362, 'nearly': 2981, 'literally': 2622, 'clues': 865, 'surprised': 4313, 'grim': 1974, 'sucked': 4270, 'slow': 4031, 'mixed': 2877, 'artistic': 308, 'detail': 1217, 'drawn': 1351, 'meaningful': 2781, 'highlight': 2103, 'gore': 1941, 'several': 3905, 'vision': 4754, 'sleep': 4024, 'seriously': 3892, 'fell': 1690, 'negative': 2991, 'works': 4945, 'suck': 4269, 'result': 3660, 'musicals': 2948, 'memorable': 2802, 'kelly': 2452, 'dancing': 1107, 'jerry': 2396, 'mouse': 2919, 'sinatra': 3989, 'singing': 3995, 'piano': 3264, 'innovative': 2295, 'beneath': 464, 'thin': 4449, 'enthusiasm': 1501, 'dean': 1139, 'falls': 1640, 'aunt': 355, 'suggests': 4282, 'naive': 2958, 'fast': 1661, 'contact': 961, 'whos': 4876, 'falling': 1639, 'remembered': 3617, 'combination': 883, 'sequence': 3887, 'rain': 3506, 'st': 4137, 'louis': 2665, 'bare': 398, 'happen': 2026, 'drug': 1373, 'doing': 1312, 'holiday': 2134, 'nightmare': 3014, 'events': 1536, 'exaggerated': 1552, 'major': 2711, 'problem': 3408, 'todays': 4509, 'society': 4050, 'viewers': 4739, 'needed': 2988, 'emotional': 1459, 'raw': 3532, 'stays': 4169, 'sandra': 3782, 'broadway': 592, 'pretentious': 3383, 'acts': 107, 'sense': 3877, 'irony': 2357, 'honest': 2146, 'face': 1616, 'suited': 4286, 'halfway': 2008, 'lacking': 2504, 'filmmaker': 1719, 'served': 3894, 'executive': 1567, 'co': 867, 'touch': 4533, 'audiences': 353, 'bored': 541, 'likely': 2601, 'share': 3920, 'september': 3884, '13': 4, 'monsters': 2893, 'hey': 2095, 'soundtrack': 4085, 'guys': 2001, 'relate': 3593, 'everyday': 1541, 'carl': 692, 'discover': 1279, 'odd': 3080, 'situations': 4009, 'closer': 856, 'danger': 1109, 'forward': 1808, 'defeat': 1157, 'menace': 2806, 'rare': 3523, 'brave': 567, 'superior': 4300, 'supernatural': 4302, 'trap': 4563, 'hiding': 2099, 'waiting': 4772, 'managed': 2723, 'sees': 3866, 'trapped': 4564, 'defend': 1158, 'heroic': 2090, 'willing': 4889, 'regular': 3592, 'buck': 605, 'wrapped': 4964, 'involving': 2349, 'anymore': 258, 'plan': 3287, 'running': 3756, 'situation': 4008, 'kid': 2464, 'scared': 3805, 'knew': 2486, 'create': 1036, 'suit': 4284, 'direct': 1258, 'suspenseful': 4331, 'lasted': 2522, 'season': 3843, 'tired': 4501, 'week': 4837, 'continue': 969, 'formula': 1802, 'starred': 4153, 'bumbling': 622, 'determined': 1221, 'hearted': 2065, 'reporter': 3636, 'doubt': 1332, 'sets': 3899, 'guest': 1992, 'ingredients': 2289, 'secret': 3849, 'success': 4265, 'root': 3737, 'aint': 163, 'spoilers': 4124, 'clichés': 846, 'horror': 2168, 'female': 1693, 'check': 777, 'villain': 4744, 'notice': 3048, 'frame': 1815, 'creep': 1051, 'cliché': 844, 'list': 2617, 'using': 4698, 'dear': 1140, 'turning': 4608, 'killing': 2472, 'underground': 4640, 'led': 2558, 'experiment': 1583, 'revenge': 3675, 'vague': 4705, 'meaningless': 2782, 'totally': 4532, 'theyd': 4443, 'oscars': 3134, 'likewise': 2603, 'cost': 1003, 'produce': 3413, 'cinema': 816, 'state': 4160, 'slightly': 4029, 'featured': 1679, 'murderous': 2942, 'cannibal': 669, 'raise': 3507, 'ugly': 4625, 'assault': 324, '2005': 35, 'boys': 559, 'learn': 2550, '1983': 22, 'matthew': 2772, 'dated': 1119, 'beats': 426, 'hands': 2020, 'lived': 2626, 'game': 1864, 'chess': 783, 'says': 3801, 'dad': 1095, 'short': 3946, 'epic': 1506, 'flawed': 1750, 'duty': 1390, 'honor': 2150, 'mere': 2814, 'lips': 2615, 'officer': 3092, 'total': 4531, 'ironically': 2356, 'liberal': 2588, 'able': 66, 'cringe': 1059, 'teenagers': 4391, 'son': 4070, 'daughter': 1121, 'commented': 900, 'comfortable': 892, 'cynical': 1093, 'hold': 2129, 'romantic': 3733, 'demon': 1177, 'enjoys': 1489, 'living': 2629, 'losers': 2656, 'further': 1853, 'seven': 3903, 'natural': 2973, 'goodness': 1938, 'telling': 4396, 'come': 886, 'youve': 4995, 'committed': 905, 'murder': 2939, 'remarks': 3615, 'sound': 4081, 'soon': 4074, 'certain': 737, 'comical': 894, 'parody': 3192, 'ends': 1474, 'run': 3755, 'matrix': 2767, 'amazed': 208, 'spectacular': 4101, 'argue': 290, 'builds': 617, 'anti': 254, 'bull': 619, 'gradually': 1952, 'gotta': 1946, 'fare': 1655, 'cities': 823, 'ethan': 1528, 'paris': 3189, 'city': 825, 'james': 2378, 'julie': 2428, 'stories': 4205, 'ruin': 3750, 'anybody': 257, 'revealing': 3672, 'worked': 4941, 'next': 3007, 'entry': 1504, 'china': 795, 'spoken': 4126, 'bits': 490, 'russian': 3762, 'rated': 3527, 'strong': 4229, 'sexual': 3908, 'content': 966, 'ordinary': 3128, 'joe': 2407, 'lessons': 2578, 'quest': 3486, 'smooth': 4041, 'floor': 1759, 'themselves': 4435, 'japan': 2381, 'loud': 2664, 'sight': 3969, 'thinking': 4453, 'social': 4049, 'classes': 834, 'teens': 4392, 'genuine': 1891, 'caring': 691, 'shown': 3959, 'remake': 3612, 'shall': 3916, 'born': 544, 'yesterday': 4983, 'adams': 112, 'pat': 3208, 'ruth': 3763, 'gordon': 1940, 'tiresome': 4502, 'drivel': 1364, 'clichéd': 845, 'efforts': 1433, 'brenda': 575, 'offensive': 3086, 'today': 4508, 'clean': 838, 'four': 1812, 'tales': 4357, 'terror': 4412, 'regarding': 3589, 'mansion': 2731, 'latest': 2526, 'blood': 512, 'struggle': 4234, 'brilliance': 582, 'seventies': 3904, 'remarkable': 3613, 'visually': 4758, 'innocent': 2294, 'capable': 672, 'inducing': 2279, 'incredibly': 2270, 'number': 3060, 'portray': 3340, 'succeeds': 4264, 'horrific': 2166, 'images': 2235, 'imagination': 2236, 'graphic': 1958, 'virtually': 4751, 'flawless': 1751, 'featuring': 1681, 'legendary': 2565, 'lee': 2559, 'pitt': 3280, 'superb': 4296, 'master': 2757, 'robert': 3713, 'author': 359, 'novel': 3052, 'somewhat': 4068, 'twists': 4619, 'segments': 3868, 'fail': 1625, 'viewing': 4740, 'method': 2824, 'charles': 764, 'working': 4944, 'start': 4156, 'difference': 1246, 'fiction': 1702, 'piece': 3272, 'exceptional': 1558, 'surrounding': 4319, 'merely': 2815, 'creating': 1039, 'unsettling': 4679, 'atmosphere': 333, 'suspense': 4330, 'required': 3641, 'greatly': 1967, 'following': 1774, 'sinister': 3998, 'museum': 2945, 'horrors': 2169, 'decides': 1150, 'discovers': 1281, 'familiar': 1643, 'joined': 2413, 'wishes': 4906, 'visit': 4755, 'subtle': 4260, 'left': 2561, 'particular': 3194, 'particularly': 3195, 'dream': 1354, 'weakest': 4825, 'credible': 1048, 'delightful': 1168, 'followed': 1773, 'greatest': 1966, 'fear': 1676, 'fire': 1734, 'ann': 244, 'dawn': 1127, 'compelling': 916, 'immensely': 2243, 'accompanied': 86, 'wonderfully': 4929, 'exercise': 1568, 'throat': 4476, 'refuses': 3587, 'screams': 3828, 'haunting': 2051, 'missing': 2869, 'performer': 3231, 'originally': 3131, 'interested': 2324, 'performers': 3232, 'amateurish': 207, 'props': 3439, 'vampire': 4711, 'shop': 3945, 'mysteries': 2954, 'wears': 4832, 'places': 3284, 'inspector': 2299, 'amongst': 218, 'wrap': 4963, 'camp': 662, 'frightening': 1839, 'executed': 1565, 'nonetheless': 3029, 'buffs': 612, 'bela': 450, 'lees': 2560, 'portrayal': 3341, 'dracula': 1341, 'essence': 1521, 'earlier': 1399, 'examples': 1554, 'sum': 4289, 'incredible': 2269, 'par': 3184, 'hundred': 2195, 'guts': 1999, 'highly': 2105, 'disappointed': 1273, 'tense': 4403, 'rating': 3529, 'thumbs': 4485, 'ted': 4386, 'misses': 2868, 'villains': 4745, 'sky': 4017, 'split': 4120, 'scientists': 3819, 'eva': 1531, 'older': 3101, 'satisfy': 3790, 'sexually': 3910, 'frustrated': 1842, 'plans': 3292, 'divorce': 1301, 'lake': 2509, 'woods': 4935, 'horse': 2170, 'realizes': 3554, 'spoiler': 4123, '1933': 12, 'sin': 3988, 'leads': 2548, 'tragic': 4552, 'finale': 1723, 'tame': 4363, 'standards': 4145, 'swim': 4337, 'extreme': 1609, 'considered': 951, 'release': 3602, 'pg': 3250, 'shock': 3938, 'beautifully': 429, 'luckily': 2682, 'attractive': 351, 'breath': 573, 'acted': 98, 'symbolism': 4341, 'imagery': 2234, 'excuse': 1564, 'admire': 121, 'holmes': 2139, '1980s': 21, 'los': 2653, 'angeles': 233, 'perspective': 3245, 'robbery': 3711, 'eddie': 1416, 'alfred': 181, 'nights': 3016, 'heavily': 2069, 'stuck': 4237, 'kings': 2481, 'severe': 3906, 'lisa': 2616, 'girlfriend': 1910, 'kate': 2446, 'fill': 1714, 'paul': 3214, 'thomas': 4458, 'portrays': 3344, 'comedic': 888, 'cox': 1026, 'eerie': 1427, 'learned': 2551, 'doors': 1329, 'sea': 3838, 'bring': 585, 'realistic': 3550, 'lucas': 2680, 'stands': 4147, 'ron': 3734, 'jane': 2380, 'leader': 2546, 'gang': 1867, 'pop': 3330, 'lots': 2662, 'color': 877, 'nostalgia': 3038, 'jumps': 2432, 'pace': 3161, 'nervous': 2999, 'paced': 3162, 'violent': 4748, 'third': 4455, 'police': 3322, 'evidence': 1546, 'crime': 1055, 'remind': 3618, 'recommended': 3572, 'sides': 3967, 'celluloid': 731, 'justice': 2438, 'dirty': 1268, 'harry': 2039, 'clint': 850, 'eastwood': 1409, 'popular': 3333, 'within': 4912, 'heart': 2064, 'puts': 3481, 'conflict': 939, 'criminals': 1058, 'draws': 1352, 'nonsense': 3030, 'red': 3576, 'tape': 4365, 'sudden': 4272, 'successful': 4266, 'fourth': 1813, 'encounters': 1467, 'whose': 4877, 'whoever': 4872, 'carrying': 701, 'department': 1182, 'vacation': 4704, 'san': 3780, 'francisco': 1819, 'recent': 3566, 'chief': 788, 'methods': 2825, 'elsewhere': 1449, 'investigation': 2343, 'ultimately': 4628, 'involves': 2348, 'talented': 4355, 'jennifer': 2392, 'link': 2613, 'victims': 4730, 'burning': 627, 'form': 1798, 'front': 1841, 'offering': 3089, 'steps': 4177, 'territory': 4411, 'continuity': 972, 'directs': 1267, 'beginning': 443, 'screenplay': 3831, 'joseph': 2419, 'earl': 1398, 'engaging': 1481, 'personal': 3240, 'entirely': 1503, 'convincing': 985, 'catch': 714, 'ahead': 159, 'moral': 2902, 'code': 869, 'freedom': 1828, 'icon': 2211, 'portraying': 3343, 'sean': 3840, 'effective': 1429, 'vengeance': 4719, 'focus': 1766, 'stage': 4139, 'philosophy': 3254, 'roles': 3727, 'dynamic': 1394, 'limited': 2606, 'believable': 453, 'purely': 3472, 'response': 3654, 'ray': 3533, 'low': 2676, 'bar': 396, 'credibility': 1047, 'helps': 2082, 'realism': 3549, 'albert': 174, 'nancy': 2964, 'mrs': 2930, 'blend': 504, 'satisfying': 3791, 'quote': 3496, 'wild': 4885, 'turn': 4605, 'whatsoever': 4861, 'setting': 3900, 'extremely': 1610, 'tough': 4537, 'portrayed': 3342, 'river': 3707, 'tried': 4584, 'commit': 904, 'deals': 1137, 'urban': 4688, 'peoples': 3222, 'arrive': 300, 'block': 508, 'gas': 1874, 'truck': 4595, 'buying': 641, 'offered': 3088, 'shake': 3914, 'couple': 1016, 'bucks': 606, 'react': 3540, 'follow': 1772, 'funniest': 1851, 'rules': 3754, 'encounter': 1466, 'hills': 2109, 'laws': 2540, 'include': 2261, 'behavior': 446, 'briefly': 580, 'unpleasant': 4674, 'established': 1524, 'sign': 3970, 'amount': 219, 'remain': 3609, 'gratuitous': 1961, 'purpose': 3474, 'powerful': 3360, 'majority': 2712, 'delivers': 1172, 'edge': 1418, 'surviving': 4323, 'members': 2801, 'reach': 3536, 'questionable': 3488, 'explanation': 1590, 'disturbing': 1300, 'testament': 4417, 'ie': 2221, 'sub': 4252, 'childish': 791, 'timeless': 4496, 'weekend': 4838, 'individuals': 2278, 'member': 2800, 'inside': 2297, 'sci': 3815, 'fi': 1701, 'fantasy': 1652, 'feed': 1683, 'technology': 4385, 'aspect': 321, 'stunning': 4244, 'der': 1191, 'call': 651, 'simply': 3986, 'passing': 3204, 'news': 3005, 'footage': 1782, 'add': 115, 'feelings': 1686, 'logic': 2638, 'rat': 3525, 'rats': 3531, 'similarly': 3980, 'comparison': 914, 'faith': 1633, 'text': 4419, 'culture': 1079, 'despite': 1211, 'wealth': 4826, 'equally': 1510, 'aforementioned': 139, 'poverty': 3357, 'means': 2783, 'spin': 4112, 'checking': 778, 'account': 89, 'repeated': 3631, 'viewings': 4741, 'shy': 3962, 'unintentionally': 4659, 'european': 1530, 'hence': 2083, 'needless': 2989, 'provides': 3450, 'historical': 2119, 'insight': 2298, 'expect': 1575, 'flop': 1760, 'depicting': 1184, 'animal': 239, 'slaughter': 4021, 'gruesome': 1986, 'intent': 2318, 'prevent': 3385, 'accurate': 90, 'caught': 722, 'eventually': 1537, 'private': 3404, 'rock': 3720, 'banned': 395, 'forty': 1807, 'europe': 1529, 'gotten': 1947, 'ear': 1397, 'named': 2961, 'escape': 1517, 'madness': 2698, 'bride': 577, 'mistake': 2871, 'fancy': 1649, 'ex': 1549, 'rival': 3706, 'obsession': 3070, 'photos': 3261, 'themes': 4434, 'lawrence': 2539, 'restored': 3659, 'source': 4086, 'church': 813, 'usa': 4691, 'minimal': 2855, 'visual': 4757, 'arm': 292, 'twisted': 4618, 'excited': 1561, 'yes': 4982, 'extent': 1605, 'minds': 2852, 'ourselves': 3140, 'heres': 2087, 'deserve': 1199, '17': 9, 'reviewer': 3677, 'appropriate': 283, 'bizarre': 492, 'stereotypical': 4180, 'blacks': 494, 'upset': 4687, 'leaves': 2556, 'seek': 3858, 'worlds': 4947, 'shell': 3927, 'formulaic': 1803, 'seeks': 3860, 'devils': 1229, 'attempt': 340, 'painfully': 3172, 'swedish': 4335, 'un': 4630, 'explicit': 1591, 'castle': 712, 'previously': 3388, 'murdered': 2940, 'drink': 1361, 'breaks': 571, 'ideal': 2214, 'sleazy': 4023, 'ya': 4976, 'showcase': 3954, 'skin': 4015, 'wooden': 4934, 'era': 1513, 'liking': 2604, 'student': 4238, '1960s': 15, 'alert': 178, 'government': 1948, 'solution': 4059, 'max': 2774, 'shooting': 3943, 'explained': 1587, 'expression': 1602, 'revelation': 3674, 'fighting': 1709, 'greater': 1965, 'authority': 360, 'meaning': 2780, 'teachers': 4376, 'virginia': 4750, 'deal': 1135, 'juvenile': 2441, 'attention': 345, 'rough': 3741, 'couldve': 1009, 'effort': 1432, 'raised': 3508, 'familys': 1646, 'listening': 2620, 'chance': 747, 'warming': 4795, 'versions': 4721, 'compare': 911, 'heat': 2067, 'normally': 3034, 'sing': 3992, 'favorites': 1672, 'tunes': 4603, 'childhood': 790, 'hatred': 2049, 'religion': 3607, 'wealthy': 4827, 'hoffman': 2128, 'grow': 1982, 'remarkably': 3614, 'destroy': 1213, 'portrait': 3339, 'lonely': 2643, 'lose': 2654, 'seemingly': 3863, 'guilt': 1994, 'male': 2719, 'stood': 4199, 'test': 4416, 'everywhere': 1545, 'sexuality': 3909, 'humorous': 2193, 'midnight': 2834, 'cowboy': 1025, 'orange': 3125, 'shocking': 3940, 'effectively': 1430, 'unforgettable': 4652, 'campy': 664, 'decade': 1144, 'fantastic': 1651, 'stronger': 4230, 'sitcom': 4004, 'jimmy': 2403, 'perry': 3237, 'army': 295, 'concert': 935, 'india': 2273, 'davies': 1125, 'party': 3200, 'jungle': 2434, 'colonel': 876, 'donald': 1321, 'george': 1893, 'ginger': 1908, 'rogers': 3725, 'university': 4667, 'player': 3298, 'la': 2500, 'da': 1094, 'aka': 168, 'singer': 3993, 'mitchell': 2875, 'kenneth': 2455, 'adventures': 131, 'faithful': 1634, 'eg': 1434, 'affair': 135, 'catching': 716, 'accent': 78, 'recognition': 3568, 'crude': 1069, 'calling': 653, 'racial': 3501, 'spoke': 4125, 'bbc': 417, 'vast': 4716, 'racist': 3503, 'slightest': 4028, 'offended': 3085, 'agreed': 156, 'round': 3742, 'road': 3709, 'hype': 2207, 'mainstream': 2709, 'justify': 2439, 'poor': 3328, 'mini': 2854, 'tonight': 4519, 'danes': 1108, 'fine': 1729, 'claire': 831, 'riveting': 3708, 'teach': 4374, 'convinced': 984, 'subject': 4253, 'haunted': 2050, 'engaged': 1480, 'opens': 3115, 'challenging': 744, 'multi': 2935, '3000': 43, 'kurt': 2499, 'russell': 3761, 'choice': 797, 'break': 569, 'performed': 3230, 'hits': 2125, 'gonna': 1936, 'hotel': 2175, 'highest': 2102, 'beauty': 430, 'uneven': 4649, 'complicated': 925, 'answers': 252, 'whom': 4875, 'headed': 2058, 'border': 539, 'guessed': 1990, 'rank': 3518, 'filled': 1715, 'comedies': 889, 'belief': 451, 'extras': 1608, 'attacked': 338, 'believed': 455, 'pal': 3177, 'pitch': 3279, 'petty': 3249, 'criminal': 1057, 'business': 633, 'prove': 3445, 'winning': 4898, 'jail': 2376, 'priest': 3392, 'critical': 1062, 'christ': 807, 'figure': 1711, 'instant': 2305, 'pays': 3218, 'unusual': 4681, 'victim': 4729, 'directorial': 1265, 'spain': 4091, 'types': 4622, 'fortune': 1806, 'ensemble': 1492, 'franco': 1820, 'ups': 4686, 'clip': 851, 'surely': 4309, 'slasher': 4020, 'clothes': 860, 'wearing': 4831, 'jesus': 2399, 'clown': 862, 'gory': 1943, 'weapon': 4828, 'huh': 2187, 'copy': 994, 'mention': 2810, '40s': 49, 'treatment': 4574, 'solid': 4057, 'creatures': 1046, 'plus': 3311, 'hints': 2113, 'appearing': 277, 'brian': 576, 'cameos': 658, 'england': 1482, 'sun': 4292, 'shine': 3931, 'radio': 3504, 'ii': 2226, 'train': 4556, 'blowing': 515, 'sentimental': 3882, 'buddy': 609, 'suggested': 4281, 'hardly': 2036, 'apart': 264, 'hint': 2112, 'mouth': 2920, 'library': 2589, 'books': 536, 'whilst': 4869, 'football': 1783, 'etc': 1527, 'target': 4366, 'computer': 927, 'pick': 3265, 'graphics': 1959, 'reflect': 3584, 'games': 1865, '16': 8, 'colour': 880, 'explosion': 1596, 'thankfully': 4422, 'resort': 3650, 'via': 4726, 'uk': 4626, 'recently': 3567, 'mildly': 2840, 'spirited': 4114, 'nevertheless': 3002, 'eighties': 1437, 'format': 1799, 'angle': 236, 'lady': 2507, 'mistakes': 2873, 'underlying': 4641, 'intelligent': 2314, 'device': 1227, 'indeed': 2271, 'winds': 4895, '20th': 38, 'century': 736, 'system': 4345, 'limits': 2607, 'chaos': 755, 'theory': 4437, 'ideas': 2215, 'scientific': 3817, 'fatal': 1664, 'frustration': 1843, 'tim': 4494, 'burton': 630, 'actions': 101, 'decisions': 1152, 'irrelevant': 2358, 'soul': 4079, 'rip': 3700, 'chick': 786, 'insult': 2309, 'gray': 1963, 'womans': 4922, 'mood': 2898, 'sympathy': 4343, 'dreadful': 1353, 'shallow': 3917, 'ignorant': 2223, 'doom': 1326, 'accept': 80, 'facing': 1620, 'ought': 3138, 'future': 1856, 'present': 3374, 'remotely': 3623, 'scope': 3821, 'damage': 1099, 'misery': 2865, 'intentionally': 2320, 'directly': 1263, 'letting': 2583, 'survivors': 4325, 'characterization': 759, 'occur': 3076, 'composed': 926, 'fully': 1847, 'blame': 499, 'wide': 4880, 'crisis': 1060, 'terribly': 4408, 'stock': 4193, 'crash': 1033, 'follows': 1775, 'countries': 1013, 'friendly': 1836, 'lesson': 2577, 'hadnt': 2004, 'non': 3027, 'smart': 4035, 'trailer': 4554, 'late': 2523, 'refreshing': 3586, 'simplicity': 3984, 'hearts': 2066, 'whenever': 4863, 'flick': 1754, 'inspiring': 2302, 'actresses': 106, 'settings': 3901, 'lovely': 2671, 'sappy': 3784, 'fascinating': 1658, 'barely': 399, 'lord': 2652, 'trade': 4547, 'groups': 1981, 'storytelling': 4209, 'creators': 1044, 'continued': 970, 'abandoned': 62, 'techniques': 4384, 'advanced': 128, 'military': 2844, 'discovered': 1280, 'conflicts': 940, 'synopsis': 4344, 'emotions': 1461, 'cardboard': 682, 'bullet': 620, 'conspiracy': 956, 'impressive': 2253, 'age': 148, 'reminiscent': 3621, 'cultural': 1078, 'prepared': 3371, 'pleasure': 3306, 'purchased': 3470, 'sequels': 3886, 'essential': 1522, 'collection': 874, 'heck': 2071, 'expressed': 1601, 'drugs': 1374, 'stone': 4197, 'survive': 4321, 'grand': 1953, 'hunting': 2201, 'image': 2233, 'concept': 930, 'iraq': 2351, 'soldiers': 4054, 'convince': 983, 'vietnam': 4735, 'americas': 215, 'suffered': 4276, 'motivations': 2915, 'stones': 4198, 'wall': 4781, 'magnificent': 2705, '30': 42, 'matters': 2770, 'anna': 245, 'lover': 2672, 'del': 1165, 'nurse': 3063, 'aging': 153, 'mario': 2738, 'health': 2060, 'attack': 337, 'leading': 2547, 'jack': 2373, 'motives': 2916, 'grows': 1985, 'ironic': 2355, 'described': 1195, 'finish': 1732, 'strip': 4228, 'jump': 2429, 'patient': 3211, 'lengthy': 2570, 'argument': 291, 'swimming': 4338, 'pool': 3327, 'advantage': 129, 'chase': 769, 'youd': 4987, 'gift': 1906, 'presented': 3376, 'cage': 645, 'pilot': 3276, 'trek': 4578, 'ambitious': 211, 'network': 3000, 'gene': 1879, 'philosophical': 3253, 'depth': 1190, 'enterprise': 1495, 'receives': 3565, 'horribly': 2164, 'accident': 84, 'open': 3112, 'brilliantly': 584, 'remote': 3622, 'forbidden': 1785, 'planet': 3289, 'sentence': 3881, 'deliberately': 1166, 'destroying': 1215, 'ships': 3935, 'activities': 102, 'dangerous': 1110, 'answer': 251, 'calls': 654, 'craft': 1028, 'unable': 4631, 'reveals': 3673, 'demands': 1175, 'arrested': 298, 'command': 897, 'officers': 3093, 'allowing': 191, 'presents': 3377, 'journey': 2421, 'doubts': 1333, 'depicted': 1183, 'research': 3644, '18': 10, 'among': 217, 'attracted': 349, 'allows': 192, 'isolated': 2363, 'spot': 4131, 'captured': 677, 'enormous': 1490, 'thoughts': 4464, 'existed': 1570, 'orders': 3127, 'morris': 2908, 'science': 3816, 'baseball': 403, 'coach': 868, 'players': 3299, 'dennis': 1179, 'stranger': 4213, 'sports': 4130, 'bay': 416, 'devil': 1228, 'tag': 4348, 'suffer': 4275, 'pacing': 3163, 'subplots': 4256, 'national': 2970, 'grade': 1951, 'deceased': 1146, 'african': 142, 'americans': 214, 'brooklyn': 595, 'diamond': 1236, 'lesser': 2576, 'attempting': 342, 'sole': 4055, 'constantly': 958, 'building': 615, 'enters': 1496, 'meeting': 2794, 'bell': 458, 'rose': 3739, 'sisters': 4002, 'descent': 1193, 'condition': 937, 'scripted': 3835, 'keeping': 2450, 'primarily': 3393, 'solo': 4058, 'jazz': 2387, 'blues': 519, 'farm': 1656, 'rule': 3753, 'empty': 1465, 'finger': 1731, 'adaptation': 113, 'below': 462, 'keaton': 2448, 'bullets': 621, 'prison': 3401, 'johnny': 2410, 'amy': 222, 'slap': 4018, 'slapstick': 4019, 'spoof': 4127, '1930s': 11, 'cops': 993, 'cliche': 843, 'exist': 1569, 'dolls': 1316, 'faces': 1618, 'machine': 2693, 'al': 170, 'funnier': 1850, 'ready': 3546, 'buff': 611, 'contemporary': 965, 'classics': 837, 'educational': 1425, 'generations': 1884, 'current': 1084, 'civil': 826, 'specifically': 4100, 'abusive': 75, 'adapted': 114, 'demented': 1176, 'service': 3896, 'subplot': 4255, 'becoming': 435, 'nose': 3037, 'rap': 3520, 'maker': 2714, 'unreal': 4676, 'ice': 2210, 'tone': 4517, 'grab': 1949, 'quit': 3494, 'occasion': 3073, 'strikes': 4225, 'bus': 631, 'manage': 2722, 'controversial': 978, 'lyrics': 2692, 'outside': 3146, 'met': 2822, 'provoking': 3452, 'gangster': 1868, 'numbers': 3061, 'hidden': 2096, 'kidding': 2465, 'pulled': 3462, 'sticks': 4186, 'appeared': 276, 'heavy': 2070, 'island': 2361, 'nobody': 3022, 'days': 1130, 'renting': 3629, 'cult': 1077, 'tomatoes': 4515, 'tiny': 4500, 'birds': 485, 'introduces': 2338, 'menacing': 2807, 'machines': 2694, 'bigger': 479, 'coming': 896, 'forces': 1788, 'enemy': 1477, 'specific': 4099, 'areas': 287, 'dubbed': 1379, 'voices': 4763, 'sink': 3999, 'hysterical': 2208, 'numerous': 3062, 'catchy': 717, 'jaws': 2385, 'homage': 2141, 'helicopter': 2076, 'section': 3853, 'tedious': 4387, 'inventive': 2341, 'downright': 1337, '90s': 61, 'benefit': 465, 'veteran': 4724, 'scientist': 3818, 'sorts': 4078, 'promising': 3433, 'fault': 1668, 'blue': 518, 'religious': 3608, 'ruined': 3751, 'topic': 4526, 'essentially': 1523, 'fooled': 1780, 'closely': 855, 'caliber': 649, 'marie': 2737, 'eric': 1514, 'alex': 179, 'disneys': 1290, 'kingdom': 2480, 'kills': 2474, 'experienced': 1581, 'training': 4558, 'position': 3345, 'string': 4227, 'cause': 723, 'debut': 1143, 'besides': 468, '1968': 16, 'robinson': 3716, 'roy': 3745, 'greek': 1970, 'wedding': 4836, '2002': 32, 'super': 4295, 'balance': 387, 'crack': 1027, 'loses': 2657, 'touching': 4536, 'broadcast': 591, 'advance': 127, 'evident': 1547, 'walker': 4778, 'description': 1197, 'stayed': 4167, 'cup': 1080, 'tea': 4373, 'tons': 4520, 'alas': 172, 'strike': 4224, 'hello': 2078, 'hideous': 2098, 'ball': 388, 'eating': 1413, 'noir': 3023, 'changes': 751, 'context': 968, 'post': 3352, 'enemies': 1476, 'revolves': 3682, 'personalities': 3241, 'detailed': 1218, 'skip': 4016, 'funeral': 1849, 'respect': 3652, 'thinks': 4454, 'joey': 2408, 'boyfriend': 558, 'hide': 2097, 'everybody': 1540, 'throw': 4479, 'treats': 4575, 'hunt': 2198, 'accidentally': 85, 'stolen': 4195, 'reputation': 3640, 'higher': 2101, 'bird': 484, 'month': 2896, 'bought': 552, 'dvds': 1392, 'listen': 2619, 'toward': 4539, 'excitement': 1562, 'dancer': 1104, 'pre': 3365, 'introduction': 2339, 'corporate': 998, 'professor': 3422, 'lily': 2605, 'fathers': 1667, 'bank': 394, 'brain': 562, 'locked': 2637, 'regard': 3588, 'wives': 4918, 'jobs': 2406, 'corrupt': 1001, 'moves': 2925, 'window': 4894, 'stanwyck': 4149, 'throwing': 4480, 'overly': 3155, 'artificial': 306, 'trail': 4553, 'wayne': 4821, 'facts': 1624, 'longer': 2645, 'views': 4742, 'morality': 2903, 'greed': 1968, 'alexander': 180, 'wells': 4845, 'ratings': 3530, 'conclusion': 936, 'ralph': 3510, 'center': 732, 'matched': 2763, 'tears': 4380, 'phony': 3256, 'mass': 2753, 'driver': 1366, 'vs': 4767, 'statement': 4162, 'destiny': 1212, 'proper': 3436, 'die': 1243, 'wars': 4804, 'blade': 495, 'steven': 4182, 'wise': 4903, 'significant': 3972, 'media': 2789, 'developed': 1223, 'process': 3412, 'noted': 3045, 'basis': 408, 'kung': 2498, 'fu': 1844, 'trained': 4557, 'dying': 1393, 'sends': 3876, 'suspects': 4328, 'students': 4239, 'styles': 4250, 'underrated': 4642, 'potential': 3355, 'bin': 483, 'costs': 1004, 'sounds': 4084, 'doll': 1313, 'flying': 1764, 'blonde': 511, 'saving': 3797, 'hero': 2088, 'tight': 4492, 'horrid': 2165, 'broke': 593, 'psychotic': 3459, 'realizing': 3555, 'harder': 2035, 'motion': 2913, 'security': 3854, 'term': 4405, 'describes': 1196, 'bringing': 586, 'sport': 4129, 'opposite': 3123, 'inept': 2281, 'incoherent': 2265, 'delivering': 1171, 'masterpieces': 2760, 'spider': 4109, 'dinosaur': 1255, 'senseless': 3878, 'nonsensical': 3031, 'shortly': 3947, 'quiet': 3492, 'toy': 4542, 'factory': 1623, 'suspicious': 4332, 'owner': 3159, 'ability': 65, 'sacrifice': 3766, 'blatant': 502, 'alternate': 200, 'selfish': 3870, 'atmospheric': 334, 'accomplished': 87, 'photography': 3260, 'orson': 3132, 'welles': 4844, 'undoubtedly': 4648, 'career': 686, 'travel': 4567, 'outrageous': 3145, 'focused': 1767, 'prior': 3400, 'arrives': 302, 'resulting': 3661, 'welcome': 4842, 'wins': 4899, 'introduced': 2337, 'control': 977, 'capital': 673, 'bottle': 550, 'politics': 3326, 'altogether': 202, 'duke': 1383, 'size': 4012, 'strictly': 4223, 'insulting': 2310, 'endearing': 1469, 'pink': 3277, 'struggling': 4236, 'worried': 4949, 'laid': 2508, 'partner': 3198, 'caused': 724, 'stereotypes': 4179, 'talked': 4359, 'amazingly': 210, 'luck': 2681, 'lesbian': 2573, 'hitting': 2126, 'months': 2897, 'combined': 885, 'idiotic': 2219, 'grace': 1950, 'serves': 3895, 'scale': 3802, 'stinks': 4192, 'atrocious': 335, 'technique': 4383, 'inappropriate': 2259, 'closing': 859, 'creativity': 1042, 'cuts': 1091, 'trick': 4582, 'mix': 2876, 'awards': 367, 'praise': 3364, 'wave': 4818, 'avoided': 364, 'rarely': 3524, 'prime': 3395, 'button': 639, 'pulling': 3463, 'dialogs': 1233, 'belongs': 460, 'manner': 2729, 'deeper': 1155, 'concern': 931, 'quick': 3490, 'resolution': 3649, 'larger': 2519, 'improved': 2255, 'issue': 2364, 'henry': 2084, 'charisma': 762, 'asks': 319, 'punch': 3466, 'french': 1830, 'equivalent': 1512, '50': 51, 'stunts': 4246, 'le': 2544, 'trite': 4589, 'forgettable': 1794, 'highlights': 2104, 'pride': 3391, 'dies': 1245, 'fisher': 1739, 'folk': 1770, 'ocean': 3079, 'splendid': 4119, 'lazy': 2543, 'matt': 2768, 'moore': 2901, 'joy': 2422, 'jaw': 2384, 'dropping': 1371, 'page': 3167, 'stan': 4142, 'bother': 548, 'laurel': 2537, 'hardy': 2037, 'thirty': 4456, 'wacky': 4769, 'cousin': 1021, 'larry': 2520, 'strangers': 4214, 'trademark': 4548, 'overdone': 3152, 'whereas': 4865, 'mummy': 2937, 'lousy': 2667, 'scenario': 3808, 'safe': 3771, 'bet': 470, 'accents': 79, 'opposed': 3122, 'contrived': 976, 'notable': 3041, 'reference': 3582, 'travesty': 4570, 'alive': 186, 'glass': 1917, 'broken': 594, 'disbelief': 1277, 'vice': 4727, 'tricks': 4583, 'entertain': 1497, 'ultra': 4629, 'soldier': 4053, 'persona': 3239, 'zone': 4999, 'combat': 882, 'opportunity': 3121, 'metal': 2823, 'shocked': 3939, 'returns': 3668, 'performing': 3233, 'catholic': 720, 'return': 3665, 'mid': 2832, 'hates': 2048, 'strangely': 4212, 'worthwhile': 4955, '30s': 44, 'judging': 2425, 'unfortunate': 4653, 'eaten': 1412, 'jeffrey': 2391, 'onto': 3111, 'boom': 537, 'taylor': 4372, 'modesty': 2883, 'sixties': 4011, 'status': 4165, 'remaining': 3610, 'notorious': 3051, 'abuse': 74, 'providing': 3451, 'shakespeare': 3915, 'physical': 3262, 'theatrical': 4430, 'fame': 1642, 'body': 527, 'drawing': 1350, 'dignity': 1252, 'sidney': 3968, 'careers': 687, 'fest': 1696, 'halloween': 2010, 'rubber': 3747, 'newspaper': 3006, 'occasionally': 3075, 'pops': 3332, 'closet': 858, 'wing': 4896, 'stanley': 4148, 'golden': 1934, 'widow': 4883, 'ryan': 3765, 'houses': 2180, 'scare': 3803, 'neighbors': 2994, 'innocence': 2293, 'badly': 383, 'terry': 4415, 'agrees': 157, 'teenager': 4390, 'build': 614, 'failure': 1629, 'scripts': 3836, 'references': 3583, 'assume': 328, 'settle': 3902, 'afraid': 140, 'corpse': 999, 'triumph': 4590, 'tradition': 4549, 'mission': 2870, 'deserved': 1200, 'related': 3594, 'appealing': 272, 'rabbit': 3498, 'straight': 4210, 'lewis': 2586, 'don': 1320, 'samurai': 3779, 'shape': 3919, 'tiger': 4491, 'notably': 3042, 'definition': 1163, '75': 57, 'aimed': 162, 'betty': 474, 'unrealistic': 4677, 'strongly': 4231, 'capturing': 679, 'household': 2179, 'relative': 3599, '1940s': 13, 'card': 681, 'miracle': 2860, 'authentic': 358, 'event': 1535, 'ghost': 1902, 'glimpse': 1919, '60s': 54, 'brando': 566, 'desire': 1205, 'silver': 3977, 'terrific': 4409, 'addition': 118, 'simmons': 3981, 'nicely': 3009, 'boat': 523, 'leonard': 2572, 'warn': 4797, 'expert': 1585, 'per': 3223, 'zombies': 4998, 'massacre': 2754, 'sucks': 4271, 'devoid': 1230, 'emotion': 1458, 'motivation': 2914, 'acceptable': 81, 'figured': 1712, 'foot': 1781, 'tall': 4362, 'millions': 2848, 'object': 3066, 'amateur': 206, 'impressed': 2251, 'challenge': 743, 'darkness': 1117, 'doctors': 1305, 'fails': 1628, 'busy': 635, 'virgin': 4749, 'sleeping': 4025, 'cry': 1073, 'thousand': 4465, 'copies': 992, 'favourite': 1673, 'practice': 3363, 'cried': 1054, 'rocks': 3722, 'terrorist': 4413, 'wed': 4835, 'italy': 2368, 'nowadays': 3055, 'melting': 2799, 'rebel': 3561, 'stilted': 4190, 'wannabe': 4787, 'waters': 4817, 'morning': 2906, 'neighbor': 2992, 'eyre': 1614, 'timothy': 4499, 'dalton': 1098, 'rochester': 3719, 'pages': 3168, 'youth': 4994, 'speaks': 4096, 'overcome': 3151, 'attraction': 350, 'wit': 4908, 'spring': 4134, 'texas': 4418, 'search': 3841, 'nyc': 3065, 'con': 928, 'pair': 3176, 'brutal': 603, 'poignant': 3315, '1950s': 14, 'dropped': 1370, 'dorothy': 1330, 'vote': 4766, 'saturday': 3792, 'roll': 3728, 'sarah': 3785, 'appearances': 275, 'reasonable': 3558, 'witty': 4917, 'sid': 3964, 'beaten': 424, 'bears': 421, 'lies': 2591, 'troubles': 4594, 'fish': 1738, 'brosnan': 597, 'walked': 4776, 'franchise': 1817, 'flicks': 1755, 'precious': 3366, 'tad': 4347, 'childrens': 793, 'delivered': 1170, 'personality': 3242, 'trio': 4587, 'commentary': 899, 'thick': 4447, 'terrorists': 4414, 'revealed': 3671, 'empathy': 1462, 'noble': 3021, 'foreign': 1790, 'cia': 814, 'study': 4242, 'oliver': 3102, 'captures': 678, 'versus': 4722, 'blunt': 520, 'execution': 1566, 'experiments': 1584, 'chooses': 800, 'placed': 3283, 'basic': 406, 'relations': 3596, '70': 55, 'drags': 1345, 'dry': 1377, 'saves': 3796, 'practically': 3362, 'psychic': 3456, 'generic': 1885, 'loss': 2659, 'fix': 1744, 'chinese': 796, 'dubbing': 1380, 'intrigue': 2333, 'relationships': 3598, 'choreography': 802, 'solely': 4056, 'ancient': 225, 'torture': 4529, 'lab': 2501, 'dragon': 1344, 'possibilities': 3348, 'lay': 2542, 'painting': 3175, 'walter': 4784, 'wound': 4960, 'enter': 1494, 'destruction': 1216, 'appeal': 271, 'routine': 3743, 'ground': 1979, 'fictional': 1703, 'visible': 4753, 'extraordinary': 1607, 'witness': 4914, 'safety': 3772, 'gripping': 1976, 'transfer': 4559, 'represent': 3637, 'escapes': 1519, 'protagonists': 3442, 'wanting': 4790, 'suffers': 4278, 'fallen': 1638, 'responsibility': 3655, 'easier': 1405, 'writes': 4970, 'fears': 1677, 'beloved': 461, 'promises': 3432, 'dialogues': 1235, 'profound': 3423, 'mental': 2808, 'marvelous': 2750, 'bound': 553, 'compelled': 915, 'drops': 1372, 'passed': 3202, 'idiot': 2218, 'jumped': 2430, 'suits': 4287, 'alan': 171, 'sitting': 4007, 'warm': 4794, 'sadistic': 3768, 'acid': 95, 'ha': 2002, 'sheriff': 3929, 'shoot': 3942, 'burned': 626, 'cheese': 780, 'appalling': 268, 'reduced': 3579, 'mask': 2752, 'lights': 2597, 'shower': 3957, 'levels': 2585, 'centered': 733, 'chain': 741, 'smoking': 4040, 'southern': 4088, 'surprises': 4314, 'dogs': 1311, 'shadow': 3912, 'lovers': 2673, '2001': 31, 'freddy': 1826, 'elm': 1447, 'scares': 3806, 'celebrity': 729, 'arnold': 296, 'cooper': 990, 'rachel': 3500, 'heaven': 2068, 'disc': 1278, 'hammer': 2014, 'detective': 1220, 'solve': 4060, 'popcorn': 3331, 'stooges': 4200, 'legs': 2566, 'pulls': 3464, 'passes': 3203, 'angles': 237, 'lighting': 2596, 'patrick': 3213, 'reed': 3580, 'slave': 4022, 'rich': 3685, 'drunken': 1376, 'political': 3324, 'burn': 625, '40': 48, 'steve': 4181, 'cruel': 1070, 'curiosity': 1082, 'daily': 1097, 'uses': 4697, 'worker': 4942, 'store': 4204, 'figures': 1713, 'simplistic': 3985, 'obsessed': 3069, 'ladies': 2506, 'catherine': 719, 'buddies': 608, 'mothers': 2912, 'unaware': 4632, 'cable': 644, 'combine': 884, 'woody': 4936, 'allen': 188, 'pie': 3271, 'jeff': 2390, 'poetry': 3314, 'distance': 1294, 'tear': 4379, 'mall': 2720, 'purchase': 3469, 'built': 618, 'land': 2511, 'waitress': 4773, 'guard': 1988, 'rob': 3710, 'basement': 405, 'traveling': 4568, 'morgan': 2905, 'mayor': 2777, 'phantom': 3251, 'construction': 960, 'apartment': 265, 'junk': 2436, 'proof': 3434, 'heston': 2094, 'edward': 1426, 'manhattan': 2726, 'steal': 4170, 'realize': 3552, 'ranks': 3519, 'bruce': 602, 'bleak': 503, 'identity': 2217, 'hoped': 2156, 'slowly': 4032, 'wondering': 4930, 'energy': 1478, 'ask': 316, 'hamlet': 2013, 'raped': 3522, 'rage': 3505, 'flashback': 1746, 'mindless': 2851, 'manipulative': 2727, 'speech': 4102, 'courage': 1018, 'consequences': 947, 'facial': 1619, 'expressions': 1603, 'irritating': 2359, 'attitudes': 347, 'achieved': 93, 'abysmal': 76, 'neighborhood': 2993, 'italian': 2367, 'memories': 2803, 'secrets': 3852, 'marry': 2745, 'kitchen': 2485, 'hired': 2117, 'closed': 854, 'adults': 126, 'friday': 1834, '13th': 5, 'connection': 946, 'loosely': 2651, 'connected': 945, '1st': 28, 'narrator': 2967, 'watches': 4814, 'passion': 3205, 'alongside': 196, 'paranoia': 3186, 'furthermore': 1854, 'chosen': 805, 'branagh': 564, 'gary': 1873, 'backgrounds': 381, 'hang': 2022, 'discuss': 1283, 'jerk': 2395, 'proceeds': 3411, 'population': 3335, 'california': 650, 'mst3k': 2932, 'beast': 422, 'exploitation': 1592, 'guilty': 1995, 'crimes': 1056, 'obnoxious': 3067, 'serve': 3893, 'elephant': 1444, 'staying': 4168, 'ensues': 1493, 'pot': 3354, 'storm': 4206, 'andrews': 229, 'calm': 655, 'beach': 419, 'aged': 149, 'maintain': 2710, 'fashioned': 1660, 'pass': 3201, 'recorded': 3574, 'thrills': 4475, 'album': 175, 'expecting': 1578, 'dolph': 1317, 'user': 4696, '2nd': 41, 'bothered': 549, 'stunt': 4245, 'assigned': 325, 'ruthless': 3764, 'club': 863, 'panic': 3181, 'sam': 3777, 'wanna': 4786, 'twice': 4613, 'prince': 3396, 'cinderella': 815, 'turner': 4607, 'complaint': 920, 'confidence': 938, 'denzel': 1181, 'washington': 4806, 'attitude': 346, 'clumsy': 866, 'sell': 3871, 'represents': 3639, 'unlikely': 4671, 'businessman': 634, 'georges': 1894, 'loving': 2675, 'treated': 4573, 'repeatedly': 3632, 'experiences': 1582, 'souls': 4080, 'rick': 3689, 'diane': 1238, 'jenny': 2393, 'jake': 2377, 'richardson': 3688, 'grown': 1984, 'folks': 1771, 'afternoon': 144, 'evening': 1534, 'april': 284, 'medium': 2792, 'cinemas': 817, 'tragedy': 4551, 'screens': 3832, 'teen': 4388, 'uncle': 4636, 'arthur': 305, 'stealing': 4171, 'shirley': 3936, 'develops': 1226, 'handle': 2018, 'jr': 2423, 'opportunities': 3120, 'bag': 384, 'dislike': 1288, 'gain': 1863, 'merit': 2816, 'worthless': 4954, 'junior': 2435, 'fool': 1779, 'exposure': 1599, 'happily': 2030, 'added': 116, 'factor': 1622, 'rented': 3628, 'digital': 1251, 'cusack': 1088, 'ben': 463, 'paper': 3183, 'stinker': 4191, 'mickey': 2831, 'dan': 1102, 'fired': 1735, 'exploration': 1593, 'distinct': 1296, 'thief': 4448, 'guide': 1993, 'smoke': 4039, 'eastern': 1408, 'handled': 2019, 'sake': 3775, 'hippie': 2115, 'confusing': 942, 'emma': 1457, 'kinda': 2477, 'eat': 1411, 'ellen': 1446, 'forever': 1792, 'recall': 3562, 'physically': 3263, 'sharp': 3922, 'ears': 1402, 'ripped': 3701, 'intrigued': 2334, 'daughters': 1122, 'pleasantly': 3303, 'turkey': 4604, 'inspiration': 2300, 'stewart': 4184, 'blond': 510, 'spell': 4104, 'herself': 2092, 'messages': 2820, 'door': 1328, 'sue': 4274, 'anderson': 227, 'foster': 1809, 'protect': 3443, 'carrie': 697, 'molly': 2884, 'crowd': 1067, 'hundreds': 2196, 'pure': 3471, 'boredom': 542, 'flaw': 1749, 'uninspired': 4657, 'forth': 1804, 'richards': 3687, 'resemblance': 3645, 'bettie': 473, 'clothing': 861, 'results': 3662, 'ken': 2453, 'mexican': 2826, 'restaurant': 3658, 'sunday': 4293, 'stargate': 4151, 'daniel': 1111, 'jackson': 2375, 'amanda': 205, 'resident': 3647, 'returned': 3666, '2003': 33, 'afterwards': 145, '2004': 34, 'regardless': 3590, 'carried': 698, 'cameron': 661, 'host': 2173, 'valuable': 4708, '2006': 36, '2007': 37, 'britain': 588, 'ireland': 2352, 'united': 4664, 'states': 4163, 'popularity': 3334, 'atlantis': 332, '100': 1, 'planned': 3290, 'distant': 1295, 'australia': 356, 'australian': 357, 'companion': 909, 'international': 2326, 'revolution': 3680, 'lucy': 2684, 'survived': 4322, 'contrast': 975, 'conservative': 948, 'beings': 449, 'range': 3516, 'nuts': 3064, 'cutting': 1092, 'screening': 3830, 'psychological': 3458, 'masters': 2761, 'initially': 2291, 'achievement': 94, 'blob': 507, 'tracks': 4545, 'edition': 1422, 'switch': 4339, 'kicks': 2463, 'importantly': 2248, 'invasion': 2340, 'admittedly': 123, 'emphasis': 1463, 'visits': 4756, 'inferior': 2285, '1972': 18, 'artists': 309, 'jackie': 2374, 'chan': 746, 'antics': 255, 'skills': 4014, 'temple': 4398, 'worthy': 4956, 'jet': 2400, 'li': 2587, 'notes': 3046, 'warner': 4799, 'ford': 1789, 'hop': 2154, 'estate': 1525, 'chicks': 787, 'spare': 4093, 'lena': 2568, 'report': 3635, 'bargain': 400, 'hearing': 2063, 'letter': 2581, 'comedian': 887, 'increasingly': 2268, 'considerable': 950, 'marriage': 2743, 'stretch': 4221, 'dreams': 1355, 'countryside': 1015, 'streets': 4217, 'stylish': 4251, 'slick': 4026, 'dollars': 1315, 'adding': 117, 'mighty': 2836, 'francis': 1818, 'mentions': 2813, 'victor': 4731, 'concerned': 932, 'frequently': 1832, 'stomach': 4196, 'charm': 767, 'integrity': 2311, 'communist': 907, 'soviet': 4089, 'principal': 3398, 'useful': 4694, 'lately': 2524, 'focuses': 1768, 'stereotype': 4178, 'suspect': 4327, 'thrillers': 4473, '50s': 52, 'sunshine': 4294, 'guns': 1998, 'pacino': 3164, 'medical': 2790, 'futuristic': 1857, 'movements': 2924, 'visuals': 4759, 'presumably': 3380, 'noticed': 3049, 'therefore': 4439, '1990': 24, 'redemption': 3578, 'attend': 344, 'monk': 2889, 'breaking': 570, 'desert': 1198, 'sits': 4006, 'loose': 2650, 'rings': 3699, 'nicholson': 3011, 'jessica': 2398, 'melodrama': 2797, 'movement': 2923, 'neo': 2998, 'desperation': 1210, 'shadows': 3913, 'surface': 4310, 'shining': 3933, '14': 6, 'silence': 3974, 'bonus': 534, 'random': 3514, 'wore': 4939, 'widmark': 4882, 'peters': 3248, 'ritter': 3705, 'bugs': 613, 'push': 3477, 'lust': 2689, 'corruption': 1002, 'despair': 1207, 'blows': 517, 'draw': 1349, 'soft': 4051, 'respected': 3653, 'wear': 4830, 'sadness': 3770, 'blind': 506, 'curse': 1086, 'education': 1424, 'equipment': 1511, 'ho': 2127, 'goal': 1925, 'cases': 708, 'send': 3875, 'mountain': 2917, 'shut': 3961, 'documentaries': 1306, 'lucky': 2683, 'chasing': 772, 'campbell': 663, 'columbo': 881, 'andrew': 228, 'stevens': 4183, 'falk': 1636, 'decades': 1145, 'ties': 4490, 'secretly': 3851, 'cares': 690, 'background': 380, 'younger': 4990, 'reunion': 3669, '2000': 30, 'tony': 4521, 'luke': 2687, 'contract': 973, 'threat': 4467, 'chuck': 812, 'hated': 2047, 'appreciated': 280, 'critic': 1061, 'secondly': 3847, 'fabulous': 1615, 'elaborate': 1439, 'newly': 3004, 'sneak': 4043, 'tie': 4488, 'holes': 2133, 'clips': 852, 'rex': 3683, 'muslim': 2949, 'sons': 4073, 'championship': 745, 'wrestling': 4966, 'womens': 4924, 'drop': 1369, 'wilson': 4891, 'victoria': 4732, 'michelle': 2830, 'kane': 2442, 'covers': 1024, 'westerns': 4854, 'subsequent': 4257, 'nasty': 2968, 'rape': 3521, 'pursuit': 3476, 'showdown': 3955, 'scores': 3823, 'differences': 1247, 'douglas': 1334, 'streisand': 4218, 'rising': 3703, 'properly': 3437, 'yellow': 4981, '1990s': 25, 'nominated': 3025, 'fonda': 1777, '1996': 26, 'corner': 996, 'aid': 160, 'racism': 3502, 'navy': 2976, 'knife': 2487, 'walks': 4780, 'bedroom': 437, 'thousands': 4466, 'industry': 2280, 'iran': 2350, 'latin': 2527, 'ticket': 4487, 'bob': 524, 'occurs': 3078, 'rise': 3702, 'tune': 4602, 'hitchcock': 2123, 'boxing': 556, 'ian': 2209, 'mild': 2839, 'cameras': 660, 'dawson': 1128, 'literature': 2623, 'comics': 895, 'bland': 500, 'analysis': 224, 'upper': 4685, 'walking': 4779, 'roots': 3738, 'nail': 2957, 'superbly': 4297, 'struggles': 4235, 'weeks': 4839, 'pet': 3246, 'floating': 1758, 'picked': 3266, 'killers': 2471, 'involve': 2345, 'contain': 962, 'struck': 4232, 'everyones': 1543, 'reactions': 3542, 'thugs': 4484, 'beating': 425, 'amounts': 220, 'matches': 2764, 'awake': 365, 'outcome': 3142, 'table': 4346, 'chest': 784, 'relevant': 3604, 'useless': 4695, 'montana': 2895, 'concerns': 934, 'valley': 4707, 'unit': 4663, 'endless': 1473, 'correct': 1000, 'screaming': 3827, 'taxi': 4371, 'locations': 2636, 'noise': 3024, 'listed': 2618, 'reads': 3545, 'cuba': 1075, 'exists': 1573, 'foul': 1810, 'freeman': 1829, 'intimate': 2331, 'happiness': 2031, 'till': 4493, 'pro': 3406, 'uncomfortable': 4637, 'succeeded': 4263, 'technically': 4382, 'cure': 1081, 'odds': 3082, 'handed': 2016, 'rambo': 3511, 'cheek': 779, '60': 53, 'videos': 4734, 'kennedy': 2454, 'cats': 721, 'edie': 1419, 'dances': 1106, 'bathroom': 412, 'equal': 1509, 'disgusting': 1286, 'poster': 3353, 'hire': 2116, 'soccer': 4048, 'touched': 4534, 'messed': 2821, 'voiced': 4762, 'queen': 3485, 'convoluted': 987, 'rushed': 3760, 'imitation': 2241, 'slight': 4027, 'mafia': 2700, 'loyal': 2679, 'endure': 1475, 'hopper': 2161, 'trailers': 4555, 'awe': 370, 'guessing': 1991, 'mixture': 2878, 'intellectual': 2312, 'beliefs': 452, 'santa': 3783, 'mechanical': 2788, 'toys': 4543, 'freak': 1824, 'satan': 3787, 'commercial': 902, 'holy': 2140, 'rescue': 3643, 'itll': 2369, 'invisible': 2344, 'caine': 647, 'yelling': 4980, '25': 40, 'pig': 3274, 'fulci': 1845, 'shouldnt': 3952, 'thrill': 4471, 'vincent': 4746, 'threatening': 4468, 'cleverly': 842, 'unpredictable': 4675, 'reel': 3581, 'explosions': 1597, 'generated': 1882, 'hugh': 2186, 'existent': 1572, 'blake': 498, 'alcohol': 176, 'witnesses': 4916, 'mexico': 2827, 'selling': 3873, 'brooks': 596, 'depiction': 1185, 'chilling': 794, 'according': 88, 'bible': 477, 'gabriel': 1859, 'reasonably': 3559, 'unintentional': 4658, 'rush': 3759, 'backdrop': 379, 'ham': 2011, 'sounding': 4083, 'fx': 1858, 'neat': 2982, 'roman': 3731, 'cameo': 657, 'terrifying': 4410, 'emily': 1456, 'develop': 1222, 'kudos': 2497, 'installment': 2303, 'fetched': 1698, 'attorney': 348, 'wreck': 4965, 'flight': 1757, 'shirt': 3937, 'someones': 4065, 'punk': 3468, 'grandmother': 1955, 'attached': 336, 'dust': 1388, 'moody': 2899, 'brazil': 568, 'exposed': 1598, 'primary': 3394, 'crying': 1074, 'realise': 3548, 'convey': 982, 'mtv': 2933, 'professional': 3421, 'countless': 1012, 'lowest': 2678, 'defined': 1160, 'stiff': 4187, 'paulie': 3215, 'serving': 3897, 'charismatic': 763, 'ultimate': 4627, 'earned': 1401, 'ps': 3453, 'berlin': 467, 'influence': 2286, 'financial': 1725, 'reflection': 3585, 'mirror': 2861, 'edgar': 1417, 'legend': 2564, 'germany': 1898, 'influenced': 2287, 'gothic': 1945, 'importance': 2246, 'purposes': 3475, 'constructed': 959, 'conversation': 980, 'achieve': 92, 'smiling': 4037, 'disturbed': 1299, 'drag': 1342, 'explaining': 1588, 'base': 402, 'teenage': 4389, 'reaching': 3539, 'beer': 439, 'cell': 730, 'phone': 3255, 'lion': 2614, 'hanks': 2025, 'mile': 2842, 'league': 2549, 'jeremy': 2394, 'heights': 2073, 'lou': 2663, 'magical': 2704, 'dramas': 1347, 'transformation': 4560, 'seeking': 3859, 'bergman': 466, 'nation': 2969, 'relation': 3595, 'plausible': 3295, 'dozen': 1338, 'speed': 4103, 'grasp': 1960, 'lynch': 2691, 'pseudo': 3454, 'catches': 715, 'captivating': 675, 'steals': 4172, 'designs': 1204, 'tribute': 4581, 'mentioning': 2812, 'novels': 3053, 'perfection': 3225, 'grant': 1956, 'theatre': 4429, 'spots': 4132, 'alike': 185, 'workers': 4943, 'murphy': 2944, 'schools': 3814, 'faster': 1662, 'embarrassed': 1453, 'transition': 4561, 'removed': 3624, 'tarzan': 4367, 'apes': 267, 'pregnant': 3369, 'returning': 3667, 'logical': 2639, 'stated': 4161, 'wandering': 4785, 'karen': 2444, 'warren': 4801, 'hardcore': 2034, 'inner': 2292, 'walls': 4783, 'letters': 2582, 'complain': 919, 'mate': 2765, '80': 58, 'promised': 3431, 'monkey': 2890, 'cheated': 775, 'investigate': 2342, 'kicking': 2462, 'simon': 3982, 'disagree': 1269, 'bath': 411, 'studios': 4241, 'cartoons': 705, 'kidnapped': 2466, 'pan': 3180, 'unwatchable': 4682, 'escaped': 1518, 'overlook': 3153, 'mill': 2845, 'accepted': 82, 'weapons': 4829, 'hong': 2149, 'kong': 2494, 'steel': 4173, 'hilariously': 2107, 'savage': 3793, 'inane': 2258, 'teeth': 4393, 'quirky': 3493, 'empire': 1464, 'tremendous': 4579, 'christians': 809, 'guarantee': 1987, 'hamilton': 2012, 'proud': 3444, 'twins': 4616, 'linda': 2609, 'widely': 4881, 'witches': 4910, 'agent': 150, 'couples': 1017, 'laughably': 2531, 'possessed': 3347, 'iii': 2227, 'confusion': 943, 'oddly': 3081, 'expensive': 1579, 'satisfied': 3789, 'contained': 963, 'curtis': 1087, 'join': 2412, 'anger': 235, 'shed': 3924, 'absence': 70, 'dig': 1250, 'secretary': 3850, 'murderer': 2941, 'progress': 3425, 'pulp': 3465, 'circle': 821, 'crafted': 1029, 'proved': 3446, 'dickens': 1240, 'randomly': 3515, 'failing': 1627, 'mob': 2879, 'titanic': 4503, 'pearl': 3220, 'starting': 4158, 'alcoholic': 177, 'explored': 1595, 'stress': 4220, 'nostalgic': 3039, 'dare': 1113, 'wendy': 4846, 'colors': 879, 'similarities': 3979, 'succeed': 4262, 'daring': 1114, 'mel': 2796, 'wallace': 4782, 'diana': 1237, 'jealous': 2388, 'sidekick': 3966, 'disappoint': 1272, 'rotten': 3740, 'brad': 560, 'pit': 3278, 'illogical': 2231, 'typically': 4624, 'dude': 1381, 'favor': 1670, 'outer': 3143, 'delight': 1167, 'generous': 1886, 'species': 4098, 'taught': 4370, 'assistant': 326, 'flesh': 1753, 'faults': 1669, 'understandable': 4644, 'instantly': 2306, 'lemmon': 2567, 'bold': 528, '1980': 20, 'appreciation': 281, 'olivier': 3103, 'tender': 4401, 'royal': 3746, 'zombie': 4997, 'universal': 4665, 'explains': 1589, 'weve': 4856, 'spooky': 4128, 'cake': 648, 'obscure': 3068, 'unoriginal': 4673, 'norman': 3035, 'monkeys': 2891, 'proceedings': 3410, 'downhill': 1336, 'harvey': 2042, 'vampires': 4712, 'fifteen': 1706, 'intriguing': 2335, 'occasional': 3074, 'choreographed': 801, 'disjointed': 1287, 'pictures': 3270, 'virus': 4752, 'willis': 4890, 'recognized': 3570, 'lloyd': 2630, 'elizabeth': 1445, 'sold': 4052, 'overrated': 3156, 'wicked': 4879, 'behave': 445, 'miller': 2846, 'attempted': 341, 'vicious': 4728, 'blown': 516, 'historically': 2120, 'doc': 1303, 'judy': 2426, 'overwhelming': 3157, 'finished': 1733, 'hole': 2132, 'todd': 4510, 'trashy': 4566, 'humble': 2191, 'interviews': 2330, 'splatter': 4118, 'suspend': 4329, 'fed': 1682, 'necessarily': 2983, '1984': 23, 'subtlety': 4261, 'performs': 3234, 'singers': 3994, 'task': 4368, 'hed': 2072, 'cd': 728, '3rd': 47, 'felix': 1689, 'independent': 2272, 'fits': 1741, 'prostitute': 3440, 'husbands': 2205, 'priceless': 3390, 'circumstances': 822, 'bang': 393, 'false': 1641, 'snake': 4042, 'bite': 489, 'amitabh': 216, 'express': 1600, 'unbelievably': 4635, 'rangers': 3517, 'gundam': 1997, 'fighter': 1708, 'ninja': 3018, 'oz': 3160, 'peace': 3219, 'stretched': 4222, 'discovery': 1282, 'ruins': 3752, 'laura': 2536, 'thrilling': 4474, 'bourne': 554, 'trilogy': 4586, 'prequel': 3372, 'damon': 1101, 'paint': 3173, 'comparing': 913, 'sympathetic': 4342, 'advertising': 132, 'overlooked': 3154, 'boot': 538, 'helen': 2075, 'garden': 1872, 'indie': 2276, 'cabin': 643, 'fever': 1699, 'displays': 1293, 'chased': 770, 'conversations': 981, 'vehicle': 4718, 'charlotte': 766, 'intention': 2319, 'opinions': 3119, 'nearby': 2980, 'dave': 1123, 'fields': 1705, 'worry': 4950, 'unconvincing': 4638, 'hood': 2151, 'scrooge': 3837, 'carol': 693, 'believing': 457, 'glenn': 1918, 'psychiatrist': 3455, 'wake': 4774, 'cole': 873, 'believes': 456, 'illegal': 2229, 'affected': 137, 'preview': 3386, 'kissing': 2484, 'planning': 3291, 'passionate': 3206, 'angel': 231, 'dreary': 1356, 'competent': 917, 'scheme': 3812, 'chose': 804, 'identify': 2216, 'coherent': 871, 'tommy': 4516, 'craig': 1030, 'flow': 1762, '90': 60, 'plant': 3293, 'ashamed': 312, 'shoots': 3944, 'battles': 415, 'hook': 2152, 'involvement': 2347, 'polished': 3323, 'gentle': 1890, 'dub': 1378, 'louise': 2666, 'superficial': 4298, 'costume': 1005, 'horrendous': 2162, 'wizard': 4919, 'warmth': 4796, 'chaplin': 756, 'grey': 1973, 'east': 1407, 'defense': 1159, 'charge': 761, 'intentions': 2321, 'pushed': 3478, 'nelson': 2997, 'dire': 1257, 'grandfather': 1954, 'careful': 688, 'domino': 1319, 'progresses': 3426, 'walken': 4777, 'ridden': 3691, 'disease': 1285, 'cheating': 776, 'horrifying': 2167, 'arms': 294, 'depicts': 1186, 'raising': 3509, 'causes': 725, 'cg': 739, 'breathtaking': 574, 'julia': 2427, 'roberts': 3714, 'nightmares': 3015, 'pants': 3182, 'bat': 410, 'seagal': 3839, 'cash': 709, 'wolf': 4920, 'kicked': 2461, 'magazine': 2701, 'survival': 4320, 'staged': 4140, 'albeit': 173, 'purple': 3473, 'leo': 2571, 'connect': 944, 'stale': 4141, 'repetitive': 3633, 'focusing': 1769, 'pretending': 3382, 'dragged': 1343, 'gerard': 1895, 'butler': 637, 'miscast': 2862, 'robbins': 3712, 'arrived': 301, 'dedicated': 1153, 'climactic': 848, 'weight': 4840, 'citizen': 824, 'fond': 1776, 'separate': 3883, 'illness': 2230, 'touches': 4535, 'persons': 3244, 'wounded': 4961, 'asian': 314, 'chicago': 785, 'painted': 3174, 'surrounded': 4318, 'meat': 2787, 'manager': 2724, 'twelve': 4611, 'survivor': 4324, 'homosexual': 2145, 'absurd': 73, 'presentation': 3375, 'accused': 91, 'website': 4834, 'brown': 601, 'punishment': 3467, '35': 45, 'smaller': 4034, 'vaguely': 4706, 'legal': 2563, 'property': 3438, 'gag': 1861, 'patients': 3212, 'ward': 4793, 'devoted': 1231, 'topless': 4527, 'armed': 293, 'buildings': 616, 'lively': 2627, 'incomprehensible': 2267, 'vivid': 4760, 'recording': 3575, 'wholly': 4874, 'drives': 1367, 'channels': 754, 'parker': 3191, 'sandler': 3781, 'cruise': 1071, 'shoes': 3941, 'beatty': 427, 'riding': 3695, 'incompetent': 2266, 'greedy': 1969, 'mars': 2746, 'handful': 2017, 'bridge': 578, 'extended': 1604, 'sword': 4340, 'hurts': 2203, 'superhero': 4299, 'reaches': 3538, 'mann': 2728, 'swear': 4334, 'lol': 2640, 'quotes': 3497, 'parallel': 3185, 'minimum': 2856, 'pointed': 3317, 'baker': 385, 'creation': 1040, 'mundane': 2938, 'gandhi': 1866, 'akshay': 169, 'narration': 2965, 'kapoor': 2443, 'inevitably': 2283, 'sally': 3776, 'kevin': 2457, 'revolutionary': 3681, 'explore': 1594, 'jesse': 2397, 'darker': 1116, 'hopeless': 2158, 'consistently': 954, 'genres': 1889, 'convincingly': 986, 'pushing': 3479, 'changing': 752, 'ape': 266, 'females': 1694, 'incident': 2260, 'bud': 607, 'cards': 683, 'mgm': 2828, 'charlie': 765, 'hart': 2041, 'landscapes': 2514, 'superman': 4301, '1999': 27, 'prisoners': 3403, 'bone': 533, 'picks': 3268, 'classical': 836, 'plight': 3308, 'neil': 2995, 'warrior': 4802, 'impress': 2250, 'interaction': 2322, 'interview': 2329, 'hunters': 2200, 'translation': 4562, 'spirits': 4115, 'tortured': 4530, 'editor': 1423, 'gender': 1878, 'elderly': 1440, 'ballet': 389, 'mistaken': 2872, 'counter': 1011, 'receive': 3563, 'angels': 234, 'bollywood': 530, 'anyways': 262, 'glover': 1923, 'projects': 3428, 'whale': 4857, '1973': 19, 'producing': 3417, 'titled': 4505, 'feet': 1688, 'hooked': 2153, 'requires': 3642, 'journalist': 2420, 'glory': 1922, 'glorious': 1921, 'brains': 563, 'macy': 2695, 'brutally': 604, 'ned': 2986, 'displayed': 1292, 'seed': 3856, 'product': 3418, 'dancers': 1105, 'bodies': 526, 'godfather': 1927, 'hbo': 2055, 'sutherland': 4333, 'madonna': 2699, 'florida': 1761, 'disappear': 1270, 'irish': 2353, 'shorts': 3948, 'threw': 4470, 'merits': 2817, 'instinct': 2308, 'khan': 2459, 'fay': 1674, 'dressing': 1359, 'landscape': 2513, 'theyll': 4444, 'definite': 1161, 'introduce': 2336, 'distracting': 1297, 'searching': 3842, 'press': 3379, 'tree': 4576, 'che': 773, 'goldberg': 1933, 'margaret': 2735, 'prom': 3429, 'bakshi': 386, 'square': 4136, 'crocodile': 1065, 'matthau': 2771, 'carefully': 689, 'thru': 4483, 'bands': 392, 'stops': 4203, 'airport': 167, 'contest': 967, 'waves': 4819, 'regret': 3591, 'eyed': 1612, 'surfing': 4311, 'paying': 3217, 'consistent': 953, 'jonathan': 2417, 'holly': 2136, 'worn': 4948, 'ease': 1404, 'complexity': 924, 'crucial': 1068, 'engage': 1479, 'troops': 4591, 'maggie': 2702, 'karloff': 2445, 'lugosi': 2686, 'lone': 2642, 'flash': 1745, 'overacting': 3149, 'mistress': 2874, 'hollow': 2135, 'notion': 3050, 'rooms': 3736, 'suffice': 4279, 'shark': 3921, 'astaire': 330, 'blah': 496, 'hal': 2006, 'twilight': 4614, 'uwe': 4703, 'boll': 529, 'domestic': 1318, 'miserably': 2864, 'sincere': 3991, 'fitting': 1742, 'canada': 666, 'inevitable': 2282, 'chapter': 757, 'loads': 2633, 'thoughtful': 4463, 'shelley': 3928, 'nicholas': 3010, 'tracy': 4546, 'dinosaurs': 1256, 'gifted': 1907, 'tends': 4402, 'desired': 1206, 'exceptionally': 1559, 'blew': 505, 'directions': 1262, 'global': 1920, 'annie': 247, 'joan': 2404, 'signs': 3973, 'elvira': 1450, 'shelf': 3926, 'ridiculously': 3694, 'photographer': 3259, 'awfully': 373, 'pamela': 3179, 'spread': 4133, 'kubrick': 2496, 'simpson': 3987, 'coffee': 870, 'gangsters': 1869, 'discussion': 1284, 'teaching': 4377, 'sounded': 4082, 'claims': 830, 'airplane': 166, 'poetic': 3313, 'garbo': 1871, 'spielberg': 4110, 'adorable': 124, 'occurred': 3077, 'measure': 2786, 'implausible': 2245, 'outfit': 3144, 'feminist': 1695, 'polanski': 3321, 'arrival': 299, 'online': 3109, 'eager': 1396, 'neck': 2985, 'burns': 628, 'wishing': 4907, 'loser': 2655, 'werewolf': 4850, 'trial': 4580, 'access': 83, 'frequent': 1831, 'ego': 1435, 'firstly': 1737, 'daddy': 1096, 'clark': 832, 'miserable': 2863, 'union': 4661, 'abc': 63, 'unhappy': 4656, 'tooth': 4524, 'prisoner': 3402, 'montage': 2894, 'johnson': 2411, 'stellar': 4174, 'demons': 1178, 'civilization': 827, 'scarecrow': 3804, 'staring': 4152, 'lying': 2690, 'korean': 2495, 'hyde': 2206, 'spending': 4106, 'lumet': 2688, 'oil': 3097, 'photo': 3257, 'ramones': 3512, 'dinner': 1254, 'craven': 1034, 'hollywoods': 2138, 'borrowed': 545, 'leg': 2562, 'cary': 706, 'saga': 3773, 'staff': 4138, 'developing': 1224, 'excessive': 1560, 'sullivan': 4288, 'retired': 3664, 'dozens': 1339, 'miike': 2837, '24': 39, 'stiller': 4189, 'basketball': 409, 'godzilla': 1929, 'hung': 2197, 'bush': 632, 'marty': 2749, 'gadget': 1860, 'homeless': 2143, 'paltrow': 3178, 'models': 2881, 'wet': 4855, 'poem': 3312, 'homer': 2144, 'wes': 4851, 'giallo': 1904, 'scottish': 3825, 'scooby': 3820, 'doo': 1325, 'deaf': 1134, 'lincoln': 2608, 'flynn': 1765, 'cagney': 646, 'omen': 3104, 'hudson': 2184, 'rolled': 3729, 'masses': 2755, 'parties': 3196, 'niro': 3019, 'mail': 2706, 'bacall': 377}\n"
     ]
    }
   ],
   "source": [
    "print(str(vocabulary))"
   ]
  },
  {
   "cell_type": "markdown",
   "metadata": {},
   "source": [
    "Once you have added the endpoint name to the Lambda function, click on **Save**. Your Lambda function is now up and running. Next we need to create a way for our web app to execute the Lambda function."
   ]
  },
  {
   "cell_type": "markdown",
   "metadata": {},
   "source": [
    "### Setting up API Gateway\n",
    "\n",
    "Now that our Lambda function is set up, it is time to create a new API using API Gateway that will trigger the Lambda function we have just created.\n",
    "\n",
    "Using AWS Console, navigate to **Amazon API Gateway** and then click on **Get started**.\n",
    "\n",
    "On the next page, make sure that **New API** is selected and give the new api a name, for example, `sentiment_analysis_web_app`. Then, click on **Create API**.\n",
    "\n",
    "Now we have created an API, however it doesn't currently do anything. What we want it to do is to trigger the Lambda function that we created earlier.\n",
    "\n",
    "Select the **Actions** dropdown menu and click **Create Method**. A new blank method will be created, select its dropdown menu and select **POST**, then click on the check mark beside it.\n",
    "\n",
    "For the integration point, make sure that **Lambda Function** is selected and click on the **Use Lambda Proxy integration**. This option makes sure that the data that is sent to the API is then sent directly to the Lambda function with no processing. It also means that the return value must be a proper response object as it will also not be processed by API Gateway.\n",
    "\n",
    "Type the name of the Lambda function you created earlier into the **Lambda Function** text entry box and then click on **Save**. Click on **OK** in the pop-up box that then appears, giving permission to API Gateway to invoke the Lambda function you created.\n",
    "\n",
    "The last step in creating the API Gateway is to select the **Actions** dropdown and click on **Deploy API**. You will need to create a new Deployment stage and name it anything you like, for example `prod`.\n",
    "\n",
    "You have now successfully set up a public API to access your SageMaker model. Make sure to copy or write down the URL provided to invoke your newly created public API as this will be needed in the next step. This URL can be found at the top of the page, highlighted in blue next to the text **Invoke URL**."
   ]
  },
  {
   "cell_type": "markdown",
   "metadata": {},
   "source": [
    "## Step 7: Deploying our web app\n",
    "\n",
    "Now that we have a publicly available API, we can start using it in a web app. For our purposes, we have provided a simple static html file which can make use of the public api you created earlier.\n",
    "\n",
    "In the `website` folder there should be a file called `index.html`. Download the file to your computer and open that file up in a text editor of your choice. There should be a line which contains **\\*\\*REPLACE WITH PUBLIC API URL\\*\\***. Replace this string with the url that you wrote down in the last step and then save the file.\n",
    "\n",
    "Now, if you open `index.html` on your local computer, your browser will behave as a local web server and you can use the provided site to interact with your SageMaker model.\n",
    "\n",
    "If you'd like to go further, you can host this html file anywhere you'd like, for example using github or hosting a static site on Amazon's S3. Once you have done this you can share the link with anyone you'd like and have them play with it too!\n",
    "\n",
    "> **Important Note** In order for the web app to communicate with the SageMaker endpoint, the endpoint has to actually be deployed and running. This means that you are paying for it. Make sure that the endpoint is running when you want to use the web app but that you shut it down when you don't need it, otherwise you will end up with a surprisingly large AWS bill."
   ]
  },
  {
   "cell_type": "markdown",
   "metadata": {},
   "source": [
    "### Delete the endpoint\n",
    "\n",
    "Remember to always shut down your endpoint if you are no longer using it. You are charged for the length of time that the endpoint is running so if you forget and leave it on you could end up with an unexpectedly large bill."
   ]
  },
  {
   "cell_type": "code",
   "execution_count": 52,
   "metadata": {},
   "outputs": [],
   "source": [
    "xgb_predictor.delete_endpoint()"
   ]
  },
  {
   "cell_type": "markdown",
   "metadata": {},
   "source": [
    "## Optional: Clean up\n",
    "\n",
    "The default notebook instance on SageMaker doesn't have a lot of excess disk space available. As you continue to complete and execute notebooks you will eventually fill up this disk space, leading to errors which can be difficult to diagnose. Once you are completely finished using a notebook it is a good idea to remove the files that you created along the way. Of course, you can do this from the terminal or from the notebook hub if you would like. The cell below contains some commands to clean up the created files from within the notebook."
   ]
  },
  {
   "cell_type": "code",
   "execution_count": 53,
   "metadata": {},
   "outputs": [
    {
     "ename": "OSError",
     "evalue": "[Errno 12] Cannot allocate memory",
     "output_type": "error",
     "traceback": [
      "\u001b[0;31m---------------------------------------------------------------------------\u001b[0m",
      "\u001b[0;31mOSError\u001b[0m                                   Traceback (most recent call last)",
      "\u001b[0;32m<ipython-input-53-2c87d8eefdf2>\u001b[0m in \u001b[0;36m<module>\u001b[0;34m\u001b[0m\n\u001b[1;32m      1\u001b[0m \u001b[0;31m# First we will remove all of the files contained in the data_dir directory\u001b[0m\u001b[0;34m\u001b[0m\u001b[0;34m\u001b[0m\u001b[0;34m\u001b[0m\u001b[0m\n\u001b[0;32m----> 2\u001b[0;31m \u001b[0mget_ipython\u001b[0m\u001b[0;34m(\u001b[0m\u001b[0;34m)\u001b[0m\u001b[0;34m.\u001b[0m\u001b[0msystem\u001b[0m\u001b[0;34m(\u001b[0m\u001b[0;34m'rm $data_dir/*'\u001b[0m\u001b[0;34m)\u001b[0m\u001b[0;34m\u001b[0m\u001b[0;34m\u001b[0m\u001b[0m\n\u001b[0m\u001b[1;32m      3\u001b[0m \u001b[0;34m\u001b[0m\u001b[0m\n\u001b[1;32m      4\u001b[0m \u001b[0;31m# And then we delete the directory itself\u001b[0m\u001b[0;34m\u001b[0m\u001b[0;34m\u001b[0m\u001b[0;34m\u001b[0m\u001b[0m\n\u001b[1;32m      5\u001b[0m \u001b[0mget_ipython\u001b[0m\u001b[0;34m(\u001b[0m\u001b[0;34m)\u001b[0m\u001b[0;34m.\u001b[0m\u001b[0msystem\u001b[0m\u001b[0;34m(\u001b[0m\u001b[0;34m'rmdir $data_dir'\u001b[0m\u001b[0;34m)\u001b[0m\u001b[0;34m\u001b[0m\u001b[0;34m\u001b[0m\u001b[0m\n",
      "\u001b[0;32m~/anaconda3/envs/amazonei_pytorch_latest_p36/lib/python3.6/site-packages/ipykernel/zmqshell.py\u001b[0m in \u001b[0;36msystem_piped\u001b[0;34m(self, cmd)\u001b[0m\n\u001b[1;32m    633\u001b[0m                 \u001b[0mself\u001b[0m\u001b[0;34m.\u001b[0m\u001b[0muser_ns\u001b[0m\u001b[0;34m[\u001b[0m\u001b[0;34m'_exit_code'\u001b[0m\u001b[0;34m]\u001b[0m \u001b[0;34m=\u001b[0m \u001b[0msystem\u001b[0m\u001b[0;34m(\u001b[0m\u001b[0mcmd\u001b[0m\u001b[0;34m)\u001b[0m\u001b[0;34m\u001b[0m\u001b[0;34m\u001b[0m\u001b[0m\n\u001b[1;32m    634\u001b[0m         \u001b[0;32melse\u001b[0m\u001b[0;34m:\u001b[0m\u001b[0;34m\u001b[0m\u001b[0;34m\u001b[0m\u001b[0m\n\u001b[0;32m--> 635\u001b[0;31m             \u001b[0mself\u001b[0m\u001b[0;34m.\u001b[0m\u001b[0muser_ns\u001b[0m\u001b[0;34m[\u001b[0m\u001b[0;34m'_exit_code'\u001b[0m\u001b[0;34m]\u001b[0m \u001b[0;34m=\u001b[0m \u001b[0msystem\u001b[0m\u001b[0;34m(\u001b[0m\u001b[0mself\u001b[0m\u001b[0;34m.\u001b[0m\u001b[0mvar_expand\u001b[0m\u001b[0;34m(\u001b[0m\u001b[0mcmd\u001b[0m\u001b[0;34m,\u001b[0m \u001b[0mdepth\u001b[0m\u001b[0;34m=\u001b[0m\u001b[0;36m1\u001b[0m\u001b[0;34m)\u001b[0m\u001b[0;34m)\u001b[0m\u001b[0;34m\u001b[0m\u001b[0;34m\u001b[0m\u001b[0m\n\u001b[0m\u001b[1;32m    636\u001b[0m \u001b[0;34m\u001b[0m\u001b[0m\n\u001b[1;32m    637\u001b[0m     \u001b[0;31m# Ensure new system_piped implementation is used\u001b[0m\u001b[0;34m\u001b[0m\u001b[0;34m\u001b[0m\u001b[0;34m\u001b[0m\u001b[0m\n",
      "\u001b[0;32m~/anaconda3/envs/amazonei_pytorch_latest_p36/lib/python3.6/site-packages/IPython/utils/_process_posix.py\u001b[0m in \u001b[0;36msystem\u001b[0;34m(self, cmd)\u001b[0m\n\u001b[1;32m    154\u001b[0m                 \u001b[0mchild\u001b[0m \u001b[0;34m=\u001b[0m \u001b[0mpexpect\u001b[0m\u001b[0;34m.\u001b[0m\u001b[0mspawnb\u001b[0m\u001b[0;34m(\u001b[0m\u001b[0mself\u001b[0m\u001b[0;34m.\u001b[0m\u001b[0msh\u001b[0m\u001b[0;34m,\u001b[0m \u001b[0margs\u001b[0m\u001b[0;34m=\u001b[0m\u001b[0;34m[\u001b[0m\u001b[0;34m'-c'\u001b[0m\u001b[0;34m,\u001b[0m \u001b[0mcmd\u001b[0m\u001b[0;34m]\u001b[0m\u001b[0;34m)\u001b[0m \u001b[0;31m# Pexpect-U\u001b[0m\u001b[0;34m\u001b[0m\u001b[0;34m\u001b[0m\u001b[0m\n\u001b[1;32m    155\u001b[0m             \u001b[0;32melse\u001b[0m\u001b[0;34m:\u001b[0m\u001b[0;34m\u001b[0m\u001b[0;34m\u001b[0m\u001b[0m\n\u001b[0;32m--> 156\u001b[0;31m                 \u001b[0mchild\u001b[0m \u001b[0;34m=\u001b[0m \u001b[0mpexpect\u001b[0m\u001b[0;34m.\u001b[0m\u001b[0mspawn\u001b[0m\u001b[0;34m(\u001b[0m\u001b[0mself\u001b[0m\u001b[0;34m.\u001b[0m\u001b[0msh\u001b[0m\u001b[0;34m,\u001b[0m \u001b[0margs\u001b[0m\u001b[0;34m=\u001b[0m\u001b[0;34m[\u001b[0m\u001b[0;34m'-c'\u001b[0m\u001b[0;34m,\u001b[0m \u001b[0mcmd\u001b[0m\u001b[0;34m]\u001b[0m\u001b[0;34m)\u001b[0m  \u001b[0;31m# Vanilla Pexpect\u001b[0m\u001b[0;34m\u001b[0m\u001b[0;34m\u001b[0m\u001b[0m\n\u001b[0m\u001b[1;32m    157\u001b[0m             \u001b[0mflush\u001b[0m \u001b[0;34m=\u001b[0m \u001b[0msys\u001b[0m\u001b[0;34m.\u001b[0m\u001b[0mstdout\u001b[0m\u001b[0;34m.\u001b[0m\u001b[0mflush\u001b[0m\u001b[0;34m\u001b[0m\u001b[0;34m\u001b[0m\u001b[0m\n\u001b[1;32m    158\u001b[0m             \u001b[0;32mwhile\u001b[0m \u001b[0;32mTrue\u001b[0m\u001b[0;34m:\u001b[0m\u001b[0;34m\u001b[0m\u001b[0;34m\u001b[0m\u001b[0m\n",
      "\u001b[0;32m~/anaconda3/envs/amazonei_pytorch_latest_p36/lib/python3.6/site-packages/pexpect/pty_spawn.py\u001b[0m in \u001b[0;36m__init__\u001b[0;34m(self, command, args, timeout, maxread, searchwindowsize, logfile, cwd, env, ignore_sighup, echo, preexec_fn, encoding, codec_errors, dimensions, use_poll)\u001b[0m\n\u001b[1;32m    203\u001b[0m             \u001b[0mself\u001b[0m\u001b[0;34m.\u001b[0m\u001b[0mname\u001b[0m \u001b[0;34m=\u001b[0m \u001b[0;34m'<pexpect factory incomplete>'\u001b[0m\u001b[0;34m\u001b[0m\u001b[0;34m\u001b[0m\u001b[0m\n\u001b[1;32m    204\u001b[0m         \u001b[0;32melse\u001b[0m\u001b[0;34m:\u001b[0m\u001b[0;34m\u001b[0m\u001b[0;34m\u001b[0m\u001b[0m\n\u001b[0;32m--> 205\u001b[0;31m             \u001b[0mself\u001b[0m\u001b[0;34m.\u001b[0m\u001b[0m_spawn\u001b[0m\u001b[0;34m(\u001b[0m\u001b[0mcommand\u001b[0m\u001b[0;34m,\u001b[0m \u001b[0margs\u001b[0m\u001b[0;34m,\u001b[0m \u001b[0mpreexec_fn\u001b[0m\u001b[0;34m,\u001b[0m \u001b[0mdimensions\u001b[0m\u001b[0;34m)\u001b[0m\u001b[0;34m\u001b[0m\u001b[0;34m\u001b[0m\u001b[0m\n\u001b[0m\u001b[1;32m    206\u001b[0m         \u001b[0mself\u001b[0m\u001b[0;34m.\u001b[0m\u001b[0muse_poll\u001b[0m \u001b[0;34m=\u001b[0m \u001b[0muse_poll\u001b[0m\u001b[0;34m\u001b[0m\u001b[0;34m\u001b[0m\u001b[0m\n\u001b[1;32m    207\u001b[0m \u001b[0;34m\u001b[0m\u001b[0m\n",
      "\u001b[0;32m~/anaconda3/envs/amazonei_pytorch_latest_p36/lib/python3.6/site-packages/pexpect/pty_spawn.py\u001b[0m in \u001b[0;36m_spawn\u001b[0;34m(self, command, args, preexec_fn, dimensions)\u001b[0m\n\u001b[1;32m    302\u001b[0m \u001b[0;34m\u001b[0m\u001b[0m\n\u001b[1;32m    303\u001b[0m         self.ptyproc = self._spawnpty(self.args, env=self.env,\n\u001b[0;32m--> 304\u001b[0;31m                                      cwd=self.cwd, **kwargs)\n\u001b[0m\u001b[1;32m    305\u001b[0m \u001b[0;34m\u001b[0m\u001b[0m\n\u001b[1;32m    306\u001b[0m         \u001b[0mself\u001b[0m\u001b[0;34m.\u001b[0m\u001b[0mpid\u001b[0m \u001b[0;34m=\u001b[0m \u001b[0mself\u001b[0m\u001b[0;34m.\u001b[0m\u001b[0mptyproc\u001b[0m\u001b[0;34m.\u001b[0m\u001b[0mpid\u001b[0m\u001b[0;34m\u001b[0m\u001b[0;34m\u001b[0m\u001b[0m\n",
      "\u001b[0;32m~/anaconda3/envs/amazonei_pytorch_latest_p36/lib/python3.6/site-packages/pexpect/pty_spawn.py\u001b[0m in \u001b[0;36m_spawnpty\u001b[0;34m(self, args, **kwargs)\u001b[0m\n\u001b[1;32m    313\u001b[0m     \u001b[0;32mdef\u001b[0m \u001b[0m_spawnpty\u001b[0m\u001b[0;34m(\u001b[0m\u001b[0mself\u001b[0m\u001b[0;34m,\u001b[0m \u001b[0margs\u001b[0m\u001b[0;34m,\u001b[0m \u001b[0;34m**\u001b[0m\u001b[0mkwargs\u001b[0m\u001b[0;34m)\u001b[0m\u001b[0;34m:\u001b[0m\u001b[0;34m\u001b[0m\u001b[0;34m\u001b[0m\u001b[0m\n\u001b[1;32m    314\u001b[0m         \u001b[0;34m'''Spawn a pty and return an instance of PtyProcess.'''\u001b[0m\u001b[0;34m\u001b[0m\u001b[0;34m\u001b[0m\u001b[0m\n\u001b[0;32m--> 315\u001b[0;31m         \u001b[0;32mreturn\u001b[0m \u001b[0mptyprocess\u001b[0m\u001b[0;34m.\u001b[0m\u001b[0mPtyProcess\u001b[0m\u001b[0;34m.\u001b[0m\u001b[0mspawn\u001b[0m\u001b[0;34m(\u001b[0m\u001b[0margs\u001b[0m\u001b[0;34m,\u001b[0m \u001b[0;34m**\u001b[0m\u001b[0mkwargs\u001b[0m\u001b[0;34m)\u001b[0m\u001b[0;34m\u001b[0m\u001b[0;34m\u001b[0m\u001b[0m\n\u001b[0m\u001b[1;32m    316\u001b[0m \u001b[0;34m\u001b[0m\u001b[0m\n\u001b[1;32m    317\u001b[0m     \u001b[0;32mdef\u001b[0m \u001b[0mclose\u001b[0m\u001b[0;34m(\u001b[0m\u001b[0mself\u001b[0m\u001b[0;34m,\u001b[0m \u001b[0mforce\u001b[0m\u001b[0;34m=\u001b[0m\u001b[0;32mTrue\u001b[0m\u001b[0;34m)\u001b[0m\u001b[0;34m:\u001b[0m\u001b[0;34m\u001b[0m\u001b[0;34m\u001b[0m\u001b[0m\n",
      "\u001b[0;32m~/anaconda3/envs/amazonei_pytorch_latest_p36/lib/python3.6/site-packages/ptyprocess/ptyprocess.py\u001b[0m in \u001b[0;36mspawn\u001b[0;34m(cls, argv, cwd, env, echo, preexec_fn, dimensions, pass_fds)\u001b[0m\n\u001b[1;32m    228\u001b[0m \u001b[0;34m\u001b[0m\u001b[0m\n\u001b[1;32m    229\u001b[0m         \u001b[0;32mif\u001b[0m \u001b[0muse_native_pty_fork\u001b[0m\u001b[0;34m:\u001b[0m\u001b[0;34m\u001b[0m\u001b[0;34m\u001b[0m\u001b[0m\n\u001b[0;32m--> 230\u001b[0;31m             \u001b[0mpid\u001b[0m\u001b[0;34m,\u001b[0m \u001b[0mfd\u001b[0m \u001b[0;34m=\u001b[0m \u001b[0mpty\u001b[0m\u001b[0;34m.\u001b[0m\u001b[0mfork\u001b[0m\u001b[0;34m(\u001b[0m\u001b[0;34m)\u001b[0m\u001b[0;34m\u001b[0m\u001b[0;34m\u001b[0m\u001b[0m\n\u001b[0m\u001b[1;32m    231\u001b[0m         \u001b[0;32melse\u001b[0m\u001b[0;34m:\u001b[0m\u001b[0;34m\u001b[0m\u001b[0;34m\u001b[0m\u001b[0m\n\u001b[1;32m    232\u001b[0m             \u001b[0;31m# Use internal fork_pty, for Solaris\u001b[0m\u001b[0;34m\u001b[0m\u001b[0;34m\u001b[0m\u001b[0;34m\u001b[0m\u001b[0m\n",
      "\u001b[0;32m~/anaconda3/envs/amazonei_pytorch_latest_p36/lib/python3.6/pty.py\u001b[0m in \u001b[0;36mfork\u001b[0;34m()\u001b[0m\n\u001b[1;32m     95\u001b[0m \u001b[0;34m\u001b[0m\u001b[0m\n\u001b[1;32m     96\u001b[0m     \u001b[0mmaster_fd\u001b[0m\u001b[0;34m,\u001b[0m \u001b[0mslave_fd\u001b[0m \u001b[0;34m=\u001b[0m \u001b[0mopenpty\u001b[0m\u001b[0;34m(\u001b[0m\u001b[0;34m)\u001b[0m\u001b[0;34m\u001b[0m\u001b[0;34m\u001b[0m\u001b[0m\n\u001b[0;32m---> 97\u001b[0;31m     \u001b[0mpid\u001b[0m \u001b[0;34m=\u001b[0m \u001b[0mos\u001b[0m\u001b[0;34m.\u001b[0m\u001b[0mfork\u001b[0m\u001b[0;34m(\u001b[0m\u001b[0;34m)\u001b[0m\u001b[0;34m\u001b[0m\u001b[0;34m\u001b[0m\u001b[0m\n\u001b[0m\u001b[1;32m     98\u001b[0m     \u001b[0;32mif\u001b[0m \u001b[0mpid\u001b[0m \u001b[0;34m==\u001b[0m \u001b[0mCHILD\u001b[0m\u001b[0;34m:\u001b[0m\u001b[0;34m\u001b[0m\u001b[0;34m\u001b[0m\u001b[0m\n\u001b[1;32m     99\u001b[0m         \u001b[0;31m# Establish a new session.\u001b[0m\u001b[0;34m\u001b[0m\u001b[0;34m\u001b[0m\u001b[0;34m\u001b[0m\u001b[0m\n",
      "\u001b[0;31mOSError\u001b[0m: [Errno 12] Cannot allocate memory"
     ]
    }
   ],
   "source": [
    "# First we will remove all of the files contained in the data_dir directory\n",
    "!rm $data_dir/*\n",
    "\n",
    "# And then we delete the directory itself\n",
    "!rmdir $data_dir\n",
    "\n",
    "# Similarly we remove the files in the cache_dir directory and the directory itself\n",
    "!rm $cache_dir/*\n",
    "!rmdir $cache_dir"
   ]
  },
  {
   "cell_type": "code",
   "execution_count": null,
   "metadata": {},
   "outputs": [],
   "source": []
  }
 ],
 "metadata": {
  "kernelspec": {
   "display_name": "conda_amazonei_pytorch_latest_p36",
   "language": "python",
   "name": "conda_amazonei_pytorch_latest_p36"
  },
  "language_info": {
   "codemirror_mode": {
    "name": "ipython",
    "version": 3
   },
   "file_extension": ".py",
   "mimetype": "text/x-python",
   "name": "python",
   "nbconvert_exporter": "python",
   "pygments_lexer": "ipython3",
   "version": "3.6.13"
  }
 },
 "nbformat": 4,
 "nbformat_minor": 2
}
